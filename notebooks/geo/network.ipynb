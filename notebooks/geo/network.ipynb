{
 "cells": [
  {
   "cell_type": "code",
   "execution_count": 1,
   "metadata": {},
   "outputs": [],
   "source": [
    "%reload_ext autoreload\n",
    "%autoreload 2"
   ]
  },
  {
   "cell_type": "code",
   "execution_count": 2,
   "metadata": {},
   "outputs": [],
   "source": [
    "from pathlib import Path\n",
    "from zipfile import ZipFile \n",
    "import pandas as pd\n",
    "from io import BytesIO, StringIO\n",
    "from pandas_summary import DataFrameSummary\n",
    "import numpy as np\n",
    "from toolz import merge\n",
    "\n"
   ]
  },
  {
   "cell_type": "code",
   "execution_count": 3,
   "metadata": {},
   "outputs": [
    {
     "name": "stdout",
     "output_type": "stream",
     "text": [
      "Requirement already satisfied: geoip2 in /Users/wmcabee/_NBC/nbc_analysis/venv/lib/python3.7/site-packages (2.9.0)\n",
      "Requirement already satisfied: maxminddb>=1.4.0 in /Users/wmcabee/_NBC/nbc_analysis/venv/lib/python3.7/site-packages (from geoip2) (1.5.1)\n",
      "Requirement already satisfied: requests>=2.9 in /Users/wmcabee/_NBC/nbc_analysis/venv/lib/python3.7/site-packages (from geoip2) (2.22.0)\n",
      "Requirement already satisfied: idna<2.9,>=2.5 in /Users/wmcabee/_NBC/nbc_analysis/venv/lib/python3.7/site-packages (from requests>=2.9->geoip2) (2.8)\n",
      "Requirement already satisfied: urllib3!=1.25.0,!=1.25.1,<1.26,>=1.21.1 in /Users/wmcabee/_NBC/nbc_analysis/venv/lib/python3.7/site-packages (from requests>=2.9->geoip2) (1.24.3)\n",
      "Requirement already satisfied: certifi>=2017.4.17 in /Users/wmcabee/_NBC/nbc_analysis/venv/lib/python3.7/site-packages (from requests>=2.9->geoip2) (2019.9.11)\n",
      "Requirement already satisfied: chardet<3.1.0,>=3.0.2 in /Users/wmcabee/_NBC/nbc_analysis/venv/lib/python3.7/site-packages (from requests>=2.9->geoip2) (3.0.4)\n",
      "\u001b[33mYou are using pip version 10.0.1, however version 19.3 is available.\n",
      "You should consider upgrading via the 'pip install --upgrade pip' command.\u001b[0m\n"
     ]
    }
   ],
   "source": [
    "! pip install geoip2"
   ]
  },
  {
   "cell_type": "code",
   "execution_count": 4,
   "metadata": {},
   "outputs": [
    {
     "name": "stdout",
     "output_type": "stream",
     "text": [
      "/Users/wmcabee/_NBC/datasets/GeoLite2-City_20191001/GeoLite2-City.mmdb\n"
     ]
    },
    {
     "data": {
      "text/plain": [
       "True"
      ]
     },
     "execution_count": 4,
     "metadata": {},
     "output_type": "execute_result"
    }
   ],
   "source": [
    "GEOLITE2_DB = Path.home() / '_NBC/datasets/GeoLite2-City_20191001/GeoLite2-City.mmdb'\n",
    "print(GEOLITE2_DB)\n",
    "GEOLITE2_DB.is_file()\n"
   ]
  },
  {
   "cell_type": "code",
   "execution_count": 5,
   "metadata": {},
   "outputs": [],
   "source": [
    "import geoip2.database\n",
    "reader = geoip2.database.Reader(GEOLITE2_DB)\n",
    "response = reader.city('128.101.101.101')"
   ]
  },
  {
   "cell_type": "code",
   "execution_count": 6,
   "metadata": {},
   "outputs": [
    {
     "data": {
      "text/plain": [
       "'Saint Paul'"
      ]
     },
     "execution_count": 6,
     "metadata": {},
     "output_type": "execute_result"
    }
   ],
   "source": [
    "response.city.geoname_id\n",
    "response.postal.code\n",
    "response.location.time_zone\n",
    "response.subdivisions[0].iso_code\n",
    "response.subdivisions[0].name\n",
    "response.city.name"
   ]
  },
  {
   "cell_type": "code",
   "execution_count": 7,
   "metadata": {},
   "outputs": [
    {
     "ename": "NameError",
     "evalue": "name 'IP6' is not defined",
     "output_type": "error",
     "traceback": [
      "\u001b[0;31m---------------------------------------------------------------------------\u001b[0m",
      "\u001b[0;31mNameError\u001b[0m                                 Traceback (most recent call last)",
      "\u001b[0;32m<ipython-input-7-c7182d6f2f8e>\u001b[0m in \u001b[0;36m<module>\u001b[0;34m\u001b[0m\n\u001b[0;32m----> 1\u001b[0;31m \u001b[0mIP6\u001b[0m \u001b[0;34m=\u001b[0m \u001b[0mIP6\u001b[0m\u001b[0;34m[\u001b[0m\u001b[0mIP6\u001b[0m\u001b[0;34m.\u001b[0m\u001b[0mgeoname_id\u001b[0m\u001b[0;34m.\u001b[0m\u001b[0misin\u001b[0m\u001b[0;34m(\u001b[0m\u001b[0mLOCS\u001b[0m\u001b[0;34m.\u001b[0m\u001b[0mindex\u001b[0m\u001b[0;34m)\u001b[0m\u001b[0;34m]\u001b[0m\u001b[0;34m.\u001b[0m\u001b[0mcopy\u001b[0m\u001b[0;34m(\u001b[0m\u001b[0;34m)\u001b[0m\u001b[0;34m\u001b[0m\u001b[0;34m\u001b[0m\u001b[0m\n\u001b[0m\u001b[1;32m      2\u001b[0m \u001b[0mIP6\u001b[0m\u001b[0;34m\u001b[0m\u001b[0;34m\u001b[0m\u001b[0m\n",
      "\u001b[0;31mNameError\u001b[0m: name 'IP6' is not defined"
     ]
    }
   ],
   "source": [
    "IP6 = IP6[IP6.geoname_id.isin(LOCS.index)].copy()\n",
    "IP6"
   ]
  },
  {
   "cell_type": "code",
   "execution_count": 43,
   "metadata": {},
   "outputs": [
    {
     "data": {
      "text/plain": [
       "5120741"
      ]
     },
     "execution_count": 43,
     "metadata": {},
     "output_type": "execute_result"
    }
   ],
   "source": [
    "ip = '24.186.72.123'\n",
    "\n",
    "IP4 = IP4[IP4.geoname_id.isin(LOCS.index)].copy()\n",
    "mask = IP4.network.str.startswith(ip[:10])\n",
    "df = IP4[mask].iloc[0]\n",
    "ip_info = df.to_dict()\n",
    "geoname_id = int(ip_info['geoname_id'])\n",
    "geoname_id "
   ]
  },
  {
   "cell_type": "code",
   "execution_count": 48,
   "metadata": {},
   "outputs": [
    {
     "data": {
      "text/plain": [
       "{'network': '24.186.72.0/21',\n",
       " 'geoname_id': 5120741.0,\n",
       " 'registered_country_geoname_id': 6252001.0,\n",
       " 'represented_country_geoname_id': nan,\n",
       " 'is_anonymous_proxy': 0,\n",
       " 'is_satellite_provider': 0,\n",
       " 'postal_code': '12528',\n",
       " 'latitude': 41.7167,\n",
       " 'longitude': -73.9928,\n",
       " 'accuracy_radius': 5.0,\n",
       " 'locale_code': 'en',\n",
       " 'continent_code': nan,\n",
       " 'continent_name': 'North America',\n",
       " 'country_iso_code': 'US',\n",
       " 'country_name': 'United States',\n",
       " 'subdivision_1_iso_code': 'NY',\n",
       " 'subdivision_1_name': 'New York',\n",
       " 'subdivision_2_iso_code': nan,\n",
       " 'subdivision_2_name': nan,\n",
       " 'city_name': 'Highland',\n",
       " 'metro_code': 501.0,\n",
       " 'time_zone': 'America/New_York',\n",
       " 'is_in_european_union': 0}"
      ]
     },
     "execution_count": 48,
     "metadata": {},
     "output_type": "execute_result"
    }
   ],
   "source": [
    "loc_info = LOCS.loc[geoname_id]\n",
    "lkup = merge(ip_info, loc_info)\n",
    "lkup"
   ]
  },
  {
   "cell_type": "code",
   "execution_count": 40,
   "metadata": {},
   "outputs": [
    {
     "data": {
      "text/plain": [
       "{'locale_code': 'en',\n",
       " 'continent_code': nan,\n",
       " 'continent_name': 'North America',\n",
       " 'country_iso_code': 'US',\n",
       " 'country_name': 'United States',\n",
       " 'subdivision_1_iso_code': 'NY',\n",
       " 'subdivision_1_name': 'New York',\n",
       " 'subdivision_2_iso_code': nan,\n",
       " 'subdivision_2_name': nan,\n",
       " 'city_name': 'Highland',\n",
       " 'metro_code': 501.0,\n",
       " 'time_zone': 'America/New_York',\n",
       " 'is_in_european_union': 0}"
      ]
     },
     "execution_count": 40,
     "metadata": {},
     "output_type": "execute_result"
    }
   ],
   "source": []
  },
  {
   "cell_type": "code",
   "execution_count": null,
   "metadata": {},
   "outputs": [],
   "source": []
  }
 ],
 "metadata": {
  "kernelspec": {
   "display_name": "Python 3",
   "language": "python",
   "name": "python3"
  },
  "language_info": {
   "codemirror_mode": {
    "name": "ipython",
    "version": 3
   },
   "file_extension": ".py",
   "mimetype": "text/x-python",
   "name": "python",
   "nbconvert_exporter": "python",
   "pygments_lexer": "ipython3",
   "version": "3.7.4"
  }
 },
 "nbformat": 4,
 "nbformat_minor": 4
}
