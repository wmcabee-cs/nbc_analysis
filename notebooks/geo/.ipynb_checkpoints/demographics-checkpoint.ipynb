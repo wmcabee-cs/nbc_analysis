{
 "cells": [
  {
   "cell_type": "code",
   "execution_count": 1,
   "metadata": {},
   "outputs": [],
   "source": [
    "%reload_ext autoreload\n",
    "%autoreload 2"
   ]
  },
  {
   "cell_type": "code",
   "execution_count": 2,
   "metadata": {},
   "outputs": [],
   "source": [
    "import pandas as pd\n",
    "from pathlib import Path\n",
    "\n",
    "from toolz import first, concatv\n",
    "from pandas_summary import DataFrameSummary"
   ]
  },
  {
   "cell_type": "code",
   "execution_count": 3,
   "metadata": {},
   "outputs": [
    {
     "data": {
      "text/plain": [
       "PosixPath('/Users/wmcabee/_NBC/datasets/ACS_17_5YR_S2503_with_ann.csv')"
      ]
     },
     "execution_count": 3,
     "metadata": {},
     "output_type": "execute_result"
    }
   ],
   "source": [
    "infile = Path.home()  / '_NBC' / 'datasets' / 'ACS_17_5YR_S2503_with_ann.csv'\n",
    "infile"
   ]
  },
  {
   "cell_type": "code",
   "execution_count": 4,
   "metadata": {},
   "outputs": [],
   "source": [
    "df = first(pd.read_csv(str(infile), iterator=True, engine='python'))\n",
    "df = df.set_index('GEO.id')\n",
    "df.head()\n",
    "DATA = df\n"
   ]
  },
  {
   "cell_type": "code",
   "execution_count": 5,
   "metadata": {},
   "outputs": [
    {
     "data": {
      "text/html": [
       "<div>\n",
       "<style scoped>\n",
       "    .dataframe tbody tr th:only-of-type {\n",
       "        vertical-align: middle;\n",
       "    }\n",
       "\n",
       "    .dataframe tbody tr th {\n",
       "        vertical-align: top;\n",
       "    }\n",
       "\n",
       "    .dataframe thead th {\n",
       "        text-align: right;\n",
       "    }\n",
       "</style>\n",
       "<table border=\"1\" class=\"dataframe\">\n",
       "  <thead>\n",
       "    <tr style=\"text-align: right;\">\n",
       "      <th>GEO.id</th>\n",
       "      <th>Id</th>\n",
       "      <th>0500000US47001</th>\n",
       "      <th>8600000US00601</th>\n",
       "      <th>8600000US00602</th>\n",
       "      <th>8600000US00603</th>\n",
       "    </tr>\n",
       "  </thead>\n",
       "  <tbody>\n",
       "    <tr>\n",
       "      <td>GEO.id2</td>\n",
       "      <td>Id2</td>\n",
       "      <td>47001</td>\n",
       "      <td>00601</td>\n",
       "      <td>00602</td>\n",
       "      <td>00603</td>\n",
       "    </tr>\n",
       "    <tr>\n",
       "      <td>GEO.display-label</td>\n",
       "      <td>Geography</td>\n",
       "      <td>Anderson County, Tennessee</td>\n",
       "      <td>ZCTA5 00601</td>\n",
       "      <td>ZCTA5 00602</td>\n",
       "      <td>ZCTA5 00603</td>\n",
       "    </tr>\n",
       "    <tr>\n",
       "      <td>HC01_EST_VC01</td>\n",
       "      <td>Occupied housing units; Estimate; Occupied hou...</td>\n",
       "      <td>30518</td>\n",
       "      <td>5818</td>\n",
       "      <td>12719</td>\n",
       "      <td>19009</td>\n",
       "    </tr>\n",
       "    <tr>\n",
       "      <td>HC01_MOE_VC01</td>\n",
       "      <td>Occupied housing units; Margin of Error; Occup...</td>\n",
       "      <td>549</td>\n",
       "      <td>249</td>\n",
       "      <td>374</td>\n",
       "      <td>503</td>\n",
       "    </tr>\n",
       "    <tr>\n",
       "      <td>HC02_EST_VC01</td>\n",
       "      <td>Percent occupied housing units; Estimate; Occu...</td>\n",
       "      <td>30518</td>\n",
       "      <td>5818</td>\n",
       "      <td>12719</td>\n",
       "      <td>19009</td>\n",
       "    </tr>\n",
       "    <tr>\n",
       "      <td>...</td>\n",
       "      <td>...</td>\n",
       "      <td>...</td>\n",
       "      <td>...</td>\n",
       "      <td>...</td>\n",
       "      <td>...</td>\n",
       "    </tr>\n",
       "    <tr>\n",
       "      <td>HC04_MOE_VC51</td>\n",
       "      <td>Percent owner-occupied housing units; Margin o...</td>\n",
       "      <td>(X)</td>\n",
       "      <td>(X)</td>\n",
       "      <td>(X)</td>\n",
       "      <td>(X)</td>\n",
       "    </tr>\n",
       "    <tr>\n",
       "      <td>HC05_EST_VC51</td>\n",
       "      <td>Renter-occupied housing units; Estimate; MONTH...</td>\n",
       "      <td>1045</td>\n",
       "      <td>1399</td>\n",
       "      <td>1662</td>\n",
       "      <td>3273</td>\n",
       "    </tr>\n",
       "    <tr>\n",
       "      <td>HC05_MOE_VC51</td>\n",
       "      <td>Renter-occupied housing units; Margin of Error...</td>\n",
       "      <td>257</td>\n",
       "      <td>210</td>\n",
       "      <td>278</td>\n",
       "      <td>391</td>\n",
       "    </tr>\n",
       "    <tr>\n",
       "      <td>HC06_EST_VC51</td>\n",
       "      <td>Percent renter-occupied housing units; Estimat...</td>\n",
       "      <td>10.5</td>\n",
       "      <td>52.8</td>\n",
       "      <td>51.5</td>\n",
       "      <td>42.1</td>\n",
       "    </tr>\n",
       "    <tr>\n",
       "      <td>HC06_MOE_VC51</td>\n",
       "      <td>Percent renter-occupied housing units; Margin ...</td>\n",
       "      <td>2.5</td>\n",
       "      <td>6.0</td>\n",
       "      <td>6.4</td>\n",
       "      <td>4.0</td>\n",
       "    </tr>\n",
       "  </tbody>\n",
       "</table>\n",
       "<p>554 rows × 5 columns</p>\n",
       "</div>"
      ],
      "text/plain": [
       "GEO.id                                                            Id  \\\n",
       "GEO.id2                                                          Id2   \n",
       "GEO.display-label                                          Geography   \n",
       "HC01_EST_VC01      Occupied housing units; Estimate; Occupied hou...   \n",
       "HC01_MOE_VC01      Occupied housing units; Margin of Error; Occup...   \n",
       "HC02_EST_VC01      Percent occupied housing units; Estimate; Occu...   \n",
       "...                                                              ...   \n",
       "HC04_MOE_VC51      Percent owner-occupied housing units; Margin o...   \n",
       "HC05_EST_VC51      Renter-occupied housing units; Estimate; MONTH...   \n",
       "HC05_MOE_VC51      Renter-occupied housing units; Margin of Error...   \n",
       "HC06_EST_VC51      Percent renter-occupied housing units; Estimat...   \n",
       "HC06_MOE_VC51      Percent renter-occupied housing units; Margin ...   \n",
       "\n",
       "GEO.id                         0500000US47001 8600000US00601 8600000US00602  \\\n",
       "GEO.id2                                 47001          00601          00602   \n",
       "GEO.display-label  Anderson County, Tennessee    ZCTA5 00601    ZCTA5 00602   \n",
       "HC01_EST_VC01                           30518           5818          12719   \n",
       "HC01_MOE_VC01                             549            249            374   \n",
       "HC02_EST_VC01                           30518           5818          12719   \n",
       "...                                       ...            ...            ...   \n",
       "HC04_MOE_VC51                             (X)            (X)            (X)   \n",
       "HC05_EST_VC51                            1045           1399           1662   \n",
       "HC05_MOE_VC51                             257            210            278   \n",
       "HC06_EST_VC51                            10.5           52.8           51.5   \n",
       "HC06_MOE_VC51                             2.5            6.0            6.4   \n",
       "\n",
       "GEO.id            8600000US00603  \n",
       "GEO.id2                    00603  \n",
       "GEO.display-label    ZCTA5 00603  \n",
       "HC01_EST_VC01              19009  \n",
       "HC01_MOE_VC01                503  \n",
       "HC02_EST_VC01              19009  \n",
       "...                          ...  \n",
       "HC04_MOE_VC51                (X)  \n",
       "HC05_EST_VC51               3273  \n",
       "HC05_MOE_VC51                391  \n",
       "HC06_EST_VC51               42.1  \n",
       "HC06_MOE_VC51                4.0  \n",
       "\n",
       "[554 rows x 5 columns]"
      ]
     },
     "execution_count": 5,
     "metadata": {},
     "output_type": "execute_result"
    }
   ],
   "source": [
    "DATA.head().T"
   ]
  },
  {
   "cell_type": "code",
   "execution_count": 6,
   "metadata": {},
   "outputs": [],
   "source": [
    "df = DATA.copy()\n",
    "columns_est = [x for x in df.columns if '_EST_' in x]\n",
    "columns_oth = ['GEO.id2','GEO.display-label']\n",
    "cols = list(concatv(columns_oth, columns_est))\n",
    "dx = df[cols]\n",
    "\n",
    "dx = dx.iloc[0].to_frame('label')\n",
    "dx.index.name = 'var_name'\n",
    "dx = dx.reset_index().set_index('label')\n",
    "keep_columns = [\n",
    "    'Id2',\n",
    "    'Occupied housing units; Estimate; Occupied housing units',\n",
    "    'Occupied housing units; Estimate; HOUSEHOLD INCOME IN THE PAST 12 MONTHS (IN 2017 INFLATION-ADJUSTED DOLLARS) - Median household income (dollars)',\n",
    "    'Occupied housing units; Estimate; MONTHLY HOUSING COSTS - Median (dollars)',\n",
    "]\n",
    "keep_ids = dx.loc[keep_columns].var_name.tolist()\n",
    "df= DATA[keep_ids][1:]\n",
    "df.columns = ['postal_code','occup_housing_units', 'median_income','median_costs']\n",
    "df = df.set_index('postal_code')"
   ]
  },
  {
   "cell_type": "code",
   "execution_count": 7,
   "metadata": {},
   "outputs": [
    {
     "data": {
      "text/plain": [
       "{'occup_housing_units': '4937',\n",
       " 'median_income': '71857',\n",
       " 'median_costs': '1382'}"
      ]
     },
     "execution_count": 7,
     "metadata": {},
     "output_type": "execute_result"
    }
   ],
   "source": [
    "i=3323\n",
    "#df[i:i+20]\n",
    "df.loc['12528'].to_dict()"
   ]
  },
  {
   "cell_type": "code",
   "execution_count": 9,
   "metadata": {},
   "outputs": [
    {
     "data": {
      "text/html": [
       "<div>\n",
       "<style scoped>\n",
       "    .dataframe tbody tr th:only-of-type {\n",
       "        vertical-align: middle;\n",
       "    }\n",
       "\n",
       "    .dataframe tbody tr th {\n",
       "        vertical-align: top;\n",
       "    }\n",
       "\n",
       "    .dataframe thead th {\n",
       "        text-align: right;\n",
       "    }\n",
       "</style>\n",
       "<table border=\"1\" class=\"dataframe\">\n",
       "  <thead>\n",
       "    <tr style=\"text-align: right;\">\n",
       "      <th></th>\n",
       "      <th>occup_housing_units</th>\n",
       "      <th>median_income</th>\n",
       "      <th>median_costs</th>\n",
       "    </tr>\n",
       "    <tr>\n",
       "      <th>postal_code</th>\n",
       "      <th></th>\n",
       "      <th></th>\n",
       "      <th></th>\n",
       "    </tr>\n",
       "  </thead>\n",
       "  <tbody>\n",
       "    <tr>\n",
       "      <td>47001</td>\n",
       "      <td>30518</td>\n",
       "      <td>47206</td>\n",
       "      <td>693</td>\n",
       "    </tr>\n",
       "    <tr>\n",
       "      <td>00601</td>\n",
       "      <td>5818</td>\n",
       "      <td>11757</td>\n",
       "      <td>210</td>\n",
       "    </tr>\n",
       "    <tr>\n",
       "      <td>00602</td>\n",
       "      <td>12719</td>\n",
       "      <td>16190</td>\n",
       "      <td>179</td>\n",
       "    </tr>\n",
       "    <tr>\n",
       "      <td>00603</td>\n",
       "      <td>19009</td>\n",
       "      <td>16645</td>\n",
       "      <td>253</td>\n",
       "    </tr>\n",
       "    <tr>\n",
       "      <td>00606</td>\n",
       "      <td>1959</td>\n",
       "      <td>13387</td>\n",
       "      <td>129</td>\n",
       "    </tr>\n",
       "    <tr>\n",
       "      <td>...</td>\n",
       "      <td>...</td>\n",
       "      <td>...</td>\n",
       "      <td>...</td>\n",
       "    </tr>\n",
       "    <tr>\n",
       "      <td>99923</td>\n",
       "      <td>0</td>\n",
       "      <td>-</td>\n",
       "      <td>-</td>\n",
       "    </tr>\n",
       "    <tr>\n",
       "      <td>99925</td>\n",
       "      <td>327</td>\n",
       "      <td>48646</td>\n",
       "      <td>504</td>\n",
       "    </tr>\n",
       "    <tr>\n",
       "      <td>99926</td>\n",
       "      <td>485</td>\n",
       "      <td>57969</td>\n",
       "      <td>517</td>\n",
       "    </tr>\n",
       "    <tr>\n",
       "      <td>99927</td>\n",
       "      <td>41</td>\n",
       "      <td>17981</td>\n",
       "      <td>-</td>\n",
       "    </tr>\n",
       "    <tr>\n",
       "      <td>99929</td>\n",
       "      <td>1075</td>\n",
       "      <td>55742</td>\n",
       "      <td>701</td>\n",
       "    </tr>\n",
       "  </tbody>\n",
       "</table>\n",
       "<p>33121 rows × 3 columns</p>\n",
       "</div>"
      ],
      "text/plain": [
       "            occup_housing_units median_income median_costs\n",
       "postal_code                                               \n",
       "47001                     30518         47206          693\n",
       "00601                      5818         11757          210\n",
       "00602                     12719         16190          179\n",
       "00603                     19009         16645          253\n",
       "00606                      1959         13387          129\n",
       "...                         ...           ...          ...\n",
       "99923                         0             -            -\n",
       "99925                       327         48646          504\n",
       "99926                       485         57969          517\n",
       "99927                        41         17981            -\n",
       "99929                      1075         55742          701\n",
       "\n",
       "[33121 rows x 3 columns]"
      ]
     },
     "execution_count": 9,
     "metadata": {},
     "output_type": "execute_result"
    }
   ],
   "source": [
    "df"
   ]
  },
  {
   "cell_type": "code",
   "execution_count": 10,
   "metadata": {},
   "outputs": [
    {
     "data": {
      "text/plain": [
       "33121"
      ]
     },
     "execution_count": 10,
     "metadata": {},
     "output_type": "execute_result"
    }
   ],
   "source": [
    "len(df)"
   ]
  },
  {
   "cell_type": "code",
   "execution_count": null,
   "metadata": {},
   "outputs": [],
   "source": []
  }
 ],
 "metadata": {
  "kernelspec": {
   "display_name": "Python 3",
   "language": "python",
   "name": "python3"
  },
  "language_info": {
   "codemirror_mode": {
    "name": "ipython",
    "version": 3
   },
   "file_extension": ".py",
   "mimetype": "text/x-python",
   "name": "python",
   "nbconvert_exporter": "python",
   "pygments_lexer": "ipython3",
   "version": "3.7.4"
  }
 },
 "nbformat": 4,
 "nbformat_minor": 4
}
