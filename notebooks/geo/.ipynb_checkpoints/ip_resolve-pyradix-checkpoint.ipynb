{
 "cells": [
  {
   "cell_type": "code",
   "execution_count": 1,
   "metadata": {},
   "outputs": [],
   "source": [
    "%reload_ext autoreload\n",
    "%autoreload 2"
   ]
  },
  {
   "cell_type": "code",
   "execution_count": null,
   "metadata": {},
   "outputs": [],
   "source": []
  },
  {
   "cell_type": "code",
   "execution_count": 83,
   "metadata": {},
   "outputs": [],
   "source": [
    "import radix\n",
    "from nbc_analysis.utils.toml_utils import get_config\n",
    "from nbc_analysis.utils.file_utils import read_parquet\n",
    "\n",
    "from pathlib import Path\n",
    "from toolz import take"
   ]
  },
  {
   "cell_type": "code",
   "execution_count": 30,
   "metadata": {},
   "outputs": [
    {
     "data": {
      "text/plain": [
       "{'demographics': {'demographics_d': '/Users/wmcabee/DATA/NBC/demographics',\n",
       "  'zip2income_input_f': PosixPath('/Users/wmcabee/_NBC/datasets/ACS_17_5YR_S2503_with_ann.csv'),\n",
       "  'subnet2zip_input_f': PosixPath('/Users/wmcabee/_NBC/datasets/GeoLite2-City-CSV_20191001.zip'),\n",
       "  'subnet2inc_filename': 'subnet2inc'},\n",
       " 'normalize': {'test_input_d': '/Users/wmcabee/DATA/NBC/work/query',\n",
       "  'normalize_d': '/Users/wmcabee/DATA/NBC/normalize'}}"
      ]
     },
     "execution_count": 30,
     "metadata": {},
     "output_type": "execute_result"
    }
   ],
   "source": [
    "config = get_config('test')\n",
    "normalize_cfg = config['normalize']\n",
    "demographics_cfg = config['demographics']\n",
    "config"
   ]
  },
  {
   "cell_type": "code",
   "execution_count": 42,
   "metadata": {},
   "outputs": [
    {
     "name": "stderr",
     "output_type": "stream",
     "text": [
      "2019-10-22 07:50:08,737|INFO|nbc_analysis.utils.file_utils|start read file,/Users/wmcabee/DATA/NBC/normalize/ips.parquet\n",
      "2019-10-22 07:50:08,809|INFO|nbc_analysis.utils.file_utils|end read file,/Users/wmcabee/DATA/NBC/normalize/ips.parquet,record_cnt=226596\n"
     ]
    },
    {
     "data": {
      "text/html": [
       "<div>\n",
       "<style scoped>\n",
       "    .dataframe tbody tr th:only-of-type {\n",
       "        vertical-align: middle;\n",
       "    }\n",
       "\n",
       "    .dataframe tbody tr th {\n",
       "        vertical-align: top;\n",
       "    }\n",
       "\n",
       "    .dataframe thead th {\n",
       "        text-align: right;\n",
       "    }\n",
       "</style>\n",
       "<table border=\"1\" class=\"dataframe\">\n",
       "  <thead>\n",
       "    <tr style=\"text-align: right;\">\n",
       "      <th></th>\n",
       "      <th>ip</th>\n",
       "    </tr>\n",
       "  </thead>\n",
       "  <tbody>\n",
       "    <tr>\n",
       "      <td>0</td>\n",
       "      <td>1.144.107.183</td>\n",
       "    </tr>\n",
       "    <tr>\n",
       "      <td>1</td>\n",
       "      <td>1.144.110.127</td>\n",
       "    </tr>\n",
       "    <tr>\n",
       "      <td>2</td>\n",
       "      <td>1.144.110.252</td>\n",
       "    </tr>\n",
       "    <tr>\n",
       "      <td>3</td>\n",
       "      <td>1.152.111.20</td>\n",
       "    </tr>\n",
       "    <tr>\n",
       "      <td>4</td>\n",
       "      <td>1.159.207.45</td>\n",
       "    </tr>\n",
       "    <tr>\n",
       "      <td>...</td>\n",
       "      <td>...</td>\n",
       "    </tr>\n",
       "    <tr>\n",
       "      <td>226591</td>\n",
       "      <td>99.99.221.220</td>\n",
       "    </tr>\n",
       "    <tr>\n",
       "      <td>226592</td>\n",
       "      <td>99.99.240.240</td>\n",
       "    </tr>\n",
       "    <tr>\n",
       "      <td>226593</td>\n",
       "      <td>99.99.25.135</td>\n",
       "    </tr>\n",
       "    <tr>\n",
       "      <td>226594</td>\n",
       "      <td>99.99.26.73</td>\n",
       "    </tr>\n",
       "    <tr>\n",
       "      <td>226595</td>\n",
       "      <td>99.99.49.213</td>\n",
       "    </tr>\n",
       "  </tbody>\n",
       "</table>\n",
       "<p>226596 rows × 1 columns</p>\n",
       "</div>"
      ],
      "text/plain": [
       "                   ip\n",
       "0       1.144.107.183\n",
       "1       1.144.110.127\n",
       "2       1.144.110.252\n",
       "3        1.152.111.20\n",
       "4        1.159.207.45\n",
       "...               ...\n",
       "226591  99.99.221.220\n",
       "226592  99.99.240.240\n",
       "226593   99.99.25.135\n",
       "226594    99.99.26.73\n",
       "226595   99.99.49.213\n",
       "\n",
       "[226596 rows x 1 columns]"
      ]
     },
     "execution_count": 42,
     "metadata": {},
     "output_type": "execute_result"
    }
   ],
   "source": [
    "indir = Path(normalize_cfg['normalize_d'])\n",
    "IPS = read_parquet('ips',indir=indir)\n",
    "IPS"
   ]
  },
  {
   "cell_type": "code",
   "execution_count": 46,
   "metadata": {},
   "outputs": [
    {
     "name": "stderr",
     "output_type": "stream",
     "text": [
      "2019-10-22 07:55:36,875|INFO|nbc_analysis.utils.file_utils|start read file,/Users/wmcabee/DATA/NBC/demographics/subnet2inc.parquet\n",
      "2019-10-22 07:55:37,513|INFO|nbc_analysis.utils.file_utils|end read file,/Users/wmcabee/DATA/NBC/demographics/subnet2inc.parquet,record_cnt=1243176\n"
     ]
    },
    {
     "data": {
      "text/html": [
       "<div>\n",
       "<style scoped>\n",
       "    .dataframe tbody tr th:only-of-type {\n",
       "        vertical-align: middle;\n",
       "    }\n",
       "\n",
       "    .dataframe tbody tr th {\n",
       "        vertical-align: top;\n",
       "    }\n",
       "\n",
       "    .dataframe thead th {\n",
       "        text-align: right;\n",
       "    }\n",
       "</style>\n",
       "<table border=\"1\" class=\"dataframe\">\n",
       "  <thead>\n",
       "    <tr style=\"text-align: right;\">\n",
       "      <th></th>\n",
       "      <th>network</th>\n",
       "      <th>network_key</th>\n",
       "    </tr>\n",
       "  </thead>\n",
       "  <tbody>\n",
       "    <tr>\n",
       "      <td>0</td>\n",
       "      <td>2.56.9.245/32</td>\n",
       "      <td>340298234694711661</td>\n",
       "    </tr>\n",
       "    <tr>\n",
       "      <td>1</td>\n",
       "      <td>2.56.9.246/32</td>\n",
       "      <td>15967697370209441848</td>\n",
       "    </tr>\n",
       "    <tr>\n",
       "      <td>2</td>\n",
       "      <td>2.56.9.247/32</td>\n",
       "      <td>8344275163890935531</td>\n",
       "    </tr>\n",
       "    <tr>\n",
       "      <td>3</td>\n",
       "      <td>2.56.9.248/32</td>\n",
       "      <td>17455670536690040679</td>\n",
       "    </tr>\n",
       "    <tr>\n",
       "      <td>4</td>\n",
       "      <td>2.56.20.0/22</td>\n",
       "      <td>3447722192060392118</td>\n",
       "    </tr>\n",
       "    <tr>\n",
       "      <td>5</td>\n",
       "      <td>2.56.32.0/22</td>\n",
       "      <td>10079855123282555649</td>\n",
       "    </tr>\n",
       "    <tr>\n",
       "      <td>6</td>\n",
       "      <td>2.56.44.0/22</td>\n",
       "      <td>5620104867241794362</td>\n",
       "    </tr>\n",
       "    <tr>\n",
       "      <td>7</td>\n",
       "      <td>2.56.48.0/22</td>\n",
       "      <td>11967419260617987618</td>\n",
       "    </tr>\n",
       "    <tr>\n",
       "      <td>8</td>\n",
       "      <td>2.56.56.0/22</td>\n",
       "      <td>16582982096803622195</td>\n",
       "    </tr>\n",
       "    <tr>\n",
       "      <td>9</td>\n",
       "      <td>2.56.114.0/23</td>\n",
       "      <td>12182769773387179504</td>\n",
       "    </tr>\n",
       "  </tbody>\n",
       "</table>\n",
       "</div>"
      ],
      "text/plain": [
       "         network           network_key\n",
       "0  2.56.9.245/32    340298234694711661\n",
       "1  2.56.9.246/32  15967697370209441848\n",
       "2  2.56.9.247/32   8344275163890935531\n",
       "3  2.56.9.248/32  17455670536690040679\n",
       "4   2.56.20.0/22   3447722192060392118\n",
       "5   2.56.32.0/22  10079855123282555649\n",
       "6   2.56.44.0/22   5620104867241794362\n",
       "7   2.56.48.0/22  11967419260617987618\n",
       "8   2.56.56.0/22  16582982096803622195\n",
       "9  2.56.114.0/23  12182769773387179504"
      ]
     },
     "execution_count": 46,
     "metadata": {},
     "output_type": "execute_result"
    }
   ],
   "source": [
    "indir = Path(demographics_cfg['demographics_d'])\n",
    "SUBNET2INC = read_parquet('subnet2inc.parquet', indir=indir, columns=['network', 'network_key'])\n",
    "SUBNET2INC.iloc[:10]"
   ]
  },
  {
   "cell_type": "code",
   "execution_count": 51,
   "metadata": {},
   "outputs": [
    {
     "name": "stdout",
     "output_type": "stream",
     "text": [
      "CPU times: user 2min 36s, sys: 5.57 s, total: 2min 41s\n",
      "Wall time: 2min 42s\n"
     ]
    }
   ],
   "source": [
    "%%time\n",
    "RTREE = radix.Radix()\n",
    "\n",
    "def add_network(rec):\n",
    "    RTREE.add(rec.network).data['network_key'] = rec.network_key\n",
    "\n",
    "reader = subnet2inc.itertuples()\n",
    "#reader = take(100, reader)\n",
    "reader = map(add_network, reader)\n",
    "for x in reader: pass"
   ]
  },
  {
   "cell_type": "code",
   "execution_count": 58,
   "metadata": {},
   "outputs": [
    {
     "data": {
      "text/html": [
       "<div>\n",
       "<style scoped>\n",
       "    .dataframe tbody tr th:only-of-type {\n",
       "        vertical-align: middle;\n",
       "    }\n",
       "\n",
       "    .dataframe tbody tr th {\n",
       "        vertical-align: top;\n",
       "    }\n",
       "\n",
       "    .dataframe thead th {\n",
       "        text-align: right;\n",
       "    }\n",
       "</style>\n",
       "<table border=\"1\" class=\"dataframe\">\n",
       "  <thead>\n",
       "    <tr style=\"text-align: right;\">\n",
       "      <th></th>\n",
       "      <th>ip</th>\n",
       "    </tr>\n",
       "  </thead>\n",
       "  <tbody>\n",
       "    <tr>\n",
       "      <td>11917</td>\n",
       "      <td>13.233.52.178</td>\n",
       "    </tr>\n",
       "    <tr>\n",
       "      <td>21366</td>\n",
       "      <td>173.152.23.88</td>\n",
       "    </tr>\n",
       "    <tr>\n",
       "      <td>88073</td>\n",
       "      <td>2600:387:0:9c2::9</td>\n",
       "    </tr>\n",
       "    <tr>\n",
       "      <td>196418</td>\n",
       "      <td>71.183.83.246</td>\n",
       "    </tr>\n",
       "    <tr>\n",
       "      <td>123887</td>\n",
       "      <td>2601:603:1400:b72:dc0a:42a6:5033:3cd5</td>\n",
       "    </tr>\n",
       "    <tr>\n",
       "      <td>195978</td>\n",
       "      <td>71.163.14.137</td>\n",
       "    </tr>\n",
       "    <tr>\n",
       "      <td>37194</td>\n",
       "      <td>204.42.19.168</td>\n",
       "    </tr>\n",
       "    <tr>\n",
       "      <td>29671</td>\n",
       "      <td>174.84.250.36</td>\n",
       "    </tr>\n",
       "    <tr>\n",
       "      <td>76533</td>\n",
       "      <td>2600:1700:f790:15b0:6986:73f2:93a6:d6cd</td>\n",
       "    </tr>\n",
       "    <tr>\n",
       "      <td>88154</td>\n",
       "      <td>2600:387:1:803::94</td>\n",
       "    </tr>\n",
       "  </tbody>\n",
       "</table>\n",
       "</div>"
      ],
      "text/plain": [
       "                                             ip\n",
       "11917                             13.233.52.178\n",
       "21366                             173.152.23.88\n",
       "88073                         2600:387:0:9c2::9\n",
       "196418                            71.183.83.246\n",
       "123887    2601:603:1400:b72:dc0a:42a6:5033:3cd5\n",
       "195978                            71.163.14.137\n",
       "37194                             204.42.19.168\n",
       "29671                             174.84.250.36\n",
       "76533   2600:1700:f790:15b0:6986:73f2:93a6:d6cd\n",
       "88154                        2600:387:1:803::94"
      ]
     },
     "execution_count": 58,
     "metadata": {},
     "output_type": "execute_result"
    }
   ],
   "source": [
    "IPS.sample(10)"
   ]
  },
  {
   "cell_type": "code",
   "execution_count": 81,
   "metadata": {},
   "outputs": [
    {
     "name": "stdout",
     "output_type": "stream",
     "text": [
      "CPU times: user 26.7 s, sys: 868 ms, total: 27.6 s\n",
      "Wall time: 27.6 s\n"
     ]
    },
    {
     "data": {
      "text/plain": [
       "2.09712"
      ]
     },
     "execution_count": 81,
     "metadata": {},
     "output_type": "execute_result"
    }
   ],
   "source": [
    "%%time\n",
    "def get_network_key(ip):\n",
    "    rnode = RTREE.search_best(ip)\n",
    "    return 0 if rnode is None else rnode.data['network_key']\n",
    "\n",
    "#N = 100000\n",
    "#df = IPS.sample(N)\n",
    "df = IPS\n",
    "df['network_key'] = df.ip.map(get_network_key)\n",
    "(df.network_key != 0).sum() / N"
   ]
  },
  {
   "cell_type": "code",
   "execution_count": null,
   "metadata": {},
   "outputs": [],
   "source": [
    "RTREE."
   ]
  }
 ],
 "metadata": {
  "kernelspec": {
   "display_name": "Python 3",
   "language": "python",
   "name": "python3"
  },
  "language_info": {
   "codemirror_mode": {
    "name": "ipython",
    "version": 3
   },
   "file_extension": ".py",
   "mimetype": "text/x-python",
   "name": "python",
   "nbconvert_exporter": "python",
   "pygments_lexer": "ipython3",
   "version": "3.7.4"
  }
 },
 "nbformat": 4,
 "nbformat_minor": 4
}
