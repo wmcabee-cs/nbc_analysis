{
 "cells": [
  {
   "cell_type": "code",
   "execution_count": 6,
   "metadata": {},
   "outputs": [],
   "source": [
    "%reload_ext autoreload\n",
    "%autoreload 2"
   ]
  },
  {
   "cell_type": "code",
   "execution_count": 7,
   "metadata": {},
   "outputs": [],
   "source": [
    "from pathlib import Path\n",
    "from zipfile import ZipFile \n",
    "import pandas as pd\n",
    "from io import BytesIO, StringIO\n",
    "from pandas_summary import DataFrameSummary\n",
    "import numpy as np\n",
    "from toolz import merge\n",
    "\n"
   ]
  },
  {
   "cell_type": "code",
   "execution_count": 20,
   "metadata": {},
   "outputs": [
    {
     "name": "stdout",
     "output_type": "stream",
     "text": [
      "Collecting geoip2\n",
      "  Downloading https://files.pythonhosted.org/packages/ed/17/bcbb7c0849492e218767e658c66fbf9e3420b6301072371547c4f7192d48/geoip2-2.9.0-py2.py3-none-any.whl\n",
      "Requirement already satisfied: requests>=2.9 in /Users/wmcabee/_NBC/nbc_analysis/venv/lib/python3.7/site-packages (from geoip2) (2.22.0)\n",
      "Collecting maxminddb>=1.4.0 (from geoip2)\n",
      "\u001b[?25l  Downloading https://files.pythonhosted.org/packages/48/6e/6e91f3ea31d08b4142b451e1959dd8964e6d5edc955d5b180de9c5f7a920/maxminddb-1.5.1.tar.gz (272kB)\n",
      "\u001b[K     |████████████████████████████████| 276kB 5.6MB/s eta 0:00:01\n",
      "\u001b[?25hRequirement already satisfied: certifi>=2017.4.17 in /Users/wmcabee/_NBC/nbc_analysis/venv/lib/python3.7/site-packages (from requests>=2.9->geoip2) (2019.9.11)\n",
      "Requirement already satisfied: urllib3!=1.25.0,!=1.25.1,<1.26,>=1.21.1 in /Users/wmcabee/_NBC/nbc_analysis/venv/lib/python3.7/site-packages (from requests>=2.9->geoip2) (1.24.3)\n",
      "Requirement already satisfied: idna<2.9,>=2.5 in /Users/wmcabee/_NBC/nbc_analysis/venv/lib/python3.7/site-packages (from requests>=2.9->geoip2) (2.8)\n",
      "Requirement already satisfied: chardet<3.1.0,>=3.0.2 in /Users/wmcabee/_NBC/nbc_analysis/venv/lib/python3.7/site-packages (from requests>=2.9->geoip2) (3.0.4)\n",
      "Installing collected packages: maxminddb, geoip2\n",
      "  Running setup.py install for maxminddb ... \u001b[?25ldone\n",
      "\u001b[?25hSuccessfully installed geoip2-2.9.0 maxminddb-1.5.1\n"
     ]
    }
   ],
   "source": [
    "! pip install geoip2"
   ]
  },
  {
   "cell_type": "code",
   "execution_count": 17,
   "metadata": {},
   "outputs": [
    {
     "name": "stdout",
     "output_type": "stream",
     "text": [
      "/Users/wmcabee/_NBC/datasets/GeoLite2-City_20191001/GeoLite2-City.mmdb\n"
     ]
    },
    {
     "data": {
      "text/plain": [
       "True"
      ]
     },
     "execution_count": 17,
     "metadata": {},
     "output_type": "execute_result"
    }
   ],
   "source": [
    "GEOLITE2_DB = Path.home() / '_NBC/datasets/GeoLite2-City_20191001/GeoLite2-City.mmdb'\n",
    "print(GEOLITE2_DB)\n",
    "GEOLITE2_DB.is_file()\n"
   ]
  },
  {
   "cell_type": "code",
   "execution_count": 21,
   "metadata": {},
   "outputs": [],
   "source": [
    "import geoip2.database\n",
    "reader = geoip2.database.Reader(GEOLITE2_DB)\n",
    "response = reader.city('128.101.101.101')"
   ]
  },
  {
   "cell_type": "code",
   "execution_count": 45,
   "metadata": {},
   "outputs": [
    {
     "data": {
      "text/plain": [
       "'Saint Paul'"
      ]
     },
     "execution_count": 45,
     "metadata": {},
     "output_type": "execute_result"
    }
   ],
   "source": [
    "response.city.geoname_id\n",
    "response.postal.code\n",
    "response.location.time_zone\n",
    "response.subdivisions[0].iso_code\n",
    "response.subdivisions[0].name\n",
    "response.city.name"
   ]
  },
  {
   "cell_type": "code",
   "execution_count": 41,
   "metadata": {},
   "outputs": [
    {
     "data": {
      "text/html": [
       "<div>\n",
       "<style scoped>\n",
       "    .dataframe tbody tr th:only-of-type {\n",
       "        vertical-align: middle;\n",
       "    }\n",
       "\n",
       "    .dataframe tbody tr th {\n",
       "        vertical-align: top;\n",
       "    }\n",
       "\n",
       "    .dataframe thead th {\n",
       "        text-align: right;\n",
       "    }\n",
       "</style>\n",
       "<table border=\"1\" class=\"dataframe\">\n",
       "  <thead>\n",
       "    <tr style=\"text-align: right;\">\n",
       "      <th></th>\n",
       "      <th>network</th>\n",
       "      <th>geoname_id</th>\n",
       "      <th>registered_country_geoname_id</th>\n",
       "      <th>represented_country_geoname_id</th>\n",
       "      <th>is_anonymous_proxy</th>\n",
       "      <th>is_satellite_provider</th>\n",
       "      <th>postal_code</th>\n",
       "      <th>latitude</th>\n",
       "      <th>longitude</th>\n",
       "      <th>accuracy_radius</th>\n",
       "    </tr>\n",
       "  </thead>\n",
       "  <tbody>\n",
       "    <tr>\n",
       "      <td>0</td>\n",
       "      <td>9c:1e::95:69:9d:41/128</td>\n",
       "      <td>4704203</td>\n",
       "      <td>NaN</td>\n",
       "      <td>NaN</td>\n",
       "      <td>0</td>\n",
       "      <td>0</td>\n",
       "      <td>75770</td>\n",
       "      <td>32.1608</td>\n",
       "      <td>-95.5927</td>\n",
       "      <td>100</td>\n",
       "    </tr>\n",
       "    <tr>\n",
       "      <td>1</td>\n",
       "      <td>2000:db8::/32</td>\n",
       "      <td>5332921</td>\n",
       "      <td>NaN</td>\n",
       "      <td>NaN</td>\n",
       "      <td>0</td>\n",
       "      <td>0</td>\n",
       "      <td>93614</td>\n",
       "      <td>37.2502</td>\n",
       "      <td>-119.7513</td>\n",
       "      <td>100</td>\n",
       "    </tr>\n",
       "    <tr>\n",
       "      <td>1079</td>\n",
       "      <td>2001:400::/37</td>\n",
       "      <td>6252001</td>\n",
       "      <td>6252001.0</td>\n",
       "      <td>NaN</td>\n",
       "      <td>0</td>\n",
       "      <td>0</td>\n",
       "      <td>NaN</td>\n",
       "      <td>37.7510</td>\n",
       "      <td>-97.8220</td>\n",
       "      <td>100</td>\n",
       "    </tr>\n",
       "    <tr>\n",
       "      <td>1080</td>\n",
       "      <td>2001:400:800::/39</td>\n",
       "      <td>6252001</td>\n",
       "      <td>6252001.0</td>\n",
       "      <td>NaN</td>\n",
       "      <td>0</td>\n",
       "      <td>0</td>\n",
       "      <td>NaN</td>\n",
       "      <td>37.7510</td>\n",
       "      <td>-97.8220</td>\n",
       "      <td>100</td>\n",
       "    </tr>\n",
       "    <tr>\n",
       "      <td>1081</td>\n",
       "      <td>2001:400:a00::/40</td>\n",
       "      <td>6252001</td>\n",
       "      <td>6252001.0</td>\n",
       "      <td>NaN</td>\n",
       "      <td>0</td>\n",
       "      <td>0</td>\n",
       "      <td>NaN</td>\n",
       "      <td>37.7510</td>\n",
       "      <td>-97.8220</td>\n",
       "      <td>100</td>\n",
       "    </tr>\n",
       "    <tr>\n",
       "      <td>...</td>\n",
       "      <td>...</td>\n",
       "      <td>...</td>\n",
       "      <td>...</td>\n",
       "      <td>...</td>\n",
       "      <td>...</td>\n",
       "      <td>...</td>\n",
       "      <td>...</td>\n",
       "      <td>...</td>\n",
       "      <td>...</td>\n",
       "      <td>...</td>\n",
       "    </tr>\n",
       "    <tr>\n",
       "      <td>329742</td>\n",
       "      <td>2a0f:104::/30</td>\n",
       "      <td>6252001</td>\n",
       "      <td>6252001.0</td>\n",
       "      <td>NaN</td>\n",
       "      <td>0</td>\n",
       "      <td>0</td>\n",
       "      <td>NaN</td>\n",
       "      <td>37.7510</td>\n",
       "      <td>-97.8220</td>\n",
       "      <td>100</td>\n",
       "    </tr>\n",
       "    <tr>\n",
       "      <td>329746</td>\n",
       "      <td>2a0f:300::/30</td>\n",
       "      <td>5551752</td>\n",
       "      <td>6252001.0</td>\n",
       "      <td>NaN</td>\n",
       "      <td>0</td>\n",
       "      <td>0</td>\n",
       "      <td>NaN</td>\n",
       "      <td>33.4532</td>\n",
       "      <td>-112.0749</td>\n",
       "      <td>100</td>\n",
       "    </tr>\n",
       "    <tr>\n",
       "      <td>329747</td>\n",
       "      <td>2a0f:304::/31</td>\n",
       "      <td>5551752</td>\n",
       "      <td>2635167.0</td>\n",
       "      <td>NaN</td>\n",
       "      <td>0</td>\n",
       "      <td>0</td>\n",
       "      <td>NaN</td>\n",
       "      <td>33.4532</td>\n",
       "      <td>-112.0749</td>\n",
       "      <td>100</td>\n",
       "    </tr>\n",
       "    <tr>\n",
       "      <td>329748</td>\n",
       "      <td>2a0f:306::/31</td>\n",
       "      <td>5551752</td>\n",
       "      <td>6252001.0</td>\n",
       "      <td>NaN</td>\n",
       "      <td>0</td>\n",
       "      <td>0</td>\n",
       "      <td>NaN</td>\n",
       "      <td>33.4532</td>\n",
       "      <td>-112.0749</td>\n",
       "      <td>100</td>\n",
       "    </tr>\n",
       "    <tr>\n",
       "      <td>330784</td>\n",
       "      <td>2c0f:f9b8:2::/48</td>\n",
       "      <td>6252001</td>\n",
       "      <td>934292.0</td>\n",
       "      <td>NaN</td>\n",
       "      <td>0</td>\n",
       "      <td>0</td>\n",
       "      <td>NaN</td>\n",
       "      <td>37.7510</td>\n",
       "      <td>-97.8220</td>\n",
       "      <td>100</td>\n",
       "    </tr>\n",
       "  </tbody>\n",
       "</table>\n",
       "<p>160057 rows × 10 columns</p>\n",
       "</div>"
      ],
      "text/plain": [
       "                       network  geoname_id  registered_country_geoname_id  \\\n",
       "0       9c:1e::95:69:9d:41/128     4704203                            NaN   \n",
       "1                2000:db8::/32     5332921                            NaN   \n",
       "1079             2001:400::/37     6252001                      6252001.0   \n",
       "1080         2001:400:800::/39     6252001                      6252001.0   \n",
       "1081         2001:400:a00::/40     6252001                      6252001.0   \n",
       "...                        ...         ...                            ...   \n",
       "329742           2a0f:104::/30     6252001                      6252001.0   \n",
       "329746           2a0f:300::/30     5551752                      6252001.0   \n",
       "329747           2a0f:304::/31     5551752                      2635167.0   \n",
       "329748           2a0f:306::/31     5551752                      6252001.0   \n",
       "330784        2c0f:f9b8:2::/48     6252001                       934292.0   \n",
       "\n",
       "        represented_country_geoname_id  is_anonymous_proxy  \\\n",
       "0                                  NaN                   0   \n",
       "1                                  NaN                   0   \n",
       "1079                               NaN                   0   \n",
       "1080                               NaN                   0   \n",
       "1081                               NaN                   0   \n",
       "...                                ...                 ...   \n",
       "329742                             NaN                   0   \n",
       "329746                             NaN                   0   \n",
       "329747                             NaN                   0   \n",
       "329748                             NaN                   0   \n",
       "330784                             NaN                   0   \n",
       "\n",
       "        is_satellite_provider postal_code  latitude  longitude  \\\n",
       "0                           0       75770   32.1608   -95.5927   \n",
       "1                           0       93614   37.2502  -119.7513   \n",
       "1079                        0         NaN   37.7510   -97.8220   \n",
       "1080                        0         NaN   37.7510   -97.8220   \n",
       "1081                        0         NaN   37.7510   -97.8220   \n",
       "...                       ...         ...       ...        ...   \n",
       "329742                      0         NaN   37.7510   -97.8220   \n",
       "329746                      0         NaN   33.4532  -112.0749   \n",
       "329747                      0         NaN   33.4532  -112.0749   \n",
       "329748                      0         NaN   33.4532  -112.0749   \n",
       "330784                      0         NaN   37.7510   -97.8220   \n",
       "\n",
       "        accuracy_radius  \n",
       "0                   100  \n",
       "1                   100  \n",
       "1079                100  \n",
       "1080                100  \n",
       "1081                100  \n",
       "...                 ...  \n",
       "329742              100  \n",
       "329746              100  \n",
       "329747              100  \n",
       "329748              100  \n",
       "330784              100  \n",
       "\n",
       "[160057 rows x 10 columns]"
      ]
     },
     "execution_count": 41,
     "metadata": {},
     "output_type": "execute_result"
    }
   ],
   "source": [
    "IP6 = IP6[IP6.geoname_id.isin(LOCS.index)].copy()\n",
    "IP6"
   ]
  },
  {
   "cell_type": "code",
   "execution_count": 43,
   "metadata": {},
   "outputs": [
    {
     "data": {
      "text/plain": [
       "5120741"
      ]
     },
     "execution_count": 43,
     "metadata": {},
     "output_type": "execute_result"
    }
   ],
   "source": [
    "ip = '24.186.72.123'\n",
    "\n",
    "IP4 = IP4[IP4.geoname_id.isin(LOCS.index)].copy()\n",
    "mask = IP4.network.str.startswith(ip[:10])\n",
    "df = IP4[mask].iloc[0]\n",
    "ip_info = df.to_dict()\n",
    "geoname_id = int(ip_info['geoname_id'])\n",
    "geoname_id "
   ]
  },
  {
   "cell_type": "code",
   "execution_count": 48,
   "metadata": {},
   "outputs": [
    {
     "data": {
      "text/plain": [
       "{'network': '24.186.72.0/21',\n",
       " 'geoname_id': 5120741.0,\n",
       " 'registered_country_geoname_id': 6252001.0,\n",
       " 'represented_country_geoname_id': nan,\n",
       " 'is_anonymous_proxy': 0,\n",
       " 'is_satellite_provider': 0,\n",
       " 'postal_code': '12528',\n",
       " 'latitude': 41.7167,\n",
       " 'longitude': -73.9928,\n",
       " 'accuracy_radius': 5.0,\n",
       " 'locale_code': 'en',\n",
       " 'continent_code': nan,\n",
       " 'continent_name': 'North America',\n",
       " 'country_iso_code': 'US',\n",
       " 'country_name': 'United States',\n",
       " 'subdivision_1_iso_code': 'NY',\n",
       " 'subdivision_1_name': 'New York',\n",
       " 'subdivision_2_iso_code': nan,\n",
       " 'subdivision_2_name': nan,\n",
       " 'city_name': 'Highland',\n",
       " 'metro_code': 501.0,\n",
       " 'time_zone': 'America/New_York',\n",
       " 'is_in_european_union': 0}"
      ]
     },
     "execution_count": 48,
     "metadata": {},
     "output_type": "execute_result"
    }
   ],
   "source": [
    "loc_info = LOCS.loc[geoname_id]\n",
    "lkup = merge(ip_info, loc_info)\n",
    "lkup"
   ]
  },
  {
   "cell_type": "code",
   "execution_count": 40,
   "metadata": {},
   "outputs": [
    {
     "data": {
      "text/plain": [
       "{'locale_code': 'en',\n",
       " 'continent_code': nan,\n",
       " 'continent_name': 'North America',\n",
       " 'country_iso_code': 'US',\n",
       " 'country_name': 'United States',\n",
       " 'subdivision_1_iso_code': 'NY',\n",
       " 'subdivision_1_name': 'New York',\n",
       " 'subdivision_2_iso_code': nan,\n",
       " 'subdivision_2_name': nan,\n",
       " 'city_name': 'Highland',\n",
       " 'metro_code': 501.0,\n",
       " 'time_zone': 'America/New_York',\n",
       " 'is_in_european_union': 0}"
      ]
     },
     "execution_count": 40,
     "metadata": {},
     "output_type": "execute_result"
    }
   ],
   "source": []
  },
  {
   "cell_type": "code",
   "execution_count": null,
   "metadata": {},
   "outputs": [],
   "source": []
  }
 ],
 "metadata": {
  "kernelspec": {
   "display_name": "Python 3",
   "language": "python",
   "name": "python3"
  },
  "language_info": {
   "codemirror_mode": {
    "name": "ipython",
    "version": 3
   },
   "file_extension": ".py",
   "mimetype": "text/x-python",
   "name": "python",
   "nbconvert_exporter": "python",
   "pygments_lexer": "ipython3",
   "version": "3.7.4"
  }
 },
 "nbformat": 4,
 "nbformat_minor": 4
}
