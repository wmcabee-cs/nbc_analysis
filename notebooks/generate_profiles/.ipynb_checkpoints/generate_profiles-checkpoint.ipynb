{
 "cells": [
  {
   "cell_type": "code",
   "execution_count": 1,
   "metadata": {},
   "outputs": [],
   "source": [
    "%reload_ext autoreload\n",
    "%autoreload 2"
   ]
  },
  {
   "cell_type": "code",
   "execution_count": 228,
   "metadata": {},
   "outputs": [],
   "source": [
    "import numpy as np\n",
    "import pandas as pd\n",
    "from toolz import concatv, first, peek\n",
    "from itertools import starmap\n",
    "\n",
    "import json\n",
    "from pathlib import Path\n",
    "import gzip"
   ]
  },
  {
   "cell_type": "code",
   "execution_count": 10,
   "metadata": {},
   "outputs": [],
   "source": [
    "from nbc_analysis.utils.debug_utils import runit\n",
    "from nbc_analysis.utils.config_utils import get_config\n",
    "from nbc_analysis.analysis.generte_profiles import main as gen_profile\n",
    "from nbc_analysis.transforms.merge_video_ends import main as merge_video_ends"
   ]
  },
  {
   "cell_type": "code",
   "execution_count": 229,
   "metadata": {},
   "outputs": [],
   "source": [
    "from cortex_common.types import EntityEvent, StringAttributeValue, ListAttributeValue"
   ]
  },
  {
   "cell_type": "code",
   "execution_count": 11,
   "metadata": {},
   "outputs": [
    {
     "name": "stdout",
     "output_type": "stream",
     "text": [
      ">> created example config file '/Users/wmcabee/.config/nbc_analysis/config_example.yaml'\n",
      ">> Using default config\n",
      ">> WARNING: Overriding config file values with : {'BATCHES_D': '/Users/wmcabee/Dropbox (Cognitive Scale)/NBC Analysis/data/NBC2/batches'}\n"
     ]
    }
   ],
   "source": [
    "config = get_config(config_f='default',\n",
    "                      overrides={'BATCHES_D': '/Users/wmcabee/Dropbox (Cognitive Scale)/NBC Analysis/data/NBC2/batches'})"
   ]
  },
  {
   "cell_type": "code",
   "execution_count": 15,
   "metadata": {},
   "outputs": [
    {
     "name": "stdout",
     "output_type": "stream",
     "text": [
      ">> Loading batches,batch_cnt=129,indir=/Users/wmcabee/Dropbox (Cognitive Scale)/NBC Analysis/data/NBC2/batches\n",
      ">> Building index on {mpid,event_start_unixtime_ms}\n",
      ">> Sorting index\n",
      ">> end merge ve_events,outfile=/Users/wmcabee/DATA/NBC2/work/merged_ve_events.parquet,records=6265392\n",
      "CPU times: user 1min 21s, sys: 10 s, total: 1min 31s\n",
      "Wall time: 1min 24s\n"
     ]
    }
   ],
   "source": [
    "%%time\n",
    "DATA = merge_video_ends(config_f=config)"
   ]
  },
  {
   "cell_type": "code",
   "execution_count": 140,
   "metadata": {},
   "outputs": [],
   "source": [
    "np.random.seed(7)\n",
    "df= DATA[['show','genre']]\n",
    "#df = df[:200]\n",
    "df = df.reset_index()\n",
    "GENRES = df.genre.drop_duplicates(keep='last').tolist()\n",
    "SHOWS = df.show.drop_duplicates(keep='last').sort_values().tolist()\n",
    "\n",
    "reader = filter(None, concatv(GENRES, SHOWS))\n",
    "reader = concat(map(lambda x: x.split(' '),reader ))\n",
    "reader = (x.lower() for x in reader if x.isalpha())\n",
    "KEYWORDS = list(set(reader))\n"
   ]
  },
  {
   "cell_type": "code",
   "execution_count": 156,
   "metadata": {},
   "outputs": [],
   "source": [
    "MPIDS = DATA[:2000].reset_index().mpid.sample(frac=1).tolist()"
   ]
  },
  {
   "cell_type": "code",
   "execution_count": 249,
   "metadata": {},
   "outputs": [],
   "source": [
    "def mock_scores(choices):\n",
    "    count = np.random.randint(5,10)\n",
    "    reader = zip(np.random.choice(choices,count, replace=False ),\n",
    "              np.round(np.random.rand(count),5) )\n",
    "    reader = filter(lambda x: x[0] not in {'', None}, reader)\n",
    "    return sorted(reader, key=lambda x: -x[1])\n",
    "  "
   ]
  },
  {
   "cell_type": "code",
   "execution_count": 250,
   "metadata": {},
   "outputs": [],
   "source": [
    "def mock_profile(mpid):\n",
    "    return dict(mpid=mpid,\n",
    "                genres=mock_scores(GENRES),\n",
    "                shows=mock_scores(SHOWS), \n",
    "                keywords=mock_scores(KEYWORDS))"
   ]
  },
  {
   "cell_type": "code",
   "execution_count": 263,
   "metadata": {},
   "outputs": [],
   "source": [
    "def write_dicts2json(inputs, outfile):\n",
    "    reader = map(json.dumps, inputs)\n",
    "    reader = map(lambda x: x+\"\\n\", reader)\n",
    "    reader = list(reader)\n",
    "\n",
    "\n",
    "    with gzip.open(str(outfile), 'wt') as fh:\n",
    "        fh.writelines(reader )\n",
    "    print(f\"wrote file={infile},len={len(reader)}\")"
   ]
  },
  {
   "cell_type": "code",
   "execution_count": 264,
   "metadata": {},
   "outputs": [
    {
     "name": "stdout",
     "output_type": "stream",
     "text": [
      "wrote file=ex_profile_input.json.gz,len=2000\n",
      "example:\n"
     ]
    },
    {
     "data": {
      "text/plain": [
       "{'mpid': -9220011668977242260,\n",
       " 'genres': [('Drama', 0.96549),\n",
       "  ('Sports', 0.9191),\n",
       "  ('Reality and Game Show', 0.59785),\n",
       "  ('Comedy', 0.53361),\n",
       "  ('Lifestyle and Fashion', 0.38334),\n",
       "  ('Family and Kids', 0.36383)],\n",
       " 'shows': [('Piranhaconda', 0.90077),\n",
       "  ('Aaron Hernandez, McNair & Dele: Dangerous Games', 0.88741),\n",
       "  ('Squawk Alley', 0.88174),\n",
       "  ('Jodi Arias: In Defense Of', 0.60999),\n",
       "  ('Tremors: A Cold Day in Hell', 0.34893),\n",
       "  ('NBC News Specials', 0.284),\n",
       "  ('Ice Loves Coco', 0.05726)],\n",
       " 'keywords': [('drive', 0.78391),\n",
       "  ('method', 0.67907),\n",
       "  ('high', 0.635),\n",
       "  ('copperhead', 0.57751),\n",
       "  ('attack', 0.30268),\n",
       "  ('funny', 0.24901),\n",
       "  ('love', 0.19209)]}"
      ]
     },
     "execution_count": 264,
     "metadata": {},
     "output_type": "execute_result"
    }
   ],
   "source": [
    "outfile = Path('.') / 'ex_from_cs1.json.gz'     \n",
    "INPUTS = list(map(mock_profile, MPIDS))\n",
    "write_dicts2json(inputs=INPUTS, outfile=outfile)\n",
    "print('example:')\n",
    "INPUTS[0]"
   ]
  },
  {
   "cell_type": "markdown",
   "metadata": {},
   "source": [
    "## Convert to profile of 1 input format"
   ]
  },
  {
   "cell_type": "code",
   "execution_count": 260,
   "metadata": {},
   "outputs": [
    {
     "data": {
      "text/plain": [
       "{'event': 'genres',\n",
       " 'entityId': '-9220011668977242260',\n",
       " 'entityType': 'nbc/Viewer',\n",
       " 'properties': {'value': {'value': [{'value': 'Sci Fi and Fantasy',\n",
       "     'weight': 0.67676,\n",
       "     'context': 'cortex/attribute-value-string'},\n",
       "    {'value': 'Live Events and Specials',\n",
       "     'weight': 0.65635,\n",
       "     'context': 'cortex/attribute-value-string'},\n",
       "    {'value': 'Horror and Thriller',\n",
       "     'weight': 0.505,\n",
       "     'context': 'cortex/attribute-value-string'},\n",
       "    {'value': 'Lifestyle and Fashion',\n",
       "     'weight': 0.37419,\n",
       "     'context': 'cortex/attribute-value-string'},\n",
       "    {'value': 'News and Information',\n",
       "     'weight': 0.28834,\n",
       "     'context': 'cortex/attribute-value-string'},\n",
       "    {'value': 'Sports',\n",
       "     'weight': 0.14857,\n",
       "     'context': 'cortex/attribute-value-string'},\n",
       "    {'value': 'Political',\n",
       "     'weight': 0.14009,\n",
       "     'context': 'cortex/attribute-value-string'},\n",
       "    {'value': 'Action and Adventure',\n",
       "     'weight': 0.13853,\n",
       "     'context': 'cortex/attribute-value-string'}],\n",
       "   'context': 'cortex/attribute-value-list'}},\n",
       " 'meta': {},\n",
       " 'eventTime': 1570544911000}"
      ]
     },
     "execution_count": 260,
     "metadata": {},
     "output_type": "execute_result"
    }
   ],
   "source": [
    "def mock_po1( mpid, attr, items):\n",
    "    \n",
    "    try: \n",
    "        items = ListAttributeValue(value=list(StringAttributeValue(value=value, weight=weight) for value, weight in items))\n",
    "    \n",
    "        event = EntityEvent(\n",
    "              event=attr,\n",
    "              entityId=str(mpid),\n",
    "              entityType=\"nbc/Viewer\",\n",
    "              properties={'value': items},\n",
    "              meta= {}\n",
    "        )\n",
    "        return dict(event)\n",
    "    except Exception as e:\n",
    "        print(items)\n",
    "        raise\n",
    "        \n",
    "reader = ( (msg['mpid'], attr, items) for msg in INPUTS for attr, items in msg.items() if attr != 'mpid')\n",
    "reader = starmap(mock_po1, reader)\n",
    "#reader ( (msg['mpid'], attr, value)  for msg in INPUTS  for attr, value in msg.items() if msg != 'mpid')\n",
    "PROFILE_INPUTS = list(reader)\n",
    "PROFILE_INPUTS[0]"
   ]
  },
  {
   "cell_type": "code",
   "execution_count": 265,
   "metadata": {},
   "outputs": [
    {
     "name": "stdout",
     "output_type": "stream",
     "text": [
      "wrote file=ex_profile_input.json.gz,len=6000\n"
     ]
    }
   ],
   "source": [
    "outfile = Path('.') / 'ex_profile_input.json.gz'     \n",
    "write_dicts2json(inputs=PROFILE_INPUTS, outfile=outfile)"
   ]
  },
  {
   "cell_type": "code",
   "execution_count": 216,
   "metadata": {},
   "outputs": [
    {
     "data": {
      "text/plain": [
       "StringAttributeValue(value='x', weight=3, context='cortex/attribute-value-string')"
      ]
     },
     "execution_count": 216,
     "metadata": {},
     "output_type": "execute_result"
    }
   ],
   "source": [
    "StringAttributeValue(value='x', weight=3)"
   ]
  },
  {
   "cell_type": "code",
   "execution_count": null,
   "metadata": {},
   "outputs": [],
   "source": []
  }
 ],
 "metadata": {
  "kernelspec": {
   "display_name": "Python 3",
   "language": "python",
   "name": "python3"
  },
  "language_info": {
   "codemirror_mode": {
    "name": "ipython",
    "version": 3
   },
   "file_extension": ".py",
   "mimetype": "text/x-python",
   "name": "python",
   "nbconvert_exporter": "python",
   "pygments_lexer": "ipython3",
   "version": "3.7.4"
  }
 },
 "nbformat": 4,
 "nbformat_minor": 4
}
