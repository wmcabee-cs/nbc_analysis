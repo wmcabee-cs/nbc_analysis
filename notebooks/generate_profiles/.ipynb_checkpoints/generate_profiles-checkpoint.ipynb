{
 "cells": [
  {
   "cell_type": "code",
   "execution_count": 1,
   "metadata": {},
   "outputs": [],
   "source": [
    "%reload_ext autoreload\n",
    "%autoreload 2"
   ]
  },
  {
   "cell_type": "code",
   "execution_count": 166,
   "metadata": {},
   "outputs": [],
   "source": [
    "import numpy as np\n",
    "import pandas as pd\n",
    "from toolz import concatv\n",
    "\n",
    "import json\n",
    "from pathlib import Path"
   ]
  },
  {
   "cell_type": "code",
   "execution_count": 10,
   "metadata": {},
   "outputs": [],
   "source": [
    "from nbc_analysis.utils.debug_utils import runit\n",
    "from nbc_analysis.utils.config_utils import get_config\n",
    "from nbc_analysis.analysis.generte_profiles import main as gen_profile\n",
    "from nbc_analysis.transforms.merge_video_ends import main as merge_video_ends"
   ]
  },
  {
   "cell_type": "code",
   "execution_count": 11,
   "metadata": {},
   "outputs": [
    {
     "name": "stdout",
     "output_type": "stream",
     "text": [
      ">> created example config file '/Users/wmcabee/.config/nbc_analysis/config_example.yaml'\n",
      ">> Using default config\n",
      ">> WARNING: Overriding config file values with : {'BATCHES_D': '/Users/wmcabee/Dropbox (Cognitive Scale)/NBC Analysis/data/NBC2/batches'}\n"
     ]
    }
   ],
   "source": [
    "config = get_config(config_f='default',\n",
    "                      overrides={'BATCHES_D': '/Users/wmcabee/Dropbox (Cognitive Scale)/NBC Analysis/data/NBC2/batches'})"
   ]
  },
  {
   "cell_type": "code",
   "execution_count": 15,
   "metadata": {},
   "outputs": [
    {
     "name": "stdout",
     "output_type": "stream",
     "text": [
      ">> Loading batches,batch_cnt=129,indir=/Users/wmcabee/Dropbox (Cognitive Scale)/NBC Analysis/data/NBC2/batches\n",
      ">> Building index on {mpid,event_start_unixtime_ms}\n",
      ">> Sorting index\n",
      ">> end merge ve_events,outfile=/Users/wmcabee/DATA/NBC2/work/merged_ve_events.parquet,records=6265392\n",
      "CPU times: user 1min 21s, sys: 10 s, total: 1min 31s\n",
      "Wall time: 1min 24s\n"
     ]
    }
   ],
   "source": [
    "%%time\n",
    "DATA = merge_video_ends(config_f=config)"
   ]
  },
  {
   "cell_type": "code",
   "execution_count": 140,
   "metadata": {},
   "outputs": [],
   "source": [
    "np.random.seed(7)\n",
    "df= DATA[['show','genre']]\n",
    "#df = df[:200]\n",
    "df = df.reset_index()\n",
    "GENRES = df.genre.drop_duplicates(keep='last').tolist()\n",
    "SHOWS = df.show.drop_duplicates(keep='last').sort_values().tolist()\n",
    "\n",
    "reader = filter(None, concatv(GENRES, SHOWS))\n",
    "reader = concat(map(lambda x: x.split(' '),reader ))\n",
    "reader = (x.lower() for x in reader if x.isalpha())\n",
    "KEYWORDS = list(set(reader))\n"
   ]
  },
  {
   "cell_type": "code",
   "execution_count": 156,
   "metadata": {},
   "outputs": [],
   "source": [
    "MPIDS = DATA[:2000].reset_index().mpid.sample(frac=1).tolist()"
   ]
  },
  {
   "cell_type": "code",
   "execution_count": 160,
   "metadata": {},
   "outputs": [],
   "source": [
    "def mock_scores(choices):\n",
    "    count = np.random.randint(5,10)\n",
    "    reader = zip(np.random.choice(choices,count, replace=False ),\n",
    "              np.round(np.random.rand(count),5) )\n",
    "    reader = filter(lambda x: x not in {''}, reader)\n",
    "    return sorted(reader, key=lambda x: -x[1])\n",
    "  "
   ]
  },
  {
   "cell_type": "code",
   "execution_count": 161,
   "metadata": {},
   "outputs": [],
   "source": [
    "def mock_profile(mpid):\n",
    "    return dict(mpid=mpid,genres=mock_scores(GENRES),shows=mock_scores(SHOWS), keywords=mock_scores(KEYWORDS))"
   ]
  },
  {
   "cell_type": "code",
   "execution_count": 177,
   "metadata": {},
   "outputs": [],
   "source": [
    "infile = Path('.') / 'example_source.json'\n",
    "\n",
    "reader = map(json.dumps, map(mock_profile, MPIDS))\n",
    "reader = map(lambda x: x+\"\\n\", reader)\n",
    "with infile.open('w') as fh:\n",
    "    fh.writelines(reader )"
   ]
  },
  {
   "cell_type": "code",
   "execution_count": null,
   "metadata": {},
   "outputs": [],
   "source": []
  }
 ],
 "metadata": {
  "kernelspec": {
   "display_name": "Python 3",
   "language": "python",
   "name": "python3"
  },
  "language_info": {
   "codemirror_mode": {
    "name": "ipython",
    "version": 3
   },
   "file_extension": ".py",
   "mimetype": "text/x-python",
   "name": "python",
   "nbconvert_exporter": "python",
   "pygments_lexer": "ipython3",
   "version": "3.7.4"
  }
 },
 "nbformat": 4,
 "nbformat_minor": 4
}
