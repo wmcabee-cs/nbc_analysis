{
 "cells": [
  {
   "cell_type": "code",
   "execution_count": null,
   "metadata": {},
   "outputs": [],
   "source": [
    "%reload_ext autoreload\n",
    "%autoreload 2"
   ]
  },
  {
   "cell_type": "code",
   "execution_count": 10,
   "metadata": {},
   "outputs": [],
   "source": [
    "import numpy as np\n",
    "import pandas as pd\n",
    "from toolz import concat, concatv, first, peek\n",
    "from itertools import starmap\n",
    "\n",
    "import json\n",
    "from pathlib import Path\n",
    "import gzip"
   ]
  },
  {
   "cell_type": "code",
   "execution_count": 5,
   "metadata": {},
   "outputs": [],
   "source": [
    "from nbc_analysis.utils.debug_utils import runit\n",
    "from nbc_analysis.utils.config_utils import get_config\n",
    "from nbc_analysis.analysis.gen_profiles import main as gen_profile\n",
    "from nbc_analysis.transforms.merge_video_ends import main as merge_video_ends"
   ]
  },
  {
   "cell_type": "code",
   "execution_count": 6,
   "metadata": {},
   "outputs": [],
   "source": [
    "from cortex_common.types import EntityEvent, StringAttributeValue, ListAttributeValue"
   ]
  },
  {
   "cell_type": "code",
   "execution_count": 7,
   "metadata": {},
   "outputs": [
    {
     "name": "stdout",
     "output_type": "stream",
     "text": [
      ">> created example config file '/Users/wmcabee/.config/nbc_analysis/config_example.yaml'\n",
      ">> Using default config\n",
      ">> WARNING: Overriding config file values with : {'BATCHES_D': '/Users/wmcabee/Dropbox (Cognitive Scale)/NBC Analysis/data/NBC2/batches'}\n"
     ]
    }
   ],
   "source": [
    "config = get_config(config_f='default',\n",
    "                      overrides={'BATCHES_D': '/Users/wmcabee/Dropbox (Cognitive Scale)/NBC Analysis/data/NBC2/batches'})"
   ]
  },
  {
   "cell_type": "code",
   "execution_count": 8,
   "metadata": {},
   "outputs": [
    {
     "name": "stdout",
     "output_type": "stream",
     "text": [
      ">> Loading batches,batch_cnt=129,indir=/Users/wmcabee/Dropbox (Cognitive Scale)/NBC Analysis/data/NBC2/batches\n",
      ">> Building index on {mpid,event_start_unixtime_ms}\n",
      ">> Sorting index\n",
      ">> end merge ve_events,outfile=/Users/wmcabee/DATA/NBC2/work/merged_ve_events.parquet,records=6265392\n",
      "CPU times: user 1min 18s, sys: 7.26 s, total: 1min 25s\n",
      "Wall time: 1min 19s\n"
     ]
    }
   ],
   "source": [
    "%%time\n",
    "DATA = merge_video_ends(config_f=config)"
   ]
  },
  {
   "cell_type": "code",
   "execution_count": 11,
   "metadata": {},
   "outputs": [],
   "source": [
    "np.random.seed(7)\n",
    "df= DATA[['show','genre']]\n",
    "#df = df[:200]\n",
    "df = df.reset_index()\n",
    "GENRES = df.genre.drop_duplicates(keep='last').tolist()\n",
    "SHOWS = df.show.drop_duplicates(keep='last').sort_values().tolist()\n",
    "\n",
    "reader = filter(None, concatv(GENRES, SHOWS))\n",
    "reader = concat(map(lambda x: x.split(' '),reader ))\n",
    "reader = (x.lower() for x in reader if x.isalpha())\n",
    "KEYWORDS = list(set(reader))\n"
   ]
  },
  {
   "cell_type": "code",
   "execution_count": 12,
   "metadata": {},
   "outputs": [],
   "source": [
    "MPIDS = DATA[:2000].reset_index().mpid.sample(frac=1).tolist()"
   ]
  },
  {
   "cell_type": "code",
   "execution_count": 13,
   "metadata": {},
   "outputs": [],
   "source": [
    "def mock_scores(choices):\n",
    "    count = np.random.randint(5,10)\n",
    "    reader = zip(np.random.choice(choices,count, replace=False ),\n",
    "              np.round(np.random.rand(count),5) )\n",
    "    reader = filter(lambda x: x[0] not in {'', None}, reader)\n",
    "    return sorted(reader, key=lambda x: -x[1])\n",
    "  "
   ]
  },
  {
   "cell_type": "code",
   "execution_count": 14,
   "metadata": {},
   "outputs": [],
   "source": [
    "def mock_profile(mpid):\n",
    "    return dict(mpid=mpid,\n",
    "                genres=mock_scores(GENRES),\n",
    "                shows=mock_scores(SHOWS), \n",
    "                keywords=mock_scores(KEYWORDS))"
   ]
  },
  {
   "cell_type": "code",
   "execution_count": 17,
   "metadata": {},
   "outputs": [],
   "source": [
    "def write_dicts2json(inputs, outfile):\n",
    "    reader = map(json.dumps, inputs)\n",
    "    reader = map(lambda x: x+\"\\n\", reader)\n",
    "    reader = list(reader)\n",
    "\n",
    "\n",
    "    with gzip.open(str(outfile), 'wt') as fh:\n",
    "        fh.writelines(reader )\n",
    "    print(f\"wrote file={outfile},len={len(reader)}\")"
   ]
  },
  {
   "cell_type": "code",
   "execution_count": 18,
   "metadata": {},
   "outputs": [
    {
     "name": "stdout",
     "output_type": "stream",
     "text": [
      "wrote file=ex_from_cs1.json.gz,len=2000\n",
      "example:\n"
     ]
    },
    {
     "data": {
      "text/plain": [
       "{'mpid': -9220657203495870507,\n",
       " 'genres': [('Political', 0.91858),\n",
       "  ('Soap Opera', 0.74657),\n",
       "  ('Lifestyle and Fashion', 0.74127),\n",
       "  ('Crime and Mystery', 0.54787),\n",
       "  ('Sports', 0.35383),\n",
       "  ('Comedy', 0.31883),\n",
       "  ('Talk and Interview', 0.11153),\n",
       "  ('Action and Adventure', 0.0403)],\n",
       " 'shows': [('I Feel Bad', 0.88573),\n",
       "  ('House of the Witch', 0.83055),\n",
       "  ('The Real Housewives of Beverly Hills', 0.82493),\n",
       "  ('AM Joy', 0.45652),\n",
       "  ('State of Affairs', 0.38617)],\n",
       " 'keywords': [('saved', 0.75176),\n",
       "  ('lady', 0.74697),\n",
       "  ('jackson', 0.3372),\n",
       "  ('cromarties', 0.32888),\n",
       "  ('arctic', 0.1592)]}"
      ]
     },
     "execution_count": 18,
     "metadata": {},
     "output_type": "execute_result"
    }
   ],
   "source": [
    "outfile = Path('.') / 'ex_from_cs1.json.gz'     \n",
    "INPUTS = list(map(mock_profile, MPIDS))\n",
    "write_dicts2json(inputs=INPUTS, outfile=outfile)\n",
    "print('example:')\n",
    "INPUTS[0]"
   ]
  },
  {
   "cell_type": "markdown",
   "metadata": {},
   "source": [
    "## Convert to profile of 1 input format"
   ]
  },
  {
   "cell_type": "code",
   "execution_count": 19,
   "metadata": {},
   "outputs": [
    {
     "data": {
      "text/plain": [
       "{'event': 'genres',\n",
       " 'entityId': '-9220657203495870507',\n",
       " 'entityType': 'nbc/Viewer',\n",
       " 'properties': {'value': {'value': [{'value': 'Political',\n",
       "     'weight': 0.91858,\n",
       "     'context': 'cortex/attribute-value-string'},\n",
       "    {'value': 'Soap Opera',\n",
       "     'weight': 0.74657,\n",
       "     'context': 'cortex/attribute-value-string'},\n",
       "    {'value': 'Lifestyle and Fashion',\n",
       "     'weight': 0.74127,\n",
       "     'context': 'cortex/attribute-value-string'},\n",
       "    {'value': 'Crime and Mystery',\n",
       "     'weight': 0.54787,\n",
       "     'context': 'cortex/attribute-value-string'},\n",
       "    {'value': 'Sports',\n",
       "     'weight': 0.35383,\n",
       "     'context': 'cortex/attribute-value-string'},\n",
       "    {'value': 'Comedy',\n",
       "     'weight': 0.31883,\n",
       "     'context': 'cortex/attribute-value-string'},\n",
       "    {'value': 'Talk and Interview',\n",
       "     'weight': 0.11153,\n",
       "     'context': 'cortex/attribute-value-string'},\n",
       "    {'value': 'Action and Adventure',\n",
       "     'weight': 0.0403,\n",
       "     'context': 'cortex/attribute-value-string'}],\n",
       "   'context': 'cortex/attribute-value-list'}},\n",
       " 'meta': {},\n",
       " 'eventTime': 1570545410000}"
      ]
     },
     "execution_count": 19,
     "metadata": {},
     "output_type": "execute_result"
    }
   ],
   "source": [
    "def mock_po1( mpid, attr, items):\n",
    "    \n",
    "    try: \n",
    "        items = ListAttributeValue(value=list(StringAttributeValue(value=value, weight=weight) for value, weight in items))\n",
    "    \n",
    "        event = EntityEvent(\n",
    "              event=attr,\n",
    "              entityId=str(mpid),\n",
    "              entityType=\"nbc/Viewer\",\n",
    "              properties={'value': items},\n",
    "              meta= {}\n",
    "        )\n",
    "        return dict(event)\n",
    "    except Exception as e:\n",
    "        print(items)\n",
    "        raise\n",
    "        \n",
    "reader = ( (msg['mpid'], attr, items) for msg in INPUTS for attr, items in msg.items() if attr != 'mpid')\n",
    "reader = starmap(mock_po1, reader)\n",
    "PROFILE_INPUTS = list(reader)\n",
    "PROFILE_INPUTS[0]"
   ]
  },
  {
   "cell_type": "code",
   "execution_count": 20,
   "metadata": {},
   "outputs": [
    {
     "name": "stdout",
     "output_type": "stream",
     "text": [
      "wrote file=ex_profile_input.json.gz,len=6000\n"
     ]
    }
   ],
   "source": [
    "outfile = Path('.') / 'ex_profile_input.json.gz'     \n",
    "write_dicts2json(inputs=PROFILE_INPUTS, outfile=outfile)"
   ]
  },
  {
   "cell_type": "code",
   "execution_count": 21,
   "metadata": {},
   "outputs": [
    {
     "data": {
      "text/plain": [
       "StringAttributeValue(value='x', weight=3, context='cortex/attribute-value-string')"
      ]
     },
     "execution_count": 21,
     "metadata": {},
     "output_type": "execute_result"
    }
   ],
   "source": [
    "StringAttributeValue(value='x', weight=3)"
   ]
  },
  {
   "cell_type": "code",
   "execution_count": null,
   "metadata": {},
   "outputs": [],
   "source": []
  }
 ],
 "metadata": {
  "kernelspec": {
   "display_name": "Python 3",
   "language": "python",
   "name": "python3"
  },
  "language_info": {
   "codemirror_mode": {
    "name": "ipython",
    "version": 3
   },
   "file_extension": ".py",
   "mimetype": "text/x-python",
   "name": "python",
   "nbconvert_exporter": "python",
   "pygments_lexer": "ipython3",
   "version": "3.7.4"
  }
 },
 "nbformat": 4,
 "nbformat_minor": 4
}
