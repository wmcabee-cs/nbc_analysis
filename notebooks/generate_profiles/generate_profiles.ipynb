{
 "cells": [
  {
   "cell_type": "code",
   "execution_count": 1,
   "metadata": {},
   "outputs": [],
   "source": [
    "%reload_ext autoreload\n",
    "%autoreload 2"
   ]
  },
  {
   "cell_type": "code",
   "execution_count": 2,
   "metadata": {},
   "outputs": [],
   "source": [
    "import numpy as np\n",
    "import pandas as pd\n",
    "from toolz import concat, concatv, first, peek\n",
    "from itertools import starmap\n",
    "\n",
    "import json\n",
    "from pathlib import Path\n",
    "import gzip"
   ]
  },
  {
   "cell_type": "code",
   "execution_count": 3,
   "metadata": {},
   "outputs": [],
   "source": [
    "from nbc_analysis.utils.debug_utils import runit\n",
    "from nbc_analysis.utils.config_utils import get_config\n",
    "from nbc_analysis.analysis.gen_profiles import main as gen_profile\n",
    "from nbc_analysis.transforms.merge_video_ends import main as merge_video_ends"
   ]
  },
  {
   "cell_type": "code",
   "execution_count": 4,
   "metadata": {},
   "outputs": [],
   "source": [
    "from cortex_common.types import EntityEvent, StringAttributeValue, ListAttributeValue"
   ]
  },
  {
   "cell_type": "code",
   "execution_count": 5,
   "metadata": {},
   "outputs": [
    {
     "name": "stdout",
     "output_type": "stream",
     "text": [
      ">> created example config file '/Users/wmcabee/.config/nbc_analysis/config_example.yaml'\n",
      ">> Using default config\n",
      ">> WARNING: Overriding config file values with : {'BATCHES_D': '/Users/wmcabee/Dropbox (Cognitive Scale)/NBC Analysis/data/NBC2/batches'}\n"
     ]
    }
   ],
   "source": [
    "config = get_config(config_f='default',\n",
    "                      overrides={'BATCHES_D': '/Users/wmcabee/Dropbox (Cognitive Scale)/NBC Analysis/data/NBC2/batches'})"
   ]
  },
  {
   "cell_type": "code",
   "execution_count": 6,
   "metadata": {},
   "outputs": [
    {
     "name": "stdout",
     "output_type": "stream",
     "text": [
      ">> Loading batches,batch_cnt=129,indir=/Users/wmcabee/Dropbox (Cognitive Scale)/NBC Analysis/data/NBC2/batches\n",
      ">> Building index on {mpid,event_start_unixtime_ms}\n",
      ">> Sorting index\n",
      ">> end merge ve_events,outfile=/Users/wmcabee/DATA/NBC2/work/merged_ve_events.parquet,records=6265392\n",
      "CPU times: user 1min 18s, sys: 10.1 s, total: 1min 28s\n",
      "Wall time: 1min 23s\n"
     ]
    }
   ],
   "source": [
    "%%time\n",
    "DATA = merge_video_ends(config_f=config)"
   ]
  },
  {
   "cell_type": "code",
   "execution_count": 7,
   "metadata": {},
   "outputs": [],
   "source": [
    "np.random.seed(7)\n",
    "df= DATA[['show','genre']]\n",
    "#df = df[:200]\n",
    "df = df.reset_index()\n",
    "GENRES = df.genre.drop_duplicates(keep='last').tolist()\n",
    "SHOWS = df.show.drop_duplicates(keep='last').sort_values().tolist()\n",
    "\n",
    "reader = filter(None, concatv(GENRES, SHOWS))\n",
    "reader = concat(map(lambda x: x.split(' '),reader ))\n",
    "reader = (x.lower() for x in reader if x.isalpha())\n",
    "KEYWORDS = list(set(reader))\n"
   ]
  },
  {
   "cell_type": "code",
   "execution_count": 17,
   "metadata": {},
   "outputs": [
    {
     "data": {
      "text/html": [
       "<div>\n",
       "<style scoped>\n",
       "    .dataframe tbody tr th:only-of-type {\n",
       "        vertical-align: middle;\n",
       "    }\n",
       "\n",
       "    .dataframe tbody tr th {\n",
       "        vertical-align: top;\n",
       "    }\n",
       "\n",
       "    .dataframe thead th {\n",
       "        text-align: right;\n",
       "    }\n",
       "</style>\n",
       "<table border=\"1\" class=\"dataframe\">\n",
       "  <thead>\n",
       "    <tr style=\"text-align: right;\">\n",
       "      <th></th>\n",
       "      <th></th>\n",
       "      <th>batch_id</th>\n",
       "      <th>file</th>\n",
       "      <th>file_idx</th>\n",
       "      <th>asof_dt</th>\n",
       "      <th>nbc_profile</th>\n",
       "      <th>mvpd</th>\n",
       "      <th>event_name</th>\n",
       "      <th>event_type</th>\n",
       "      <th>platform</th>\n",
       "      <th>data_connection_type</th>\n",
       "      <th>...</th>\n",
       "      <th>episode_title</th>\n",
       "      <th>genre</th>\n",
       "      <th>video_duration</th>\n",
       "      <th>video_end_type</th>\n",
       "      <th>resume</th>\n",
       "      <th>event_id</th>\n",
       "      <th>session_id</th>\n",
       "      <th>video_duration_watched</th>\n",
       "      <th>session_start_unixtime_ms</th>\n",
       "      <th>resume_time</th>\n",
       "    </tr>\n",
       "    <tr>\n",
       "      <th>mpid</th>\n",
       "      <th>event_start_unixtime_ms</th>\n",
       "      <th></th>\n",
       "      <th></th>\n",
       "      <th></th>\n",
       "      <th></th>\n",
       "      <th></th>\n",
       "      <th></th>\n",
       "      <th></th>\n",
       "      <th></th>\n",
       "      <th></th>\n",
       "      <th></th>\n",
       "      <th></th>\n",
       "      <th></th>\n",
       "      <th></th>\n",
       "      <th></th>\n",
       "      <th></th>\n",
       "      <th></th>\n",
       "      <th></th>\n",
       "      <th></th>\n",
       "      <th></th>\n",
       "      <th></th>\n",
       "      <th></th>\n",
       "    </tr>\n",
       "  </thead>\n",
       "  <tbody>\n",
       "    <tr>\n",
       "      <td>-9223313172072458017</td>\n",
       "      <td>1562290585268</td>\n",
       "      <td>ve_20190705_0001</td>\n",
       "      <td>NBC_App_20190705013950903090_84018.txt</td>\n",
       "      <td>591</td>\n",
       "      <td>2019-10-01T22:07:26.419345Z</td>\n",
       "      <td>Unauthenticated</td>\n",
       "      <td>Unauthenticated</td>\n",
       "      <td>Video End</td>\n",
       "      <td>custom_event</td>\n",
       "      <td>Not Set</td>\n",
       "      <td>Not Set</td>\n",
       "      <td>...</td>\n",
       "      <td>Ann-Margret</td>\n",
       "      <td>Comedy</td>\n",
       "      <td>2</td>\n",
       "      <td>Close</td>\n",
       "      <td>False</td>\n",
       "      <td>643410462032640116</td>\n",
       "      <td>3357265626481598562</td>\n",
       "      <td>1.55</td>\n",
       "      <td>None</td>\n",
       "      <td>None</td>\n",
       "    </tr>\n",
       "    <tr>\n",
       "      <td rowspan=\"4\" valign=\"top\">-9223308958333937889</td>\n",
       "      <td>1562107946230</td>\n",
       "      <td>ve_20190702_0018</td>\n",
       "      <td>NBC_20190702225317864436_79343.txt</td>\n",
       "      <td>8150</td>\n",
       "      <td>2019-10-01T21:36:59.725598Z</td>\n",
       "      <td>Unauthenticated</td>\n",
       "      <td>Unauthenticated</td>\n",
       "      <td>Video End</td>\n",
       "      <td>custom_event</td>\n",
       "      <td>roku</td>\n",
       "      <td>Not Set</td>\n",
       "      <td>...</td>\n",
       "      <td>Monday, July 1, 2019</td>\n",
       "      <td>Drama</td>\n",
       "      <td>2245</td>\n",
       "      <td>Close</td>\n",
       "      <td>False</td>\n",
       "      <td>-3633059300694213575</td>\n",
       "      <td>-8591018731497261135</td>\n",
       "      <td>2245</td>\n",
       "      <td>1562104956891</td>\n",
       "      <td>None</td>\n",
       "    </tr>\n",
       "    <tr>\n",
       "      <td>1562204304784</td>\n",
       "      <td>ve_20190704_0002</td>\n",
       "      <td>NBC_20190704014106617895_62036.txt</td>\n",
       "      <td>612</td>\n",
       "      <td>2019-10-01T21:53:36.493592Z</td>\n",
       "      <td>Unauthenticated</td>\n",
       "      <td>Unauthenticated</td>\n",
       "      <td>Video End</td>\n",
       "      <td>custom_event</td>\n",
       "      <td>roku</td>\n",
       "      <td>Not Set</td>\n",
       "      <td>...</td>\n",
       "      <td>Tuesday, July 2, 2019</td>\n",
       "      <td>Drama</td>\n",
       "      <td>2245</td>\n",
       "      <td>Close</td>\n",
       "      <td>False</td>\n",
       "      <td>8193807935455468996</td>\n",
       "      <td>6458346756720119020</td>\n",
       "      <td>2245</td>\n",
       "      <td>1562201280963</td>\n",
       "      <td>None</td>\n",
       "    </tr>\n",
       "    <tr>\n",
       "      <td>1562348388478</td>\n",
       "      <td>ve_20190705_0011</td>\n",
       "      <td>NBC_20190705174453798848_62646.txt</td>\n",
       "      <td>6332</td>\n",
       "      <td>2019-10-01T22:16:25.493201Z</td>\n",
       "      <td>Unauthenticated</td>\n",
       "      <td>Unauthenticated</td>\n",
       "      <td>Video End</td>\n",
       "      <td>custom_event</td>\n",
       "      <td>roku</td>\n",
       "      <td>Not Set</td>\n",
       "      <td>...</td>\n",
       "      <td>Thursday, July 4, 2019</td>\n",
       "      <td>Drama</td>\n",
       "      <td>2245</td>\n",
       "      <td>Close</td>\n",
       "      <td>False</td>\n",
       "      <td>-575412065948839154</td>\n",
       "      <td>-3247051880090412528</td>\n",
       "      <td>2245</td>\n",
       "      <td>1562345458515</td>\n",
       "      <td>None</td>\n",
       "    </tr>\n",
       "    <tr>\n",
       "      <td>1562442345061</td>\n",
       "      <td>ve_20190706_0014</td>\n",
       "      <td>NBC_20190706194906736604_52661.txt</td>\n",
       "      <td>7084</td>\n",
       "      <td>2019-10-01T22:32:19.213351Z</td>\n",
       "      <td>Unauthenticated</td>\n",
       "      <td>Unauthenticated</td>\n",
       "      <td>Video End</td>\n",
       "      <td>custom_event</td>\n",
       "      <td>roku</td>\n",
       "      <td>Not Set</td>\n",
       "      <td>...</td>\n",
       "      <td>Thursday, July 4, 2019</td>\n",
       "      <td>Drama</td>\n",
       "      <td>2245</td>\n",
       "      <td>Close</td>\n",
       "      <td>True</td>\n",
       "      <td>403349832146985884</td>\n",
       "      <td>-908327398444138848</td>\n",
       "      <td>2245</td>\n",
       "      <td>1562438748303</td>\n",
       "      <td>2244.13</td>\n",
       "    </tr>\n",
       "  </tbody>\n",
       "</table>\n",
       "<p>5 rows × 26 columns</p>\n",
       "</div>"
      ],
      "text/plain": [
       "                                                      batch_id  \\\n",
       "mpid                 event_start_unixtime_ms                     \n",
       "-9223313172072458017 1562290585268            ve_20190705_0001   \n",
       "-9223308958333937889 1562107946230            ve_20190702_0018   \n",
       "                     1562204304784            ve_20190704_0002   \n",
       "                     1562348388478            ve_20190705_0011   \n",
       "                     1562442345061            ve_20190706_0014   \n",
       "\n",
       "                                                                                file  \\\n",
       "mpid                 event_start_unixtime_ms                                           \n",
       "-9223313172072458017 1562290585268            NBC_App_20190705013950903090_84018.txt   \n",
       "-9223308958333937889 1562107946230                NBC_20190702225317864436_79343.txt   \n",
       "                     1562204304784                NBC_20190704014106617895_62036.txt   \n",
       "                     1562348388478                NBC_20190705174453798848_62646.txt   \n",
       "                     1562442345061                NBC_20190706194906736604_52661.txt   \n",
       "\n",
       "                                              file_idx  \\\n",
       "mpid                 event_start_unixtime_ms             \n",
       "-9223313172072458017 1562290585268                 591   \n",
       "-9223308958333937889 1562107946230                8150   \n",
       "                     1562204304784                 612   \n",
       "                     1562348388478                6332   \n",
       "                     1562442345061                7084   \n",
       "\n",
       "                                                                  asof_dt  \\\n",
       "mpid                 event_start_unixtime_ms                                \n",
       "-9223313172072458017 1562290585268            2019-10-01T22:07:26.419345Z   \n",
       "-9223308958333937889 1562107946230            2019-10-01T21:36:59.725598Z   \n",
       "                     1562204304784            2019-10-01T21:53:36.493592Z   \n",
       "                     1562348388478            2019-10-01T22:16:25.493201Z   \n",
       "                     1562442345061            2019-10-01T22:32:19.213351Z   \n",
       "\n",
       "                                                  nbc_profile  \\\n",
       "mpid                 event_start_unixtime_ms                    \n",
       "-9223313172072458017 1562290585268            Unauthenticated   \n",
       "-9223308958333937889 1562107946230            Unauthenticated   \n",
       "                     1562204304784            Unauthenticated   \n",
       "                     1562348388478            Unauthenticated   \n",
       "                     1562442345061            Unauthenticated   \n",
       "\n",
       "                                                         mvpd event_name  \\\n",
       "mpid                 event_start_unixtime_ms                               \n",
       "-9223313172072458017 1562290585268            Unauthenticated  Video End   \n",
       "-9223308958333937889 1562107946230            Unauthenticated  Video End   \n",
       "                     1562204304784            Unauthenticated  Video End   \n",
       "                     1562348388478            Unauthenticated  Video End   \n",
       "                     1562442345061            Unauthenticated  Video End   \n",
       "\n",
       "                                                event_type platform  \\\n",
       "mpid                 event_start_unixtime_ms                          \n",
       "-9223313172072458017 1562290585268            custom_event  Not Set   \n",
       "-9223308958333937889 1562107946230            custom_event     roku   \n",
       "                     1562204304784            custom_event     roku   \n",
       "                     1562348388478            custom_event     roku   \n",
       "                     1562442345061            custom_event     roku   \n",
       "\n",
       "                                             data_connection_type  ...  \\\n",
       "mpid                 event_start_unixtime_ms                       ...   \n",
       "-9223313172072458017 1562290585268                        Not Set  ...   \n",
       "-9223308958333937889 1562107946230                        Not Set  ...   \n",
       "                     1562204304784                        Not Set  ...   \n",
       "                     1562348388478                        Not Set  ...   \n",
       "                     1562442345061                        Not Set  ...   \n",
       "\n",
       "                                                       episode_title   genre  \\\n",
       "mpid                 event_start_unixtime_ms                                   \n",
       "-9223313172072458017 1562290585268                       Ann-Margret  Comedy   \n",
       "-9223308958333937889 1562107946230              Monday, July 1, 2019   Drama   \n",
       "                     1562204304784             Tuesday, July 2, 2019   Drama   \n",
       "                     1562348388478            Thursday, July 4, 2019   Drama   \n",
       "                     1562442345061            Thursday, July 4, 2019   Drama   \n",
       "\n",
       "                                             video_duration video_end_type  \\\n",
       "mpid                 event_start_unixtime_ms                                 \n",
       "-9223313172072458017 1562290585268                        2          Close   \n",
       "-9223308958333937889 1562107946230                     2245          Close   \n",
       "                     1562204304784                     2245          Close   \n",
       "                     1562348388478                     2245          Close   \n",
       "                     1562442345061                     2245          Close   \n",
       "\n",
       "                                             resume              event_id  \\\n",
       "mpid                 event_start_unixtime_ms                                \n",
       "-9223313172072458017 1562290585268            False    643410462032640116   \n",
       "-9223308958333937889 1562107946230            False  -3633059300694213575   \n",
       "                     1562204304784            False   8193807935455468996   \n",
       "                     1562348388478            False   -575412065948839154   \n",
       "                     1562442345061             True    403349832146985884   \n",
       "\n",
       "                                                        session_id  \\\n",
       "mpid                 event_start_unixtime_ms                         \n",
       "-9223313172072458017 1562290585268             3357265626481598562   \n",
       "-9223308958333937889 1562107946230            -8591018731497261135   \n",
       "                     1562204304784             6458346756720119020   \n",
       "                     1562348388478            -3247051880090412528   \n",
       "                     1562442345061             -908327398444138848   \n",
       "\n",
       "                                             video_duration_watched  \\\n",
       "mpid                 event_start_unixtime_ms                          \n",
       "-9223313172072458017 1562290585268                             1.55   \n",
       "-9223308958333937889 1562107946230                             2245   \n",
       "                     1562204304784                             2245   \n",
       "                     1562348388478                             2245   \n",
       "                     1562442345061                             2245   \n",
       "\n",
       "                                             session_start_unixtime_ms  \\\n",
       "mpid                 event_start_unixtime_ms                             \n",
       "-9223313172072458017 1562290585268                                None   \n",
       "-9223308958333937889 1562107946230                       1562104956891   \n",
       "                     1562204304784                       1562201280963   \n",
       "                     1562348388478                       1562345458515   \n",
       "                     1562442345061                       1562438748303   \n",
       "\n",
       "                                             resume_time  \n",
       "mpid                 event_start_unixtime_ms              \n",
       "-9223313172072458017 1562290585268                  None  \n",
       "-9223308958333937889 1562107946230                  None  \n",
       "                     1562204304784                  None  \n",
       "                     1562348388478                  None  \n",
       "                     1562442345061               2244.13  \n",
       "\n",
       "[5 rows x 26 columns]"
      ]
     },
     "execution_count": 17,
     "metadata": {},
     "output_type": "execute_result"
    }
   ],
   "source": []
  },
  {
   "cell_type": "code",
   "execution_count": 47,
   "metadata": {},
   "outputs": [],
   "source": [
    "df = DATA[:200].reset_index()[['mpid', 'event_start_unixtime_ms']].sample(frac=1)\n",
    "MPIDS = df.mpid\n",
    "MPIDS_TS = df.event_start_unixtime_ms.astype(np.int)"
   ]
  },
  {
   "cell_type": "code",
   "execution_count": 48,
   "metadata": {},
   "outputs": [],
   "source": [
    "def mock_scores(choices):\n",
    "    count = np.random.randint(5,10)\n",
    "    reader = zip(np.random.choice(choices,count, replace=False ),\n",
    "              np.round(np.random.rand(count),5) )\n",
    "    reader = filter(lambda x: x[0] not in {'', None}, reader)\n",
    "    return sorted(reader, key=lambda x: -x[1])\n",
    "  "
   ]
  },
  {
   "cell_type": "code",
   "execution_count": 49,
   "metadata": {},
   "outputs": [],
   "source": [
    "def mock_profile(mpid, mpid_ts):\n",
    "    return dict(mpid=mpid,\n",
    "                genres=mock_scores(GENRES),\n",
    "                shows=mock_scores(SHOWS),\n",
    "                event_start_unixtime_ms=mpid_ts,\n",
    "                #keywords=mock_scores(KEYWORDS),\n",
    "               )"
   ]
  },
  {
   "cell_type": "code",
   "execution_count": 50,
   "metadata": {},
   "outputs": [],
   "source": [
    "def write_dicts2json(inputs, outfile):\n",
    "    reader = map(json.dumps, inputs)\n",
    "    reader = map(lambda x: x+\"\\n\", reader)\n",
    "    reader = list(reader)\n",
    "\n",
    "\n",
    "    with gzip.open(str(outfile), 'wt') as fh:\n",
    "        fh.writelines(reader )\n",
    "    print(f\"wrote file={outfile},len={len(reader)}\")"
   ]
  },
  {
   "cell_type": "code",
   "execution_count": 51,
   "metadata": {},
   "outputs": [
    {
     "name": "stdout",
     "output_type": "stream",
     "text": [
      "wrote file=ex_from_cs1.json.gz,len=200\n",
      "example:\n"
     ]
    },
    {
     "data": {
      "text/plain": [
       "{'mpid': -9223307805084421834,\n",
       " 'genres': [('Political', 0.73687),\n",
       "  ('Talk and Interview', 0.60158),\n",
       "  ('Celebrity and Gossip', 0.59718),\n",
       "  ('Crime and Mystery', 0.48302),\n",
       "  ('Drama', 0.40634),\n",
       "  ('Reality and Game Show', 0.1352),\n",
       "  ('Sports', 0.07847)],\n",
       " 'shows': [('Days of our Lives', 0.9262),\n",
       "  ('Cold Justice', 0.90393),\n",
       "  ('Face Off', 0.86895),\n",
       "  ('Everly', 0.69874),\n",
       "  ('WAGS Miami', 0.51684),\n",
       "  ('Law & Order: Trial By Jury', 0.32455),\n",
       "  ('Deadly Class', 0.27187),\n",
       "  ('The Voyager with Josh Garcia', 0.20236)],\n",
       " 'event_start_unixtime_ms': 1562460862143}"
      ]
     },
     "execution_count": 51,
     "metadata": {},
     "output_type": "execute_result"
    }
   ],
   "source": [
    "outfile = Path('.') / 'ex_from_cs1.json.gz'     \n",
    "INPUTS = list(starmap(mock_profile, zip(MPIDS, MPIDS_TS)))\n",
    "write_dicts2json(inputs=INPUTS, outfile=outfile)\n",
    "print('example:')\n",
    "INPUTS[0]"
   ]
  },
  {
   "cell_type": "markdown",
   "metadata": {},
   "source": [
    "## Convert to profile of 1 input format"
   ]
  },
  {
   "cell_type": "code",
   "execution_count": 46,
   "metadata": {},
   "outputs": [
    {
     "data": {
      "text/plain": [
       "{'event': 'genres',\n",
       " 'entityId': '-9222835947932897233',\n",
       " 'entityType': 'nbc/Viewer',\n",
       " 'properties': {'value': [{'value': 'Lifestyle and Fashion',\n",
       "    'weight': 0.49321,\n",
       "    'context': 'cortex/attribute-value-string'},\n",
       "   {'value': 'None',\n",
       "    'weight': 0.47355,\n",
       "    'context': 'cortex/attribute-value-string'},\n",
       "   {'value': 'Political',\n",
       "    'weight': 0.20565,\n",
       "    'context': 'cortex/attribute-value-string'},\n",
       "   {'value': 'Talk and Interview',\n",
       "    'weight': 0.1627,\n",
       "    'context': 'cortex/attribute-value-string'},\n",
       "   {'value': 'Comedy',\n",
       "    'weight': 0.03774,\n",
       "    'context': 'cortex/attribute-value-string'}],\n",
       "  'context': 'cortex/attribute-value-list'},\n",
       " 'meta': {},\n",
       " 'eventTime': 1570560605000}"
      ]
     },
     "execution_count": 46,
     "metadata": {},
     "output_type": "execute_result"
    }
   ],
   "source": [
    "def mock_po1( msg, attr, items):\n",
    "    \n",
    "    try: \n",
    "        items = ListAttributeValue(value=list(StringAttributeValue(value=value, weight=weight) for value, weight in items))\n",
    "    \n",
    "        event = EntityEvent(\n",
    "              event=attr,\n",
    "              entityId=str(msg['mpid']),\n",
    "              entityType=\"nbc/Viewer\",\n",
    "              properties=items,\n",
    "              meta= {},\n",
    "              eventTime= msg['event_start_unixtime_ms'],\n",
    "        )\n",
    "        return dict(event)\n",
    "    except Exception as e:\n",
    "        print(items)\n",
    "        raise\n",
    "        \n",
    "reader = ( (msg, attr, items) for msg in INPUTS for attr, items in msg.items() if attr not in {'mpid', 'event_start_unixtime_ms'})\n",
    "reader = starmap(mock_po1, reader)\n",
    "PROFILE_INPUTS = list(reader)\n",
    "PROFILE_INPUTS[0]"
   ]
  },
  {
   "cell_type": "code",
   "execution_count": 20,
   "metadata": {},
   "outputs": [
    {
     "name": "stdout",
     "output_type": "stream",
     "text": [
      "wrote file=ex_profile_input.json.gz,len=6000\n"
     ]
    }
   ],
   "source": [
    "outfile = Path('.') / 'ex_profile_input.json.gz'     \n",
    "write_dicts2json(inputs=PROFILE_INPUTS, outfile=outfile)"
   ]
  },
  {
   "cell_type": "code",
   "execution_count": 21,
   "metadata": {},
   "outputs": [
    {
     "data": {
      "text/plain": [
       "StringAttributeValue(value='x', weight=3, context='cortex/attribute-value-string')"
      ]
     },
     "execution_count": 21,
     "metadata": {},
     "output_type": "execute_result"
    }
   ],
   "source": [
    "StringAttributeValue(value='x', weight=3)"
   ]
  },
  {
   "cell_type": "code",
   "execution_count": null,
   "metadata": {},
   "outputs": [],
   "source": []
  }
 ],
 "metadata": {
  "kernelspec": {
   "display_name": "Python 3",
   "language": "python",
   "name": "python3"
  },
  "language_info": {
   "codemirror_mode": {
    "name": "ipython",
    "version": 3
   },
   "file_extension": ".py",
   "mimetype": "text/x-python",
   "name": "python",
   "nbconvert_exporter": "python",
   "pygments_lexer": "ipython3",
   "version": "3.7.4"
  }
 },
 "nbformat": 4,
 "nbformat_minor": 4
}
