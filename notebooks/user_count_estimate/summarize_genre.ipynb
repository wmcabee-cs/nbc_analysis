{
 "cells": [
  {
   "cell_type": "code",
   "execution_count": 15,
   "metadata": {},
   "outputs": [],
   "source": [
    "%reload_ext autoreload\n",
    "%autoreload 2\n",
    "import pandas as pd\n",
    "from pathlib import Path"
   ]
  },
  {
   "cell_type": "code",
   "execution_count": 17,
   "metadata": {},
   "outputs": [],
   "source": [
    "indir = Path('/Users/wmcabee/Dropbox (Cognitive Scale)/NBC Analysis/data/NBC2/batches')\n",
    "\n",
    "reader = indir.glob('*')\n",
    "reader = map(pd.read_parquet, reader)\n",
    "DATA = pd.concat(reader)"
   ]
  },
  {
   "cell_type": "code",
   "execution_count": 18,
   "metadata": {},
   "outputs": [
    {
     "data": {
      "text/html": [
       "<div>\n",
       "<style scoped>\n",
       "    .dataframe tbody tr th:only-of-type {\n",
       "        vertical-align: middle;\n",
       "    }\n",
       "\n",
       "    .dataframe tbody tr th {\n",
       "        vertical-align: top;\n",
       "    }\n",
       "\n",
       "    .dataframe thead th {\n",
       "        text-align: right;\n",
       "    }\n",
       "</style>\n",
       "<table border=\"1\" class=\"dataframe\">\n",
       "  <thead>\n",
       "    <tr style=\"text-align: right;\">\n",
       "      <th></th>\n",
       "      <th>batch_id</th>\n",
       "      <th>file</th>\n",
       "      <th>file_idx</th>\n",
       "      <th>asof_dt</th>\n",
       "      <th>mpid</th>\n",
       "      <th>nbc_profile</th>\n",
       "      <th>mvpd</th>\n",
       "      <th>event_name</th>\n",
       "      <th>event_type</th>\n",
       "      <th>platform</th>\n",
       "      <th>...</th>\n",
       "      <th>genre</th>\n",
       "      <th>video_duration</th>\n",
       "      <th>video_end_type</th>\n",
       "      <th>resume</th>\n",
       "      <th>event_id</th>\n",
       "      <th>session_id</th>\n",
       "      <th>video_duration_watched</th>\n",
       "      <th>event_start_unixtime_ms</th>\n",
       "      <th>session_start_unixtime_ms</th>\n",
       "      <th>resume_time</th>\n",
       "    </tr>\n",
       "  </thead>\n",
       "  <tbody>\n",
       "    <tr>\n",
       "      <td>0</td>\n",
       "      <td>ve_20190704_0007</td>\n",
       "      <td>NBC_20190704053535796288_05534.txt</td>\n",
       "      <td>1999</td>\n",
       "      <td>2019-10-01T21:56:19.284084Z</td>\n",
       "      <td>-2701949108677773288</td>\n",
       "      <td>Unauthenticated</td>\n",
       "      <td>Optimum</td>\n",
       "      <td>Video End</td>\n",
       "      <td>custom_event</td>\n",
       "      <td>Android</td>\n",
       "      <td>...</td>\n",
       "      <td>Drama</td>\n",
       "      <td>37</td>\n",
       "      <td>Close</td>\n",
       "      <td>True</td>\n",
       "      <td>6917803156947334647</td>\n",
       "      <td>-2935159148526063382</td>\n",
       "      <td>35</td>\n",
       "      <td>1562217633030</td>\n",
       "      <td>1562217581736</td>\n",
       "      <td>2106</td>\n",
       "    </tr>\n",
       "    <tr>\n",
       "      <td>1</td>\n",
       "      <td>ve_20190704_0007</td>\n",
       "      <td>NBC_20190704053535796288_05534.txt</td>\n",
       "      <td>1999</td>\n",
       "      <td>2019-10-01T21:56:19.284084Z</td>\n",
       "      <td>-7645429685580868586</td>\n",
       "      <td>Unauthenticated</td>\n",
       "      <td>Unauthenticated</td>\n",
       "      <td>Video End</td>\n",
       "      <td>custom_event</td>\n",
       "      <td>Android</td>\n",
       "      <td>...</td>\n",
       "      <td>Drama</td>\n",
       "      <td>37</td>\n",
       "      <td>Background</td>\n",
       "      <td>True</td>\n",
       "      <td>4428810565995114943</td>\n",
       "      <td>6810193375081775496</td>\n",
       "      <td>12</td>\n",
       "      <td>1562218218831</td>\n",
       "      <td>1562212112314</td>\n",
       "      <td>690</td>\n",
       "    </tr>\n",
       "    <tr>\n",
       "      <td>2</td>\n",
       "      <td>ve_20190704_0007</td>\n",
       "      <td>NBC_20190704053535796288_05534.txt</td>\n",
       "      <td>1999</td>\n",
       "      <td>2019-10-01T21:56:19.284084Z</td>\n",
       "      <td>-1510884301405286654</td>\n",
       "      <td>Unauthenticated</td>\n",
       "      <td>Optimum</td>\n",
       "      <td>Video End</td>\n",
       "      <td>custom_event</td>\n",
       "      <td>Android</td>\n",
       "      <td>...</td>\n",
       "      <td>Reality and Game Show</td>\n",
       "      <td>43</td>\n",
       "      <td>Background</td>\n",
       "      <td>True</td>\n",
       "      <td>-443211365947578150</td>\n",
       "      <td>7908099172124351817</td>\n",
       "      <td>43</td>\n",
       "      <td>1562217972475</td>\n",
       "      <td>1562214610345</td>\n",
       "      <td>2561</td>\n",
       "    </tr>\n",
       "    <tr>\n",
       "      <td>3</td>\n",
       "      <td>ve_20190704_0007</td>\n",
       "      <td>NBC_20190704053535796288_05534.txt</td>\n",
       "      <td>1999</td>\n",
       "      <td>2019-10-01T21:56:19.284084Z</td>\n",
       "      <td>-1510884301405286654</td>\n",
       "      <td>Unauthenticated</td>\n",
       "      <td>Optimum</td>\n",
       "      <td>Video End</td>\n",
       "      <td>custom_event</td>\n",
       "      <td>Android</td>\n",
       "      <td>...</td>\n",
       "      <td>Reality and Game Show</td>\n",
       "      <td>43</td>\n",
       "      <td>Close</td>\n",
       "      <td>True</td>\n",
       "      <td>-2081107486544937101</td>\n",
       "      <td>7908099172124351817</td>\n",
       "      <td>6</td>\n",
       "      <td>1562217985129</td>\n",
       "      <td>1562214610345</td>\n",
       "      <td>357</td>\n",
       "    </tr>\n",
       "    <tr>\n",
       "      <td>4</td>\n",
       "      <td>ve_20190704_0007</td>\n",
       "      <td>NBC_20190704053535796288_05534.txt</td>\n",
       "      <td>1999</td>\n",
       "      <td>2019-10-01T21:56:19.284084Z</td>\n",
       "      <td>-1510884301405286654</td>\n",
       "      <td>Unauthenticated</td>\n",
       "      <td>Optimum</td>\n",
       "      <td>Video End</td>\n",
       "      <td>custom_event</td>\n",
       "      <td>Android</td>\n",
       "      <td>...</td>\n",
       "      <td>Reality and Game Show</td>\n",
       "      <td>43</td>\n",
       "      <td>Background</td>\n",
       "      <td>True</td>\n",
       "      <td>-3097524602244374542</td>\n",
       "      <td>7908099172124351817</td>\n",
       "      <td>43</td>\n",
       "      <td>1562218088291</td>\n",
       "      <td>1562214610345</td>\n",
       "      <td>2557</td>\n",
       "    </tr>\n",
       "  </tbody>\n",
       "</table>\n",
       "<p>5 rows × 28 columns</p>\n",
       "</div>"
      ],
      "text/plain": [
       "           batch_id                                file  file_idx  \\\n",
       "0  ve_20190704_0007  NBC_20190704053535796288_05534.txt      1999   \n",
       "1  ve_20190704_0007  NBC_20190704053535796288_05534.txt      1999   \n",
       "2  ve_20190704_0007  NBC_20190704053535796288_05534.txt      1999   \n",
       "3  ve_20190704_0007  NBC_20190704053535796288_05534.txt      1999   \n",
       "4  ve_20190704_0007  NBC_20190704053535796288_05534.txt      1999   \n",
       "\n",
       "                       asof_dt                 mpid      nbc_profile  \\\n",
       "0  2019-10-01T21:56:19.284084Z -2701949108677773288  Unauthenticated   \n",
       "1  2019-10-01T21:56:19.284084Z -7645429685580868586  Unauthenticated   \n",
       "2  2019-10-01T21:56:19.284084Z -1510884301405286654  Unauthenticated   \n",
       "3  2019-10-01T21:56:19.284084Z -1510884301405286654  Unauthenticated   \n",
       "4  2019-10-01T21:56:19.284084Z -1510884301405286654  Unauthenticated   \n",
       "\n",
       "              mvpd event_name    event_type platform  ...  \\\n",
       "0          Optimum  Video End  custom_event  Android  ...   \n",
       "1  Unauthenticated  Video End  custom_event  Android  ...   \n",
       "2          Optimum  Video End  custom_event  Android  ...   \n",
       "3          Optimum  Video End  custom_event  Android  ...   \n",
       "4          Optimum  Video End  custom_event  Android  ...   \n",
       "\n",
       "                   genre video_duration video_end_type resume  \\\n",
       "0                  Drama             37          Close   True   \n",
       "1                  Drama             37     Background   True   \n",
       "2  Reality and Game Show             43     Background   True   \n",
       "3  Reality and Game Show             43          Close   True   \n",
       "4  Reality and Game Show             43     Background   True   \n",
       "\n",
       "               event_id            session_id video_duration_watched  \\\n",
       "0   6917803156947334647  -2935159148526063382                     35   \n",
       "1   4428810565995114943   6810193375081775496                     12   \n",
       "2   -443211365947578150   7908099172124351817                     43   \n",
       "3  -2081107486544937101   7908099172124351817                      6   \n",
       "4  -3097524602244374542   7908099172124351817                     43   \n",
       "\n",
       "  event_start_unixtime_ms session_start_unixtime_ms resume_time  \n",
       "0           1562217633030             1562217581736        2106  \n",
       "1           1562218218831             1562212112314         690  \n",
       "2           1562217972475             1562214610345        2561  \n",
       "3           1562217985129             1562214610345         357  \n",
       "4           1562218088291             1562214610345        2557  \n",
       "\n",
       "[5 rows x 28 columns]"
      ]
     },
     "execution_count": 18,
     "metadata": {},
     "output_type": "execute_result"
    }
   ],
   "source": [
    "DATA.head()"
   ]
  },
  {
   "cell_type": "code",
   "execution_count": 13,
   "metadata": {},
   "outputs": [
    {
     "data": {
      "text/plain": [
       "Drama                        3165031\n",
       "Reality and Game Show        1457267\n",
       "News and Information          816909\n",
       "Comedy                        610457\n",
       "Talk and Interview            115452\n",
       "Family and Kids                28230\n",
       "Not Set                        24144\n",
       "Action and Adventure           13517\n",
       "None                            8983\n",
       "Crime and Mystery               5606\n",
       "Political                       4803\n",
       "Sci Fi and Fantasy              4056\n",
       "Horror and Thriller             3732\n",
       "Live Events and Specials        3032\n",
       "Celebrity and Gossip            1794\n",
       "Sports and Fitness               630\n",
       "Lifestyle and Fashion            559\n",
       "Documentary and Biography        507\n",
       "Soap Opera                       392\n",
       "                                 282\n",
       "Sports                             9\n",
       "Name: genre, dtype: int64"
      ]
     },
     "execution_count": 13,
     "metadata": {},
     "output_type": "execute_result"
    }
   ],
   "source": [
    "df = DATA\n",
    "genre = df.genre.value_counts(dropna=False)\n",
    "genre"
   ]
  },
  {
   "cell_type": "code",
   "execution_count": 19,
   "metadata": {},
   "outputs": [
    {
     "data": {
      "text/plain": [
       "23.115.238.193                            1143\n",
       "174.21.119.5                               927\n",
       "45.37.14.6                                 886\n",
       "2601:8c:c200:7450:656d:e0a9:5a9d:2fc9      852\n",
       "174.54.193.22                              850\n",
       "                                          ... \n",
       "2600:2b00:8011:5200:407d:3303:5dc:ff0c       1\n",
       "74.197.220.59                                1\n",
       "70.166.33.81                                 1\n",
       "2605:e000:214f:fa00:145b:c67e:5c05:76e       1\n",
       "24.237.4.57                                  1\n",
       "Name: ip, Length: 1279016, dtype: int64"
      ]
     },
     "execution_count": 19,
     "metadata": {},
     "output_type": "execute_result"
    }
   ],
   "source": [
    "df = DATA\n",
    "ip = df.ip.value_counts(dropna=False)\n",
    "ip"
   ]
  },
  {
   "cell_type": "code",
   "execution_count": 20,
   "metadata": {},
   "outputs": [
    {
     "data": {
      "text/plain": [
       " 2933745691769587501    1080\n",
       " 8628068780280164687    1071\n",
       " 8035163770084893678     933\n",
       "-8810660238210137170     899\n",
       " 356862970880526369      874\n",
       "                        ... \n",
       " 1350706387186143611       1\n",
       " 8710885140089095420       1\n",
       "-7733057540836095232       1\n",
       "-4410619959599934786       1\n",
       " 5444774218266177092       1\n",
       "Name: mpid, Length: 1059934, dtype: int64"
      ]
     },
     "execution_count": 20,
     "metadata": {},
     "output_type": "execute_result"
    }
   ],
   "source": [
    "df.mpid.value_counts(dropna=False)"
   ]
  },
  {
   "cell_type": "code",
   "execution_count": 22,
   "metadata": {},
   "outputs": [
    {
     "data": {
      "text/plain": [
       "1.2066940017019927"
      ]
     },
     "execution_count": 22,
     "metadata": {},
     "output_type": "execute_result"
    }
   ],
   "source": [
    "1279016 / 1059934"
   ]
  },
  {
   "cell_type": "code",
   "execution_count": 23,
   "metadata": {},
   "outputs": [
    {
     "data": {
      "text/plain": [
       "24.0"
      ]
     },
     "execution_count": 23,
     "metadata": {},
     "output_type": "execute_result"
    }
   ],
   "source": [
    "20 * 1.2"
   ]
  },
  {
   "cell_type": "code",
   "execution_count": null,
   "metadata": {},
   "outputs": [],
   "source": []
  }
 ],
 "metadata": {
  "kernelspec": {
   "display_name": "Python 3",
   "language": "python",
   "name": "python3"
  },
  "language_info": {
   "codemirror_mode": {
    "name": "ipython",
    "version": 3
   },
   "file_extension": ".py",
   "mimetype": "text/x-python",
   "name": "python",
   "nbconvert_exporter": "python",
   "pygments_lexer": "ipython3",
   "version": "3.7.4"
  }
 },
 "nbformat": 4,
 "nbformat_minor": 4
}
