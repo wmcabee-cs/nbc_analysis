{
 "cells": [
  {
   "cell_type": "code",
   "execution_count": 285,
   "metadata": {},
   "outputs": [],
   "source": [
    "%reload_ext autoreload\n",
    "%autoreload 2\n",
    "\n",
    "from pathlib import Path\n",
    "import pandas as pd\n",
    "from numpy.random import randint\n",
    "import numpy as np\n",
    "from toolz import first\n",
    "\n",
    "from itertools import groupby\n",
    "\n",
    "import json"
   ]
  },
  {
   "cell_type": "code",
   "execution_count": 30,
   "metadata": {},
   "outputs": [],
   "source": [
    "files = pd.Series(indir.glob('*'), name='files')"
   ]
  },
  {
   "cell_type": "code",
   "execution_count": 162,
   "metadata": {},
   "outputs": [
    {
     "data": {
      "text/plain": [
       "{1: 'early_morning',\n",
       " 2: 'early_morning',\n",
       " 3: 'early_morning',\n",
       " 4: 'early_morning',\n",
       " 5: 'early_morning',\n",
       " 6: 'early_morning',\n",
       " 7: 'morning',\n",
       " 8: 'morning',\n",
       " 9: 'morning',\n",
       " 10: 'morning',\n",
       " 11: 'morning',\n",
       " 12: 'morning',\n",
       " 13: 'afternoon',\n",
       " 14: 'afternoon',\n",
       " 15: 'afternoon',\n",
       " 16: 'afternoon',\n",
       " 17: 'evening',\n",
       " 18: 'evening',\n",
       " 19: 'evening',\n",
       " 20: 'evening',\n",
       " 21: 'late_night',\n",
       " 22: 'late_night',\n",
       " 23: 'late_night',\n",
       " 0: 'late_night'}"
      ]
     },
     "execution_count": 162,
     "metadata": {},
     "output_type": "execute_result"
    }
   ],
   "source": [
    "spec = {\n",
    "    'early_morning': [ 1,2,3,4,5,6],\n",
    "    'morning': [7,8,9,10,11,12],\n",
    "    'afternoon': [13,14,15,16,],\n",
    "    'evening': [17,18,19,20],\n",
    "    'late_night' : [21,22,23, 0],\n",
    "}\n",
    "TIME_PERIODS = {hour: tp  for tp, hours in spec.items() for hour in hours}\n",
    "TIME_PERIODS"
   ]
  },
  {
   "cell_type": "code",
   "execution_count": 32,
   "metadata": {},
   "outputs": [
    {
     "name": "stdout",
     "output_type": "stream",
     "text": [
      "CPU times: user 21.1 s, sys: 7.8 s, total: 28.9 s\n",
      "Wall time: 22 s\n"
     ]
    }
   ],
   "source": [
    "%%time \n",
    "indir = Path('/Users/wmcabee/Dropbox (Cognitive Scale)/NBC Analysis/data/NBC2/batches')\n",
    "\n",
    "reader = indir.glob('*')\n",
    "reader = map(pd.read_parquet, reader)\n",
    "DATA = pd.concat(reader)"
   ]
  },
  {
   "cell_type": "code",
   "execution_count": 295,
   "metadata": {},
   "outputs": [
    {
     "name": "stdout",
     "output_type": "stream",
     "text": [
      "row_count: 6265392\n"
     ]
    }
   ],
   "source": [
    "print('row_count:', len(DATA))"
   ]
  },
  {
   "cell_type": "code",
   "execution_count": 222,
   "metadata": {},
   "outputs": [],
   "source": [
    "def remove_bad_genres(df):\n",
    "    genre = df.genre.value_counts(dropna=False)\n",
    "    remove = {'None','', 'Not Set'}\n",
    "    mask = df.genre.isin(remove)\n",
    "    return  df[~mask].copy()"
   ]
  },
  {
   "cell_type": "code",
   "execution_count": 222,
   "metadata": {},
   "outputs": [],
   "source": [
    "def mock_segments(df):\n",
    "    M = df.groupby(['time_period','genre','segment']).size().unstack()\n",
    "    df = M.sum(level=0)\n",
    "    df = M.div(df, level=0)\n",
    "    df = df.stack().to_frame('likelihood')\n",
    "\n",
    "    df = df.round(2).reset_index().sort_index()\n",
    "    df = df.set_index(['segment','time_period','genre']).likelihood\n",
    "    reader = df.groupby(level=[0,1], )\n",
    "    reader = ( (segment, time_period , v.droplevel([0,1]).to_dict()) for (segment, time_period), v in reader)\n",
    "    reader = groupby(reader, key=lambda x: x[0] )\n",
    "    return {g: { tp : periods for seg, tp, periods in v} for g, v in reader}"
   ]
  },
  {
   "cell_type": "code",
   "execution_count": 65,
   "metadata": {},
   "outputs": [
    {
     "data": {
      "text/plain": [
       "{0: 'segment000',\n",
       " 1: 'segment001',\n",
       " 2: 'segment002',\n",
       " 3: 'segment003',\n",
       " 4: 'segment004',\n",
       " 5: 'segment005',\n",
       " 6: 'segment006',\n",
       " 7: 'segment007',\n",
       " 8: 'segment008',\n",
       " 9: 'segment009'}"
      ]
     },
     "execution_count": 65,
     "metadata": {},
     "output_type": "execute_result"
    }
   ],
   "source": [
    "SEGMENTS = { segment_id : f'segment{segment_id:03d}' for segment_id in range(10)}\n",
    "SEGMENTS"
   ]
  },
  {
   "cell_type": "code",
   "execution_count": 279,
   "metadata": {},
   "outputs": [],
   "source": [
    "np.random.seed(100)\n",
    "df = DATA.sample(20000).drop_duplicates('mpid')\n",
    "df['segment_id'] =  randint(0,10,len(df))\n",
    "df['segment'] = df.segment_id.map(SEGMENTS)\n",
    "df['event_start_dt'] = pd.to_datetime(df.event_start_unixtime_ms.astype(np.int).div(1000), unit=\"s\")\n",
    "df['video_end_hour'] = df['event_start_dt'].dt.hour\n",
    "df['time_period'] = df.video_end_hour.map(TIME_PERIODS)\n",
    "df = remove_bad_genres(df)\n",
    "segment_lkup = mock_segments(df)\n",
    "df['segment_detail'] = df.segment.map(segment_lkup)\n",
    "SAMPLE = df"
   ]
  },
  {
   "cell_type": "code",
   "execution_count": 287,
   "metadata": {},
   "outputs": [],
   "source": [
    "reader = SAMPLE.itertuples()\n",
    "reader = ({'mpid': x.mpid, 'segment': {x.segment: x.segment_detail} }for x in reader)\n",
    "MPIDS = list(reader)\n",
    "example = MPIDS[1]"
   ]
  },
  {
   "cell_type": "code",
   "execution_count": 284,
   "metadata": {},
   "outputs": [
    {
     "data": {
      "text/plain": [
       "1158                                71.30.99.210\n",
       "3336     2605:e000:1c03:21d2:1cd0:69f2:1392:51b4\n",
       "40161    2605:a000:1203:632d:cc2b:1681:2c78:3d95\n",
       "15066     2601:14a:4001:1d77:b8ff:4de9:adc7:7435\n",
       "12406                              99.203.56.106\n",
       "                          ...                   \n",
       "17035                              24.186.72.123\n",
       "41485                             209.201.32.200\n",
       "38996                              108.39.38.131\n",
       "24024                              75.185.250.96\n",
       "14492       2601:644:500:de11:9d4:bc9f:75e8:f22d\n",
       "Name: ip, Length: 19126, dtype: object"
      ]
     },
     "execution_count": 284,
     "metadata": {},
     "output_type": "execute_result"
    }
   ],
   "source": [
    "SAMPLE.ip"
   ]
  },
  {
   "cell_type": "code",
   "execution_count": 293,
   "metadata": {},
   "outputs": [],
   "source": [
    "with open('response.json', 'w') as fh:\n",
    "    json.dump(example, fh, indent=4)"
   ]
  },
  {
   "cell_type": "code",
   "execution_count": null,
   "metadata": {},
   "outputs": [],
   "source": []
  }
 ],
 "metadata": {
  "kernelspec": {
   "display_name": "Python 3",
   "language": "python",
   "name": "python3"
  },
  "language_info": {
   "codemirror_mode": {
    "name": "ipython",
    "version": 3
   },
   "file_extension": ".py",
   "mimetype": "text/x-python",
   "name": "python",
   "nbconvert_exporter": "python",
   "pygments_lexer": "ipython3",
   "version": "3.7.4"
  }
 },
 "nbformat": 4,
 "nbformat_minor": 4
}
