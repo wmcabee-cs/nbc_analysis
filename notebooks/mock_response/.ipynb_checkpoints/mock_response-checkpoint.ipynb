{
 "cells": [
  {
   "cell_type": "code",
   "execution_count": 250,
   "metadata": {},
   "outputs": [],
   "source": [
    "%reload_ext autoreload\n",
    "%autoreload 2\n",
    "\n",
    "from pathlib import Path\n",
    "import pandas as pd\n",
    "from numpy.random import randint\n",
    "import numpy as np\n",
    "from toolz import first\n",
    "\n",
    "from itertools import groupby"
   ]
  },
  {
   "cell_type": "code",
   "execution_count": 30,
   "metadata": {},
   "outputs": [],
   "source": [
    "files = pd.Series(indir.glob('*'), name='files')"
   ]
  },
  {
   "cell_type": "code",
   "execution_count": 162,
   "metadata": {},
   "outputs": [
    {
     "data": {
      "text/plain": [
       "{1: 'early_morning',\n",
       " 2: 'early_morning',\n",
       " 3: 'early_morning',\n",
       " 4: 'early_morning',\n",
       " 5: 'early_morning',\n",
       " 6: 'early_morning',\n",
       " 7: 'morning',\n",
       " 8: 'morning',\n",
       " 9: 'morning',\n",
       " 10: 'morning',\n",
       " 11: 'morning',\n",
       " 12: 'morning',\n",
       " 13: 'afternoon',\n",
       " 14: 'afternoon',\n",
       " 15: 'afternoon',\n",
       " 16: 'afternoon',\n",
       " 17: 'evening',\n",
       " 18: 'evening',\n",
       " 19: 'evening',\n",
       " 20: 'evening',\n",
       " 21: 'late_night',\n",
       " 22: 'late_night',\n",
       " 23: 'late_night',\n",
       " 0: 'late_night'}"
      ]
     },
     "execution_count": 162,
     "metadata": {},
     "output_type": "execute_result"
    }
   ],
   "source": [
    "spec = {\n",
    "    'early_morning': [ 1,2,3,4,5,6],\n",
    "    'morning': [7,8,9,10,11,12],\n",
    "    'afternoon': [13,14,15,16,],\n",
    "    'evening': [17,18,19,20],\n",
    "    'late_night' : [21,22,23, 0],\n",
    "}\n",
    "TIME_PERIODS = {hour: tp  for tp, hours in spec.items() for hour in hours}\n",
    "TIME_PERIODS"
   ]
  },
  {
   "cell_type": "code",
   "execution_count": 32,
   "metadata": {},
   "outputs": [
    {
     "name": "stdout",
     "output_type": "stream",
     "text": [
      "CPU times: user 21.1 s, sys: 7.8 s, total: 28.9 s\n",
      "Wall time: 22 s\n"
     ]
    }
   ],
   "source": [
    "%%time \n",
    "indir = Path('/Users/wmcabee/Dropbox (Cognitive Scale)/NBC Analysis/data/NBC2/batches')\n",
    "\n",
    "reader = indir.glob('*')\n",
    "reader = map(pd.read_parquet, reader)\n",
    "DATA = pd.concat(reader)"
   ]
  },
  {
   "cell_type": "code",
   "execution_count": 104,
   "metadata": {},
   "outputs": [
    {
     "data": {
      "text/html": [
       "<div>\n",
       "<style scoped>\n",
       "    .dataframe tbody tr th:only-of-type {\n",
       "        vertical-align: middle;\n",
       "    }\n",
       "\n",
       "    .dataframe tbody tr th {\n",
       "        vertical-align: top;\n",
       "    }\n",
       "\n",
       "    .dataframe thead th {\n",
       "        text-align: right;\n",
       "    }\n",
       "</style>\n",
       "<table border=\"1\" class=\"dataframe\">\n",
       "  <thead>\n",
       "    <tr style=\"text-align: right;\">\n",
       "      <th></th>\n",
       "      <th>batch_id</th>\n",
       "      <th>file</th>\n",
       "      <th>file_idx</th>\n",
       "      <th>asof_dt</th>\n",
       "      <th>mpid</th>\n",
       "      <th>nbc_profile</th>\n",
       "      <th>mvpd</th>\n",
       "      <th>event_name</th>\n",
       "      <th>event_type</th>\n",
       "      <th>platform</th>\n",
       "      <th>...</th>\n",
       "      <th>genre</th>\n",
       "      <th>video_duration</th>\n",
       "      <th>video_end_type</th>\n",
       "      <th>resume</th>\n",
       "      <th>event_id</th>\n",
       "      <th>session_id</th>\n",
       "      <th>video_duration_watched</th>\n",
       "      <th>event_start_unixtime_ms</th>\n",
       "      <th>session_start_unixtime_ms</th>\n",
       "      <th>resume_time</th>\n",
       "    </tr>\n",
       "  </thead>\n",
       "  <tbody>\n",
       "    <tr>\n",
       "      <td>0</td>\n",
       "      <td>ve_20190704_0007</td>\n",
       "      <td>NBC_20190704053535796288_05534.txt</td>\n",
       "      <td>1999</td>\n",
       "      <td>2019-10-01T21:56:19.284084Z</td>\n",
       "      <td>-2701949108677773288</td>\n",
       "      <td>Unauthenticated</td>\n",
       "      <td>Optimum</td>\n",
       "      <td>Video End</td>\n",
       "      <td>custom_event</td>\n",
       "      <td>Android</td>\n",
       "      <td>...</td>\n",
       "      <td>Drama</td>\n",
       "      <td>37</td>\n",
       "      <td>Close</td>\n",
       "      <td>True</td>\n",
       "      <td>6917803156947334647</td>\n",
       "      <td>-2935159148526063382</td>\n",
       "      <td>35</td>\n",
       "      <td>1562217633030</td>\n",
       "      <td>1562217581736</td>\n",
       "      <td>2106</td>\n",
       "    </tr>\n",
       "    <tr>\n",
       "      <td>1</td>\n",
       "      <td>ve_20190704_0007</td>\n",
       "      <td>NBC_20190704053535796288_05534.txt</td>\n",
       "      <td>1999</td>\n",
       "      <td>2019-10-01T21:56:19.284084Z</td>\n",
       "      <td>-7645429685580868586</td>\n",
       "      <td>Unauthenticated</td>\n",
       "      <td>Unauthenticated</td>\n",
       "      <td>Video End</td>\n",
       "      <td>custom_event</td>\n",
       "      <td>Android</td>\n",
       "      <td>...</td>\n",
       "      <td>Drama</td>\n",
       "      <td>37</td>\n",
       "      <td>Background</td>\n",
       "      <td>True</td>\n",
       "      <td>4428810565995114943</td>\n",
       "      <td>6810193375081775496</td>\n",
       "      <td>12</td>\n",
       "      <td>1562218218831</td>\n",
       "      <td>1562212112314</td>\n",
       "      <td>690</td>\n",
       "    </tr>\n",
       "    <tr>\n",
       "      <td>2</td>\n",
       "      <td>ve_20190704_0007</td>\n",
       "      <td>NBC_20190704053535796288_05534.txt</td>\n",
       "      <td>1999</td>\n",
       "      <td>2019-10-01T21:56:19.284084Z</td>\n",
       "      <td>-1510884301405286654</td>\n",
       "      <td>Unauthenticated</td>\n",
       "      <td>Optimum</td>\n",
       "      <td>Video End</td>\n",
       "      <td>custom_event</td>\n",
       "      <td>Android</td>\n",
       "      <td>...</td>\n",
       "      <td>Reality and Game Show</td>\n",
       "      <td>43</td>\n",
       "      <td>Background</td>\n",
       "      <td>True</td>\n",
       "      <td>-443211365947578150</td>\n",
       "      <td>7908099172124351817</td>\n",
       "      <td>43</td>\n",
       "      <td>1562217972475</td>\n",
       "      <td>1562214610345</td>\n",
       "      <td>2561</td>\n",
       "    </tr>\n",
       "    <tr>\n",
       "      <td>3</td>\n",
       "      <td>ve_20190704_0007</td>\n",
       "      <td>NBC_20190704053535796288_05534.txt</td>\n",
       "      <td>1999</td>\n",
       "      <td>2019-10-01T21:56:19.284084Z</td>\n",
       "      <td>-1510884301405286654</td>\n",
       "      <td>Unauthenticated</td>\n",
       "      <td>Optimum</td>\n",
       "      <td>Video End</td>\n",
       "      <td>custom_event</td>\n",
       "      <td>Android</td>\n",
       "      <td>...</td>\n",
       "      <td>Reality and Game Show</td>\n",
       "      <td>43</td>\n",
       "      <td>Close</td>\n",
       "      <td>True</td>\n",
       "      <td>-2081107486544937101</td>\n",
       "      <td>7908099172124351817</td>\n",
       "      <td>6</td>\n",
       "      <td>1562217985129</td>\n",
       "      <td>1562214610345</td>\n",
       "      <td>357</td>\n",
       "    </tr>\n",
       "    <tr>\n",
       "      <td>4</td>\n",
       "      <td>ve_20190704_0007</td>\n",
       "      <td>NBC_20190704053535796288_05534.txt</td>\n",
       "      <td>1999</td>\n",
       "      <td>2019-10-01T21:56:19.284084Z</td>\n",
       "      <td>-1510884301405286654</td>\n",
       "      <td>Unauthenticated</td>\n",
       "      <td>Optimum</td>\n",
       "      <td>Video End</td>\n",
       "      <td>custom_event</td>\n",
       "      <td>Android</td>\n",
       "      <td>...</td>\n",
       "      <td>Reality and Game Show</td>\n",
       "      <td>43</td>\n",
       "      <td>Background</td>\n",
       "      <td>True</td>\n",
       "      <td>-3097524602244374542</td>\n",
       "      <td>7908099172124351817</td>\n",
       "      <td>43</td>\n",
       "      <td>1562218088291</td>\n",
       "      <td>1562214610345</td>\n",
       "      <td>2557</td>\n",
       "    </tr>\n",
       "  </tbody>\n",
       "</table>\n",
       "<p>5 rows × 28 columns</p>\n",
       "</div>"
      ],
      "text/plain": [
       "           batch_id                                file  file_idx  \\\n",
       "0  ve_20190704_0007  NBC_20190704053535796288_05534.txt      1999   \n",
       "1  ve_20190704_0007  NBC_20190704053535796288_05534.txt      1999   \n",
       "2  ve_20190704_0007  NBC_20190704053535796288_05534.txt      1999   \n",
       "3  ve_20190704_0007  NBC_20190704053535796288_05534.txt      1999   \n",
       "4  ve_20190704_0007  NBC_20190704053535796288_05534.txt      1999   \n",
       "\n",
       "                       asof_dt                 mpid      nbc_profile  \\\n",
       "0  2019-10-01T21:56:19.284084Z -2701949108677773288  Unauthenticated   \n",
       "1  2019-10-01T21:56:19.284084Z -7645429685580868586  Unauthenticated   \n",
       "2  2019-10-01T21:56:19.284084Z -1510884301405286654  Unauthenticated   \n",
       "3  2019-10-01T21:56:19.284084Z -1510884301405286654  Unauthenticated   \n",
       "4  2019-10-01T21:56:19.284084Z -1510884301405286654  Unauthenticated   \n",
       "\n",
       "              mvpd event_name    event_type platform  ...  \\\n",
       "0          Optimum  Video End  custom_event  Android  ...   \n",
       "1  Unauthenticated  Video End  custom_event  Android  ...   \n",
       "2          Optimum  Video End  custom_event  Android  ...   \n",
       "3          Optimum  Video End  custom_event  Android  ...   \n",
       "4          Optimum  Video End  custom_event  Android  ...   \n",
       "\n",
       "                   genre video_duration video_end_type resume  \\\n",
       "0                  Drama             37          Close   True   \n",
       "1                  Drama             37     Background   True   \n",
       "2  Reality and Game Show             43     Background   True   \n",
       "3  Reality and Game Show             43          Close   True   \n",
       "4  Reality and Game Show             43     Background   True   \n",
       "\n",
       "               event_id            session_id video_duration_watched  \\\n",
       "0   6917803156947334647  -2935159148526063382                     35   \n",
       "1   4428810565995114943   6810193375081775496                     12   \n",
       "2   -443211365947578150   7908099172124351817                     43   \n",
       "3  -2081107486544937101   7908099172124351817                      6   \n",
       "4  -3097524602244374542   7908099172124351817                     43   \n",
       "\n",
       "  event_start_unixtime_ms session_start_unixtime_ms resume_time  \n",
       "0           1562217633030             1562217581736        2106  \n",
       "1           1562218218831             1562212112314         690  \n",
       "2           1562217972475             1562214610345        2561  \n",
       "3           1562217985129             1562214610345         357  \n",
       "4           1562218088291             1562214610345        2557  \n",
       "\n",
       "[5 rows x 28 columns]"
      ]
     },
     "execution_count": 104,
     "metadata": {},
     "output_type": "execute_result"
    }
   ],
   "source": [
    "DATA.head()"
   ]
  },
  {
   "cell_type": "code",
   "execution_count": 222,
   "metadata": {},
   "outputs": [],
   "source": [
    "def remove_bad_genres(df):\n",
    "    genre = df.genre.value_counts(dropna=False)\n",
    "    remove = {'None','', 'Not Set'}\n",
    "    mask = df.genre.isin(remove)\n",
    "    return  df[~mask].copy()"
   ]
  },
  {
   "cell_type": "code",
   "execution_count": 222,
   "metadata": {},
   "outputs": [],
   "source": [
    "def mock_segments(df):\n",
    "    M = df.groupby(['time_period','genre','segment']).size().unstack()\n",
    "    df = M.sum(level=0)\n",
    "    df = M.div(df, level=0)\n",
    "    df = df.stack().to_frame('likelihood')\n",
    "\n",
    "    df = df.round(2).reset_index().sort_index()\n",
    "    df = df.set_index(['segment','time_period','genre']).likelihood\n",
    "    reader = df.groupby(level=[0,1], )\n",
    "    reader = ( (segment, time_period , v.droplevel([0,1]).to_dict()) for (segment, time_period), v in reader)\n",
    "    reader = groupby(reader, key=lambda x: x[0] )\n",
    "    return {g: { tp : periods for seg, tp, periods in v} for g, v in reader}"
   ]
  },
  {
   "cell_type": "code",
   "execution_count": 65,
   "metadata": {},
   "outputs": [
    {
     "data": {
      "text/plain": [
       "{0: 'segment000',\n",
       " 1: 'segment001',\n",
       " 2: 'segment002',\n",
       " 3: 'segment003',\n",
       " 4: 'segment004',\n",
       " 5: 'segment005',\n",
       " 6: 'segment006',\n",
       " 7: 'segment007',\n",
       " 8: 'segment008',\n",
       " 9: 'segment009'}"
      ]
     },
     "execution_count": 65,
     "metadata": {},
     "output_type": "execute_result"
    }
   ],
   "source": [
    "SEGMENTS = { segment_id : f'segment{segment_id:03d}' for segment_id in range(10)}\n",
    "SEGMENTS"
   ]
  },
  {
   "cell_type": "code",
   "execution_count": 279,
   "metadata": {},
   "outputs": [],
   "source": [
    "np.random.seed(100)\n",
    "df = DATA.sample(20000).drop_duplicates('mpid')\n",
    "df['segment_id'] =  randint(0,10,len(df))\n",
    "df['segment'] = df.segment_id.map(SEGMENTS)\n",
    "df['event_start_dt'] = pd.to_datetime(df.event_start_unixtime_ms.astype(np.int).div(1000), unit=\"s\")\n",
    "df['video_end_hour'] = df['event_start_dt'].dt.hour\n",
    "df['time_period'] = df.video_end_hour.map(TIME_PERIODS)\n",
    "df = remove_bad_genres(df)\n",
    "segment_lkup = mock_segments(df)\n",
    "df['segment_detail'] = df.segment.map(segment_lkup)\n",
    "SAMPLE = df"
   ]
  },
  {
   "cell_type": "code",
   "execution_count": 283,
   "metadata": {},
   "outputs": [
    {
     "data": {
      "text/plain": [
       "{'mpid': 4860154620719807383,\n",
       " 'segment': {'segment005': {'afternoon': {'Comedy': 0.06,\n",
       "    'Drama': 0.57,\n",
       "    'Family and Kids': 0.01,\n",
       "    'News and Information': 0.14,\n",
       "    'Reality and Game Show': 0.22},\n",
       "   'early_morning': {'Action and Adventure': 0.0,\n",
       "    'Celebrity and Gossip': 0.0,\n",
       "    'Comedy': 0.1,\n",
       "    'Drama': 0.51,\n",
       "    'Family and Kids': 0.0,\n",
       "    'Live Events and Specials': 0.0,\n",
       "    'News and Information': 0.15,\n",
       "    'Reality and Game Show': 0.22,\n",
       "    'Sci Fi and Fantasy': 0.0,\n",
       "    'Talk and Interview': 0.02},\n",
       "   'evening': {'Action and Adventure': 0.0,\n",
       "    'Comedy': 0.09,\n",
       "    'Crime and Mystery': 0.0,\n",
       "    'Drama': 0.49,\n",
       "    'Family and Kids': 0.02,\n",
       "    'News and Information': 0.15,\n",
       "    'Reality and Game Show': 0.24,\n",
       "    'Talk and Interview': 0.01},\n",
       "   'late_night': {'Comedy': 0.13,\n",
       "    'Drama': 0.51,\n",
       "    'Family and Kids': 0.01,\n",
       "    'Horror and Thriller': 0.0,\n",
       "    'Live Events and Specials': 0.0,\n",
       "    'News and Information': 0.11,\n",
       "    'Reality and Game Show': 0.23,\n",
       "    'Sci Fi and Fantasy': 0.0,\n",
       "    'Talk and Interview': 0.01},\n",
       "   'morning': {'Celebrity and Gossip': 0.0,\n",
       "    'Comedy': 0.1,\n",
       "    'Crime and Mystery': 0.0,\n",
       "    'Drama': 0.48,\n",
       "    'News and Information': 0.18,\n",
       "    'Political': 0.0,\n",
       "    'Reality and Game Show': 0.2,\n",
       "    'Talk and Interview': 0.02}}}}"
      ]
     },
     "execution_count": 283,
     "metadata": {},
     "output_type": "execute_result"
    }
   ],
   "source": [
    "reader = SAMPLE.itertuples()\n",
    "reader = ({'mpid': x.mpid, 'segment': {x.segment: x.segment_detail} }for x in reader)\n",
    "MPIDS = list(reader)\n",
    "MPIDS[1]"
   ]
  },
  {
   "cell_type": "code",
   "execution_count": 268,
   "metadata": {},
   "outputs": [],
   "source": []
  },
  {
   "cell_type": "code",
   "execution_count": 284,
   "metadata": {},
   "outputs": [
    {
     "data": {
      "text/plain": [
       "1158                                71.30.99.210\n",
       "3336     2605:e000:1c03:21d2:1cd0:69f2:1392:51b4\n",
       "40161    2605:a000:1203:632d:cc2b:1681:2c78:3d95\n",
       "15066     2601:14a:4001:1d77:b8ff:4de9:adc7:7435\n",
       "12406                              99.203.56.106\n",
       "                          ...                   \n",
       "17035                              24.186.72.123\n",
       "41485                             209.201.32.200\n",
       "38996                              108.39.38.131\n",
       "24024                              75.185.250.96\n",
       "14492       2601:644:500:de11:9d4:bc9f:75e8:f22d\n",
       "Name: ip, Length: 19126, dtype: object"
      ]
     },
     "execution_count": 284,
     "metadata": {},
     "output_type": "execute_result"
    }
   ],
   "source": [
    "SAMPLE.ip"
   ]
  },
  {
   "cell_type": "code",
   "execution_count": null,
   "metadata": {},
   "outputs": [],
   "source": []
  }
 ],
 "metadata": {
  "kernelspec": {
   "display_name": "Python 3",
   "language": "python",
   "name": "python3"
  },
  "language_info": {
   "codemirror_mode": {
    "name": "ipython",
    "version": 3
   },
   "file_extension": ".py",
   "mimetype": "text/x-python",
   "name": "python",
   "nbconvert_exporter": "python",
   "pygments_lexer": "ipython3",
   "version": "3.7.4"
  }
 },
 "nbformat": 4,
 "nbformat_minor": 4
}
