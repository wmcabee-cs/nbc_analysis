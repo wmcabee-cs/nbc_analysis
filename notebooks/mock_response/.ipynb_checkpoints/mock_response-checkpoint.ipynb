{
 "cells": [
  {
   "cell_type": "code",
   "execution_count": 314,
   "metadata": {},
   "outputs": [],
   "source": [
    "%reload_ext autoreload\n",
    "%autoreload 2\n",
    "\n",
    "from pathlib import Path\n",
    "import pandas as pd\n",
    "from numpy.random import randint\n",
    "import numpy as np\n",
    "from toolz import first, merge\n",
    "\n",
    "from itertools import groupby\n",
    "\n",
    "import json"
   ]
  },
  {
   "cell_type": "code",
   "execution_count": 30,
   "metadata": {},
   "outputs": [],
   "source": [
    "files = pd.Series(indir.glob('*'), name='files')"
   ]
  },
  {
   "cell_type": "code",
   "execution_count": 162,
   "metadata": {},
   "outputs": [
    {
     "data": {
      "text/plain": [
       "{1: 'early_morning',\n",
       " 2: 'early_morning',\n",
       " 3: 'early_morning',\n",
       " 4: 'early_morning',\n",
       " 5: 'early_morning',\n",
       " 6: 'early_morning',\n",
       " 7: 'morning',\n",
       " 8: 'morning',\n",
       " 9: 'morning',\n",
       " 10: 'morning',\n",
       " 11: 'morning',\n",
       " 12: 'morning',\n",
       " 13: 'afternoon',\n",
       " 14: 'afternoon',\n",
       " 15: 'afternoon',\n",
       " 16: 'afternoon',\n",
       " 17: 'evening',\n",
       " 18: 'evening',\n",
       " 19: 'evening',\n",
       " 20: 'evening',\n",
       " 21: 'late_night',\n",
       " 22: 'late_night',\n",
       " 23: 'late_night',\n",
       " 0: 'late_night'}"
      ]
     },
     "execution_count": 162,
     "metadata": {},
     "output_type": "execute_result"
    }
   ],
   "source": [
    "spec = {\n",
    "    'early_morning': [ 1,2,3,4,5,6],\n",
    "    'morning': [7,8,9,10,11,12],\n",
    "    'afternoon': [13,14,15,16,],\n",
    "    'evening': [17,18,19,20],\n",
    "    'late_night' : [21,22,23, 0],\n",
    "}\n",
    "TIME_PERIODS = {hour: tp  for tp, hours in spec.items() for hour in hours}\n",
    "TIME_PERIODS"
   ]
  },
  {
   "cell_type": "code",
   "execution_count": 32,
   "metadata": {},
   "outputs": [
    {
     "name": "stdout",
     "output_type": "stream",
     "text": [
      "CPU times: user 21.1 s, sys: 7.8 s, total: 28.9 s\n",
      "Wall time: 22 s\n"
     ]
    }
   ],
   "source": [
    "%%time \n",
    "indir = Path('/Users/wmcabee/Dropbox (Cognitive Scale)/NBC Analysis/data/NBC2/batches')\n",
    "\n",
    "reader = indir.glob('*')\n",
    "reader = map(pd.read_parquet, reader)\n",
    "DATA = pd.concat(reader)"
   ]
  },
  {
   "cell_type": "code",
   "execution_count": 295,
   "metadata": {},
   "outputs": [
    {
     "name": "stdout",
     "output_type": "stream",
     "text": [
      "row_count: 6265392\n"
     ]
    }
   ],
   "source": [
    "print('row_count:', len(DATA))"
   ]
  },
  {
   "cell_type": "code",
   "execution_count": 222,
   "metadata": {},
   "outputs": [],
   "source": [
    "def remove_bad_genres(df):\n",
    "    genre = df.genre.value_counts(dropna=False)\n",
    "    remove = {'None','', 'Not Set'}\n",
    "    mask = df.genre.isin(remove)\n",
    "    return  df[~mask].copy()"
   ]
  },
  {
   "cell_type": "code",
   "execution_count": 222,
   "metadata": {},
   "outputs": [],
   "source": [
    "def mock_segments(df):\n",
    "    M = df.groupby(['time_period','genre','segment']).size().unstack()\n",
    "    df = M.sum(level=0)\n",
    "    df = M.div(df, level=0)\n",
    "    df = df.stack().to_frame('likelihood')\n",
    "\n",
    "    df = df.round(2).reset_index().sort_index()\n",
    "    df = df.set_index(['segment','time_period','genre']).likelihood\n",
    "    reader = df.groupby(level=[0,1], )\n",
    "    reader = ( (segment, time_period , v.droplevel([0,1]).to_dict()) for (segment, time_period), v in reader)\n",
    "    reader = groupby(reader, key=lambda x: x[0] )\n",
    "    return {g: { tp : periods for seg, tp, periods in v} for g, v in reader}"
   ]
  },
  {
   "cell_type": "code",
   "execution_count": 65,
   "metadata": {},
   "outputs": [
    {
     "data": {
      "text/plain": [
       "{0: 'segment000',\n",
       " 1: 'segment001',\n",
       " 2: 'segment002',\n",
       " 3: 'segment003',\n",
       " 4: 'segment004',\n",
       " 5: 'segment005',\n",
       " 6: 'segment006',\n",
       " 7: 'segment007',\n",
       " 8: 'segment008',\n",
       " 9: 'segment009'}"
      ]
     },
     "execution_count": 65,
     "metadata": {},
     "output_type": "execute_result"
    }
   ],
   "source": [
    "SEGMENTS = { segment_id : f'segment{segment_id:03d}' for segment_id in range(10)}\n",
    "SEGMENTS"
   ]
  },
  {
   "cell_type": "code",
   "execution_count": 279,
   "metadata": {},
   "outputs": [],
   "source": [
    "np.random.seed(100)\n",
    "df = DATA.sample(20000).drop_duplicates('mpid')\n",
    "df['segment_id'] =  randint(0,10,len(df))\n",
    "df['segment'] = df.segment_id.map(SEGMENTS)\n",
    "df['event_start_dt'] = pd.to_datetime(df.event_start_unixtime_ms.astype(np.int).div(1000), unit=\"s\")\n",
    "df['video_end_hour'] = df['event_start_dt'].dt.hour\n",
    "df['time_period'] = df.video_end_hour.map(TIME_PERIODS)\n",
    "df = remove_bad_genres(df)\n",
    "segment_lkup = mock_segments(df)\n",
    "df['segment_detail'] = df.segment.map(segment_lkup)\n",
    "SAMPLE = df"
   ]
  },
  {
   "cell_type": "code",
   "execution_count": 310,
   "metadata": {},
   "outputs": [
    {
     "data": {
      "text/plain": [
       "{'batch_id': {17035: 've_20190703_0010'},\n",
       " 'file': {17035: 'NBC_20190703110951049147_90249.txt'},\n",
       " 'file_idx': {17035: 3991},\n",
       " 'asof_dt': {17035: '2019-10-01T21:44:15.339449Z'},\n",
       " 'mpid': {17035: -3215838812283921027},\n",
       " 'nbc_profile': {17035: 'Unauthenticated'},\n",
       " 'mvpd': {17035: 'Unauthenticated'},\n",
       " 'event_name': {17035: 'Video End'},\n",
       " 'event_type': {17035: 'custom_event'},\n",
       " 'platform': {17035: 'iOS'},\n",
       " 'data_connection_type': {17035: 'wifi'},\n",
       " 'ip': {17035: '24.186.72.123'},\n",
       " 'video_id': {17035: '3980294'},\n",
       " 'video_type': {17035: 'Full Episode'},\n",
       " 'show': {17035: 'Days of our Lives'},\n",
       " 'season': {17035: '54'},\n",
       " 'episode_number': {17035: '196'},\n",
       " 'episode_title': {17035: 'Tuesday, July 2, 2019'},\n",
       " 'genre': {17035: 'Drama'},\n",
       " 'video_duration': {17035: '37'},\n",
       " 'video_end_type': {17035: 'Background'},\n",
       " 'resume': {17035: 'False'},\n",
       " 'event_id': {17035: '6734797442868504336'},\n",
       " 'session_id': {17035: '-1980859604918654925'},\n",
       " 'video_duration_watched': {17035: '29'},\n",
       " 'event_start_unixtime_ms': {17035: '1562152116256'},\n",
       " 'session_start_unixtime_ms': {17035: '1562149668286'},\n",
       " 'resume_time': {17035: 'None'},\n",
       " 'segment_id': {17035: 3},\n",
       " 'segment': {17035: 'segment003'},\n",
       " 'event_start_dt': {17035: Timestamp('2019-07-03 11:08:36.256000041')},\n",
       " 'video_end_hour': {17035: 11},\n",
       " 'time_period': {17035: 'morning'},\n",
       " 'segment_detail': {17035: {'afternoon': {'Action and Adventure': 0.01,\n",
       "    'Comedy': 0.06,\n",
       "    'Drama': 0.55,\n",
       "    'Family and Kids': 0.01,\n",
       "    'News and Information': 0.13,\n",
       "    'Reality and Game Show': 0.2,\n",
       "    'Soap Opera': 0.0,\n",
       "    'Talk and Interview': 0.03},\n",
       "   'early_morning': {'Action and Adventure': 0.0,\n",
       "    'Comedy': 0.08,\n",
       "    'Drama': 0.5,\n",
       "    'Family and Kids': 0.0,\n",
       "    'News and Information': 0.12,\n",
       "    'Political': 0.0,\n",
       "    'Reality and Game Show': 0.26,\n",
       "    'Sci Fi and Fantasy': 0.0,\n",
       "    'Talk and Interview': 0.02},\n",
       "   'evening': {'Action and Adventure': 0.0,\n",
       "    'Comedy': 0.11,\n",
       "    'Drama': 0.52,\n",
       "    'Family and Kids': 0.01,\n",
       "    'News and Information': 0.12,\n",
       "    'Reality and Game Show': 0.21,\n",
       "    'Sci Fi and Fantasy': 0.0,\n",
       "    'Talk and Interview': 0.02},\n",
       "   'late_night': {'Action and Adventure': 0.0,\n",
       "    'Comedy': 0.1,\n",
       "    'Crime and Mystery': 0.0,\n",
       "    'Drama': 0.52,\n",
       "    'Family and Kids': 0.01,\n",
       "    'News and Information': 0.12,\n",
       "    'Political': 0.0,\n",
       "    'Reality and Game Show': 0.23,\n",
       "    'Talk and Interview': 0.01},\n",
       "   'morning': {'Comedy': 0.09,\n",
       "    'Drama': 0.48,\n",
       "    'Family and Kids': 0.0,\n",
       "    'Lifestyle and Fashion': 0.0,\n",
       "    'News and Information': 0.15,\n",
       "    'Reality and Game Show': 0.24,\n",
       "    'Talk and Interview': 0.03}}}}"
      ]
     },
     "execution_count": 310,
     "metadata": {},
     "output_type": "execute_result"
    }
   ],
   "source": [
    "df = SAMPLE[SAMPLE.ip =='24.186.72.123'].to_dict()\n",
    "df"
   ]
  },
  {
   "cell_type": "code",
   "execution_count": 312,
   "metadata": {},
   "outputs": [
    {
     "data": {
      "text/plain": [
       "{'mpid': -3215838812283921027,\n",
       " 'segment': {'segment003': {'afternoon': {'Action and Adventure': 0.01,\n",
       "    'Comedy': 0.06,\n",
       "    'Drama': 0.55,\n",
       "    'Family and Kids': 0.01,\n",
       "    'News and Information': 0.13,\n",
       "    'Reality and Game Show': 0.2,\n",
       "    'Soap Opera': 0.0,\n",
       "    'Talk and Interview': 0.03},\n",
       "   'early_morning': {'Action and Adventure': 0.0,\n",
       "    'Comedy': 0.08,\n",
       "    'Drama': 0.5,\n",
       "    'Family and Kids': 0.0,\n",
       "    'News and Information': 0.12,\n",
       "    'Political': 0.0,\n",
       "    'Reality and Game Show': 0.26,\n",
       "    'Sci Fi and Fantasy': 0.0,\n",
       "    'Talk and Interview': 0.02},\n",
       "   'evening': {'Action and Adventure': 0.0,\n",
       "    'Comedy': 0.11,\n",
       "    'Drama': 0.52,\n",
       "    'Family and Kids': 0.01,\n",
       "    'News and Information': 0.12,\n",
       "    'Reality and Game Show': 0.21,\n",
       "    'Sci Fi and Fantasy': 0.0,\n",
       "    'Talk and Interview': 0.02},\n",
       "   'late_night': {'Action and Adventure': 0.0,\n",
       "    'Comedy': 0.1,\n",
       "    'Crime and Mystery': 0.0,\n",
       "    'Drama': 0.52,\n",
       "    'Family and Kids': 0.01,\n",
       "    'News and Information': 0.12,\n",
       "    'Political': 0.0,\n",
       "    'Reality and Game Show': 0.23,\n",
       "    'Talk and Interview': 0.01},\n",
       "   'morning': {'Comedy': 0.09,\n",
       "    'Drama': 0.48,\n",
       "    'Family and Kids': 0.0,\n",
       "    'Lifestyle and Fashion': 0.0,\n",
       "    'News and Information': 0.15,\n",
       "    'Reality and Game Show': 0.24,\n",
       "    'Talk and Interview': 0.03}}}}"
      ]
     },
     "execution_count": 312,
     "metadata": {},
     "output_type": "execute_result"
    }
   ],
   "source": [
    "ip = '24.186.72.123'\n",
    "reader = SAMPLE.itertuples()\n",
    "reader = ({'mpid': x.mpid, 'segment': {x.segment: x.segment_detail} }for x in reader if x.ip == ip )\n",
    "MPIDS = list(reader)[0]\n",
    "MPIDS"
   ]
  },
  {
   "cell_type": "code",
   "execution_count": 316,
   "metadata": {},
   "outputs": [],
   "source": [
    "# info derived from ip - from notebooks/geo/network\n",
    "ip_info ={'network': '24.186.72.0/21',\n",
    " 'geoname_id': 5120741.0,\n",
    " 'registered_country_geoname_id': 6252001.0,\n",
    " 'represented_country_geoname_id': np.NaN,\n",
    " 'is_anonymous_proxy': 0,\n",
    " 'is_satellite_provider': 0,\n",
    " 'postal_code': '12528',\n",
    " 'latitude': 41.7167,\n",
    " 'longitude': -73.9928,\n",
    " 'accuracy_radius': 5.0,\n",
    " 'locale_code': 'en',\n",
    " 'continent_code': np.NaN,\n",
    " 'continent_name': 'North America',\n",
    " 'country_iso_code': 'US',\n",
    " 'country_name': 'United States',\n",
    " 'subdivision_1_iso_code': 'NY',\n",
    " 'subdivision_1_name': 'New York',\n",
    " 'subdivision_2_iso_code': np.NaN,\n",
    " 'subdivision_2_name': np.NaN,\n",
    " 'city_name': 'Highland',\n",
    " 'metro_code': 501.0,\n",
    " 'time_zone': 'America/New_York',\n",
    " 'is_in_european_union': 0}\n"
   ]
  },
  {
   "cell_type": "code",
   "execution_count": 317,
   "metadata": {},
   "outputs": [],
   "source": [
    "# info derived from postcal_code\n",
    "loc_info = {'occup_housing_units': '4937',\n",
    "            'median_income': '71857',\n",
    "            'median_costs': '1382'}"
   ]
  },
  {
   "cell_type": "code",
   "execution_count": 350,
   "metadata": {},
   "outputs": [],
   "source": [
    "ip_extended =  merge(loc_info, ip_info )\n",
    "loc_demograph = { k: ip_extended[k] for  k in  {\n",
    "    'network','postal_code','city_name', 'subdivision_1_name', 'time_zone', 'occup_housing_units','median_income', 'median_costs',  } }\n",
    "loc_demograph['education_level'] = 'PhD'\n",
    "loc_demograph['state'] = loc_demograph.pop('subdivision_1_name', )\n",
    "loc_demograph['occup_housing_units'] = int(loc_demograph['occup_housing_units'])\n",
    "loc_demograph['median_costs'] = int(loc_demograph['median_costs'])\n",
    "loc_demograph['median_income'] = int(loc_demograph['median_income'])\n"
   ]
  },
  {
   "cell_type": "code",
   "execution_count": 351,
   "metadata": {},
   "outputs": [],
   "source": [
    "example['loc_demograph'] = loc_demograph"
   ]
  },
  {
   "cell_type": "code",
   "execution_count": 352,
   "metadata": {},
   "outputs": [],
   "source": [
    "with open('response.json', 'w') as fh:\n",
    "    json.dump(example, fh, indent=4)"
   ]
  },
  {
   "cell_type": "code",
   "execution_count": 353,
   "metadata": {},
   "outputs": [
    {
     "data": {
      "text/plain": [
       "{'mpid': 4860154620719807383,\n",
       " 'segment': {'segment005': {'afternoon': {'Comedy': 0.06,\n",
       "    'Drama': 0.57,\n",
       "    'Family and Kids': 0.01,\n",
       "    'News and Information': 0.14,\n",
       "    'Reality and Game Show': 0.22},\n",
       "   'early_morning': {'Action and Adventure': 0.0,\n",
       "    'Celebrity and Gossip': 0.0,\n",
       "    'Comedy': 0.1,\n",
       "    'Drama': 0.51,\n",
       "    'Family and Kids': 0.0,\n",
       "    'Live Events and Specials': 0.0,\n",
       "    'News and Information': 0.15,\n",
       "    'Reality and Game Show': 0.22,\n",
       "    'Sci Fi and Fantasy': 0.0,\n",
       "    'Talk and Interview': 0.02},\n",
       "   'evening': {'Action and Adventure': 0.0,\n",
       "    'Comedy': 0.09,\n",
       "    'Crime and Mystery': 0.0,\n",
       "    'Drama': 0.49,\n",
       "    'Family and Kids': 0.02,\n",
       "    'News and Information': 0.15,\n",
       "    'Reality and Game Show': 0.24,\n",
       "    'Talk and Interview': 0.01},\n",
       "   'late_night': {'Comedy': 0.13,\n",
       "    'Drama': 0.51,\n",
       "    'Family and Kids': 0.01,\n",
       "    'Horror and Thriller': 0.0,\n",
       "    'Live Events and Specials': 0.0,\n",
       "    'News and Information': 0.11,\n",
       "    'Reality and Game Show': 0.23,\n",
       "    'Sci Fi and Fantasy': 0.0,\n",
       "    'Talk and Interview': 0.01},\n",
       "   'morning': {'Celebrity and Gossip': 0.0,\n",
       "    'Comedy': 0.1,\n",
       "    'Crime and Mystery': 0.0,\n",
       "    'Drama': 0.48,\n",
       "    'News and Information': 0.18,\n",
       "    'Political': 0.0,\n",
       "    'Reality and Game Show': 0.2,\n",
       "    'Talk and Interview': 0.02}}},\n",
       " 'loc_demograph': {'time_zone': 'America/New_York',\n",
       "  'occup_housing_units': 4937,\n",
       "  'postal_code': '12528',\n",
       "  'median_costs': 1382,\n",
       "  'city_name': 'Highland',\n",
       "  'network': '24.186.72.0/21',\n",
       "  'median_income': 71857,\n",
       "  'education_level': 'PhD',\n",
       "  'state': 'New York'}}"
      ]
     },
     "execution_count": 353,
     "metadata": {},
     "output_type": "execute_result"
    }
   ],
   "source": [
    "example"
   ]
  },
  {
   "cell_type": "code",
   "execution_count": null,
   "metadata": {},
   "outputs": [],
   "source": []
  }
 ],
 "metadata": {
  "kernelspec": {
   "display_name": "Python 3",
   "language": "python",
   "name": "python3"
  },
  "language_info": {
   "codemirror_mode": {
    "name": "ipython",
    "version": 3
   },
   "file_extension": ".py",
   "mimetype": "text/x-python",
   "name": "python",
   "nbconvert_exporter": "python",
   "pygments_lexer": "ipython3",
   "version": "3.7.4"
  }
 },
 "nbformat": 4,
 "nbformat_minor": 4
}
