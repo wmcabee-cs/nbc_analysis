{
 "cells": [
  {
   "cell_type": "code",
   "execution_count": 1,
   "metadata": {},
   "outputs": [],
   "source": [
    "%reload_ext autoreload\n",
    "%autoreload 2"
   ]
  },
  {
   "cell_type": "code",
   "execution_count": 4,
   "metadata": {},
   "outputs": [],
   "source": [
    "import pandas as pd\n",
    "import numpy as np\n",
    "from io import StringIO\n",
    "import altair as alt"
   ]
  },
  {
   "cell_type": "code",
   "execution_count": 5,
   "metadata": {},
   "outputs": [],
   "source": [
    "df = pd.read_csv('nbc_analysis.log', sep='|', header=0, names=['log_ts','level','module','msg'])\n",
    "RAW = df"
   ]
  },
  {
   "cell_type": "code",
   "execution_count": 6,
   "metadata": {},
   "outputs": [
    {
     "data": {
      "text/plain": [
       "nbc_analysis.generate_po1_profiles.main            11769\n",
       "nbc_analysis.partition.partition_by_viewer.main     7693\n",
       "nbc_analysis.utils.aws_utils                         961\n",
       "nbc_analysis.batch.extract_events.main               838\n",
       "nbc_analysis.batch.upload_batches.main               838\n",
       "nbc_analysis.utils.io_utils.aws_io                   814\n",
       "nbc_analysis.utils.io_utils.csv_io                    89\n",
       "nbc_analysis.runs.run_batches                         52\n",
       "nbc_analysis.batch.size_batches.main                  38\n",
       "nbc_analysis.batch.extract_file_lists.main            26\n",
       "nbc_analysis.utils.config_utils                       13\n",
       "nbc_analysis.runs.init_run.main                        6\n",
       "Name: module, dtype: int64"
      ]
     },
     "execution_count": 6,
     "metadata": {},
     "output_type": "execute_result"
    }
   ],
   "source": [
    "df.module.value_counts()"
   ]
  },
  {
   "cell_type": "code",
   "execution_count": 7,
   "metadata": {},
   "outputs": [],
   "source": [
    "start_week_mask = df.msg.str.startswith('start week')\n",
    "end_week_mask = df.msg.str.startswith('end week')\n",
    "write_partition_mask = (df.module == 'nbc_analysis.batch.extract_events.main') & (df.msg.str.startswith('wrote partition'))"
   ]
  },
  {
   "cell_type": "code",
   "execution_count": 8,
   "metadata": {},
   "outputs": [
    {
     "data": {
      "text/html": [
       "<div>\n",
       "<style scoped>\n",
       "    .dataframe tbody tr th:only-of-type {\n",
       "        vertical-align: middle;\n",
       "    }\n",
       "\n",
       "    .dataframe tbody tr th {\n",
       "        vertical-align: top;\n",
       "    }\n",
       "\n",
       "    .dataframe thead th {\n",
       "        text-align: right;\n",
       "    }\n",
       "</style>\n",
       "<table border=\"1\" class=\"dataframe\">\n",
       "  <thead>\n",
       "    <tr style=\"text-align: right;\">\n",
       "      <th></th>\n",
       "      <th>log_ts</th>\n",
       "      <th>level</th>\n",
       "      <th>module</th>\n",
       "      <th>msg</th>\n",
       "    </tr>\n",
       "  </thead>\n",
       "  <tbody>\n",
       "    <tr>\n",
       "      <th>36</th>\n",
       "      <td>2019-10-11 19:15:00,354</td>\n",
       "      <td>INFO</td>\n",
       "      <td>nbc_analysis.batch.extract_events.main</td>\n",
       "      <td>wrote partition /home/ec2-user/DATA/NBC/runs/r...</td>\n",
       "    </tr>\n",
       "    <tr>\n",
       "      <th>38</th>\n",
       "      <td>2019-10-11 19:15:58,513</td>\n",
       "      <td>INFO</td>\n",
       "      <td>nbc_analysis.batch.extract_events.main</td>\n",
       "      <td>wrote partition /home/ec2-user/DATA/NBC/runs/r...</td>\n",
       "    </tr>\n",
       "    <tr>\n",
       "      <th>40</th>\n",
       "      <td>2019-10-11 19:16:54,131</td>\n",
       "      <td>INFO</td>\n",
       "      <td>nbc_analysis.batch.extract_events.main</td>\n",
       "      <td>wrote partition /home/ec2-user/DATA/NBC/runs/r...</td>\n",
       "    </tr>\n",
       "    <tr>\n",
       "      <th>42</th>\n",
       "      <td>2019-10-11 19:17:51,622</td>\n",
       "      <td>INFO</td>\n",
       "      <td>nbc_analysis.batch.extract_events.main</td>\n",
       "      <td>wrote partition /home/ec2-user/DATA/NBC/runs/r...</td>\n",
       "    </tr>\n",
       "    <tr>\n",
       "      <th>44</th>\n",
       "      <td>2019-10-11 19:19:15,830</td>\n",
       "      <td>INFO</td>\n",
       "      <td>nbc_analysis.batch.extract_events.main</td>\n",
       "      <td>wrote partition /home/ec2-user/DATA/NBC/runs/r...</td>\n",
       "    </tr>\n",
       "    <tr>\n",
       "      <th>...</th>\n",
       "      <td>...</td>\n",
       "      <td>...</td>\n",
       "      <td>...</td>\n",
       "      <td>...</td>\n",
       "    </tr>\n",
       "    <tr>\n",
       "      <th>2619</th>\n",
       "      <td>2019-10-12 16:35:10,042</td>\n",
       "      <td>INFO</td>\n",
       "      <td>nbc_analysis.batch.extract_events.main</td>\n",
       "      <td>wrote partition /home/ec2-user/DATA/NBC/runs/r...</td>\n",
       "    </tr>\n",
       "    <tr>\n",
       "      <th>2621</th>\n",
       "      <td>2019-10-12 16:36:46,431</td>\n",
       "      <td>INFO</td>\n",
       "      <td>nbc_analysis.batch.extract_events.main</td>\n",
       "      <td>wrote partition /home/ec2-user/DATA/NBC/runs/r...</td>\n",
       "    </tr>\n",
       "    <tr>\n",
       "      <th>2623</th>\n",
       "      <td>2019-10-12 16:38:14,892</td>\n",
       "      <td>INFO</td>\n",
       "      <td>nbc_analysis.batch.extract_events.main</td>\n",
       "      <td>wrote partition /home/ec2-user/DATA/NBC/runs/r...</td>\n",
       "    </tr>\n",
       "    <tr>\n",
       "      <th>2625</th>\n",
       "      <td>2019-10-12 16:39:39,742</td>\n",
       "      <td>INFO</td>\n",
       "      <td>nbc_analysis.batch.extract_events.main</td>\n",
       "      <td>wrote partition /home/ec2-user/DATA/NBC/runs/r...</td>\n",
       "    </tr>\n",
       "    <tr>\n",
       "      <th>2627</th>\n",
       "      <td>2019-10-12 16:40:02,662</td>\n",
       "      <td>INFO</td>\n",
       "      <td>nbc_analysis.batch.extract_events.main</td>\n",
       "      <td>wrote partition /home/ec2-user/DATA/NBC/runs/r...</td>\n",
       "    </tr>\n",
       "  </tbody>\n",
       "</table>\n",
       "<p>814 rows × 4 columns</p>\n",
       "</div>"
      ],
      "text/plain": [
       "                       log_ts level                                  module  \\\n",
       "36    2019-10-11 19:15:00,354  INFO  nbc_analysis.batch.extract_events.main   \n",
       "38    2019-10-11 19:15:58,513  INFO  nbc_analysis.batch.extract_events.main   \n",
       "40    2019-10-11 19:16:54,131  INFO  nbc_analysis.batch.extract_events.main   \n",
       "42    2019-10-11 19:17:51,622  INFO  nbc_analysis.batch.extract_events.main   \n",
       "44    2019-10-11 19:19:15,830  INFO  nbc_analysis.batch.extract_events.main   \n",
       "...                       ...   ...                                     ...   \n",
       "2619  2019-10-12 16:35:10,042  INFO  nbc_analysis.batch.extract_events.main   \n",
       "2621  2019-10-12 16:36:46,431  INFO  nbc_analysis.batch.extract_events.main   \n",
       "2623  2019-10-12 16:38:14,892  INFO  nbc_analysis.batch.extract_events.main   \n",
       "2625  2019-10-12 16:39:39,742  INFO  nbc_analysis.batch.extract_events.main   \n",
       "2627  2019-10-12 16:40:02,662  INFO  nbc_analysis.batch.extract_events.main   \n",
       "\n",
       "                                                    msg  \n",
       "36    wrote partition /home/ec2-user/DATA/NBC/runs/r...  \n",
       "38    wrote partition /home/ec2-user/DATA/NBC/runs/r...  \n",
       "40    wrote partition /home/ec2-user/DATA/NBC/runs/r...  \n",
       "42    wrote partition /home/ec2-user/DATA/NBC/runs/r...  \n",
       "44    wrote partition /home/ec2-user/DATA/NBC/runs/r...  \n",
       "...                                                 ...  \n",
       "2619  wrote partition /home/ec2-user/DATA/NBC/runs/r...  \n",
       "2621  wrote partition /home/ec2-user/DATA/NBC/runs/r...  \n",
       "2623  wrote partition /home/ec2-user/DATA/NBC/runs/r...  \n",
       "2625  wrote partition /home/ec2-user/DATA/NBC/runs/r...  \n",
       "2627  wrote partition /home/ec2-user/DATA/NBC/runs/r...  \n",
       "\n",
       "[814 rows x 4 columns]"
      ]
     },
     "execution_count": 8,
     "metadata": {},
     "output_type": "execute_result"
    }
   ],
   "source": [
    "df[write_partition_mask]"
   ]
  },
  {
   "cell_type": "code",
   "execution_count": 9,
   "metadata": {},
   "outputs": [
    {
     "data": {
      "image/png": "[encoded data removed]",
      "text/plain": [
       "<Figure size 1152x720 with 1 Axes>"
      ]
     },
     "metadata": {
      "needs_background": "light"
     },
     "output_type": "display_data"
    }
   ],
   "source": [
    "df = RAW[write_partition_mask].copy()\n",
    "items = df.msg.str.split(',')\n",
    "record_cnt = pd.Series(items.map(lambda x: x[1].split('=')[1]), name='record_cnt').astype(np.int)\n",
    "batch_id = pd.Series(items.map(lambda x: x[0].split('/')[-1].split('.')[0]), name='batch_id')\n",
    "day = pd.Series(batch_id.map(lambda x: x.split('_')[1]), name='day')\n",
    "day_seq = pd.Series(batch_id.map(lambda x: x.split('_')[2]), name='day_seq')\n",
    "week_id = pd.Series(items.map( lambda x: x[0].split('/')[7]), name= 'week_id')\n",
    "\n",
    "df = pd.DataFrame([week_id, day, batch_id, record_cnt]).T\n",
    "df['records_per_day'] = 24\n",
    "df = df.sort_values('day')\n",
    "record_cnt = df.groupby(['week_id', 'day']).record_cnt.sum()[:-1]\n",
    "records_per_day = record_cnt.mean().round()\n",
    "\n",
    "total_records = record_cnt.sum()\n",
    "\n",
    "subtitle2 = \"mean per day={:,.0f}\".format(records_per_day)\n",
    "subtitle3 = \"mean per hour={:,.0f}\".format(records_per_day/ 24)\n",
    "subtitle1 = \"total records={:,.0f}\".format(total_records)\n",
    "\n",
    "fig = plt.figure(figsize=[16, 10])\n",
    "fig.suptitle(f'Video End Events Mean Arrival Rate by Day for 12 weeks', fontsize=30)\n",
    "\n",
    "ax = record_cnt.div(24).plot(rot=45, label='arrival rate per day')\n",
    "ax.set_title(f'{subtitle1}; {subtitle2}; {subtitle3}', fontsize=14);\n",
    "ax.set_ylabel('Mean Video End Events per Hour')\n",
    "ax.set_yticklabels(['{:,d}'.format(int(y)) for y in ax.get_yticks()]);\n",
    "ax.axhline(y= records_per_day/24, color='r', label='mean arrival rate')\n",
    "ax.legend();"
   ]
  },
  {
   "cell_type": "code",
   "execution_count": 10,
   "metadata": {},
   "outputs": [
    {
     "data": {
      "text/html": [
       "<div>\n",
       "<style scoped>\n",
       "    .dataframe tbody tr th:only-of-type {\n",
       "        vertical-align: middle;\n",
       "    }\n",
       "\n",
       "    .dataframe tbody tr th {\n",
       "        vertical-align: top;\n",
       "    }\n",
       "\n",
       "    .dataframe thead th {\n",
       "        text-align: right;\n",
       "    }\n",
       "</style>\n",
       "<table border=\"1\" class=\"dataframe\">\n",
       "  <thead>\n",
       "    <tr style=\"text-align: right;\">\n",
       "      <th></th>\n",
       "      <th>event_type</th>\n",
       "      <th>sample_cnt</th>\n",
       "      <th>event_type_pct</th>\n",
       "    </tr>\n",
       "  </thead>\n",
       "  <tbody>\n",
       "    <tr>\n",
       "      <th>0</th>\n",
       "      <td>custom_event</td>\n",
       "      <td>240261</td>\n",
       "      <td>0.650484</td>\n",
       "    </tr>\n",
       "    <tr>\n",
       "      <th>1</th>\n",
       "      <td>user_attribute_change</td>\n",
       "      <td>82989</td>\n",
       "      <td>0.224685</td>\n",
       "    </tr>\n",
       "    <tr>\n",
       "      <th>2</th>\n",
       "      <td>application_state_transition</td>\n",
       "      <td>28167</td>\n",
       "      <td>0.076260</td>\n",
       "    </tr>\n",
       "    <tr>\n",
       "      <th>3</th>\n",
       "      <td>session_start</td>\n",
       "      <td>6917</td>\n",
       "      <td>0.018727</td>\n",
       "    </tr>\n",
       "    <tr>\n",
       "      <th>4</th>\n",
       "      <td>session_end</td>\n",
       "      <td>6285</td>\n",
       "      <td>0.017016</td>\n",
       "    </tr>\n",
       "    <tr>\n",
       "      <th>5</th>\n",
       "      <td>push_message</td>\n",
       "      <td>3969</td>\n",
       "      <td>0.010746</td>\n",
       "    </tr>\n",
       "    <tr>\n",
       "      <th>6</th>\n",
       "      <td>push_registration</td>\n",
       "      <td>692</td>\n",
       "      <td>0.001874</td>\n",
       "    </tr>\n",
       "    <tr>\n",
       "      <th>7</th>\n",
       "      <td>user_identity_change</td>\n",
       "      <td>73</td>\n",
       "      <td>0.000198</td>\n",
       "    </tr>\n",
       "    <tr>\n",
       "      <th>8</th>\n",
       "      <td>:none</td>\n",
       "      <td>4</td>\n",
       "      <td>0.000011</td>\n",
       "    </tr>\n",
       "  </tbody>\n",
       "</table>\n",
       "</div>"
      ],
      "text/plain": [
       "                     event_type  sample_cnt  event_type_pct\n",
       "0                  custom_event      240261        0.650484\n",
       "1         user_attribute_change       82989        0.224685\n",
       "2  application_state_transition       28167        0.076260\n",
       "3                 session_start        6917        0.018727\n",
       "4                   session_end        6285        0.017016\n",
       "5                  push_message        3969        0.010746\n",
       "6             push_registration         692        0.001874\n",
       "7          user_identity_change          73        0.000198\n",
       "8                         :none           4        0.000011"
      ]
     },
     "execution_count": 10,
     "metadata": {},
     "output_type": "execute_result"
    }
   ],
   "source": [
    "event_type = pd.read_csv(StringIO(\"\"\"event_type;sample_cnt\n",
    "custom_event;240261 \n",
    "user_attribute_change;82989 \n",
    "application_state_transition;28167 \n",
    "session_start;6917 \n",
    "session_end;6285 \n",
    "push_message;3969 \n",
    "push_registration;692 \n",
    "user_identity_change;73 \n",
    ":none;4 \n",
    "\"\"\"), sep=';')\n",
    "event_type['event_type_pct'] = event_type.sample_cnt / event_type.sample_cnt.sum()\n",
    "event_type"
   ]
  },
  {
   "cell_type": "code",
   "execution_count": 11,
   "metadata": {},
   "outputs": [
    {
     "data": {
      "text/html": [
       "<div>\n",
       "<style scoped>\n",
       "    .dataframe tbody tr th:only-of-type {\n",
       "        vertical-align: middle;\n",
       "    }\n",
       "\n",
       "    .dataframe tbody tr th {\n",
       "        vertical-align: top;\n",
       "    }\n",
       "\n",
       "    .dataframe thead th {\n",
       "        text-align: right;\n",
       "    }\n",
       "</style>\n",
       "<table border=\"1\" class=\"dataframe\">\n",
       "  <thead>\n",
       "    <tr style=\"text-align: right;\">\n",
       "      <th></th>\n",
       "      <th>event_name</th>\n",
       "      <th>sample_cnt</th>\n",
       "      <th>event_type</th>\n",
       "      <th>event_pct</th>\n",
       "    </tr>\n",
       "  </thead>\n",
       "  <tbody>\n",
       "    <tr>\n",
       "      <th>0</th>\n",
       "      <td>Ad End</td>\n",
       "      <td>15165</td>\n",
       "      <td>custom_event</td>\n",
       "      <td>0.258947</td>\n",
       "    </tr>\n",
       "    <tr>\n",
       "      <th>1</th>\n",
       "      <td>Ad Start</td>\n",
       "      <td>15016</td>\n",
       "      <td>custom_event</td>\n",
       "      <td>0.256403</td>\n",
       "    </tr>\n",
       "    <tr>\n",
       "      <th>2</th>\n",
       "      <td>Page Load</td>\n",
       "      <td>8652</td>\n",
       "      <td>custom_event</td>\n",
       "      <td>0.147736</td>\n",
       "    </tr>\n",
       "    <tr>\n",
       "      <th>3</th>\n",
       "      <td>Ad Pod Start</td>\n",
       "      <td>3804</td>\n",
       "      <td>custom_event</td>\n",
       "      <td>0.064955</td>\n",
       "    </tr>\n",
       "    <tr>\n",
       "      <th>4</th>\n",
       "      <td>Ad Pod End</td>\n",
       "      <td>3525</td>\n",
       "      <td>custom_event</td>\n",
       "      <td>0.060191</td>\n",
       "    </tr>\n",
       "    <tr>\n",
       "      <th>5</th>\n",
       "      <td>Video Preview</td>\n",
       "      <td>3010</td>\n",
       "      <td>custom_event</td>\n",
       "      <td>0.051397</td>\n",
       "    </tr>\n",
       "    <tr>\n",
       "      <th>6</th>\n",
       "      <td>Content Click</td>\n",
       "      <td>2547</td>\n",
       "      <td>custom_event</td>\n",
       "      <td>0.043491</td>\n",
       "    </tr>\n",
       "    <tr>\n",
       "      <th>7</th>\n",
       "      <td>Launch</td>\n",
       "      <td>1620</td>\n",
       "      <td>custom_event</td>\n",
       "      <td>0.027662</td>\n",
       "    </tr>\n",
       "    <tr>\n",
       "      <th>8</th>\n",
       "      <td>Video Start</td>\n",
       "      <td>1539</td>\n",
       "      <td>custom_event</td>\n",
       "      <td>0.026279</td>\n",
       "    </tr>\n",
       "    <tr>\n",
       "      <th>9</th>\n",
       "      <td>Video End</td>\n",
       "      <td>1473</td>\n",
       "      <td>custom_event</td>\n",
       "      <td>0.025152</td>\n",
       "    </tr>\n",
       "    <tr>\n",
       "      <th>10</th>\n",
       "      <td>End Card</td>\n",
       "      <td>528</td>\n",
       "      <td>custom_event</td>\n",
       "      <td>0.009016</td>\n",
       "    </tr>\n",
       "    <tr>\n",
       "      <th>11</th>\n",
       "      <td>Error</td>\n",
       "      <td>372</td>\n",
       "      <td>custom_event</td>\n",
       "      <td>0.006352</td>\n",
       "    </tr>\n",
       "    <tr>\n",
       "      <th>12</th>\n",
       "      <td>Click Action</td>\n",
       "      <td>252</td>\n",
       "      <td>custom_event</td>\n",
       "      <td>0.004303</td>\n",
       "    </tr>\n",
       "    <tr>\n",
       "      <th>13</th>\n",
       "      <td>Linear Program End</td>\n",
       "      <td>207</td>\n",
       "      <td>custom_event</td>\n",
       "      <td>0.003535</td>\n",
       "    </tr>\n",
       "    <tr>\n",
       "      <th>14</th>\n",
       "      <td>Linear End</td>\n",
       "      <td>200</td>\n",
       "      <td>custom_event</td>\n",
       "      <td>0.003415</td>\n",
       "    </tr>\n",
       "    <tr>\n",
       "      <th>15</th>\n",
       "      <td>Linear Program Start</td>\n",
       "      <td>176</td>\n",
       "      <td>custom_event</td>\n",
       "      <td>0.003005</td>\n",
       "    </tr>\n",
       "    <tr>\n",
       "      <th>16</th>\n",
       "      <td>Linear Start</td>\n",
       "      <td>168</td>\n",
       "      <td>custom_event</td>\n",
       "      <td>0.002869</td>\n",
       "    </tr>\n",
       "    <tr>\n",
       "      <th>17</th>\n",
       "      <td>Search Result</td>\n",
       "      <td>138</td>\n",
       "      <td>custom_event</td>\n",
       "      <td>0.002356</td>\n",
       "    </tr>\n",
       "    <tr>\n",
       "      <th>18</th>\n",
       "      <td>Authentication Success</td>\n",
       "      <td>53</td>\n",
       "      <td>custom_event</td>\n",
       "      <td>0.000905</td>\n",
       "    </tr>\n",
       "    <tr>\n",
       "      <th>19</th>\n",
       "      <td>MVPD Page Abandoned</td>\n",
       "      <td>42</td>\n",
       "      <td>custom_event</td>\n",
       "      <td>0.000717</td>\n",
       "    </tr>\n",
       "    <tr>\n",
       "      <th>20</th>\n",
       "      <td>Conversion</td>\n",
       "      <td>25</td>\n",
       "      <td>custom_event</td>\n",
       "      <td>0.000427</td>\n",
       "    </tr>\n",
       "    <tr>\n",
       "      <th>21</th>\n",
       "      <td>NBC Authentication Success</td>\n",
       "      <td>24</td>\n",
       "      <td>custom_event</td>\n",
       "      <td>0.000410</td>\n",
       "    </tr>\n",
       "    <tr>\n",
       "      <th>22</th>\n",
       "      <td>Error CPC</td>\n",
       "      <td>11</td>\n",
       "      <td>custom_event</td>\n",
       "      <td>0.000188</td>\n",
       "    </tr>\n",
       "    <tr>\n",
       "      <th>23</th>\n",
       "      <td>Registration Success</td>\n",
       "      <td>9</td>\n",
       "      <td>custom_event</td>\n",
       "      <td>0.000154</td>\n",
       "    </tr>\n",
       "    <tr>\n",
       "      <th>24</th>\n",
       "      <td>Error IDM</td>\n",
       "      <td>3</td>\n",
       "      <td>custom_event</td>\n",
       "      <td>0.000051</td>\n",
       "    </tr>\n",
       "    <tr>\n",
       "      <th>25</th>\n",
       "      <td>NBC Sign Out</td>\n",
       "      <td>3</td>\n",
       "      <td>custom_event</td>\n",
       "      <td>0.000051</td>\n",
       "    </tr>\n",
       "    <tr>\n",
       "      <th>26</th>\n",
       "      <td>Item Favorited</td>\n",
       "      <td>2</td>\n",
       "      <td>custom_event</td>\n",
       "      <td>0.000034</td>\n",
       "    </tr>\n",
       "  </tbody>\n",
       "</table>\n",
       "</div>"
      ],
      "text/plain": [
       "                    event_name  sample_cnt    event_type  event_pct\n",
       "0                       Ad End       15165  custom_event   0.258947\n",
       "1                     Ad Start       15016  custom_event   0.256403\n",
       "2                    Page Load        8652  custom_event   0.147736\n",
       "3                 Ad Pod Start        3804  custom_event   0.064955\n",
       "4                   Ad Pod End        3525  custom_event   0.060191\n",
       "5                Video Preview        3010  custom_event   0.051397\n",
       "6                Content Click        2547  custom_event   0.043491\n",
       "7                       Launch        1620  custom_event   0.027662\n",
       "8                  Video Start        1539  custom_event   0.026279\n",
       "9                    Video End        1473  custom_event   0.025152\n",
       "10                    End Card         528  custom_event   0.009016\n",
       "11                       Error         372  custom_event   0.006352\n",
       "12                Click Action         252  custom_event   0.004303\n",
       "13          Linear Program End         207  custom_event   0.003535\n",
       "14                  Linear End         200  custom_event   0.003415\n",
       "15        Linear Program Start         176  custom_event   0.003005\n",
       "16                Linear Start         168  custom_event   0.002869\n",
       "17               Search Result         138  custom_event   0.002356\n",
       "18      Authentication Success          53  custom_event   0.000905\n",
       "19         MVPD Page Abandoned          42  custom_event   0.000717\n",
       "20                  Conversion          25  custom_event   0.000427\n",
       "21  NBC Authentication Success          24  custom_event   0.000410\n",
       "22                   Error CPC          11  custom_event   0.000188\n",
       "23        Registration Success           9  custom_event   0.000154\n",
       "24                   Error IDM           3  custom_event   0.000051\n",
       "25                NBC Sign Out           3  custom_event   0.000051\n",
       "26              Item Favorited           2  custom_event   0.000034"
      ]
     },
     "execution_count": 11,
     "metadata": {},
     "output_type": "execute_result"
    }
   ],
   "source": [
    "event_name = pd.read_csv(StringIO(\"\"\"event_name;sample_cnt\n",
    "Ad End;15165 \n",
    "Ad Start;15016 \n",
    "Page Load;8652 \n",
    "Ad Pod Start;3804 \n",
    "Ad Pod End;3525 \n",
    "Video Preview;3010 \n",
    "Content Click;2547 \n",
    "Launch;1620 \n",
    "Video Start;1539 \n",
    "Video End;1473 \n",
    "End Card;528 \n",
    "Error;372 \n",
    "Click Action;252 \n",
    "Linear Program End;207 \n",
    "Linear End;200 \n",
    "Linear Program Start;176 \n",
    "Linear Start;168 \n",
    "Search Result;138 \n",
    "Authentication Success;53\n",
    "MVPD Page Abandoned;42 \n",
    "Conversion;25 \n",
    "NBC Authentication Success;24 \n",
    "Error CPC;11 \n",
    "Registration Success;9 \n",
    "Error IDM;3 \n",
    "NBC Sign Out;3 \n",
    "Item Favorited;2\"\"\"), sep=';')\n",
    "event_name['event_type'] = 'custom_event'\n",
    "event_name['event_pct'] = event_name.sample_cnt / event_name.sample_cnt.sum()\n",
    "event_name"
   ]
  },
  {
   "cell_type": "code",
   "execution_count": 12,
   "metadata": {},
   "outputs": [
    {
     "name": "stdout",
     "output_type": "stream",
     "text": [
      "38718794\n"
     ]
    }
   ],
   "source": [
    "ve_ratio = event_name[event_name.event_name == 'Video End'].iloc[0].event_pct\n",
    "cust_events_per_day = records_per_day/ ve_ratio\n",
    "cust_events_per_day\n",
    "event_name['est_events_per_day'] = (event_name.event_pct * cust_events_per_day).round().astype(np.int)\n",
    "\n",
    "print(event_name.est_events_per_day.sum())\n",
    "#event_name"
   ]
  },
  {
   "cell_type": "code",
   "execution_count": 13,
   "metadata": {},
   "outputs": [
    {
     "data": {
      "text/plain": [
       "38718794"
      ]
     },
     "execution_count": 13,
     "metadata": {},
     "output_type": "execute_result"
    }
   ],
   "source": [
    "total_custom_events = event_name.est_events_per_day.sum()\n",
    "total_custom_events"
   ]
  },
  {
   "cell_type": "code",
   "execution_count": 14,
   "metadata": {},
   "outputs": [
    {
     "data": {
      "text/plain": [
       "59523008.709103845"
      ]
     },
     "execution_count": 14,
     "metadata": {},
     "output_type": "execute_result"
    }
   ],
   "source": [
    "custom_event_ratio = event_type.query('event_type==\"custom_event\"').event_type_pct[0]\n",
    "total_event_types = total_custom_events / custom_event_ratio\n",
    "total_event_types"
   ]
  },
  {
   "cell_type": "code",
   "execution_count": 15,
   "metadata": {},
   "outputs": [],
   "source": [
    "event_type['est_events_per_day'] = (event_type.event_type_pct * total_event_types).round().astype(np.int)\n",
    "event_type['event_name'] = event_type.event_type\n",
    "#event_type"
   ]
  },
  {
   "cell_type": "code",
   "execution_count": 35,
   "metadata": {},
   "outputs": [
    {
     "data": {
      "text/html": [
       "<div>\n",
       "<style scoped>\n",
       "    .dataframe tbody tr th:only-of-type {\n",
       "        vertical-align: middle;\n",
       "    }\n",
       "\n",
       "    .dataframe tbody tr th {\n",
       "        vertical-align: top;\n",
       "    }\n",
       "\n",
       "    .dataframe thead th {\n",
       "        text-align: right;\n",
       "    }\n",
       "</style>\n",
       "<table border=\"1\" class=\"dataframe\">\n",
       "  <thead>\n",
       "    <tr style=\"text-align: right;\">\n",
       "      <th></th>\n",
       "      <th>event_name</th>\n",
       "      <th>est_events_per_day</th>\n",
       "      <th>est_events_per_hour</th>\n",
       "      <th>est_events_per_sec</th>\n",
       "    </tr>\n",
       "  </thead>\n",
       "  <tbody>\n",
       "    <tr>\n",
       "      <th>0</th>\n",
       "      <td>Ad End</td>\n",
       "      <td>10026134</td>\n",
       "      <td>417755.6</td>\n",
       "      <td>116.0</td>\n",
       "    </tr>\n",
       "    <tr>\n",
       "      <th>1</th>\n",
       "      <td>Ad Start</td>\n",
       "      <td>9927625</td>\n",
       "      <td>413651.0</td>\n",
       "      <td>114.9</td>\n",
       "    </tr>\n",
       "    <tr>\n",
       "      <th>2</th>\n",
       "      <td>Video Start</td>\n",
       "      <td>1017489</td>\n",
       "      <td>42395.4</td>\n",
       "      <td>11.8</td>\n",
       "    </tr>\n",
       "    <tr>\n",
       "      <th>3</th>\n",
       "      <td>Video End</td>\n",
       "      <td>973854</td>\n",
       "      <td>40577.2</td>\n",
       "      <td>11.3</td>\n",
       "    </tr>\n",
       "    <tr>\n",
       "      <th>4</th>\n",
       "      <td>End Card</td>\n",
       "      <td>349080</td>\n",
       "      <td>14545.0</td>\n",
       "      <td>4.0</td>\n",
       "    </tr>\n",
       "  </tbody>\n",
       "</table>\n",
       "</div>"
      ],
      "text/plain": [
       "    event_name  est_events_per_day  est_events_per_hour  est_events_per_sec\n",
       "0       Ad End            10026134             417755.6               116.0\n",
       "1     Ad Start             9927625             413651.0               114.9\n",
       "2  Video Start             1017489              42395.4                11.8\n",
       "3    Video End              973854              40577.2                11.3\n",
       "4     End Card              349080              14545.0                 4.0"
      ]
     },
     "execution_count": 35,
     "metadata": {},
     "output_type": "execute_result"
    }
   ],
   "source": [
    "cols = ['event_type', 'event_name', 'est_events_per_day']\n",
    "\n",
    "estimates = pd.concat( [event_type.iloc[1:][cols],event_name[cols]]).sort_values(['est_events_per_day'], ascending=False)\n",
    "estimates['est_events_per_hour'] = (estimates.est_events_per_day / 24).round(1)\n",
    "estimates['est_events_per_sec'] =estimates['est_events_per_sec'] = (estimates['est_events_per_hour'] / (60*60)).round(1)\n",
    "estimates['in_scope'] = estimates.event_name.isin({'Video End','Video Start', 'End Card','Ad End', 'Ad Start'})\n",
    "estimates  = estimates.reset_index(drop=True)\n",
    "estimates.index.name = 'idx'\n",
    "estimates = estimates[estimates.in_scope].reset_index(drop=True).drop(columns=['event_type', 'in_scope'])\n",
    "estimates"
   ]
  },
  {
   "cell_type": "code",
   "execution_count": 39,
   "metadata": {},
   "outputs": [
    {
     "data": {
      "text/html": [
       "<div>\n",
       "<style scoped>\n",
       "    .dataframe tbody tr th:only-of-type {\n",
       "        vertical-align: middle;\n",
       "    }\n",
       "\n",
       "    .dataframe tbody tr th {\n",
       "        vertical-align: top;\n",
       "    }\n",
       "\n",
       "    .dataframe thead th {\n",
       "        text-align: right;\n",
       "    }\n",
       "</style>\n",
       "<table border=\"1\" class=\"dataframe\">\n",
       "  <thead>\n",
       "    <tr style=\"text-align: right;\">\n",
       "      <th></th>\n",
       "      <th>event_name</th>\n",
       "      <th>est_events_per_day</th>\n",
       "      <th>est_events_per_hour</th>\n",
       "      <th>est_events_per_sec</th>\n",
       "      <th>release_id</th>\n",
       "      <th>in_release</th>\n",
       "    </tr>\n",
       "  </thead>\n",
       "  <tbody>\n",
       "    <tr>\n",
       "      <th>0</th>\n",
       "      <td>Ad End</td>\n",
       "      <td>10026134</td>\n",
       "      <td>417755.6</td>\n",
       "      <td>116.0</td>\n",
       "      <td>ad_tolerance_agg</td>\n",
       "      <td>True</td>\n",
       "    </tr>\n",
       "    <tr>\n",
       "      <th>1</th>\n",
       "      <td>Ad Start</td>\n",
       "      <td>9927625</td>\n",
       "      <td>413651.0</td>\n",
       "      <td>114.9</td>\n",
       "      <td>ad_tolerance_agg</td>\n",
       "      <td>True</td>\n",
       "    </tr>\n",
       "    <tr>\n",
       "      <th>2</th>\n",
       "      <td>Video Start</td>\n",
       "      <td>1017489</td>\n",
       "      <td>42395.4</td>\n",
       "      <td>11.8</td>\n",
       "      <td>release_1031</td>\n",
       "      <td>True</td>\n",
       "    </tr>\n",
       "    <tr>\n",
       "      <th>2</th>\n",
       "      <td>Video Start</td>\n",
       "      <td>1017489</td>\n",
       "      <td>42395.4</td>\n",
       "      <td>11.8</td>\n",
       "      <td>by_time_period_agg</td>\n",
       "      <td>True</td>\n",
       "    </tr>\n",
       "    <tr>\n",
       "      <th>2</th>\n",
       "      <td>Video Start</td>\n",
       "      <td>1017489</td>\n",
       "      <td>42395.4</td>\n",
       "      <td>11.8</td>\n",
       "      <td>ad_tolerance_agg</td>\n",
       "      <td>True</td>\n",
       "    </tr>\n",
       "    <tr>\n",
       "      <th>3</th>\n",
       "      <td>Video End</td>\n",
       "      <td>973854</td>\n",
       "      <td>40577.2</td>\n",
       "      <td>11.3</td>\n",
       "      <td>stress_test</td>\n",
       "      <td>True</td>\n",
       "    </tr>\n",
       "    <tr>\n",
       "      <th>3</th>\n",
       "      <td>Video End</td>\n",
       "      <td>973854</td>\n",
       "      <td>40577.2</td>\n",
       "      <td>11.3</td>\n",
       "      <td>by_time_period_agg</td>\n",
       "      <td>True</td>\n",
       "    </tr>\n",
       "    <tr>\n",
       "      <th>3</th>\n",
       "      <td>Video End</td>\n",
       "      <td>973854</td>\n",
       "      <td>40577.2</td>\n",
       "      <td>11.3</td>\n",
       "      <td>ad_tolerance_agg</td>\n",
       "      <td>True</td>\n",
       "    </tr>\n",
       "    <tr>\n",
       "      <th>4</th>\n",
       "      <td>End Card</td>\n",
       "      <td>349080</td>\n",
       "      <td>14545.0</td>\n",
       "      <td>4.0</td>\n",
       "      <td>by_time_period_agg</td>\n",
       "      <td>True</td>\n",
       "    </tr>\n",
       "    <tr>\n",
       "      <th>4</th>\n",
       "      <td>End Card</td>\n",
       "      <td>349080</td>\n",
       "      <td>14545.0</td>\n",
       "      <td>4.0</td>\n",
       "      <td>ad_tolerance_agg</td>\n",
       "      <td>True</td>\n",
       "    </tr>\n",
       "  </tbody>\n",
       "</table>\n",
       "</div>"
      ],
      "text/plain": [
       "    event_name  est_events_per_day  est_events_per_hour  est_events_per_sec  \\\n",
       "0       Ad End            10026134             417755.6               116.0   \n",
       "1     Ad Start             9927625             413651.0               114.9   \n",
       "2  Video Start             1017489              42395.4                11.8   \n",
       "2  Video Start             1017489              42395.4                11.8   \n",
       "2  Video Start             1017489              42395.4                11.8   \n",
       "3    Video End              973854              40577.2                11.3   \n",
       "3    Video End              973854              40577.2                11.3   \n",
       "3    Video End              973854              40577.2                11.3   \n",
       "4     End Card              349080              14545.0                 4.0   \n",
       "4     End Card              349080              14545.0                 4.0   \n",
       "\n",
       "           release_id  in_release  \n",
       "0    ad_tolerance_agg        True  \n",
       "1    ad_tolerance_agg        True  \n",
       "2        release_1031        True  \n",
       "2  by_time_period_agg        True  \n",
       "2    ad_tolerance_agg        True  \n",
       "3         stress_test        True  \n",
       "3  by_time_period_agg        True  \n",
       "3    ad_tolerance_agg        True  \n",
       "4  by_time_period_agg        True  \n",
       "4    ad_tolerance_agg        True  "
      ]
     },
     "execution_count": 39,
     "metadata": {},
     "output_type": "execute_result"
    }
   ],
   "source": [
    "df = pd.DataFrame({\n",
    "'stress_test'  :estimates.event_name.isin({'Video End'}),\n",
    "'release_1031' : estimates.event_name.isin({'Video Start'}),\n",
    "'by_time_period_agg': estimates.event_name.isin({'Video Start','Video End', 'End Card'}),\n",
    "'ad_tolerance_agg':estimates.event_name.isin({'Video Start', 'Video End', 'Ad Start', 'Ad End', 'End Card'}),\n",
    "})\n",
    "df.columns.name = 'release_id'\n",
    "df = df.stack().to_frame('in_release')\n",
    "df = df.reset_index('release_id')\n",
    "\n",
    "release_est = estimates.join(df)\n",
    "release_est = release_est[release_est.in_release]\n",
    "release_est"
   ]
  },
  {
   "cell_type": "code",
   "execution_count": 40,
   "metadata": {},
   "outputs": [
    {
     "data": {
      "text/html": [
       "<div>\n",
       "<style scoped>\n",
       "    .dataframe tbody tr th:only-of-type {\n",
       "        vertical-align: middle;\n",
       "    }\n",
       "\n",
       "    .dataframe tbody tr th {\n",
       "        vertical-align: top;\n",
       "    }\n",
       "\n",
       "    .dataframe thead th {\n",
       "        text-align: right;\n",
       "    }\n",
       "</style>\n",
       "<table border=\"1\" class=\"dataframe\">\n",
       "  <thead>\n",
       "    <tr style=\"text-align: right;\">\n",
       "      <th></th>\n",
       "      <th>release_id</th>\n",
       "      <th>release</th>\n",
       "      <th>po1_expansion</th>\n",
       "      <th>aggregation</th>\n",
       "      <th>event_name</th>\n",
       "      <th>est_events_per_day</th>\n",
       "      <th>est_events_per_hour</th>\n",
       "      <th>est_events_per_sec</th>\n",
       "      <th>in_release</th>\n",
       "      <th>est_po1_events_per_sec</th>\n",
       "    </tr>\n",
       "  </thead>\n",
       "  <tbody>\n",
       "    <tr>\n",
       "      <th>0</th>\n",
       "      <td>stress_test</td>\n",
       "      <td>Stress Test</td>\n",
       "      <td>2.0</td>\n",
       "      <td>Post Aggregation</td>\n",
       "      <td>Video End</td>\n",
       "      <td>973854</td>\n",
       "      <td>40577.2</td>\n",
       "      <td>11.3</td>\n",
       "      <td>True</td>\n",
       "      <td>22.6</td>\n",
       "    </tr>\n",
       "    <tr>\n",
       "      <th>1</th>\n",
       "      <td>release_1031</td>\n",
       "      <td>Oct 31 Release</td>\n",
       "      <td>5.0</td>\n",
       "      <td>Post Aggregation</td>\n",
       "      <td>Video Start</td>\n",
       "      <td>1017489</td>\n",
       "      <td>42395.4</td>\n",
       "      <td>11.8</td>\n",
       "      <td>True</td>\n",
       "      <td>59.0</td>\n",
       "    </tr>\n",
       "    <tr>\n",
       "      <th>2</th>\n",
       "      <td>by_time_period_agg</td>\n",
       "      <td>By Time Period</td>\n",
       "      <td>20.0</td>\n",
       "      <td>Pre Aggregation</td>\n",
       "      <td>Video Start</td>\n",
       "      <td>1017489</td>\n",
       "      <td>42395.4</td>\n",
       "      <td>11.8</td>\n",
       "      <td>True</td>\n",
       "      <td>236.0</td>\n",
       "    </tr>\n",
       "    <tr>\n",
       "      <th>3</th>\n",
       "      <td>by_time_period_agg</td>\n",
       "      <td>By Time Period</td>\n",
       "      <td>20.0</td>\n",
       "      <td>Pre Aggregation</td>\n",
       "      <td>Video End</td>\n",
       "      <td>973854</td>\n",
       "      <td>40577.2</td>\n",
       "      <td>11.3</td>\n",
       "      <td>True</td>\n",
       "      <td>226.0</td>\n",
       "    </tr>\n",
       "    <tr>\n",
       "      <th>4</th>\n",
       "      <td>by_time_period_agg</td>\n",
       "      <td>By Time Period</td>\n",
       "      <td>20.0</td>\n",
       "      <td>Pre Aggregation</td>\n",
       "      <td>End Card</td>\n",
       "      <td>349080</td>\n",
       "      <td>14545.0</td>\n",
       "      <td>4.0</td>\n",
       "      <td>True</td>\n",
       "      <td>80.0</td>\n",
       "    </tr>\n",
       "    <tr>\n",
       "      <th>5</th>\n",
       "      <td>ad_tolerance_agg</td>\n",
       "      <td>Ad Tolerance</td>\n",
       "      <td>30.0</td>\n",
       "      <td>Pre Aggregation</td>\n",
       "      <td>Ad End</td>\n",
       "      <td>10026134</td>\n",
       "      <td>417755.6</td>\n",
       "      <td>116.0</td>\n",
       "      <td>True</td>\n",
       "      <td>3480.0</td>\n",
       "    </tr>\n",
       "    <tr>\n",
       "      <th>6</th>\n",
       "      <td>ad_tolerance_agg</td>\n",
       "      <td>Ad Tolerance</td>\n",
       "      <td>30.0</td>\n",
       "      <td>Pre Aggregation</td>\n",
       "      <td>Ad Start</td>\n",
       "      <td>9927625</td>\n",
       "      <td>413651.0</td>\n",
       "      <td>114.9</td>\n",
       "      <td>True</td>\n",
       "      <td>3447.0</td>\n",
       "    </tr>\n",
       "    <tr>\n",
       "      <th>7</th>\n",
       "      <td>ad_tolerance_agg</td>\n",
       "      <td>Ad Tolerance</td>\n",
       "      <td>30.0</td>\n",
       "      <td>Pre Aggregation</td>\n",
       "      <td>Video Start</td>\n",
       "      <td>1017489</td>\n",
       "      <td>42395.4</td>\n",
       "      <td>11.8</td>\n",
       "      <td>True</td>\n",
       "      <td>354.0</td>\n",
       "    </tr>\n",
       "    <tr>\n",
       "      <th>8</th>\n",
       "      <td>ad_tolerance_agg</td>\n",
       "      <td>Ad Tolerance</td>\n",
       "      <td>30.0</td>\n",
       "      <td>Pre Aggregation</td>\n",
       "      <td>Video End</td>\n",
       "      <td>973854</td>\n",
       "      <td>40577.2</td>\n",
       "      <td>11.3</td>\n",
       "      <td>True</td>\n",
       "      <td>339.0</td>\n",
       "    </tr>\n",
       "    <tr>\n",
       "      <th>9</th>\n",
       "      <td>ad_tolerance_agg</td>\n",
       "      <td>Ad Tolerance</td>\n",
       "      <td>30.0</td>\n",
       "      <td>Pre Aggregation</td>\n",
       "      <td>End Card</td>\n",
       "      <td>349080</td>\n",
       "      <td>14545.0</td>\n",
       "      <td>4.0</td>\n",
       "      <td>True</td>\n",
       "      <td>120.0</td>\n",
       "    </tr>\n",
       "  </tbody>\n",
       "</table>\n",
       "</div>"
      ],
      "text/plain": [
       "           release_id         release  po1_expansion       aggregation  \\\n",
       "0         stress_test     Stress Test            2.0  Post Aggregation   \n",
       "1        release_1031  Oct 31 Release            5.0  Post Aggregation   \n",
       "2  by_time_period_agg  By Time Period           20.0   Pre Aggregation   \n",
       "3  by_time_period_agg  By Time Period           20.0   Pre Aggregation   \n",
       "4  by_time_period_agg  By Time Period           20.0   Pre Aggregation   \n",
       "5    ad_tolerance_agg    Ad Tolerance           30.0   Pre Aggregation   \n",
       "6    ad_tolerance_agg    Ad Tolerance           30.0   Pre Aggregation   \n",
       "7    ad_tolerance_agg    Ad Tolerance           30.0   Pre Aggregation   \n",
       "8    ad_tolerance_agg    Ad Tolerance           30.0   Pre Aggregation   \n",
       "9    ad_tolerance_agg    Ad Tolerance           30.0   Pre Aggregation   \n",
       "\n",
       "    event_name  est_events_per_day  est_events_per_hour  est_events_per_sec  \\\n",
       "0    Video End              973854              40577.2                11.3   \n",
       "1  Video Start             1017489              42395.4                11.8   \n",
       "2  Video Start             1017489              42395.4                11.8   \n",
       "3    Video End              973854              40577.2                11.3   \n",
       "4     End Card              349080              14545.0                 4.0   \n",
       "5       Ad End            10026134             417755.6               116.0   \n",
       "6     Ad Start             9927625             413651.0               114.9   \n",
       "7  Video Start             1017489              42395.4                11.8   \n",
       "8    Video End              973854              40577.2                11.3   \n",
       "9     End Card              349080              14545.0                 4.0   \n",
       "\n",
       "   in_release  est_po1_events_per_sec  \n",
       "0        True                    22.6  \n",
       "1        True                    59.0  \n",
       "2        True                   236.0  \n",
       "3        True                   226.0  \n",
       "4        True                    80.0  \n",
       "5        True                  3480.0  \n",
       "6        True                  3447.0  \n",
       "7        True                   354.0  \n",
       "8        True                   339.0  \n",
       "9        True                   120.0  "
      ]
     },
     "execution_count": 40,
     "metadata": {},
     "output_type": "execute_result"
    }
   ],
   "source": [
    "attr_per_release = [{'release_id': 'stress_test', 'release': 'Stress Test', 'po1_expansion': 2.,'aggregation': 'Post Aggregation'},\n",
    "                    {'release_id': 'release_1031','release': 'Oct 31 Release', 'po1_expansion': 5, 'aggregation': 'Post Aggregation'},\n",
    "                    {'release_id': 'by_time_period_agg', 'release': 'By Time Period',  'po1_expansion': 20, 'aggregation': 'Pre Aggregation'},\n",
    "                    {'release_id': 'ad_tolerance_agg', 'release': 'Ad Tolerance', 'po1_expansion': 30,'aggregation': 'Pre Aggregation'},\n",
    "                   ]\n",
    "\n",
    "df = pd.DataFrame.from_records(attr_per_release)\n",
    "df = df.merge(release_est, on='release_id')\n",
    "df = df[df.in_release]\n",
    "df['est_po1_events_per_sec'] = df['po1_expansion'] * df['est_events_per_sec']\n",
    "DATA = df\n",
    "DATA"
   ]
  },
  {
   "cell_type": "code",
   "execution_count": null,
   "metadata": {},
   "outputs": [],
   "source": []
  },
  {
   "cell_type": "code",
   "execution_count": 19,
   "metadata": {},
   "outputs": [
    {
     "name": "stdout",
     "output_type": "stream",
     "text": [
      "events_per_sec: 22.6\n",
      "events_per_day: 1952640.0000000002\n",
      "events_per_hour: 81360.00000000001\n",
      "events_in_history: 109347840.00000001\n",
      "days_to_reload: 1.8080000000000003\n"
     ]
    }
   ],
   "source": [
    "df = DATA.copy()\n",
    "df = df[df.release_id == 'stress_test']\n",
    "\n",
    "## Calcuate events per day\n",
    "events_per_sec =df.est_po1_events_per_sec.sum()\n",
    "days_in_hist = 8 * 7 \n",
    "secs_in_day = (24 * 60*60)\n",
    "events_per_day = events_per_sec * secs_in_day\n",
    "events_in_hist = events_per_day * days_in_hist\n",
    "\n",
    "print(\"events_per_sec:\", events_per_sec)\n",
    "print(\"events_per_day:\", events_per_day)\n",
    "print(\"events_per_hour:\", events_per_day/24)\n",
    "print(\"events_in_history:\", events_in_hist)\n",
    "rate_per_sec = 700\n",
    "rate_per_day = rate_per_sec * 60 * 60 * 24\n",
    "days_to_reload = events_in_hist / rate_per_day\n",
    "print('days_to_reload:', days_to_reload)"
   ]
  },
  {
   "cell_type": "code",
   "execution_count": 20,
   "metadata": {},
   "outputs": [
    {
     "data": {
      "text/plain": [
       "136.99115044247787"
      ]
     },
     "execution_count": 20,
     "metadata": {},
     "output_type": "execute_result"
    }
   ],
   "source": [
    "14979686400.0/ 109347840"
   ]
  },
  {
   "cell_type": "code",
   "execution_count": 21,
   "metadata": {},
   "outputs": [
    {
     "data": {
      "application/vnd.vegalite.v3+json": {
       "$schema": "https://vega.github.io/schema/vega-lite/v3.4.0.json",
       "config": {
        "mark": {
         "tooltip": null
        },
        "view": {
         "height": 300,
         "width": 400
        }
       },
       "data": {
        "name": "data-076614d7e3b24a780d94788bffcb1c88"
       },
       "datasets": {
        "data-076614d7e3b24a780d94788bffcb1c88": [
         {
          "NBC Event Name": "Video End",
          "NBC Events/Sec": 11.3,
          "Po1 Events/Sec": 22.6,
          "Release": "Stress Test",
          "Tested Throughput": 700,
          "aggregation": "Post Aggregation",
          "est_events_per_day": 973854,
          "est_events_per_hour": 40577.2,
          "event_type": "custom_event",
          "in_release": true,
          "in_scope": true,
          "po1_expansion": 2,
          "release_id": "stress_test"
         },
         {
          "NBC Event Name": "Video End",
          "NBC Events/Sec": 11.3,
          "Po1 Events/Sec": 22.6,
          "Release": "Stress Test",
          "Tested Throughput": 700,
          "aggregation": "Pre Aggregation",
          "est_events_per_day": 973854,
          "est_events_per_hour": 40577.2,
          "event_type": "custom_event",
          "in_release": true,
          "in_scope": true,
          "po1_expansion": 2,
          "release_id": "stress_test_agg"
         },
         {
          "NBC Event Name": "End Card",
          "NBC Events/Sec": 4,
          "Po1 Events/Sec": 8,
          "Release": "Stress Test",
          "Tested Throughput": 700,
          "aggregation": "Pre Aggregation",
          "est_events_per_day": 349080,
          "est_events_per_hour": 14545,
          "event_type": "custom_event",
          "in_release": true,
          "in_scope": true,
          "po1_expansion": 2,
          "release_id": "stress_test_agg"
         },
         {
          "NBC Event Name": "Video Start",
          "NBC Events/Sec": 11.8,
          "Po1 Events/Sec": 59,
          "Release": "Oct 31 Release",
          "Tested Throughput": 700,
          "aggregation": "Post Aggregation",
          "est_events_per_day": 1017489,
          "est_events_per_hour": 42395.4,
          "event_type": "custom_event",
          "in_release": true,
          "in_scope": true,
          "po1_expansion": 5,
          "release_id": "release_1031"
         },
         {
          "NBC Event Name": "Video Start",
          "NBC Events/Sec": 11.8,
          "Po1 Events/Sec": 59,
          "Release": "Oct 31 Release",
          "Tested Throughput": 700,
          "aggregation": "Pre Aggregation",
          "est_events_per_day": 1017489,
          "est_events_per_hour": 42395.4,
          "event_type": "custom_event",
          "in_release": true,
          "in_scope": true,
          "po1_expansion": 5,
          "release_id": "release_1031_agg"
         },
         {
          "NBC Event Name": "End Card",
          "NBC Events/Sec": 4,
          "Po1 Events/Sec": 20,
          "Release": "Oct 31 Release",
          "Tested Throughput": 700,
          "aggregation": "Pre Aggregation",
          "est_events_per_day": 349080,
          "est_events_per_hour": 14545,
          "event_type": "custom_event",
          "in_release": true,
          "in_scope": true,
          "po1_expansion": 5,
          "release_id": "release_1031_agg"
         },
         {
          "NBC Event Name": "Video Start",
          "NBC Events/Sec": 11.8,
          "Po1 Events/Sec": 82.60000000000001,
          "Release": "By Time Period",
          "Tested Throughput": 700,
          "aggregation": "Post Aggregation",
          "est_events_per_day": 1017489,
          "est_events_per_hour": 42395.4,
          "event_type": "custom_event",
          "in_release": true,
          "in_scope": true,
          "po1_expansion": 7,
          "release_id": "by_time_period"
         },
         {
          "NBC Event Name": "Video Start",
          "NBC Events/Sec": 11.8,
          "Po1 Events/Sec": 82.60000000000001,
          "Release": "By Time Period",
          "Tested Throughput": 700,
          "aggregation": "Pre Aggregation",
          "est_events_per_day": 1017489,
          "est_events_per_hour": 42395.4,
          "event_type": "custom_event",
          "in_release": true,
          "in_scope": true,
          "po1_expansion": 7,
          "release_id": "by_time_period_agg"
         },
         {
          "NBC Event Name": "Video End",
          "NBC Events/Sec": 11.3,
          "Po1 Events/Sec": 79.10000000000001,
          "Release": "By Time Period",
          "Tested Throughput": 700,
          "aggregation": "Pre Aggregation",
          "est_events_per_day": 973854,
          "est_events_per_hour": 40577.2,
          "event_type": "custom_event",
          "in_release": true,
          "in_scope": true,
          "po1_expansion": 7,
          "release_id": "by_time_period_agg"
         },
         {
          "NBC Event Name": "End Card",
          "NBC Events/Sec": 4,
          "Po1 Events/Sec": 28,
          "Release": "By Time Period",
          "Tested Throughput": 700,
          "aggregation": "Pre Aggregation",
          "est_events_per_day": 349080,
          "est_events_per_hour": 14545,
          "event_type": "custom_event",
          "in_release": true,
          "in_scope": true,
          "po1_expansion": 7,
          "release_id": "by_time_period_agg"
         },
         {
          "NBC Event Name": "Video Start",
          "NBC Events/Sec": 11.8,
          "Po1 Events/Sec": 141.60000000000002,
          "Release": "Ad Tolerance",
          "Tested Throughput": 700,
          "aggregation": "Post Aggregation",
          "est_events_per_day": 1017489,
          "est_events_per_hour": 42395.4,
          "event_type": "custom_event",
          "in_release": true,
          "in_scope": true,
          "po1_expansion": 12,
          "release_id": "ad_tolerance"
         },
         {
          "NBC Event Name": "Ad End",
          "NBC Events/Sec": 116,
          "Po1 Events/Sec": 1392,
          "Release": "Ad Tolerance",
          "Tested Throughput": 700,
          "aggregation": "Pre Aggregation",
          "est_events_per_day": 10026134,
          "est_events_per_hour": 417755.6,
          "event_type": "custom_event",
          "in_release": true,
          "in_scope": true,
          "po1_expansion": 12,
          "release_id": "ad_tolerance_agg"
         },
         {
          "NBC Event Name": "Ad Start",
          "NBC Events/Sec": 114.9,
          "Po1 Events/Sec": 1378.8000000000002,
          "Release": "Ad Tolerance",
          "Tested Throughput": 700,
          "aggregation": "Pre Aggregation",
          "est_events_per_day": 9927625,
          "est_events_per_hour": 413651,
          "event_type": "custom_event",
          "in_release": true,
          "in_scope": true,
          "po1_expansion": 12,
          "release_id": "ad_tolerance_agg"
         },
         {
          "NBC Event Name": "Video Start",
          "NBC Events/Sec": 11.8,
          "Po1 Events/Sec": 141.60000000000002,
          "Release": "Ad Tolerance",
          "Tested Throughput": 700,
          "aggregation": "Pre Aggregation",
          "est_events_per_day": 1017489,
          "est_events_per_hour": 42395.4,
          "event_type": "custom_event",
          "in_release": true,
          "in_scope": true,
          "po1_expansion": 12,
          "release_id": "ad_tolerance_agg"
         },
         {
          "NBC Event Name": "Video End",
          "NBC Events/Sec": 11.3,
          "Po1 Events/Sec": 135.60000000000002,
          "Release": "Ad Tolerance",
          "Tested Throughput": 700,
          "aggregation": "Pre Aggregation",
          "est_events_per_day": 973854,
          "est_events_per_hour": 40577.2,
          "event_type": "custom_event",
          "in_release": true,
          "in_scope": true,
          "po1_expansion": 12,
          "release_id": "ad_tolerance_agg"
         },
         {
          "NBC Event Name": "End Card",
          "NBC Events/Sec": 4,
          "Po1 Events/Sec": 48,
          "Release": "Ad Tolerance",
          "Tested Throughput": 700,
          "aggregation": "Pre Aggregation",
          "est_events_per_day": 349080,
          "est_events_per_hour": 14545,
          "event_type": "custom_event",
          "in_release": true,
          "in_scope": true,
          "po1_expansion": 12,
          "release_id": "ad_tolerance_agg"
         }
        ]
       },
       "encoding": {
        "color": {
         "field": "NBC Event Name",
         "legend": {
          "orient": "left"
         },
         "type": "nominal"
        },
        "column": {
         "field": "aggregation",
         "sort": [
          "Pre Aggregation",
          "Post Aggregation"
         ],
         "title": null,
         "type": "nominal"
        },
        "x": {
         "field": "Release",
         "type": "nominal"
        },
        "y": {
         "field": "Po1 Events/Sec",
         "scale": {
          "domain": [
           0,
           3500
          ]
         },
         "type": "quantitative"
        }
       },
       "height": 350,
       "mark": "bar",
       "width": 300
      },
      "image/png": "[encoded data removed]",
      "text/plain": [
       "<VegaLite 3 object>\n",
       "\n",
       "If you see this message, it means the renderer has not been properly enabled\n",
       "for the frontend that you are using. For more information, see\n",
       "https://altair-viz.github.io/user_guide/troubleshooting.html\n"
      ]
     },
     "execution_count": 21,
     "metadata": {},
     "output_type": "execute_result"
    }
   ],
   "source": [
    "RAW = DATA.rename(columns={\n",
    "    'est_events_per_sec': 'NBC Events/Sec',\n",
    "    'est_po1_events_per_sec': 'Po1 Events/Sec',\n",
    "    'release': 'Release',\n",
    "    'event_name': 'NBC Event Name'})\n",
    "RAW['Tested Throughput'] = 700\n",
    "\n",
    "event_cat, y_height = 'Po1 Events/Sec', 3500\n",
    "#event_cat, y_height = 'NBC Events/Sec', 300\n",
    "chart_one = alt.Chart(RAW).mark_bar().encode(\n",
    "    column=alt.Color('aggregation', title=None, sort=[\"Pre Aggregation\", \"Post Aggregation\"]),  # The order to sort in\n",
    "    y=alt.Y(event_cat, scale=alt.Scale(domain=(0,y_height))),\n",
    "    x=alt.X('Release'),\n",
    "    color=alt.Color('NBC Event Name', legend=alt.Legend(orient='left'))\n",
    ").properties(width=300, height=350)\n",
    "\n",
    "chart_one"
   ]
  },
  {
   "cell_type": "code",
   "execution_count": 187,
   "metadata": {},
   "outputs": [],
   "source": [
    "def adda_total(col):\n",
    "    dx = df.groupby(['event_name','release',])[col].sum().unstack()\n",
    "    #ds = dx.sum(axis=0)\n",
    "    #ds.name = 'TOTAL'\n",
    "    #dx = dx.append(ds )\n",
    "    #dx = dx.fillna('')\n",
    "    display(dx)\n",
    "\n",
    "#show_est('est_events_per_sec')\n",
    "#show_est('est_po1_events_per_sec')"
   ]
  },
  {
   "cell_type": "code",
   "execution_count": 109,
   "metadata": {},
   "outputs": [
    {
     "ename": "KeyError",
     "evalue": "'colors'",
     "output_type": "error",
     "traceback": [
      "\u001b[0;31m---------------------------------------------------------------------------\u001b[0m",
      "\u001b[0;31mKeyError\u001b[0m                                  Traceback (most recent call last)",
      "\u001b[0;32m~/_NBC/nbc_analysis/venv/lib/python3.7/site-packages/pandas/core/indexes/base.py\u001b[0m in \u001b[0;36mget_loc\u001b[0;34m(self, key, method, tolerance)\u001b[0m\n\u001b[1;32m   2896\u001b[0m             \u001b[0;32mtry\u001b[0m\u001b[0;34m:\u001b[0m\u001b[0;34m\u001b[0m\u001b[0;34m\u001b[0m\u001b[0m\n\u001b[0;32m-> 2897\u001b[0;31m                 \u001b[0;32mreturn\u001b[0m \u001b[0mself\u001b[0m\u001b[0;34m.\u001b[0m\u001b[0m_engine\u001b[0m\u001b[0;34m.\u001b[0m\u001b[0mget_loc\u001b[0m\u001b[0;34m(\u001b[0m\u001b[0mkey\u001b[0m\u001b[0;34m)\u001b[0m\u001b[0;34m\u001b[0m\u001b[0;34m\u001b[0m\u001b[0m\n\u001b[0m\u001b[1;32m   2898\u001b[0m             \u001b[0;32mexcept\u001b[0m \u001b[0mKeyError\u001b[0m\u001b[0;34m:\u001b[0m\u001b[0;34m\u001b[0m\u001b[0;34m\u001b[0m\u001b[0m\n",
      "\u001b[0;32mpandas/_libs/index.pyx\u001b[0m in \u001b[0;36mpandas._libs.index.IndexEngine.get_loc\u001b[0;34m()\u001b[0m\n",
      "\u001b[0;32mpandas/_libs/index.pyx\u001b[0m in \u001b[0;36mpandas._libs.index.IndexEngine.get_loc\u001b[0;34m()\u001b[0m\n",
      "\u001b[0;32mpandas/_libs/hashtable_class_helper.pxi\u001b[0m in \u001b[0;36mpandas._libs.hashtable.PyObjectHashTable.get_item\u001b[0;34m()\u001b[0m\n",
      "\u001b[0;32mpandas/_libs/hashtable_class_helper.pxi\u001b[0m in \u001b[0;36mpandas._libs.hashtable.PyObjectHashTable.get_item\u001b[0;34m()\u001b[0m\n",
      "\u001b[0;31mKeyError\u001b[0m: 'colors'",
      "\nDuring handling of the above exception, another exception occurred:\n",
      "\u001b[0;31mKeyError\u001b[0m                                  Traceback (most recent call last)",
      "\u001b[0;32m<ipython-input-109-cf9958688dbc>\u001b[0m in \u001b[0;36m<module>\u001b[0;34m\u001b[0m\n\u001b[1;32m      9\u001b[0m \u001b[0mx\u001b[0m\u001b[0;34m[\u001b[0m\u001b[0;34m'event_name'\u001b[0m\u001b[0;34m]\u001b[0m \u001b[0;34m=\u001b[0m \u001b[0;34m'ALL OTHER EVENTS'\u001b[0m\u001b[0;34m\u001b[0m\u001b[0;34m\u001b[0m\u001b[0m\n\u001b[1;32m     10\u001b[0m \u001b[0mestimates\u001b[0m \u001b[0;34m=\u001b[0m \u001b[0mestimates\u001b[0m\u001b[0;34m[\u001b[0m\u001b[0;34m~\u001b[0m\u001b[0mmask\u001b[0m\u001b[0;34m]\u001b[0m\u001b[0;34m.\u001b[0m\u001b[0mappend\u001b[0m\u001b[0;34m(\u001b[0m\u001b[0mx\u001b[0m\u001b[0;34m)\u001b[0m\u001b[0;34m\u001b[0m\u001b[0;34m\u001b[0m\u001b[0m\n\u001b[0;32m---> 11\u001b[0;31m \u001b[0mestimates\u001b[0m \u001b[0;34m=\u001b[0m \u001b[0mestimates\u001b[0m\u001b[0;34m[\u001b[0m\u001b[0mestimates\u001b[0m\u001b[0;34m[\u001b[0m\u001b[0;34m'colors'\u001b[0m\u001b[0;34m]\u001b[0m \u001b[0;34m==\u001b[0m \u001b[0;34m'r'\u001b[0m\u001b[0;34m]\u001b[0m\u001b[0;34m\u001b[0m\u001b[0;34m\u001b[0m\u001b[0m\n\u001b[0m\u001b[1;32m     12\u001b[0m \u001b[0mestimates\u001b[0m\u001b[0;34m\u001b[0m\u001b[0;34m\u001b[0m\u001b[0m\n",
      "\u001b[0;32m~/_NBC/nbc_analysis/venv/lib/python3.7/site-packages/pandas/core/frame.py\u001b[0m in \u001b[0;36m__getitem__\u001b[0;34m(self, key)\u001b[0m\n\u001b[1;32m   2978\u001b[0m             \u001b[0;32mif\u001b[0m \u001b[0mself\u001b[0m\u001b[0;34m.\u001b[0m\u001b[0mcolumns\u001b[0m\u001b[0;34m.\u001b[0m\u001b[0mnlevels\u001b[0m \u001b[0;34m>\u001b[0m \u001b[0;36m1\u001b[0m\u001b[0;34m:\u001b[0m\u001b[0;34m\u001b[0m\u001b[0;34m\u001b[0m\u001b[0m\n\u001b[1;32m   2979\u001b[0m                 \u001b[0;32mreturn\u001b[0m \u001b[0mself\u001b[0m\u001b[0;34m.\u001b[0m\u001b[0m_getitem_multilevel\u001b[0m\u001b[0;34m(\u001b[0m\u001b[0mkey\u001b[0m\u001b[0;34m)\u001b[0m\u001b[0;34m\u001b[0m\u001b[0;34m\u001b[0m\u001b[0m\n\u001b[0;32m-> 2980\u001b[0;31m             \u001b[0mindexer\u001b[0m \u001b[0;34m=\u001b[0m \u001b[0mself\u001b[0m\u001b[0;34m.\u001b[0m\u001b[0mcolumns\u001b[0m\u001b[0;34m.\u001b[0m\u001b[0mget_loc\u001b[0m\u001b[0;34m(\u001b[0m\u001b[0mkey\u001b[0m\u001b[0;34m)\u001b[0m\u001b[0;34m\u001b[0m\u001b[0;34m\u001b[0m\u001b[0m\n\u001b[0m\u001b[1;32m   2981\u001b[0m             \u001b[0;32mif\u001b[0m \u001b[0mis_integer\u001b[0m\u001b[0;34m(\u001b[0m\u001b[0mindexer\u001b[0m\u001b[0;34m)\u001b[0m\u001b[0;34m:\u001b[0m\u001b[0;34m\u001b[0m\u001b[0;34m\u001b[0m\u001b[0m\n\u001b[1;32m   2982\u001b[0m                 \u001b[0mindexer\u001b[0m \u001b[0;34m=\u001b[0m \u001b[0;34m[\u001b[0m\u001b[0mindexer\u001b[0m\u001b[0;34m]\u001b[0m\u001b[0;34m\u001b[0m\u001b[0;34m\u001b[0m\u001b[0m\n",
      "\u001b[0;32m~/_NBC/nbc_analysis/venv/lib/python3.7/site-packages/pandas/core/indexes/base.py\u001b[0m in \u001b[0;36mget_loc\u001b[0;34m(self, key, method, tolerance)\u001b[0m\n\u001b[1;32m   2897\u001b[0m                 \u001b[0;32mreturn\u001b[0m \u001b[0mself\u001b[0m\u001b[0;34m.\u001b[0m\u001b[0m_engine\u001b[0m\u001b[0;34m.\u001b[0m\u001b[0mget_loc\u001b[0m\u001b[0;34m(\u001b[0m\u001b[0mkey\u001b[0m\u001b[0;34m)\u001b[0m\u001b[0;34m\u001b[0m\u001b[0;34m\u001b[0m\u001b[0m\n\u001b[1;32m   2898\u001b[0m             \u001b[0;32mexcept\u001b[0m \u001b[0mKeyError\u001b[0m\u001b[0;34m:\u001b[0m\u001b[0;34m\u001b[0m\u001b[0;34m\u001b[0m\u001b[0m\n\u001b[0;32m-> 2899\u001b[0;31m                 \u001b[0;32mreturn\u001b[0m \u001b[0mself\u001b[0m\u001b[0;34m.\u001b[0m\u001b[0m_engine\u001b[0m\u001b[0;34m.\u001b[0m\u001b[0mget_loc\u001b[0m\u001b[0;34m(\u001b[0m\u001b[0mself\u001b[0m\u001b[0;34m.\u001b[0m\u001b[0m_maybe_cast_indexer\u001b[0m\u001b[0;34m(\u001b[0m\u001b[0mkey\u001b[0m\u001b[0;34m)\u001b[0m\u001b[0;34m)\u001b[0m\u001b[0;34m\u001b[0m\u001b[0;34m\u001b[0m\u001b[0m\n\u001b[0m\u001b[1;32m   2900\u001b[0m         \u001b[0mindexer\u001b[0m \u001b[0;34m=\u001b[0m \u001b[0mself\u001b[0m\u001b[0;34m.\u001b[0m\u001b[0mget_indexer\u001b[0m\u001b[0;34m(\u001b[0m\u001b[0;34m[\u001b[0m\u001b[0mkey\u001b[0m\u001b[0;34m]\u001b[0m\u001b[0;34m,\u001b[0m \u001b[0mmethod\u001b[0m\u001b[0;34m=\u001b[0m\u001b[0mmethod\u001b[0m\u001b[0;34m,\u001b[0m \u001b[0mtolerance\u001b[0m\u001b[0;34m=\u001b[0m\u001b[0mtolerance\u001b[0m\u001b[0;34m)\u001b[0m\u001b[0;34m\u001b[0m\u001b[0;34m\u001b[0m\u001b[0m\n\u001b[1;32m   2901\u001b[0m         \u001b[0;32mif\u001b[0m \u001b[0mindexer\u001b[0m\u001b[0;34m.\u001b[0m\u001b[0mndim\u001b[0m \u001b[0;34m>\u001b[0m \u001b[0;36m1\u001b[0m \u001b[0;32mor\u001b[0m \u001b[0mindexer\u001b[0m\u001b[0;34m.\u001b[0m\u001b[0msize\u001b[0m \u001b[0;34m>\u001b[0m \u001b[0;36m1\u001b[0m\u001b[0;34m:\u001b[0m\u001b[0;34m\u001b[0m\u001b[0;34m\u001b[0m\u001b[0m\n",
      "\u001b[0;32mpandas/_libs/index.pyx\u001b[0m in \u001b[0;36mpandas._libs.index.IndexEngine.get_loc\u001b[0;34m()\u001b[0m\n",
      "\u001b[0;32mpandas/_libs/index.pyx\u001b[0m in \u001b[0;36mpandas._libs.index.IndexEngine.get_loc\u001b[0;34m()\u001b[0m\n",
      "\u001b[0;32mpandas/_libs/hashtable_class_helper.pxi\u001b[0m in \u001b[0;36mpandas._libs.hashtable.PyObjectHashTable.get_item\u001b[0;34m()\u001b[0m\n",
      "\u001b[0;32mpandas/_libs/hashtable_class_helper.pxi\u001b[0m in \u001b[0;36mpandas._libs.hashtable.PyObjectHashTable.get_item\u001b[0;34m()\u001b[0m\n",
      "\u001b[0;31mKeyError\u001b[0m: 'colors'"
     ]
    }
   ],
   "source": [
    "#collapse events\n",
    "mask = estimates.est_events_per_sec < 1\n",
    "dx = estimates[mask]\n",
    "\n",
    "x = dx.iloc[0].copy()\n",
    "\n",
    "cols = ['est_events_per_day','est_events_per_hour','est_events_per_sec']\n",
    "x[cols] = dx[cols].sum()\n",
    "x['event_name'] = 'ALL OTHER EVENTS'\n",
    "estimates = estimates[~mask].append(x)\n",
    "estimates = estimates[estimates['colors'] == 'r']\n",
    "estimates"
   ]
  },
  {
   "cell_type": "code",
   "execution_count": 108,
   "metadata": {},
   "outputs": [
    {
     "ename": "NameError",
     "evalue": "name 'estates' is not defined",
     "output_type": "error",
     "traceback": [
      "\u001b[0;31m---------------------------------------------------------------------------\u001b[0m",
      "\u001b[0;31mNameError\u001b[0m                                 Traceback (most recent call last)",
      "\u001b[0;32m<ipython-input-108-1645666a10a5>\u001b[0m in \u001b[0;36m<module>\u001b[0;34m\u001b[0m\n\u001b[0;32m----> 1\u001b[0;31m \u001b[0mestimates\u001b[0m\u001b[0;34m[\u001b[0m\u001b[0mestates\u001b[0m\u001b[0;34m.\u001b[0m\u001b[0mstress_test\u001b[0m\u001b[0;34m]\u001b[0m\u001b[0;34m\u001b[0m\u001b[0;34m\u001b[0m\u001b[0m\n\u001b[0m",
      "\u001b[0;31mNameError\u001b[0m: name 'estates' is not defined"
     ]
    }
   ],
   "source": [
    "estimates[estates.stress_test]"
   ]
  },
  {
   "cell_type": "code",
   "execution_count": 155,
   "metadata": {},
   "outputs": [
    {
     "data": {
      "application/vnd.vegalite.v3+json": {
       "$schema": "https://vega.github.io/schema/vega-lite/v3.4.0.json",
       "config": {
        "mark": {
         "tooltip": null
        },
        "view": {
         "height": 300,
         "width": 400
        }
       },
       "data": {
        "name": "data-093ece8c35bb2d41094cfb6138ec810b"
       },
       "datasets": {
        "data-093ece8c35bb2d41094cfb6138ec810b": [
         {
          "site": "University Farm",
          "variety": "Manchuria",
          "year": 1931,
          "yield": 27
         },
         {
          "site": "Waseca",
          "variety": "Manchuria",
          "year": 1931,
          "yield": 48.86667
         },
         {
          "site": "Morris",
          "variety": "Manchuria",
          "year": 1931,
          "yield": 27.43334
         },
         {
          "site": "Crookston",
          "variety": "Manchuria",
          "year": 1931,
          "yield": 39.93333
         },
         {
          "site": "Grand Rapids",
          "variety": "Manchuria",
          "year": 1931,
          "yield": 32.96667
         },
         {
          "site": "Duluth",
          "variety": "Manchuria",
          "year": 1931,
          "yield": 28.96667
         },
         {
          "site": "University Farm",
          "variety": "Glabron",
          "year": 1931,
          "yield": 43.06666
         },
         {
          "site": "Waseca",
          "variety": "Glabron",
          "year": 1931,
          "yield": 55.2
         },
         {
          "site": "Morris",
          "variety": "Glabron",
          "year": 1931,
          "yield": 28.76667
         },
         {
          "site": "Crookston",
          "variety": "Glabron",
          "year": 1931,
          "yield": 38.13333
         },
         {
          "site": "Grand Rapids",
          "variety": "Glabron",
          "year": 1931,
          "yield": 29.13333
         },
         {
          "site": "Duluth",
          "variety": "Glabron",
          "year": 1931,
          "yield": 29.66667
         },
         {
          "site": "University Farm",
          "variety": "Svansota",
          "year": 1931,
          "yield": 35.13333
         },
         {
          "site": "Waseca",
          "variety": "Svansota",
          "year": 1931,
          "yield": 47.33333
         },
         {
          "site": "Morris",
          "variety": "Svansota",
          "year": 1931,
          "yield": 25.76667
         },
         {
          "site": "Crookston",
          "variety": "Svansota",
          "year": 1931,
          "yield": 40.46667
         },
         {
          "site": "Grand Rapids",
          "variety": "Svansota",
          "year": 1931,
          "yield": 29.66667
         },
         {
          "site": "Duluth",
          "variety": "Svansota",
          "year": 1931,
          "yield": 25.7
         },
         {
          "site": "University Farm",
          "variety": "Velvet",
          "year": 1931,
          "yield": 39.9
         },
         {
          "site": "Waseca",
          "variety": "Velvet",
          "year": 1931,
          "yield": 50.23333
         },
         {
          "site": "Morris",
          "variety": "Velvet",
          "year": 1931,
          "yield": 26.13333
         },
         {
          "site": "Crookston",
          "variety": "Velvet",
          "year": 1931,
          "yield": 41.33333
         },
         {
          "site": "Grand Rapids",
          "variety": "Velvet",
          "year": 1931,
          "yield": 23.03333
         },
         {
          "site": "Duluth",
          "variety": "Velvet",
          "year": 1931,
          "yield": 26.3
         },
         {
          "site": "University Farm",
          "variety": "Trebi",
          "year": 1931,
          "yield": 36.56666
         },
         {
          "site": "Waseca",
          "variety": "Trebi",
          "year": 1931,
          "yield": 63.8333
         },
         {
          "site": "Morris",
          "variety": "Trebi",
          "year": 1931,
          "yield": 43.76667
         },
         {
          "site": "Crookston",
          "variety": "Trebi",
          "year": 1931,
          "yield": 46.93333
         },
         {
          "site": "Grand Rapids",
          "variety": "Trebi",
          "year": 1931,
          "yield": 29.76667
         },
         {
          "site": "Duluth",
          "variety": "Trebi",
          "year": 1931,
          "yield": 33.93333
         },
         {
          "site": "University Farm",
          "variety": "No. 457",
          "year": 1931,
          "yield": 43.26667
         },
         {
          "site": "Waseca",
          "variety": "No. 457",
          "year": 1931,
          "yield": 58.1
         },
         {
          "site": "Morris",
          "variety": "No. 457",
          "year": 1931,
          "yield": 28.7
         },
         {
          "site": "Crookston",
          "variety": "No. 457",
          "year": 1931,
          "yield": 45.66667
         },
         {
          "site": "Grand Rapids",
          "variety": "No. 457",
          "year": 1931,
          "yield": 32.16667
         },
         {
          "site": "Duluth",
          "variety": "No. 457",
          "year": 1931,
          "yield": 33.6
         },
         {
          "site": "University Farm",
          "variety": "No. 462",
          "year": 1931,
          "yield": 36.6
         },
         {
          "site": "Waseca",
          "variety": "No. 462",
          "year": 1931,
          "yield": 65.7667
         },
         {
          "site": "Morris",
          "variety": "No. 462",
          "year": 1931,
          "yield": 30.36667
         },
         {
          "site": "Crookston",
          "variety": "No. 462",
          "year": 1931,
          "yield": 48.56666
         },
         {
          "site": "Grand Rapids",
          "variety": "No. 462",
          "year": 1931,
          "yield": 24.93334
         },
         {
          "site": "Duluth",
          "variety": "No. 462",
          "year": 1931,
          "yield": 28.1
         },
         {
          "site": "University Farm",
          "variety": "Peatland",
          "year": 1931,
          "yield": 32.76667
         },
         {
          "site": "Waseca",
          "variety": "Peatland",
          "year": 1931,
          "yield": 48.56666
         },
         {
          "site": "Morris",
          "variety": "Peatland",
          "year": 1931,
          "yield": 29.86667
         },
         {
          "site": "Crookston",
          "variety": "Peatland",
          "year": 1931,
          "yield": 41.6
         },
         {
          "site": "Grand Rapids",
          "variety": "Peatland",
          "year": 1931,
          "yield": 34.7
         },
         {
          "site": "Duluth",
          "variety": "Peatland",
          "year": 1931,
          "yield": 32
         },
         {
          "site": "University Farm",
          "variety": "No. 475",
          "year": 1931,
          "yield": 24.66667
         },
         {
          "site": "Waseca",
          "variety": "No. 475",
          "year": 1931,
          "yield": 46.76667
         },
         {
          "site": "Morris",
          "variety": "No. 475",
          "year": 1931,
          "yield": 22.6
         },
         {
          "site": "Crookston",
          "variety": "No. 475",
          "year": 1931,
          "yield": 44.1
         },
         {
          "site": "Grand Rapids",
          "variety": "No. 475",
          "year": 1931,
          "yield": 19.7
         },
         {
          "site": "Duluth",
          "variety": "No. 475",
          "year": 1931,
          "yield": 33.06666
         },
         {
          "site": "University Farm",
          "variety": "Wisconsin No. 38",
          "year": 1931,
          "yield": 39.3
         },
         {
          "site": "Waseca",
          "variety": "Wisconsin No. 38",
          "year": 1931,
          "yield": 58.8
         },
         {
          "site": "Morris",
          "variety": "Wisconsin No. 38",
          "year": 1931,
          "yield": 29.46667
         },
         {
          "site": "Crookston",
          "variety": "Wisconsin No. 38",
          "year": 1931,
          "yield": 49.86667
         },
         {
          "site": "Grand Rapids",
          "variety": "Wisconsin No. 38",
          "year": 1931,
          "yield": 34.46667
         },
         {
          "site": "Duluth",
          "variety": "Wisconsin No. 38",
          "year": 1931,
          "yield": 31.6
         },
         {
          "site": "University Farm",
          "variety": "Manchuria",
          "year": 1932,
          "yield": 26.9
         },
         {
          "site": "Waseca",
          "variety": "Manchuria",
          "year": 1932,
          "yield": 33.46667
         },
         {
          "site": "Morris",
          "variety": "Manchuria",
          "year": 1932,
          "yield": 34.36666
         },
         {
          "site": "Crookston",
          "variety": "Manchuria",
          "year": 1932,
          "yield": 32.96667
         },
         {
          "site": "Grand Rapids",
          "variety": "Manchuria",
          "year": 1932,
          "yield": 22.13333
         },
         {
          "site": "Duluth",
          "variety": "Manchuria",
          "year": 1932,
          "yield": 22.56667
         },
         {
          "site": "University Farm",
          "variety": "Glabron",
          "year": 1932,
          "yield": 36.8
         },
         {
          "site": "Waseca",
          "variety": "Glabron",
          "year": 1932,
          "yield": 37.73333
         },
         {
          "site": "Morris",
          "variety": "Glabron",
          "year": 1932,
          "yield": 35.13333
         },
         {
          "site": "Crookston",
          "variety": "Glabron",
          "year": 1932,
          "yield": 26.16667
         },
         {
          "site": "Grand Rapids",
          "variety": "Glabron",
          "year": 1932,
          "yield": 14.43333
         },
         {
          "site": "Duluth",
          "variety": "Glabron",
          "year": 1932,
          "yield": 25.86667
         },
         {
          "site": "University Farm",
          "variety": "Svansota",
          "year": 1932,
          "yield": 27.43334
         },
         {
          "site": "Waseca",
          "variety": "Svansota",
          "year": 1932,
          "yield": 38.5
         },
         {
          "site": "Morris",
          "variety": "Svansota",
          "year": 1932,
          "yield": 35.03333
         },
         {
          "site": "Crookston",
          "variety": "Svansota",
          "year": 1932,
          "yield": 20.63333
         },
         {
          "site": "Grand Rapids",
          "variety": "Svansota",
          "year": 1932,
          "yield": 16.63333
         },
         {
          "site": "Duluth",
          "variety": "Svansota",
          "year": 1932,
          "yield": 22.23333
         },
         {
          "site": "University Farm",
          "variety": "Velvet",
          "year": 1932,
          "yield": 26.8
         },
         {
          "site": "Waseca",
          "variety": "Velvet",
          "year": 1932,
          "yield": 37.4
         },
         {
          "site": "Morris",
          "variety": "Velvet",
          "year": 1932,
          "yield": 38.83333
         },
         {
          "site": "Crookston",
          "variety": "Velvet",
          "year": 1932,
          "yield": 32.06666
         },
         {
          "site": "Grand Rapids",
          "variety": "Velvet",
          "year": 1932,
          "yield": 32.23333
         },
         {
          "site": "Duluth",
          "variety": "Velvet",
          "year": 1932,
          "yield": 22.46667
         },
         {
          "site": "University Farm",
          "variety": "Trebi",
          "year": 1932,
          "yield": 29.06667
         },
         {
          "site": "Waseca",
          "variety": "Trebi",
          "year": 1932,
          "yield": 49.2333
         },
         {
          "site": "Morris",
          "variety": "Trebi",
          "year": 1932,
          "yield": 46.63333
         },
         {
          "site": "Crookston",
          "variety": "Trebi",
          "year": 1932,
          "yield": 41.83333
         },
         {
          "site": "Grand Rapids",
          "variety": "Trebi",
          "year": 1932,
          "yield": 20.63333
         },
         {
          "site": "Duluth",
          "variety": "Trebi",
          "year": 1932,
          "yield": 30.6
         },
         {
          "site": "University Farm",
          "variety": "No. 457",
          "year": 1932,
          "yield": 26.43334
         },
         {
          "site": "Waseca",
          "variety": "No. 457",
          "year": 1932,
          "yield": 42.2
         },
         {
          "site": "Morris",
          "variety": "No. 457",
          "year": 1932,
          "yield": 43.53334
         },
         {
          "site": "Crookston",
          "variety": "No. 457",
          "year": 1932,
          "yield": 34.33333
         },
         {
          "site": "Grand Rapids",
          "variety": "No. 457",
          "year": 1932,
          "yield": 19.46667
         },
         {
          "site": "Duluth",
          "variety": "No. 457",
          "year": 1932,
          "yield": 22.7
         },
         {
          "site": "University Farm",
          "variety": "No. 462",
          "year": 1932,
          "yield": 25.56667
         },
         {
          "site": "Waseca",
          "variety": "No. 462",
          "year": 1932,
          "yield": 44.7
         },
         {
          "site": "Morris",
          "variety": "No. 462",
          "year": 1932,
          "yield": 47
         },
         {
          "site": "Crookston",
          "variety": "No. 462",
          "year": 1932,
          "yield": 30.53333
         },
         {
          "site": "Grand Rapids",
          "variety": "No. 462",
          "year": 1932,
          "yield": 19.9
         },
         {
          "site": "Duluth",
          "variety": "No. 462",
          "year": 1932,
          "yield": 22.5
         },
         {
          "site": "University Farm",
          "variety": "Peatland",
          "year": 1932,
          "yield": 28.06667
         },
         {
          "site": "Waseca",
          "variety": "Peatland",
          "year": 1932,
          "yield": 36.03333
         },
         {
          "site": "Morris",
          "variety": "Peatland",
          "year": 1932,
          "yield": 43.2
         },
         {
          "site": "Crookston",
          "variety": "Peatland",
          "year": 1932,
          "yield": 25.23333
         },
         {
          "site": "Grand Rapids",
          "variety": "Peatland",
          "year": 1932,
          "yield": 26.76667
         },
         {
          "site": "Duluth",
          "variety": "Peatland",
          "year": 1932,
          "yield": 31.36667
         },
         {
          "site": "University Farm",
          "variety": "No. 475",
          "year": 1932,
          "yield": 30
         },
         {
          "site": "Waseca",
          "variety": "No. 475",
          "year": 1932,
          "yield": 41.26667
         },
         {
          "site": "Morris",
          "variety": "No. 475",
          "year": 1932,
          "yield": 44.23333
         },
         {
          "site": "Crookston",
          "variety": "No. 475",
          "year": 1932,
          "yield": 32.13333
         },
         {
          "site": "Grand Rapids",
          "variety": "No. 475",
          "year": 1932,
          "yield": 15.23333
         },
         {
          "site": "Duluth",
          "variety": "No. 475",
          "year": 1932,
          "yield": 27.36667
         },
         {
          "site": "University Farm",
          "variety": "Wisconsin No. 38",
          "year": 1932,
          "yield": 38
         },
         {
          "site": "Waseca",
          "variety": "Wisconsin No. 38",
          "year": 1932,
          "yield": 58.16667
         },
         {
          "site": "Morris",
          "variety": "Wisconsin No. 38",
          "year": 1932,
          "yield": 47.16667
         },
         {
          "site": "Crookston",
          "variety": "Wisconsin No. 38",
          "year": 1932,
          "yield": 35.9
         },
         {
          "site": "Grand Rapids",
          "variety": "Wisconsin No. 38",
          "year": 1932,
          "yield": 20.66667
         },
         {
          "site": "Duluth",
          "variety": "Wisconsin No. 38",
          "year": 1932,
          "yield": 29.33333
         }
        ]
       },
       "encoding": {
        "color": {
         "field": "site",
         "type": "nominal"
        },
        "column": {
         "field": "year",
         "type": "quantitative"
        },
        "x": {
         "field": "yield",
         "type": "quantitative"
        },
        "y": {
         "field": "variety",
         "type": "nominal"
        }
       },
       "mark": "bar",
       "width": 220
      },
      "image/png": "[encoded data removed]",
      "text/plain": [
       "<VegaLite 3 object>\n",
       "\n",
       "If you see this message, it means the renderer has not been properly enabled\n",
       "for the frontend that you are using. For more information, see\n",
       "https://altair-viz.github.io/user_guide/troubleshooting.html\n"
      ]
     },
     "execution_count": 155,
     "metadata": {},
     "output_type": "execute_result"
    }
   ],
   "source": [
    "\n",
    "\n",
    "\n",
    "\n",
    "alt.Chart(source).mark_bar().encode(\n",
    "    column='year',\n",
    "    x='yield',\n",
    "    y='variety',\n",
    "    color='site'\n",
    ").properties(width=220)"
   ]
  },
  {
   "cell_type": "code",
   "execution_count": 156,
   "metadata": {},
   "outputs": [
    {
     "data": {
      "text/html": [
       "<div>\n",
       "<style scoped>\n",
       "    .dataframe tbody tr th:only-of-type {\n",
       "        vertical-align: middle;\n",
       "    }\n",
       "\n",
       "    .dataframe tbody tr th {\n",
       "        vertical-align: top;\n",
       "    }\n",
       "\n",
       "    .dataframe thead th {\n",
       "        text-align: right;\n",
       "    }\n",
       "</style>\n",
       "<table border=\"1\" class=\"dataframe\">\n",
       "  <thead>\n",
       "    <tr style=\"text-align: right;\">\n",
       "      <th></th>\n",
       "      <th>yield</th>\n",
       "      <th>variety</th>\n",
       "      <th>year</th>\n",
       "      <th>site</th>\n",
       "    </tr>\n",
       "  </thead>\n",
       "  <tbody>\n",
       "    <tr>\n",
       "      <td>0</td>\n",
       "      <td>27.00000</td>\n",
       "      <td>Manchuria</td>\n",
       "      <td>1931</td>\n",
       "      <td>University Farm</td>\n",
       "    </tr>\n",
       "    <tr>\n",
       "      <td>1</td>\n",
       "      <td>48.86667</td>\n",
       "      <td>Manchuria</td>\n",
       "      <td>1931</td>\n",
       "      <td>Waseca</td>\n",
       "    </tr>\n",
       "    <tr>\n",
       "      <td>2</td>\n",
       "      <td>27.43334</td>\n",
       "      <td>Manchuria</td>\n",
       "      <td>1931</td>\n",
       "      <td>Morris</td>\n",
       "    </tr>\n",
       "    <tr>\n",
       "      <td>3</td>\n",
       "      <td>39.93333</td>\n",
       "      <td>Manchuria</td>\n",
       "      <td>1931</td>\n",
       "      <td>Crookston</td>\n",
       "    </tr>\n",
       "    <tr>\n",
       "      <td>4</td>\n",
       "      <td>32.96667</td>\n",
       "      <td>Manchuria</td>\n",
       "      <td>1931</td>\n",
       "      <td>Grand Rapids</td>\n",
       "    </tr>\n",
       "  </tbody>\n",
       "</table>\n",
       "</div>"
      ],
      "text/plain": [
       "      yield    variety  year             site\n",
       "0  27.00000  Manchuria  1931  University Farm\n",
       "1  48.86667  Manchuria  1931           Waseca\n",
       "2  27.43334  Manchuria  1931           Morris\n",
       "3  39.93333  Manchuria  1931        Crookston\n",
       "4  32.96667  Manchuria  1931     Grand Rapids"
      ]
     },
     "execution_count": 156,
     "metadata": {},
     "output_type": "execute_result"
    }
   ],
   "source": [
    "import altair as alt\n",
    "from vega_datasets import data\n",
    "\n",
    "source = data.barley()\n",
    "source.head()"
   ]
  },
  {
   "cell_type": "code",
   "execution_count": 55,
   "metadata": {},
   "outputs": [
    {
     "name": "stdout",
     "output_type": "stream",
     "text": [
      "\n"
     ]
    },
    {
     "data": {
      "image/png": "[encoded data removed]",
      "text/plain": [
       "<Figure size 1440x720 with 1 Axes>"
      ]
     },
     "metadata": {
      "needs_background": "light"
     },
     "output_type": "display_data"
    }
   ],
   "source": [
    "fig = plt.figure(figsize=(20,10))\n",
    "fig.suptitle(\"Event Arrival Rate (Events per Hour by Event Name)\", fontsize=30)\n",
    "\n",
    "per_hour = estimates.set_index('event_name').est_events_per_hour\n",
    "ax = per_hour.plot(kind='bar', color=estimates.colors)\n",
    "ax.set_xlabel('Event Name')\n",
    "ax.set_ylabel('Events per Hour')\n",
    "ax.set_yticklabels(['{:,d}'.format(int(y)) for y in ax.get_yticks()]);\n",
    "print()"
   ]
  },
  {
   "cell_type": "code",
   "execution_count": 128,
   "metadata": {},
   "outputs": [
    {
     "name": "stdout",
     "output_type": "stream",
     "text": [
      "\n",
      "\n"
     ]
    },
    {
     "data": {
      "text/html": [
       "<div>\n",
       "<style scoped>\n",
       "    .dataframe tbody tr th:only-of-type {\n",
       "        vertical-align: middle;\n",
       "    }\n",
       "\n",
       "    .dataframe tbody tr th {\n",
       "        vertical-align: top;\n",
       "    }\n",
       "\n",
       "    .dataframe thead th {\n",
       "        text-align: right;\n",
       "    }\n",
       "</style>\n",
       "<table border=\"1\" class=\"dataframe\">\n",
       "  <thead>\n",
       "    <tr style=\"text-align: right;\">\n",
       "      <th></th>\n",
       "      <th>Events/Day</th>\n",
       "      <th>Events/Hour</th>\n",
       "      <th>Pct</th>\n",
       "    </tr>\n",
       "    <tr>\n",
       "      <th>Event Name</th>\n",
       "      <th></th>\n",
       "      <th></th>\n",
       "      <th></th>\n",
       "    </tr>\n",
       "  </thead>\n",
       "  <tbody>\n",
       "    <tr>\n",
       "      <td>End Card</td>\n",
       "      <td>349,080</td>\n",
       "      <td>14,545</td>\n",
       "      <td>3.1%</td>\n",
       "    </tr>\n",
       "    <tr>\n",
       "      <td>Video End</td>\n",
       "      <td>973,854</td>\n",
       "      <td>40,577</td>\n",
       "      <td>8.6%</td>\n",
       "    </tr>\n",
       "    <tr>\n",
       "      <td>Ad End</td>\n",
       "      <td>10,026,134</td>\n",
       "      <td>417,756</td>\n",
       "      <td>88.3%</td>\n",
       "    </tr>\n",
       "    <tr>\n",
       "      <td>TOTAL</td>\n",
       "      <td>11,349,068</td>\n",
       "      <td>472,878</td>\n",
       "      <td>100.0%</td>\n",
       "    </tr>\n",
       "  </tbody>\n",
       "</table>\n",
       "</div>"
      ],
      "text/plain": [
       "            Events/Day Events/Hour     Pct\n",
       "Event Name                                \n",
       "End Card       349,080      14,545    3.1%\n",
       "Video End      973,854      40,577    8.6%\n",
       "Ad End      10,026,134     417,756   88.3%\n",
       "TOTAL       11,349,068     472,878  100.0%"
      ]
     },
     "execution_count": 128,
     "metadata": {},
     "output_type": "execute_result"
    }
   ],
   "source": [
    "dx = estimates[estimates.in_scope][['event_name','est_events_per_day','est_events_per_hour']].set_index('event_name')\n",
    "total = pd.Series(dx.sum(),name='TOTAL')\n",
    "dx = dx.append(total)\n",
    "\n",
    "ds = ((dx / total).round(3)*100)['est_events_per_hour']\n",
    "dx = dx.applymap(\"{:,.0f}\".format)\n",
    "ds.name = 'Pct'\n",
    "dx['pct'] = ds.map(\"{:,}%\".format)\n",
    "dx.columns = ['Events/Day', 'Events/Hour', 'Pct']\n",
    "dx.index.name = 'Event Name'\n",
    "print(\"\\n\")\n",
    "dx"
   ]
  },
  {
   "cell_type": "code",
   "execution_count": 197,
   "metadata": {},
   "outputs": [
    {
     "data": {
      "text/html": [
       "<div>\n",
       "<style scoped>\n",
       "    .dataframe tbody tr th:only-of-type {\n",
       "        vertical-align: middle;\n",
       "    }\n",
       "\n",
       "    .dataframe tbody tr th {\n",
       "        vertical-align: top;\n",
       "    }\n",
       "\n",
       "    .dataframe thead th {\n",
       "        text-align: right;\n",
       "    }\n",
       "</style>\n",
       "<table border=\"1\" class=\"dataframe\">\n",
       "  <thead>\n",
       "    <tr style=\"text-align: right;\">\n",
       "      <th></th>\n",
       "      <th>rate</th>\n",
       "    </tr>\n",
       "    <tr>\n",
       "      <th>measure</th>\n",
       "      <th></th>\n",
       "    </tr>\n",
       "  </thead>\n",
       "  <tbody>\n",
       "    <tr>\n",
       "      <td>observed arrival rate - end car</td>\n",
       "      <td>15000</td>\n",
       "    </tr>\n",
       "    <tr>\n",
       "      <td>observed arrival rate - video end</td>\n",
       "      <td>50000</td>\n",
       "    </tr>\n",
       "    <tr>\n",
       "      <td>observed arrival rate - in scope events</td>\n",
       "      <td>500000</td>\n",
       "    </tr>\n",
       "    <tr>\n",
       "      <td>phase 1 target</td>\n",
       "      <td>600000</td>\n",
       "    </tr>\n",
       "    <tr>\n",
       "      <td>optimization work - s3 to memory (1cpu),</td>\n",
       "      <td>230219280</td>\n",
       "    </tr>\n",
       "    <tr>\n",
       "      <td>optimization work - vectorized calculations (1cpu)</td>\n",
       "      <td>46043856000000</td>\n",
       "    </tr>\n",
       "  </tbody>\n",
       "</table>\n",
       "</div>"
      ],
      "text/plain": [
       "                                                              rate\n",
       "measure                                                           \n",
       "observed arrival rate - end car                              15000\n",
       "observed arrival rate - video end                            50000\n",
       "observed arrival rate - in scope events                     500000\n",
       "phase 1 target                                              600000\n",
       "optimization work - s3 to memory (1cpu),                 230219280\n",
       "optimization work - vectorized calculations (1cpu)  46043856000000"
      ]
     },
     "execution_count": 197,
     "metadata": {},
     "output_type": "execute_result"
    }
   ],
   "source": [
    "df = pd.read_csv(StringIO(\"\"\"measure;rate\n",
    "observed arrival rate - end car;15000\n",
    "observed arrival rate - video end;50000\n",
    "observed arrival rate - in scope events;500000\n",
    "phase 1 target;600000\n",
    "optimization work - s3 to memory (1cpu),;230219280\n",
    "optimization work - vectorized calculations (1cpu);46043856000000\n",
    "\"\"\"),sep=';')\n",
    "rates = df.set_index('measure')\n",
    "rates"
   ]
  },
  {
   "cell_type": "code",
   "execution_count": 224,
   "metadata": {},
   "outputs": [
    {
     "name": "stdout",
     "output_type": "stream",
     "text": [
      "# Events history (in M) assuming arrival rate of 500K\n"
     ]
    },
    {
     "data": {
      "text/html": [
       "<div>\n",
       "<style scoped>\n",
       "    .dataframe tbody tr th:only-of-type {\n",
       "        vertical-align: middle;\n",
       "    }\n",
       "\n",
       "    .dataframe tbody tr th {\n",
       "        vertical-align: top;\n",
       "    }\n",
       "\n",
       "    .dataframe thead th {\n",
       "        text-align: right;\n",
       "    }\n",
       "</style>\n",
       "<table border=\"1\" class=\"dataframe\">\n",
       "  <thead>\n",
       "    <tr style=\"text-align: right;\">\n",
       "      <th>weeks_of_history</th>\n",
       "      <th>1</th>\n",
       "      <th>2</th>\n",
       "      <th>3</th>\n",
       "      <th>4</th>\n",
       "      <th>5</th>\n",
       "      <th>6</th>\n",
       "      <th>7</th>\n",
       "      <th>8</th>\n",
       "      <th>9</th>\n",
       "      <th>10</th>\n",
       "      <th>11</th>\n",
       "      <th>12</th>\n",
       "    </tr>\n",
       "  </thead>\n",
       "  <tbody>\n",
       "    <tr>\n",
       "      <td>events_in_history</td>\n",
       "      <td>84.0</td>\n",
       "      <td>168.0</td>\n",
       "      <td>252.0</td>\n",
       "      <td>336.0</td>\n",
       "      <td>420.0</td>\n",
       "      <td>504.0</td>\n",
       "      <td>588.0</td>\n",
       "      <td>672.0</td>\n",
       "      <td>756.0</td>\n",
       "      <td>840.0</td>\n",
       "      <td>924.0</td>\n",
       "      <td>1008.0</td>\n",
       "    </tr>\n",
       "  </tbody>\n",
       "</table>\n",
       "</div>"
      ],
      "text/plain": [
       "weeks_of_history      1      2      3      4      5      6      7      8  \\\n",
       "events_in_history  84.0  168.0  252.0  336.0  420.0  504.0  588.0  672.0   \n",
       "\n",
       "weeks_of_history       9     10     11      12  \n",
       "events_in_history  756.0  840.0  924.0  1008.0  "
      ]
     },
     "execution_count": 224,
     "metadata": {},
     "output_type": "execute_result"
    }
   ],
   "source": [
    "df = pd.Series(range(13))\n",
    "df =(df * (7* 24 * 500000)).to_frame()[1:]\n",
    "df.index.name = 'weeks_of_history'\n",
    "df.columns = ['events_in_history']\n",
    "weeks = df\n",
    "print( \"# Events history (in M) assuming arrival rate of 500K\")\n",
    "weeks.T/ 10**6"
   ]
  },
  {
   "cell_type": "code",
   "execution_count": 225,
   "metadata": {},
   "outputs": [
    {
     "name": "stdout",
     "output_type": "stream",
     "text": [
      "Days to load N weeks history, assuming arrival rate of 500K\n"
     ]
    },
    {
     "data": {
      "text/html": [
       "<div>\n",
       "<style scoped>\n",
       "    .dataframe tbody tr th:only-of-type {\n",
       "        vertical-align: middle;\n",
       "    }\n",
       "\n",
       "    .dataframe tbody tr th {\n",
       "        vertical-align: top;\n",
       "    }\n",
       "\n",
       "    .dataframe thead th {\n",
       "        text-align: right;\n",
       "    }\n",
       "</style>\n",
       "<table border=\"1\" class=\"dataframe\">\n",
       "  <thead>\n",
       "    <tr style=\"text-align: right;\">\n",
       "      <th>weeks_of_history</th>\n",
       "      <th>1</th>\n",
       "      <th>2</th>\n",
       "      <th>3</th>\n",
       "      <th>4</th>\n",
       "      <th>5</th>\n",
       "      <th>6</th>\n",
       "      <th>7</th>\n",
       "      <th>8</th>\n",
       "      <th>9</th>\n",
       "      <th>10</th>\n",
       "      <th>11</th>\n",
       "      <th>12</th>\n",
       "    </tr>\n",
       "    <tr>\n",
       "      <th>measure</th>\n",
       "      <th></th>\n",
       "      <th></th>\n",
       "      <th></th>\n",
       "      <th></th>\n",
       "      <th></th>\n",
       "      <th></th>\n",
       "      <th></th>\n",
       "      <th></th>\n",
       "      <th></th>\n",
       "      <th></th>\n",
       "      <th></th>\n",
       "      <th></th>\n",
       "    </tr>\n",
       "  </thead>\n",
       "  <tbody>\n",
       "    <tr>\n",
       "      <td>phase 1 target</td>\n",
       "      <td>5.83</td>\n",
       "      <td>11.67</td>\n",
       "      <td>17.50</td>\n",
       "      <td>23.33</td>\n",
       "      <td>29.17</td>\n",
       "      <td>35.00</td>\n",
       "      <td>40.83</td>\n",
       "      <td>46.67</td>\n",
       "      <td>52.50</td>\n",
       "      <td>58.33</td>\n",
       "      <td>64.17</td>\n",
       "      <td>70.00</td>\n",
       "    </tr>\n",
       "    <tr>\n",
       "      <td>optimization work - s3 to memory (1cpu),</td>\n",
       "      <td>0.02</td>\n",
       "      <td>0.03</td>\n",
       "      <td>0.05</td>\n",
       "      <td>0.06</td>\n",
       "      <td>0.08</td>\n",
       "      <td>0.09</td>\n",
       "      <td>0.11</td>\n",
       "      <td>0.12</td>\n",
       "      <td>0.14</td>\n",
       "      <td>0.15</td>\n",
       "      <td>0.17</td>\n",
       "      <td>0.18</td>\n",
       "    </tr>\n",
       "    <tr>\n",
       "      <td>optimization work - vectorized calculations (1cpu)</td>\n",
       "      <td>0.00</td>\n",
       "      <td>0.00</td>\n",
       "      <td>0.00</td>\n",
       "      <td>0.00</td>\n",
       "      <td>0.00</td>\n",
       "      <td>0.00</td>\n",
       "      <td>0.00</td>\n",
       "      <td>0.00</td>\n",
       "      <td>0.00</td>\n",
       "      <td>0.00</td>\n",
       "      <td>0.00</td>\n",
       "      <td>0.00</td>\n",
       "    </tr>\n",
       "  </tbody>\n",
       "</table>\n",
       "</div>"
      ],
      "text/plain": [
       "weeks_of_history                                       1      2      3      4  \\\n",
       "measure                                                                         \n",
       "phase 1 target                                      5.83  11.67  17.50  23.33   \n",
       "optimization work - s3 to memory (1cpu),            0.02   0.03   0.05   0.06   \n",
       "optimization work - vectorized calculations (1cpu)  0.00   0.00   0.00   0.00   \n",
       "\n",
       "weeks_of_history                                        5      6      7  \\\n",
       "measure                                                                   \n",
       "phase 1 target                                      29.17  35.00  40.83   \n",
       "optimization work - s3 to memory (1cpu),             0.08   0.09   0.11   \n",
       "optimization work - vectorized calculations (1cpu)   0.00   0.00   0.00   \n",
       "\n",
       "weeks_of_history                                        8      9     10  \\\n",
       "measure                                                                   \n",
       "phase 1 target                                      46.67  52.50  58.33   \n",
       "optimization work - s3 to memory (1cpu),             0.12   0.14   0.15   \n",
       "optimization work - vectorized calculations (1cpu)   0.00   0.00   0.00   \n",
       "\n",
       "weeks_of_history                                       11     12  \n",
       "measure                                                           \n",
       "phase 1 target                                      64.17  70.00  \n",
       "optimization work - s3 to memory (1cpu),             0.17   0.18  \n",
       "optimization work - vectorized calculations (1cpu)   0.00   0.00  "
      ]
     },
     "execution_count": 225,
     "metadata": {},
     "output_type": "execute_result"
    }
   ],
   "source": [
    "print(\"Days to load N weeks history, assuming arrival rate of 500K\")\n",
    "load_times  =pd.DataFrame(np.outer((1/rates),weeks), columns=weeks.index, index=rates.index).div(24).round(2)[3:]\n",
    "load_times"
   ]
  },
  {
   "cell_type": "code",
   "execution_count": null,
   "metadata": {},
   "outputs": [],
   "source": []
  },
  {
   "cell_type": "code",
   "execution_count": null,
   "metadata": {},
   "outputs": [],
   "source": []
  }
 ],
 "metadata": {
  "kernelspec": {
   "display_name": "Python 3",
   "language": "python",
   "name": "python3"
  },
  "language_info": {
   "codemirror_mode": {
    "name": "ipython",
    "version": 3
   },
   "file_extension": ".py",
   "mimetype": "text/x-python",
   "name": "python",
   "nbconvert_exporter": "python",
   "pygments_lexer": "ipython3",
   "version": "3.7.4"
  }
 },
 "nbformat": 4,
 "nbformat_minor": 4
}
