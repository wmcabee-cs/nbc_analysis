{
 "cells": [
  {
   "cell_type": "code",
   "execution_count": null,
   "metadata": {},
   "outputs": [],
   "source": [
    "%reload_ext autoreload\n",
    "%autoreload 2"
   ]
  },
  {
   "cell_type": "code",
   "execution_count": 2,
   "metadata": {},
   "outputs": [],
   "source": [
    "from pathlib import Path\n",
    "from toolz import take\n",
    "import pandas as pd\n",
    "import numpy as np\n",
    "import copy "
   ]
  },
  {
   "cell_type": "code",
   "execution_count": 3,
   "metadata": {},
   "outputs": [],
   "source": [
    "infile = Path('/Users/wmcabee/Dropbox (Cognitive Scale)/NBC Analysis/data/NBC2/batches')"
   ]
  },
  {
   "cell_type": "code",
   "execution_count": 4,
   "metadata": {},
   "outputs": [
    {
     "name": "stdout",
     "output_type": "stream",
     "text": [
      "CPU times: user 18.9 s, sys: 3.54 s, total: 22.5 s\n",
      "Wall time: 15.4 s\n"
     ]
    }
   ],
   "source": [
    "%%time\n",
    "reader = list(infile.glob('*'))\n",
    "#reader = take(4, reader)\n",
    "reader = ( pd.read_parquet(x) for x in reader)\n",
    "df = pd.concat(reader)\n"
   ]
  },
  {
   "cell_type": "code",
   "execution_count": 10,
   "metadata": {},
   "outputs": [],
   "source": [
    "df['video_duration_watched'] = df.video_duration_watched.astype(np.float)"
   ]
  },
  {
   "cell_type": "code",
   "execution_count": 11,
   "metadata": {},
   "outputs": [
    {
     "data": {
      "text/html": [
       "<div>\n",
       "<style scoped>\n",
       "    .dataframe tbody tr th:only-of-type {\n",
       "        vertical-align: middle;\n",
       "    }\n",
       "\n",
       "    .dataframe tbody tr th {\n",
       "        vertical-align: top;\n",
       "    }\n",
       "\n",
       "    .dataframe thead th {\n",
       "        text-align: right;\n",
       "    }\n",
       "</style>\n",
       "<table border=\"1\" class=\"dataframe\">\n",
       "  <thead>\n",
       "    <tr style=\"text-align: right;\">\n",
       "      <th></th>\n",
       "      <th>batch_id</th>\n",
       "      <th>file</th>\n",
       "      <th>file_idx</th>\n",
       "      <th>asof_dt</th>\n",
       "      <th>mpid</th>\n",
       "      <th>nbc_profile</th>\n",
       "      <th>mvpd</th>\n",
       "      <th>event_name</th>\n",
       "      <th>event_type</th>\n",
       "      <th>platform</th>\n",
       "      <th>...</th>\n",
       "      <th>genre</th>\n",
       "      <th>video_duration</th>\n",
       "      <th>video_end_type</th>\n",
       "      <th>resume</th>\n",
       "      <th>event_id</th>\n",
       "      <th>session_id</th>\n",
       "      <th>video_duration_watched</th>\n",
       "      <th>event_start_unixtime_ms</th>\n",
       "      <th>session_start_unixtime_ms</th>\n",
       "      <th>resume_time</th>\n",
       "    </tr>\n",
       "  </thead>\n",
       "  <tbody>\n",
       "    <tr>\n",
       "      <th>0</th>\n",
       "      <td>ve_20190704_0007</td>\n",
       "      <td>NBC_20190704053535796288_05534.txt</td>\n",
       "      <td>1999</td>\n",
       "      <td>2019-10-01T21:56:19.284084Z</td>\n",
       "      <td>-2701949108677773288</td>\n",
       "      <td>Unauthenticated</td>\n",
       "      <td>Optimum</td>\n",
       "      <td>Video End</td>\n",
       "      <td>custom_event</td>\n",
       "      <td>Android</td>\n",
       "      <td>...</td>\n",
       "      <td>Drama</td>\n",
       "      <td>37</td>\n",
       "      <td>Close</td>\n",
       "      <td>True</td>\n",
       "      <td>6917803156947334647</td>\n",
       "      <td>-2935159148526063382</td>\n",
       "      <td>35.0</td>\n",
       "      <td>1562217633030</td>\n",
       "      <td>1562217581736</td>\n",
       "      <td>2106</td>\n",
       "    </tr>\n",
       "    <tr>\n",
       "      <th>1</th>\n",
       "      <td>ve_20190704_0007</td>\n",
       "      <td>NBC_20190704053535796288_05534.txt</td>\n",
       "      <td>1999</td>\n",
       "      <td>2019-10-01T21:56:19.284084Z</td>\n",
       "      <td>-7645429685580868586</td>\n",
       "      <td>Unauthenticated</td>\n",
       "      <td>Unauthenticated</td>\n",
       "      <td>Video End</td>\n",
       "      <td>custom_event</td>\n",
       "      <td>Android</td>\n",
       "      <td>...</td>\n",
       "      <td>Drama</td>\n",
       "      <td>37</td>\n",
       "      <td>Background</td>\n",
       "      <td>True</td>\n",
       "      <td>4428810565995114943</td>\n",
       "      <td>6810193375081775496</td>\n",
       "      <td>12.0</td>\n",
       "      <td>1562218218831</td>\n",
       "      <td>1562212112314</td>\n",
       "      <td>690</td>\n",
       "    </tr>\n",
       "    <tr>\n",
       "      <th>2</th>\n",
       "      <td>ve_20190704_0007</td>\n",
       "      <td>NBC_20190704053535796288_05534.txt</td>\n",
       "      <td>1999</td>\n",
       "      <td>2019-10-01T21:56:19.284084Z</td>\n",
       "      <td>-1510884301405286654</td>\n",
       "      <td>Unauthenticated</td>\n",
       "      <td>Optimum</td>\n",
       "      <td>Video End</td>\n",
       "      <td>custom_event</td>\n",
       "      <td>Android</td>\n",
       "      <td>...</td>\n",
       "      <td>Reality and Game Show</td>\n",
       "      <td>43</td>\n",
       "      <td>Background</td>\n",
       "      <td>True</td>\n",
       "      <td>-443211365947578150</td>\n",
       "      <td>7908099172124351817</td>\n",
       "      <td>43.0</td>\n",
       "      <td>1562217972475</td>\n",
       "      <td>1562214610345</td>\n",
       "      <td>2561</td>\n",
       "    </tr>\n",
       "    <tr>\n",
       "      <th>3</th>\n",
       "      <td>ve_20190704_0007</td>\n",
       "      <td>NBC_20190704053535796288_05534.txt</td>\n",
       "      <td>1999</td>\n",
       "      <td>2019-10-01T21:56:19.284084Z</td>\n",
       "      <td>-1510884301405286654</td>\n",
       "      <td>Unauthenticated</td>\n",
       "      <td>Optimum</td>\n",
       "      <td>Video End</td>\n",
       "      <td>custom_event</td>\n",
       "      <td>Android</td>\n",
       "      <td>...</td>\n",
       "      <td>Reality and Game Show</td>\n",
       "      <td>43</td>\n",
       "      <td>Close</td>\n",
       "      <td>True</td>\n",
       "      <td>-2081107486544937101</td>\n",
       "      <td>7908099172124351817</td>\n",
       "      <td>6.0</td>\n",
       "      <td>1562217985129</td>\n",
       "      <td>1562214610345</td>\n",
       "      <td>357</td>\n",
       "    </tr>\n",
       "    <tr>\n",
       "      <th>4</th>\n",
       "      <td>ve_20190704_0007</td>\n",
       "      <td>NBC_20190704053535796288_05534.txt</td>\n",
       "      <td>1999</td>\n",
       "      <td>2019-10-01T21:56:19.284084Z</td>\n",
       "      <td>-1510884301405286654</td>\n",
       "      <td>Unauthenticated</td>\n",
       "      <td>Optimum</td>\n",
       "      <td>Video End</td>\n",
       "      <td>custom_event</td>\n",
       "      <td>Android</td>\n",
       "      <td>...</td>\n",
       "      <td>Reality and Game Show</td>\n",
       "      <td>43</td>\n",
       "      <td>Background</td>\n",
       "      <td>True</td>\n",
       "      <td>-3097524602244374542</td>\n",
       "      <td>7908099172124351817</td>\n",
       "      <td>43.0</td>\n",
       "      <td>1562218088291</td>\n",
       "      <td>1562214610345</td>\n",
       "      <td>2557</td>\n",
       "    </tr>\n",
       "  </tbody>\n",
       "</table>\n",
       "<p>5 rows × 28 columns</p>\n",
       "</div>"
      ],
      "text/plain": [
       "           batch_id                                file  file_idx  \\\n",
       "0  ve_20190704_0007  NBC_20190704053535796288_05534.txt      1999   \n",
       "1  ve_20190704_0007  NBC_20190704053535796288_05534.txt      1999   \n",
       "2  ve_20190704_0007  NBC_20190704053535796288_05534.txt      1999   \n",
       "3  ve_20190704_0007  NBC_20190704053535796288_05534.txt      1999   \n",
       "4  ve_20190704_0007  NBC_20190704053535796288_05534.txt      1999   \n",
       "\n",
       "                       asof_dt                 mpid      nbc_profile  \\\n",
       "0  2019-10-01T21:56:19.284084Z -2701949108677773288  Unauthenticated   \n",
       "1  2019-10-01T21:56:19.284084Z -7645429685580868586  Unauthenticated   \n",
       "2  2019-10-01T21:56:19.284084Z -1510884301405286654  Unauthenticated   \n",
       "3  2019-10-01T21:56:19.284084Z -1510884301405286654  Unauthenticated   \n",
       "4  2019-10-01T21:56:19.284084Z -1510884301405286654  Unauthenticated   \n",
       "\n",
       "              mvpd event_name    event_type platform  ...  \\\n",
       "0          Optimum  Video End  custom_event  Android  ...   \n",
       "1  Unauthenticated  Video End  custom_event  Android  ...   \n",
       "2          Optimum  Video End  custom_event  Android  ...   \n",
       "3          Optimum  Video End  custom_event  Android  ...   \n",
       "4          Optimum  Video End  custom_event  Android  ...   \n",
       "\n",
       "                   genre video_duration video_end_type resume  \\\n",
       "0                  Drama             37          Close   True   \n",
       "1                  Drama             37     Background   True   \n",
       "2  Reality and Game Show             43     Background   True   \n",
       "3  Reality and Game Show             43          Close   True   \n",
       "4  Reality and Game Show             43     Background   True   \n",
       "\n",
       "               event_id            session_id video_duration_watched  \\\n",
       "0   6917803156947334647  -2935159148526063382                   35.0   \n",
       "1   4428810565995114943   6810193375081775496                   12.0   \n",
       "2   -443211365947578150   7908099172124351817                   43.0   \n",
       "3  -2081107486544937101   7908099172124351817                    6.0   \n",
       "4  -3097524602244374542   7908099172124351817                   43.0   \n",
       "\n",
       "  event_start_unixtime_ms session_start_unixtime_ms resume_time  \n",
       "0           1562217633030             1562217581736        2106  \n",
       "1           1562218218831             1562212112314         690  \n",
       "2           1562217972475             1562214610345        2561  \n",
       "3           1562217985129             1562214610345         357  \n",
       "4           1562218088291             1562214610345        2557  \n",
       "\n",
       "[5 rows x 28 columns]"
      ]
     },
     "execution_count": 11,
     "metadata": {},
     "output_type": "execute_result"
    }
   ],
   "source": [
    "df.head()"
   ]
  },
  {
   "cell_type": "code",
   "execution_count": 12,
   "metadata": {},
   "outputs": [
    {
     "data": {
      "text/plain": [
       "6265392"
      ]
     },
     "execution_count": 12,
     "metadata": {},
     "output_type": "execute_result"
    }
   ],
   "source": [
    "len(df)"
   ]
  },
  {
   "cell_type": "code",
   "execution_count": 19,
   "metadata": {},
   "outputs": [
    {
     "name": "stdout",
     "output_type": "stream",
     "text": [
      "CPU times: user 30.7 ms, sys: 4.82 ms, total: 35.5 ms\n",
      "Wall time: 35.4 ms\n"
     ]
    },
    {
     "data": {
      "text/plain": [
       "94593.0"
      ]
     },
     "execution_count": 19,
     "metadata": {},
     "output_type": "execute_result"
    }
   ],
   "source": [
    "%%time\n",
    "\n",
    "## Using vectorized function on dataset in contiguous memory\n",
    "np.max(df.video_duration_watched)"
   ]
  },
  {
   "cell_type": "code",
   "execution_count": 30,
   "metadata": {},
   "outputs": [
    {
     "name": "stdout",
     "output_type": "stream",
     "text": [
      "94593.0\n",
      "CPU times: user 943 ms, sys: 2.87 ms, total: 945 ms\n",
      "Wall time: 946 ms\n"
     ]
    }
   ],
   "source": [
    "%%time\n",
    "max_value = -1\n",
    "for x in df.video_duration_watched:\n",
    "    if x > max_value:\n",
    "        max_value = x\n",
    "print(max_value)"
   ]
  },
  {
   "cell_type": "code",
   "execution_count": 33,
   "metadata": {},
   "outputs": [
    {
     "name": "stdout",
     "output_type": "stream",
     "text": [
      "94593.0\n",
      "CPU times: user 3.57 s, sys: 3.96 ms, total: 3.57 s\n",
      "Wall time: 3.57 s\n"
     ]
    }
   ],
   "source": [
    "%%time\n",
    "max_value = -1\n",
    "for x in df.video_duration_watched:\n",
    "    y = copy.copy(x)\n",
    "    if x > max_value:\n",
    "        max_value = x\n",
    "print(max_value)\n",
    "    "
   ]
  },
  {
   "cell_type": "code",
   "execution_count": 34,
   "metadata": {},
   "outputs": [
    {
     "data": {
      "text/plain": [
       "100.84745762711864"
      ]
     },
     "execution_count": 34,
     "metadata": {},
     "output_type": "execute_result"
    }
   ],
   "source": [
    "3.57 * 1000 / 35.4"
   ]
  },
  {
   "cell_type": "code",
   "execution_count": 36,
   "metadata": {},
   "outputs": [
    {
     "data": {
      "text/plain": [
       "26.72316384180791"
      ]
     },
     "execution_count": 36,
     "metadata": {},
     "output_type": "execute_result"
    }
   ],
   "source": [
    "946/35.4"
   ]
  },
  {
   "cell_type": "code",
   "execution_count": null,
   "metadata": {},
   "outputs": [],
   "source": []
  }
 ],
 "metadata": {
  "kernelspec": {
   "display_name": "Python 3",
   "language": "python",
   "name": "python3"
  },
  "language_info": {
   "codemirror_mode": {
    "name": "ipython",
    "version": 3
   },
   "file_extension": ".py",
   "mimetype": "text/x-python",
   "name": "python",
   "nbconvert_exporter": "python",
   "pygments_lexer": "ipython3",
   "version": "3.7.4"
  }
 },
 "nbformat": 4,
 "nbformat_minor": 4
}
