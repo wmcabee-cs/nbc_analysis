{
 "cells": [
  {
   "cell_type": "code",
   "execution_count": 3,
   "metadata": {},
   "outputs": [],
   "source": [
    "%reload_ext autoreload\n",
    "%autoreload 2"
   ]
  },
  {
   "cell_type": "code",
   "execution_count": 6,
   "metadata": {},
   "outputs": [],
   "source": [
    "import os\n",
    "\n",
    "import pyspark\n",
    "# !ls /usr/local/spark/jars/hadoop* # to figure out what version of hadoop\n",
    "\n",
    "#os.environ['PYSPARK_SUBMIT_ARGS'] = '--packages com.amazonaws:aws-java-sdk-pom:1.10.34,org.apache.hadoop:hadoop-aws:2.7.3 pyspark-shell'\n",
    "os.environ['PYSPARK_SUBMIT_ARGS'] = '--packages \"org.apache.hadoop:hadoop-aws:2.7.3\" pyspark-shell'\n",
    "\n",
    "## Set environment variable of acess and secret key\n",
    "\n",
    "spark = pyspark.sql.SparkSession.builder \\\n",
    "        .master(\"local[*]\") \\\n",
    "        .config(\"spark.hadoop.fs.s3a.access.key\", aws_access_key_id) \\\n",
    "        .config(\"spark.hadoop.fs.s3a.secret.key\", aws_secret_access_key) \\\n",
    "        .getOrCreate()\n"
   ]
  },
  {
   "cell_type": "code",
   "execution_count": 7,
   "metadata": {},
   "outputs": [],
   "source": [
    "#filePath = \"s3a://yourBucket/yourFile.parquet\"\n",
    "#filePath = \"s3a://ml-1m/ratings.dat\"\n",
    "filePath = 's3a://sundog-spark/ml-1m/ratings.dat'\n",
    "filePath = \n",
    "df = spark.read.text(filePath) # Parquet file read example"
   ]
  },
  {
   "cell_type": "code",
   "execution_count": 8,
   "metadata": {},
   "outputs": [
    {
     "name": "stdout",
     "output_type": "stream",
     "text": [
      "+--------------------+\n",
      "|               value|\n",
      "+--------------------+\n",
      "|1::1193::5::97830...|\n",
      "|1::661::3::978302109|\n",
      "|1::914::3::978301968|\n",
      "|1::3408::4::97830...|\n",
      "|1::2355::5::97882...|\n",
      "|1::1197::3::97830...|\n",
      "|1::1287::5::97830...|\n",
      "|1::2804::5::97830...|\n",
      "|1::594::4::978302268|\n",
      "|1::919::4::978301368|\n",
      "|1::595::5::978824268|\n",
      "|1::938::4::978301752|\n",
      "|1::2398::4::97830...|\n",
      "|1::2918::4::97830...|\n",
      "|1::1035::5::97830...|\n",
      "|1::2791::4::97830...|\n",
      "|1::2687::3::97882...|\n",
      "|1::2018::4::97830...|\n",
      "|1::3105::5::97830...|\n",
      "|1::2797::4::97830...|\n",
      "+--------------------+\n",
      "only showing top 20 rows\n",
      "\n"
     ]
    }
   ],
   "source": [
    "df.show()"
   ]
  },
  {
   "cell_type": "code",
   "execution_count": null,
   "metadata": {},
   "outputs": [],
   "source": []
  }
 ],
 "metadata": {
  "kernelspec": {
   "display_name": "Python 3",
   "language": "python",
   "name": "python3"
  },
  "language_info": {
   "codemirror_mode": {
    "name": "ipython",
    "version": 3
   },
   "file_extension": ".py",
   "mimetype": "text/x-python",
   "name": "python",
   "nbconvert_exporter": "python",
   "pygments_lexer": "ipython3",
   "version": "3.7.3"
  }
 },
 "nbformat": 4,
 "nbformat_minor": 4
}
