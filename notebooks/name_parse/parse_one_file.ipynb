{
 "cells": [
  {
   "cell_type": "code",
   "execution_count": 6,
   "metadata": {},
   "outputs": [],
   "source": [
    "%reload_ext autoreload\n",
    "%autoreload 2"
   ]
  },
  {
   "cell_type": "code",
   "execution_count": 401,
   "metadata": {},
   "outputs": [],
   "source": [
    "from nbc_analysis import agg_video_end, build_aggregate_run\n",
    "from nbc_analysis.utils.debug_utils import runit\n",
    "from toolz import first\n",
    "from pathlib import Path\n",
    "import pandas as pd\n",
    "import arrow"
   ]
  },
  {
   "cell_type": "code",
   "execution_count": 423,
   "metadata": {},
   "outputs": [
    {
     "name": "stdout",
     "output_type": "stream",
     "text": [
      "created example config file at: /Users/wmcabee/.config/nbc_analysis/extracts.yaml\n",
      ">> start build aggregations,config={'AGGREGATES_D': '/Users/wmcabee/DATA/NBC2/aggregates', 'BATCHES_D': '/Users/wmcabee/DATA/NBC2/batches', 'BATCH_LIMIT': 2, 'DAYS': ['20190701', '20190702'], 'EVENT_SETS_IN_BATCH': 10, 'EVENT_SET_D': '/Users/wmcabee/DATA/NBC2/event_set', 'EXTRACT_SPECS': {'android': {'prefix': 'NBCProd/Android/NBC_{day}'}}, 'LIMIT': 3000, 'PLATFORM': 'android', 'RAW_EVENTS_BUCKET': 'nbc-digital-cloned'}\n",
      ">> end build aggregations,outfile=/Users/wmcabee/DATA/NBC2/aggregates/aggregates_android.csv,len=2\n"
     ]
    },
    {
     "data": {
      "text/html": [
       "<div>\n",
       "<style scoped>\n",
       "    .dataframe tbody tr th:only-of-type {\n",
       "        vertical-align: middle;\n",
       "    }\n",
       "\n",
       "    .dataframe tbody tr th {\n",
       "        vertical-align: top;\n",
       "    }\n",
       "\n",
       "    .dataframe thead th {\n",
       "        text-align: right;\n",
       "    }\n",
       "</style>\n",
       "<table border=\"1\" class=\"dataframe\">\n",
       "  <thead>\n",
       "    <tr style=\"text-align: right;\">\n",
       "      <th></th>\n",
       "      <th>batch_f</th>\n",
       "    </tr>\n",
       "  </thead>\n",
       "  <tbody>\n",
       "    <tr>\n",
       "      <td>0</td>\n",
       "      <td>/Users/wmcabee/DATA/NBC2/batches/android/b0000...</td>\n",
       "    </tr>\n",
       "    <tr>\n",
       "      <td>1</td>\n",
       "      <td>/Users/wmcabee/DATA/NBC2/batches/android/b0000...</td>\n",
       "    </tr>\n",
       "  </tbody>\n",
       "</table>\n",
       "</div>"
      ],
      "text/plain": [
       "                                             batch_f\n",
       "0  /Users/wmcabee/DATA/NBC2/batches/android/b0000...\n",
       "1  /Users/wmcabee/DATA/NBC2/batches/android/b0000..."
      ]
     },
     "execution_count": 423,
     "metadata": {},
     "output_type": "execute_result"
    }
   ],
   "source": [
    "build_aggregate_run()"
   ]
  },
  {
   "cell_type": "code",
   "execution_count": 432,
   "metadata": {},
   "outputs": [
    {
     "name": "stdout",
     "output_type": "stream",
     "text": [
      "created example config file at: /Users/wmcabee/.config/nbc_analysis/extracts.yaml\n",
      ">> start aggregation for batch /Users/wmcabee/DATA/NBC2/batches/android/b00000_android_20190701.csv.gz\n",
      ">> end aggregation, wrote /Users/wmcabee/DATA/NBC2/aggregates/android/agg_b00000_android_20190701.csv.gz, 9\n",
      ">> start aggregation for batch /Users/wmcabee/DATA/NBC2/batches/android/b00001_android_20190701.csv\n",
      ">> end aggregation, wrote /Users/wmcabee/DATA/NBC2/aggregates/android/agg_b00001_android_20190701.csv, 11\n"
     ]
    }
   ],
   "source": [
    "df = runit(agg_video_end)"
   ]
  },
  {
   "cell_type": "code",
   "execution_count": 420,
   "metadata": {},
   "outputs": [],
   "source": [
    "df.to_csv('fred.csv.gz', index=False, compression=\"gzip\")"
   ]
  },
  {
   "cell_type": "code",
   "execution_count": 359,
   "metadata": {},
   "outputs": [],
   "source": [
    "batch_d = Path.home() / 'DATA' /'NBC2_save' / 'batches' /'android'\n",
    "agg_d = Path.home() / 'DATA' / 'NBC2_save' / 'aggs' / 'android'\n",
    "\n",
    "agg_d.mkdir(exist_ok=True, parents=True)\n",
    "\n",
    "reader = batch_d.glob('*.csv.gz')\n",
    "batches = list(reader)"
   ]
  },
  {
   "cell_type": "code",
   "execution_count": 360,
   "metadata": {},
   "outputs": [
    {
     "data": {
      "text/plain": [
       "[PosixPath('/Users/wmcabee/DATA/NBC2_save/batches/android/b00001_android_20190701.csv.gz'),\n",
       " PosixPath('/Users/wmcabee/DATA/NBC2_save/batches/android/b00000_android_20190701.csv.gz')]"
      ]
     },
     "execution_count": 360,
     "metadata": {},
     "output_type": "execute_result"
    }
   ],
   "source": [
    "batches"
   ]
  },
  {
   "cell_type": "code",
   "execution_count": 369,
   "metadata": {},
   "outputs": [
    {
     "name": "stdout",
     "output_type": "stream",
     "text": [
      ">> start aggregation for batch /Users/wmcabee/DATA/NBC2_save/batches/android/b00001_android_20190701.csv.gz\n",
      ">> end aggregation, wrote /Users/wmcabee/DATA/NBC2_save/aggs/android/agg_b00001_android_20190701.csv.gz, 4842\n",
      ">> start aggregation for batch /Users/wmcabee/DATA/NBC2_save/batches/android/b00000_android_20190701.csv.gz\n",
      ">> end aggregation, wrote /Users/wmcabee/DATA/NBC2_save/aggs/android/agg_b00000_android_20190701.csv.gz, 4726\n",
      "CPU times: user 1min 47s, sys: 396 ms, total: 1min 47s\n",
      "Wall time: 1min 47s\n"
     ]
    }
   ],
   "source": [
    "%%time\n",
    "reader = ( agg_video_end(batch_f=str(batch_f), outdir=agg_d) for batch_f in batches )\n",
    "for x in reader:\n",
    "    pass"
   ]
  },
  {
   "cell_type": "code",
   "execution_count": 375,
   "metadata": {},
   "outputs": [
    {
     "name": "stdout",
     "output_type": "stream",
     "text": [
      "-2623307811871074208    10\n",
      " 787649226326177944      8\n",
      "-198629046637194182      8\n",
      " 715494432719086798      8\n",
      " 4966418926448819680     8\n",
      "                        ..\n",
      "-6933411108272966211     1\n",
      " 6303604917343401906     1\n",
      " 6771270111991645480     1\n",
      " 7868941850805579897     1\n",
      "-8883566563520160370     1\n",
      "Name: mpid, Length: 3717, dtype: int64\n"
     ]
    },
    {
     "data": {
      "text/html": [
       "<div>\n",
       "<style scoped>\n",
       "    .dataframe tbody tr th:only-of-type {\n",
       "        vertical-align: middle;\n",
       "    }\n",
       "\n",
       "    .dataframe tbody tr th {\n",
       "        vertical-align: top;\n",
       "    }\n",
       "\n",
       "    .dataframe thead th {\n",
       "        text-align: right;\n",
       "    }\n",
       "</style>\n",
       "<table border=\"1\" class=\"dataframe\">\n",
       "  <thead>\n",
       "    <tr style=\"text-align: right;\">\n",
       "      <th></th>\n",
       "      <th>key</th>\n",
       "      <th>idx</th>\n",
       "      <th>batch_id</th>\n",
       "      <th>mpid</th>\n",
       "      <th>session_id</th>\n",
       "      <th>customer_id</th>\n",
       "      <th>ip</th>\n",
       "      <th>platform</th>\n",
       "      <th>video_type</th>\n",
       "      <th>video_end_type</th>\n",
       "      <th>...</th>\n",
       "      <th>episode_title</th>\n",
       "      <th>event_name</th>\n",
       "      <th>start_ts</th>\n",
       "      <th>end_ts</th>\n",
       "      <th>end_utc_day</th>\n",
       "      <th>end_utc_dt</th>\n",
       "      <th>video_cnt</th>\n",
       "      <th>ad_watch_cnt</th>\n",
       "      <th>ad_duration_watched</th>\n",
       "      <th>duration_watched</th>\n",
       "    </tr>\n",
       "  </thead>\n",
       "  <tbody>\n",
       "    <tr>\n",
       "      <td>3777</td>\n",
       "      <td>NBCProd/Android/NBC_20190701001149550182_46971...</td>\n",
       "      <td>7540</td>\n",
       "      <td>b00001_android_20190701</td>\n",
       "      <td>4966418926448819680</td>\n",
       "      <td>-789316721895629218</td>\n",
       "      <td>00df460a-9c09-4274-bd56-18b3ee9cc0e4</td>\n",
       "      <td>2603:9000:6b03:e4f6:8162:9ec1:6c97:e7c1</td>\n",
       "      <td>Android</td>\n",
       "      <td>Full Episode</td>\n",
       "      <td>Close</td>\n",
       "      <td>...</td>\n",
       "      <td>Before Midnight</td>\n",
       "      <td>Video End</td>\n",
       "      <td>1561939299164</td>\n",
       "      <td>1561939305918</td>\n",
       "      <td>20190701</td>\n",
       "      <td>2019-07-01T00:01:45</td>\n",
       "      <td>1</td>\n",
       "      <td>0</td>\n",
       "      <td>0.0</td>\n",
       "      <td>0.0</td>\n",
       "    </tr>\n",
       "    <tr>\n",
       "      <td>3778</td>\n",
       "      <td>NBCProd/Android/NBC_20190701001149550182_46971...</td>\n",
       "      <td>7548</td>\n",
       "      <td>b00001_android_20190701</td>\n",
       "      <td>4966418926448819680</td>\n",
       "      <td>-789316721895629218</td>\n",
       "      <td>00df460a-9c09-4274-bd56-18b3ee9cc0e4</td>\n",
       "      <td>2603:9000:6b03:e4f6:8162:9ec1:6c97:e7c1</td>\n",
       "      <td>Android</td>\n",
       "      <td>Full Episode</td>\n",
       "      <td>Close</td>\n",
       "      <td>...</td>\n",
       "      <td>Before Midnight</td>\n",
       "      <td>Video End</td>\n",
       "      <td>1561939310613</td>\n",
       "      <td>1561939316065</td>\n",
       "      <td>20190701</td>\n",
       "      <td>2019-07-01T00:01:56</td>\n",
       "      <td>1</td>\n",
       "      <td>0</td>\n",
       "      <td>0.0</td>\n",
       "      <td>0.0</td>\n",
       "    </tr>\n",
       "    <tr>\n",
       "      <td>3779</td>\n",
       "      <td>NBCProd/Android/NBC_20190701001155716206_55342...</td>\n",
       "      <td>6597</td>\n",
       "      <td>b00001_android_20190701</td>\n",
       "      <td>4966418926448819680</td>\n",
       "      <td>-789316721895629218</td>\n",
       "      <td>00df460a-9c09-4274-bd56-18b3ee9cc0e4</td>\n",
       "      <td>2603:9000:6b03:e4f6:8162:9ec1:6c97:e7c1</td>\n",
       "      <td>Android</td>\n",
       "      <td>Full Episode</td>\n",
       "      <td>None</td>\n",
       "      <td>...</td>\n",
       "      <td>Before Midnight</td>\n",
       "      <td>Ad End</td>\n",
       "      <td>1561939316318</td>\n",
       "      <td>1561939477964</td>\n",
       "      <td>20190701</td>\n",
       "      <td>2019-07-01T00:04:37</td>\n",
       "      <td>0</td>\n",
       "      <td>2</td>\n",
       "      <td>31.0</td>\n",
       "      <td>0.0</td>\n",
       "    </tr>\n",
       "    <tr>\n",
       "      <td>3780</td>\n",
       "      <td>NBCProd/Android/NBC_20190701001155716206_55342...</td>\n",
       "      <td>6587</td>\n",
       "      <td>b00001_android_20190701</td>\n",
       "      <td>4966418926448819680</td>\n",
       "      <td>-789316721895629218</td>\n",
       "      <td>00df460a-9c09-4274-bd56-18b3ee9cc0e4</td>\n",
       "      <td>2603:9000:6b03:e4f6:8162:9ec1:6c97:e7c1</td>\n",
       "      <td>Android</td>\n",
       "      <td>Full Episode</td>\n",
       "      <td>Close</td>\n",
       "      <td>...</td>\n",
       "      <td>Death Trap</td>\n",
       "      <td>Video End</td>\n",
       "      <td>1561939368068</td>\n",
       "      <td>1561939430541</td>\n",
       "      <td>20190701</td>\n",
       "      <td>2019-07-01T00:03:50</td>\n",
       "      <td>1</td>\n",
       "      <td>0</td>\n",
       "      <td>0.0</td>\n",
       "      <td>0.0</td>\n",
       "    </tr>\n",
       "    <tr>\n",
       "      <td>3781</td>\n",
       "      <td>NBCProd/Android/NBC_20190701001155716206_55342...</td>\n",
       "      <td>6579</td>\n",
       "      <td>b00001_android_20190701</td>\n",
       "      <td>4966418926448819680</td>\n",
       "      <td>-789316721895629218</td>\n",
       "      <td>00df460a-9c09-4274-bd56-18b3ee9cc0e4</td>\n",
       "      <td>2603:9000:6b03:e4f6:8162:9ec1:6c97:e7c1</td>\n",
       "      <td>Android</td>\n",
       "      <td>Full Episode</td>\n",
       "      <td>Close</td>\n",
       "      <td>...</td>\n",
       "      <td>Return to the Early Shift</td>\n",
       "      <td>Video End</td>\n",
       "      <td>1561939355244</td>\n",
       "      <td>1561939360833</td>\n",
       "      <td>20190701</td>\n",
       "      <td>2019-07-01T00:02:40</td>\n",
       "      <td>1</td>\n",
       "      <td>0</td>\n",
       "      <td>0.0</td>\n",
       "      <td>0.0</td>\n",
       "    </tr>\n",
       "    <tr>\n",
       "      <td>3782</td>\n",
       "      <td>NBCProd/Android/NBC_20190701001149550182_46971...</td>\n",
       "      <td>7528</td>\n",
       "      <td>b00001_android_20190701</td>\n",
       "      <td>4966418926448819680</td>\n",
       "      <td>-789316721895629218</td>\n",
       "      <td>00df460a-9c09-4274-bd56-18b3ee9cc0e4</td>\n",
       "      <td>2603:9000:6b03:e4f6:8162:9ec1:6c97:e7c1</td>\n",
       "      <td>Android</td>\n",
       "      <td>Full Episode</td>\n",
       "      <td>Close</td>\n",
       "      <td>...</td>\n",
       "      <td>The Match</td>\n",
       "      <td>Video End</td>\n",
       "      <td>1561939267386</td>\n",
       "      <td>1561939275170</td>\n",
       "      <td>20190701</td>\n",
       "      <td>2019-07-01T00:01:15</td>\n",
       "      <td>1</td>\n",
       "      <td>0</td>\n",
       "      <td>0.0</td>\n",
       "      <td>0.0</td>\n",
       "    </tr>\n",
       "    <tr>\n",
       "      <td>3783</td>\n",
       "      <td>NBCProd/Android/NBC_20190701001155716206_55342...</td>\n",
       "      <td>6563</td>\n",
       "      <td>b00001_android_20190701</td>\n",
       "      <td>4966418926448819680</td>\n",
       "      <td>-789316721895629218</td>\n",
       "      <td>00df460a-9c09-4274-bd56-18b3ee9cc0e4</td>\n",
       "      <td>2603:9000:6b03:e4f6:8162:9ec1:6c97:e7c1</td>\n",
       "      <td>Android</td>\n",
       "      <td>Full Episode</td>\n",
       "      <td>Close</td>\n",
       "      <td>...</td>\n",
       "      <td>The Match</td>\n",
       "      <td>Video End</td>\n",
       "      <td>1561939328198</td>\n",
       "      <td>1561939334538</td>\n",
       "      <td>20190701</td>\n",
       "      <td>2019-07-01T00:02:14</td>\n",
       "      <td>1</td>\n",
       "      <td>0</td>\n",
       "      <td>0.0</td>\n",
       "      <td>0.0</td>\n",
       "    </tr>\n",
       "    <tr>\n",
       "      <td>3784</td>\n",
       "      <td>NBCProd/Android/NBC_20190701001155716206_55342...</td>\n",
       "      <td>6571</td>\n",
       "      <td>b00001_android_20190701</td>\n",
       "      <td>4966418926448819680</td>\n",
       "      <td>-789316721895629218</td>\n",
       "      <td>00df460a-9c09-4274-bd56-18b3ee9cc0e4</td>\n",
       "      <td>2603:9000:6b03:e4f6:8162:9ec1:6c97:e7c1</td>\n",
       "      <td>Android</td>\n",
       "      <td>Full Episode</td>\n",
       "      <td>Close</td>\n",
       "      <td>...</td>\n",
       "      <td>The Match</td>\n",
       "      <td>Video End</td>\n",
       "      <td>1561939343777</td>\n",
       "      <td>1561939348548</td>\n",
       "      <td>20190701</td>\n",
       "      <td>2019-07-01T00:02:28</td>\n",
       "      <td>1</td>\n",
       "      <td>0</td>\n",
       "      <td>0.0</td>\n",
       "      <td>0.0</td>\n",
       "    </tr>\n",
       "  </tbody>\n",
       "</table>\n",
       "<p>8 rows × 23 columns</p>\n",
       "</div>"
      ],
      "text/plain": [
       "                                                    key   idx  \\\n",
       "3777  NBCProd/Android/NBC_20190701001149550182_46971...  7540   \n",
       "3778  NBCProd/Android/NBC_20190701001149550182_46971...  7548   \n",
       "3779  NBCProd/Android/NBC_20190701001155716206_55342...  6597   \n",
       "3780  NBCProd/Android/NBC_20190701001155716206_55342...  6587   \n",
       "3781  NBCProd/Android/NBC_20190701001155716206_55342...  6579   \n",
       "3782  NBCProd/Android/NBC_20190701001149550182_46971...  7528   \n",
       "3783  NBCProd/Android/NBC_20190701001155716206_55342...  6563   \n",
       "3784  NBCProd/Android/NBC_20190701001155716206_55342...  6571   \n",
       "\n",
       "                     batch_id                 mpid          session_id  \\\n",
       "3777  b00001_android_20190701  4966418926448819680 -789316721895629218   \n",
       "3778  b00001_android_20190701  4966418926448819680 -789316721895629218   \n",
       "3779  b00001_android_20190701  4966418926448819680 -789316721895629218   \n",
       "3780  b00001_android_20190701  4966418926448819680 -789316721895629218   \n",
       "3781  b00001_android_20190701  4966418926448819680 -789316721895629218   \n",
       "3782  b00001_android_20190701  4966418926448819680 -789316721895629218   \n",
       "3783  b00001_android_20190701  4966418926448819680 -789316721895629218   \n",
       "3784  b00001_android_20190701  4966418926448819680 -789316721895629218   \n",
       "\n",
       "                               customer_id  \\\n",
       "3777  00df460a-9c09-4274-bd56-18b3ee9cc0e4   \n",
       "3778  00df460a-9c09-4274-bd56-18b3ee9cc0e4   \n",
       "3779  00df460a-9c09-4274-bd56-18b3ee9cc0e4   \n",
       "3780  00df460a-9c09-4274-bd56-18b3ee9cc0e4   \n",
       "3781  00df460a-9c09-4274-bd56-18b3ee9cc0e4   \n",
       "3782  00df460a-9c09-4274-bd56-18b3ee9cc0e4   \n",
       "3783  00df460a-9c09-4274-bd56-18b3ee9cc0e4   \n",
       "3784  00df460a-9c09-4274-bd56-18b3ee9cc0e4   \n",
       "\n",
       "                                           ip platform    video_type  \\\n",
       "3777  2603:9000:6b03:e4f6:8162:9ec1:6c97:e7c1  Android  Full Episode   \n",
       "3778  2603:9000:6b03:e4f6:8162:9ec1:6c97:e7c1  Android  Full Episode   \n",
       "3779  2603:9000:6b03:e4f6:8162:9ec1:6c97:e7c1  Android  Full Episode   \n",
       "3780  2603:9000:6b03:e4f6:8162:9ec1:6c97:e7c1  Android  Full Episode   \n",
       "3781  2603:9000:6b03:e4f6:8162:9ec1:6c97:e7c1  Android  Full Episode   \n",
       "3782  2603:9000:6b03:e4f6:8162:9ec1:6c97:e7c1  Android  Full Episode   \n",
       "3783  2603:9000:6b03:e4f6:8162:9ec1:6c97:e7c1  Android  Full Episode   \n",
       "3784  2603:9000:6b03:e4f6:8162:9ec1:6c97:e7c1  Android  Full Episode   \n",
       "\n",
       "     video_end_type  ...              episode_title event_name       start_ts  \\\n",
       "3777          Close  ...            Before Midnight  Video End  1561939299164   \n",
       "3778          Close  ...            Before Midnight  Video End  1561939310613   \n",
       "3779           None  ...            Before Midnight     Ad End  1561939316318   \n",
       "3780          Close  ...                 Death Trap  Video End  1561939368068   \n",
       "3781          Close  ...  Return to the Early Shift  Video End  1561939355244   \n",
       "3782          Close  ...                  The Match  Video End  1561939267386   \n",
       "3783          Close  ...                  The Match  Video End  1561939328198   \n",
       "3784          Close  ...                  The Match  Video End  1561939343777   \n",
       "\n",
       "             end_ts end_utc_day           end_utc_dt  video_cnt ad_watch_cnt  \\\n",
       "3777  1561939305918    20190701  2019-07-01T00:01:45          1            0   \n",
       "3778  1561939316065    20190701  2019-07-01T00:01:56          1            0   \n",
       "3779  1561939477964    20190701  2019-07-01T00:04:37          0            2   \n",
       "3780  1561939430541    20190701  2019-07-01T00:03:50          1            0   \n",
       "3781  1561939360833    20190701  2019-07-01T00:02:40          1            0   \n",
       "3782  1561939275170    20190701  2019-07-01T00:01:15          1            0   \n",
       "3783  1561939334538    20190701  2019-07-01T00:02:14          1            0   \n",
       "3784  1561939348548    20190701  2019-07-01T00:02:28          1            0   \n",
       "\n",
       "     ad_duration_watched  duration_watched  \n",
       "3777                 0.0               0.0  \n",
       "3778                 0.0               0.0  \n",
       "3779                31.0               0.0  \n",
       "3780                 0.0               0.0  \n",
       "3781                 0.0               0.0  \n",
       "3782                 0.0               0.0  \n",
       "3783                 0.0               0.0  \n",
       "3784                 0.0               0.0  \n",
       "\n",
       "[8 rows x 23 columns]"
      ]
     },
     "execution_count": 375,
     "metadata": {},
     "output_type": "execute_result"
    }
   ],
   "source": [
    "print(ds.mpid.value_counts())\n",
    "\n",
    "ds[ds.customer_id == '00df460a-9c09-4274-bd56-18b3ee9cc0e4']"
   ]
  },
  {
   "cell_type": "code",
   "execution_count": 285,
   "metadata": {},
   "outputs": [],
   "source": [
    "df = EXAMPLE.copy()"
   ]
  },
  {
   "cell_type": "code",
   "execution_count": 296,
   "metadata": {},
   "outputs": [
    {
     "data": {
      "text/plain": [
       "'2019-06-29'"
      ]
     },
     "execution_count": 296,
     "metadata": {},
     "output_type": "execute_result"
    }
   ],
   "source": [
    "ds = df.iloc[-1][['key','idx','batch_id', 'mpid','session_id','customer_id','ip', \n",
    "                  'platform', 'video_type','video_end_type', 'show',\n",
    "                  'season', 'episode_number', 'episode_title', \n",
    "                  'event_name']].copy()\n",
    "\n",
    "ds['start_ts'] = df['timestamp_unixtime_ms'].min()\n",
    "ds['end_ts'] = df['timestamp_unixtime_ms'].max()\n",
    "\n",
    "dt = arrow.get(ds.end_ts/1000)\n",
    "ds['end_utc_day'] = dt.format(\"YYYY-MM-DD\")\n",
    "ds['end_utc_dt'] = dt.format(\"YYYY-MM-DDTHH:mm:ss\")\n",
    "ds['video_cnt'] = 1\n",
    "ds['ad_watch_cnt'] =(df.event_name == 'Ad End').sum()\n",
    "ds['ad_duration_watched'] = df.ad_duration_watched.sum()\n",
    "ds['duration_watched'] = df.duration_watched.sum()\n",
    "ds['calc_duration'] = (ds.end_ts - ds.start_ts)/(60*60)\n",
    "ds['video_cnt'] = 1 if ds.event_name == 'Video End' else 0"
   ]
  },
  {
   "cell_type": "code",
   "execution_count": 277,
   "metadata": {},
   "outputs": [
    {
     "data": {
      "text/plain": [
       "1"
      ]
     },
     "execution_count": 277,
     "metadata": {},
     "output_type": "execute_result"
    }
   ],
   "source": [
    "dt = arrow.get(ds.end_ts/1000)\n",
    "dt.format(\"YYYY-MM-DD hh\").split(' ')\n",
    "dt.hour\n"
   ]
  },
  {
   "cell_type": "code",
   "execution_count": 209,
   "metadata": {},
   "outputs": [
    {
     "data": {
      "text/html": [
       "<div>\n",
       "<style scoped>\n",
       "    .dataframe tbody tr th:only-of-type {\n",
       "        vertical-align: middle;\n",
       "    }\n",
       "\n",
       "    .dataframe tbody tr th {\n",
       "        vertical-align: top;\n",
       "    }\n",
       "\n",
       "    .dataframe thead th {\n",
       "        text-align: right;\n",
       "    }\n",
       "</style>\n",
       "<table border=\"1\" class=\"dataframe\">\n",
       "  <thead>\n",
       "    <tr style=\"text-align: right;\">\n",
       "      <th></th>\n",
       "      <th>event_name</th>\n",
       "      <th>timestamp_unixtime_ms</th>\n",
       "    </tr>\n",
       "  </thead>\n",
       "  <tbody>\n",
       "    <tr>\n",
       "      <td>10917</td>\n",
       "      <td>Ad End</td>\n",
       "      <td>1561858577938</td>\n",
       "    </tr>\n",
       "    <tr>\n",
       "      <td>10918</td>\n",
       "      <td>Video Start</td>\n",
       "      <td>1561858609121</td>\n",
       "    </tr>\n",
       "    <tr>\n",
       "      <td>10919</td>\n",
       "      <td>Ad End</td>\n",
       "      <td>1561858645058</td>\n",
       "    </tr>\n",
       "    <tr>\n",
       "      <td>10920</td>\n",
       "      <td>Ad End</td>\n",
       "      <td>1561858675118</td>\n",
       "    </tr>\n",
       "    <tr>\n",
       "      <td>10921</td>\n",
       "      <td>Ad End</td>\n",
       "      <td>1561858705052</td>\n",
       "    </tr>\n",
       "    <tr>\n",
       "      <td>10922</td>\n",
       "      <td>Ad End</td>\n",
       "      <td>1561858747779</td>\n",
       "    </tr>\n",
       "    <tr>\n",
       "      <td>10923</td>\n",
       "      <td>Video End</td>\n",
       "      <td>1561858747839</td>\n",
       "    </tr>\n",
       "  </tbody>\n",
       "</table>\n",
       "</div>"
      ],
      "text/plain": [
       "        event_name  timestamp_unixtime_ms\n",
       "10917       Ad End          1561858577938\n",
       "10918  Video Start          1561858609121\n",
       "10919       Ad End          1561858645058\n",
       "10920       Ad End          1561858675118\n",
       "10921       Ad End          1561858705052\n",
       "10922       Ad End          1561858747779\n",
       "10923    Video End          1561858747839"
      ]
     },
     "execution_count": 209,
     "metadata": {},
     "output_type": "execute_result"
    }
   ],
   "source": [
    "df[['event_name', 'timestamp_unixtime_ms']]"
   ]
  },
  {
   "cell_type": "code",
   "execution_count": 238,
   "metadata": {},
   "outputs": [
    {
     "data": {
      "text/plain": [
       "key                          NBCProd/Android/NBC_20190701001148348891_11570...\n",
       "idx                                                                       3931\n",
       "event_set                                NBC_20190701001148348891_11570.txt.gz\n",
       "batch_id                                               b00001_android_20190701\n",
       "mpid                                                      -2623307811871074208\n",
       "event_type                                                        custom_event\n",
       "event_name                                                           Video End\n",
       "customer_id                                                               None\n",
       "mvpd                                                           Unauthenticated\n",
       "ip                                                                47.40.69.217\n",
       "platform                                                               Android\n",
       "video_id                                                               3977287\n",
       "video_type                                                        Full Episode\n",
       "video_duration                                                              37\n",
       "show                                                         Days of our Lives\n",
       "season                                                                      54\n",
       "episode_number                                                             194\n",
       "episode_title                                            Friday, June 28, 2019\n",
       "video_end_type                                                      Background\n",
       "event_id                                                  -4259513923624388225\n",
       "event_num                                                                   14\n",
       "session_id                                                 4158986691202224715\n",
       "duration_watched                                                             0\n",
       "resume                                                                    True\n",
       "resume_time                                                                  1\n",
       "event_start_unixtime_ms                                          1561858383677\n",
       "session_start_unixtime_ms                                        1561858146605\n",
       "timestamp_unixtime_ms                                            1561858383677\n",
       "ad_duration_watched                                                        NaN\n",
       "ad_end_type                                                               None\n",
       "percentage_complete                                                        NaN\n",
       "campaign_name                                                             None\n",
       "creative_name                                                             None\n",
       "ad_pod_duration                                                            NaN\n",
       "ad_pod_qty                                                                 NaN\n",
       "ad_pod_type                                                               None\n",
       "video_end_idx                                                                1\n",
       "Name: 4682, dtype: object"
      ]
     },
     "execution_count": 238,
     "metadata": {},
     "output_type": "execute_result"
    }
   ],
   "source": [
    "DATA.iloc[0]"
   ]
  },
  {
   "cell_type": "code",
   "execution_count": 72,
   "metadata": {},
   "outputs": [
    {
     "ename": "ValueError",
     "evalue": "not enough values to unpack (expected 3, got 1)",
     "output_type": "error",
     "traceback": [
      "\u001b[0;31m---------------------------------------------------------------------------\u001b[0m",
      "\u001b[0;31mValueError\u001b[0m                                Traceback (most recent call last)",
      "\u001b[0;32m<ipython-input-72-d87ccce85ab4>\u001b[0m in \u001b[0;36m<module>\u001b[0;34m\u001b[0m\n\u001b[0;32m----> 1\u001b[0;31m \u001b[0;34m(\u001b[0m\u001b[0mmpid\u001b[0m\u001b[0;34m,\u001b[0m \u001b[0msession_id\u001b[0m\u001b[0;34m,\u001b[0m \u001b[0mvideo_id\u001b[0m\u001b[0;34m)\u001b[0m\u001b[0;34m,\u001b[0m \u001b[0mdf\u001b[0m\u001b[0;34m,\u001b[0m \u001b[0mbatch_f\u001b[0m \u001b[0;34m=\u001b[0m \u001b[0mret\u001b[0m\u001b[0;34m\u001b[0m\u001b[0;34m\u001b[0m\u001b[0m\n\u001b[0m",
      "\u001b[0;31mValueError\u001b[0m: not enough values to unpack (expected 3, got 1)"
     ]
    }
   ],
   "source": [
    "(mpid, session_id, video_id), df, batch_f = ret"
   ]
  },
  {
   "cell_type": "code",
   "execution_count": 33,
   "metadata": {},
   "outputs": [
    {
     "data": {
      "text/plain": [
       "Ad End        4\n",
       "Ad Pod End    2\n",
       "Name: event_name, dtype: int64"
      ]
     },
     "execution_count": 33,
     "metadata": {},
     "output_type": "execute_result"
    }
   ],
   "source": [
    "df.event_name.value_counts()"
   ]
  },
  {
   "cell_type": "code",
   "execution_count": null,
   "metadata": {},
   "outputs": [],
   "source": []
  }
 ],
 "metadata": {
  "kernelspec": {
   "display_name": "Python 3",
   "language": "python",
   "name": "python3"
  },
  "language_info": {
   "codemirror_mode": {
    "name": "ipython",
    "version": 3
   },
   "file_extension": ".py",
   "mimetype": "text/x-python",
   "name": "python",
   "nbconvert_exporter": "python",
   "pygments_lexer": "ipython3",
   "version": "3.7.4"
  }
 },
 "nbformat": 4,
 "nbformat_minor": 4
}
