{
 "cells": [
  {
   "cell_type": "code",
   "execution_count": null,
   "metadata": {},
   "outputs": [],
   "source": [
    "import pandas as pd\n",
    "from cortex import Cortex\n",
    "import pydash\n",
    "from cortex_common.types import EntityEvent, ListAttributeValue, DimensionalAttributeValue, StringAttributeValue\n",
    "cortex= Cortex.client()\n",
    "builder = cortex.builder()\n",
    "\n"
   ]
  },
  {
   "cell_type": "code",
   "execution_count": null,
   "metadata": {},
   "outputs": [],
   "source": [
    "df = pd.read_csv(\"../../data/sample-member-profile.csv\", dtype={'member_adress_zip':'str', 'profile_id' : 'str'})"
   ]
  },
  {
   "cell_type": "code",
   "execution_count": null,
   "metadata": {},
   "outputs": [],
   "source": [
    "df = df.astype('object')"
   ]
  },
  {
   "cell_type": "code",
   "execution_count": null,
   "metadata": {},
   "outputs": [],
   "source": [
    "list_members = df['member_id'][0:5]"
   ]
  },
  {
   "cell_type": "code",
   "execution_count": null,
   "metadata": {},
   "outputs": [],
   "source": [
    "df2 = df[df[\"member_id\"] .isin(list_members) ]"
   ]
  },
  {
   "cell_type": "code",
   "execution_count": null,
   "metadata": {},
   "outputs": [],
   "source": [
    "df.head()"
   ]
  },
  {
   "cell_type": "code",
   "execution_count": null,
   "metadata": {},
   "outputs": [],
   "source": [
    "list_columns = df.columns.tolist()"
   ]
  },
  {
   "cell_type": "code",
   "execution_count": null,
   "metadata": {},
   "outputs": [],
   "source": [
    "cortex_schema_version = 'accelerators/Member'\n",
    "cortex_schema_version"
   ]
  },
  {
   "cell_type": "code",
   "execution_count": null,
   "metadata": {},
   "outputs": [],
   "source": [
    "event_list = [\n",
    "    [EntityEvent(event = i,entityId = df['member_id'][idx],entityType = cortex_schema_version,properties = {'value': df[i][idx]}) for i in list_columns]\n",
    "    for idx in df.index]"
   ]
  },
  {
   "cell_type": "code",
   "execution_count": null,
   "metadata": {},
   "outputs": [],
   "source": [
    "event_list[0:10]"
   ]
  },
  {
   "cell_type": "code",
   "execution_count": null,
   "metadata": {},
   "outputs": [],
   "source": [
    "for event in event_list:\n",
    "    try:\n",
    "        profile = builder.profiles(cortex_schema_version).with_events(event).build()\n",
    "        print(profile)\n",
    "    except Exception as e:\n",
    "        print('Error:', e)\n"
   ]
  },
  {
   "cell_type": "code",
   "execution_count": null,
   "metadata": {},
   "outputs": [],
   "source": [
    "df1 = pd.read_csv('../../data/sample-alert-data.csv', dtype={ 'member_id' : 'str'})"
   ]
  },
  {
   "cell_type": "code",
   "execution_count": null,
   "metadata": {},
   "outputs": [],
   "source": [
    "df2 = pd.read_csv('../../data/sample-alert-acted.csv', dtype={ 'member_id' : 'str'})"
   ]
  },
  {
   "cell_type": "code",
   "execution_count": null,
   "metadata": {},
   "outputs": [],
   "source": [
    "df1.head()"
   ]
  },
  {
   "cell_type": "code",
   "execution_count": null,
   "metadata": {},
   "outputs": [],
   "source": [
    "df1 = df1.astype('object')"
   ]
  },
  {
   "cell_type": "code",
   "execution_count": null,
   "metadata": {},
   "outputs": [],
   "source": [
    "member_id_list1 = []\n",
    "event_list1 = []\n",
    "\n",
    "for idx in df1.index:\n",
    "    if df1.iloc[idx]['member_id'] in member_id_list1:\n",
    "        break\n",
    "    a = df1[df1['member_id'] == df1.iloc[idx]['member_id']]\n",
    "    list_alerts = a.to_dict('records')\n",
    "    val_strings = []\n",
    "    for i in list_alerts:\n",
    "        i.pop('member_id')\n",
    "        i.pop('alert')\n",
    "        val = StringAttributeValue(value=i['alert_id'])\n",
    "        val_strings.append(val)\n",
    "  \n",
    "    list_alerts = ListAttributeValue(value=val_strings)\n",
    "    event = EntityEvent(\n",
    "            event = 'alerts_generated',\n",
    "            entityId = df1['member_id'][idx],\n",
    "            entityType = cortex_schema_version,\n",
    "            properties = dict(list_alerts))\n",
    "    event_list1.append(event)\n",
    "    member_id_list1.append(df1.iloc[idx]['member_id'])\n",
    "print(event_list1)\n",
    "\n",
    "try:\n",
    "    profile = builder.profiles(cortex_schema_version).with_events(event_list1).build()\n",
    "    print(profile)\n",
    "except Exception as e:\n",
    "    print('Error:', e)\n"
   ]
  },
  {
   "cell_type": "code",
   "execution_count": null,
   "metadata": {},
   "outputs": [],
   "source": [
    "df2 = df2.astype('object')"
   ]
  },
  {
   "cell_type": "code",
   "execution_count": null,
   "metadata": {},
   "outputs": [],
   "source": [
    "df2.head()"
   ]
  },
  {
   "cell_type": "code",
   "execution_count": null,
   "metadata": {},
   "outputs": [],
   "source": [
    "from cortex_common.types.attribute_values import Dimension, StringAttributeValue, CounterAttributeValue\n",
    "member_id_list2 = []\n",
    "event_list2 = []\n",
    "for idx in df2.index:\n",
    "    if df2.iloc[idx]['member_id'] in member_id_list2:\n",
    "        break\n",
    "    a = df2[df2['member_id'] == df2.iloc[idx]['member_id']]\n",
    "    list_alerts = a.to_dict('records')\n",
    "    list_alerts_viewed = [pydash.merge(pydash.pick(alert, 'alert_id'), pydash.pick(alert,'alert_viewed')) for alert in list_alerts]\n",
    "    list_alerts_acted = [pydash.merge(pydash.pick(alert, 'alert_id'), pydash.pick(alert,'alert_acted')) for alert in list_alerts]\n",
    "    \n",
    "    viewed = [ a[\"alert_id\"] for a in list_alerts_viewed if a[\"alert_viewed\"] == 1]\n",
    "    acted = [ a[\"alert_id\"] for a in list_alerts_acted if a[\"alert_acted\"] == 1]\n",
    "    \n",
    "    #      \n",
    "    attribute_for_alerts_viewed = DimensionalAttributeValue(value=[\n",
    "        Dimension(\n",
    "            dimensionId=alert[\"alert_id\"],\n",
    "            dimensionValue=CounterAttributeValue(value=1 if alert[\"alert_id\"] in viewed else 0),\n",
    "        )\n",
    "        for alert in list_alerts\n",
    "    ], contextOfDimension=StringAttributeValue.detailed_schema_type().outerType,contextOfDimensionValue=CounterAttributeValue.detailed_schema_type())\n",
    "    \n",
    "    attribute_for_alerts_acted = DimensionalAttributeValue(value=[\n",
    "        Dimension(\n",
    "            dimensionId=alert[\"alert_id\"],\n",
    "            dimensionValue=CounterAttributeValue(value=1 if alert[\"alert_id\"] in acted else 0),\n",
    "        )\n",
    "        for alert in list_alerts\n",
    "    ], contextOfDimension=StringAttributeValue.detailed_schema_type().outerType,contextOfDimensionValue=CounterAttributeValue.detailed_schema_type().outerType)\n",
    "\n",
    "#     print(attribute_for_alerts_veiwed)\n",
    "\n",
    "    #     print(list_alerts)\n",
    "#     list_alerts_viewed = ListAttributeValue(value=list_alerts_viewed)\n",
    "#     list_alerts_acted = ListAttributeValue(value=list_alerts_acted)\n",
    "    event_alert_viewed = EntityEvent(\n",
    "            event = 'alerts_viewed',\n",
    "            entityId = df2['member_id'][idx],\n",
    "            entityType = cortex_schema_version,\n",
    "            properties = dict(attribute_for_alerts_viewed))\n",
    "    event_alert_acted = EntityEvent(\n",
    "            event = 'alerts_acted',\n",
    "            entityId = df2['member_id'][idx],\n",
    "            entityType = cortex_schema_version,\n",
    "            properties = dict(attribute_for_alerts_acted))\n",
    "    event_list2.append(event_alert_viewed)\n",
    "    event_list2.append(event_alert_acted)\n",
    "    member_id_list2.append(df2.iloc[idx]['member_id'])\n",
    "# print(event_list2)   \n",
    "print(event_list2)\n",
    "try:\n",
    "    profile = builder.profile(cortex_schema_version).with_events(event_list2).build()\n",
    "except Exception as e:\n",
    "    print('Error:', e)"
   ]
  },
  {
   "cell_type": "code",
   "execution_count": null,
   "metadata": {},
   "outputs": [],
   "source": [
    "if ':' not in cortex_schema_version:\n",
    "    \n",
    "    schema_version = cortex.profile_schema(cortex_schema_version).latest()._version\n",
    "\n",
    "    cortex_schema_version = \"{}:{}\".format(cortex_schema_version,schema_version)\n",
    "\n",
    "\n",
    "profile_attrs = cortex.profile('1234567').latest(\"accelerators/Member\")"
   ]
  },
  {
   "cell_type": "code",
   "execution_count": null,
   "metadata": {},
   "outputs": [],
   "source": [
    "profile_attrs"
   ]
  },
  {
   "cell_type": "code",
   "execution_count": null,
   "metadata": {},
   "outputs": [],
   "source": []
  }
 ],
 "metadata": {
  "kernelspec": {
   "display_name": "Python 3",
   "language": "python",
   "name": "python3"
  },
  "language_info": {
   "codemirror_mode": {
    "name": "ipython",
    "version": 3
   },
   "file_extension": ".py",
   "mimetype": "text/x-python",
   "name": "python",
   "nbconvert_exporter": "python",
   "pygments_lexer": "ipython3",
   "version": "3.7.4"
  }
 },
 "nbformat": 4,
 "nbformat_minor": 4
}
