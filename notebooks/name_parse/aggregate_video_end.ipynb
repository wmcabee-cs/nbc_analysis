{
 "cells": [
  {
   "cell_type": "code",
   "execution_count": 2,
   "metadata": {},
   "outputs": [],
   "source": [
    "from nbc_analysis import agg_video_end, build_aggregate_run\n",
    "from nbc_analysis.utils.debug_utils import runit"
   ]
  },
  {
   "cell_type": "code",
   "execution_count": 3,
   "metadata": {},
   "outputs": [
    {
     "name": "stdout",
     "output_type": "stream",
     "text": [
      "created example config file at: /Users/wmcabee/.config/nbc_analysis/extracts.yaml\n",
      ">> start build aggregations,config={'AGGREGATES_D': '/Users/wmcabee/DATA/NBC2/aggregates', 'BATCHES_D': '/Users/wmcabee/DATA/NBC2/batches', 'BATCH_LIMIT': 2, 'DAYS': ['20190701', '20190702'], 'EVENT_SETS_IN_BATCH': 10, 'EVENT_SET_D': '/Users/wmcabee/DATA/NBC2/event_set', 'EXTRACT_SPECS': {'android': {'prefix': 'NBCProd/Android/NBC_{day}'}}, 'LIMIT': 3000, 'PLATFORM': 'android', 'RAW_EVENTS_BUCKET': 'nbc-digital-cloned'}\n",
      ">> end build aggregations,outfile=/Users/wmcabee/DATA/NBC2/aggregates/aggregates_android.csv,len=2\n"
     ]
    },
    {
     "data": {
      "text/html": [
       "<div>\n",
       "<style scoped>\n",
       "    .dataframe tbody tr th:only-of-type {\n",
       "        vertical-align: middle;\n",
       "    }\n",
       "\n",
       "    .dataframe tbody tr th {\n",
       "        vertical-align: top;\n",
       "    }\n",
       "\n",
       "    .dataframe thead th {\n",
       "        text-align: right;\n",
       "    }\n",
       "</style>\n",
       "<table border=\"1\" class=\"dataframe\">\n",
       "  <thead>\n",
       "    <tr style=\"text-align: right;\">\n",
       "      <th></th>\n",
       "      <th>batch_f</th>\n",
       "    </tr>\n",
       "  </thead>\n",
       "  <tbody>\n",
       "    <tr>\n",
       "      <td>0</td>\n",
       "      <td>/Users/wmcabee/DATA/NBC2/batches/android/b0000...</td>\n",
       "    </tr>\n",
       "    <tr>\n",
       "      <td>1</td>\n",
       "      <td>/Users/wmcabee/DATA/NBC2/batches/android/b0000...</td>\n",
       "    </tr>\n",
       "  </tbody>\n",
       "</table>\n",
       "</div>"
      ],
      "text/plain": [
       "                                             batch_f\n",
       "0  /Users/wmcabee/DATA/NBC2/batches/android/b0000...\n",
       "1  /Users/wmcabee/DATA/NBC2/batches/android/b0000..."
      ]
     },
     "execution_count": 3,
     "metadata": {},
     "output_type": "execute_result"
    }
   ],
   "source": [
    "runit(build_aggregate_run)"
   ]
  },
  {
   "cell_type": "code",
   "execution_count": 4,
   "metadata": {},
   "outputs": [
    {
     "name": "stdout",
     "output_type": "stream",
     "text": [
      "created example config file at: /Users/wmcabee/.config/nbc_analysis/extracts.yaml\n",
      ">> start aggregation for batch /Users/wmcabee/DATA/NBC2/batches/android/b00000_android_20190701.csv.gz\n",
      ">> end aggregation, wrote /Users/wmcabee/DATA/NBC2/aggregates/android/agg_b00000_android_20190701.csv.gz, 4726\n",
      ">> start aggregation for batch /Users/wmcabee/DATA/NBC2/batches/android/b00001_android_20190701.csv.gz\n",
      ">> end aggregation, wrote /Users/wmcabee/DATA/NBC2/aggregates/android/agg_b00001_android_20190701.csv.gz, 4842\n"
     ]
    },
    {
     "data": {
      "text/html": [
       "<div>\n",
       "<style scoped>\n",
       "    .dataframe tbody tr th:only-of-type {\n",
       "        vertical-align: middle;\n",
       "    }\n",
       "\n",
       "    .dataframe tbody tr th {\n",
       "        vertical-align: top;\n",
       "    }\n",
       "\n",
       "    .dataframe thead th {\n",
       "        text-align: right;\n",
       "    }\n",
       "</style>\n",
       "<table border=\"1\" class=\"dataframe\">\n",
       "  <thead>\n",
       "    <tr style=\"text-align: right;\">\n",
       "      <th></th>\n",
       "      <th>batch_f</th>\n",
       "    </tr>\n",
       "  </thead>\n",
       "  <tbody>\n",
       "    <tr>\n",
       "      <td>0</td>\n",
       "      <td>/Users/wmcabee/DATA/NBC2/batches/android/b0000...</td>\n",
       "    </tr>\n",
       "    <tr>\n",
       "      <td>1</td>\n",
       "      <td>/Users/wmcabee/DATA/NBC2/batches/android/b0000...</td>\n",
       "    </tr>\n",
       "  </tbody>\n",
       "</table>\n",
       "</div>"
      ],
      "text/plain": [
       "                                             batch_f\n",
       "0  /Users/wmcabee/DATA/NBC2/batches/android/b0000...\n",
       "1  /Users/wmcabee/DATA/NBC2/batches/android/b0000..."
      ]
     },
     "execution_count": 4,
     "metadata": {},
     "output_type": "execute_result"
    }
   ],
   "source": [
    "runit(agg_video_end)"
   ]
  },
  {
   "cell_type": "code",
   "execution_count": null,
   "metadata": {},
   "outputs": [],
   "source": []
  }
 ],
 "metadata": {
  "kernelspec": {
   "display_name": "Python 3",
   "language": "python",
   "name": "python3"
  },
  "language_info": {
   "codemirror_mode": {
    "name": "ipython",
    "version": 3
   },
   "file_extension": ".py",
   "mimetype": "text/x-python",
   "name": "python",
   "nbconvert_exporter": "python",
   "pygments_lexer": "ipython3",
   "version": "3.7.4"
  }
 },
 "nbformat": 4,
 "nbformat_minor": 4
}
