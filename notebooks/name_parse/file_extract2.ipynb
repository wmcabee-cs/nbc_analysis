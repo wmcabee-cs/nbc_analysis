{
 "cells": [
  {
   "cell_type": "code",
   "execution_count": 1,
   "metadata": {},
   "outputs": [],
   "source": [
    "%reload_ext autoreload\n",
    "%autoreload 2"
   ]
  },
  {
   "cell_type": "code",
   "execution_count": 2,
   "metadata": {},
   "outputs": [],
   "source": [
    "from nbc_analysis.utils.config_utils import get_config\n",
    "from nbc_analysis.extracts.main import main as run_extracts\n",
    "from nbc_analysis.utils.debug_utils import runit"
   ]
  },
  {
   "cell_type": "code",
   "execution_count": 11,
   "metadata": {},
   "outputs": [
    {
     "name": "stdout",
     "output_type": "stream",
     "text": [
      "created example config file at: /Users/wmcabee/.config/nbc_analysis/extracts.yaml\n"
     ]
    },
    {
     "data": {
      "text/plain": [
       "{'DAYS': ['20190701',\n",
       "  '20190702',\n",
       "  '20190703',\n",
       "  '20190704',\n",
       "  '20190705',\n",
       "  '20190706',\n",
       "  '20190707',\n",
       "  '20190708',\n",
       "  '20190709',\n",
       "  '20190710',\n",
       "  '20190711',\n",
       "  '20190712',\n",
       "  '20190713',\n",
       "  '20190714',\n",
       "  '20190715',\n",
       "  '20190716',\n",
       "  '20190717',\n",
       "  '20190718',\n",
       "  '20190719',\n",
       "  '20190720',\n",
       "  '20190721',\n",
       "  '20190722',\n",
       "  '20190723',\n",
       "  '20190724',\n",
       "  '20190725',\n",
       "  '20190726',\n",
       "  '20190727',\n",
       "  '20190728',\n",
       "  '20190729',\n",
       "  '20190730',\n",
       "  '20190731'],\n",
       " 'EVENT_SET_D': '/Users/wmcabee/DATA/NBC2/event_set',\n",
       " 'EXTRACT_SPECS': {'android': {'prefix': 'NBCProd/Android/NBC_{day}'}},\n",
       " 'LIMIT': 3000,\n",
       " 'RAW_EVENTS_BUCKET': 'nbc-digital-cloned',\n",
       " 'WORK_D': '/Users/wmcabee/DATA/NBC2/tmp'}"
      ]
     },
     "execution_count": 11,
     "metadata": {},
     "output_type": "execute_result"
    }
   ],
   "source": [
    "runit(get_config)"
   ]
  },
  {
   "cell_type": "code",
   "execution_count": 12,
   "metadata": {},
   "outputs": [
    {
     "name": "stdout",
     "output_type": "stream",
     "text": [
      ">> init extract run\n",
      "created example config file at: /Users/wmcabee/.config/nbc_analysis/extracts.yaml\n",
      ">> start extract run, config={'DAYS': ['20190701', '20190702', '20190703', '20190704', '20190705', '20190706', '20190707', '20190708', '20190709', '20190710', '20190711', '20190712', '20190713', '20190714', '20190715', '20190716', '20190717', '20190718', '20190719', '20190720', '20190721', '20190722', '20190723', '20190724', '20190725', '20190726', '20190727', '20190728', '20190729', '20190730', '20190731'], 'EVENT_SET_D': '/Users/wmcabee/DATA/NBC2/event_set', 'EXTRACT_SPECS': {'android': {'prefix': 'NBCProd/Android/NBC_{day}'}}, 'LIMIT': 3000, 'RAW_EVENTS_BUCKET': 'nbc-digital-cloned', 'WORK_D': '/Users/wmcabee/DATA/NBC2/tmp'}\n",
      ">> start extract,extract=android,outfile=/Users/wmcabee/DATA/NBC2/event_set/android_20190701.csv\n",
      ">> end extract,extract=android,outfile=/Users/wmcabee/DATA/NBC2/event_set/android_20190701.csv,records=1717\n",
      ">> start extract,extract=android,outfile=/Users/wmcabee/DATA/NBC2/event_set/android_20190702.csv\n",
      ">> end extract,extract=android,outfile=/Users/wmcabee/DATA/NBC2/event_set/android_20190702.csv,records=1727\n",
      ">> start extract,extract=android,outfile=/Users/wmcabee/DATA/NBC2/event_set/android_20190703.csv\n",
      ">> end extract,extract=android,outfile=/Users/wmcabee/DATA/NBC2/event_set/android_20190703.csv,records=1723\n",
      ">> start extract,extract=android,outfile=/Users/wmcabee/DATA/NBC2/event_set/android_20190704.csv\n",
      ">> end extract,extract=android,outfile=/Users/wmcabee/DATA/NBC2/event_set/android_20190704.csv,records=1727\n",
      ">> start extract,extract=android,outfile=/Users/wmcabee/DATA/NBC2/event_set/android_20190705.csv\n",
      ">> end extract,extract=android,outfile=/Users/wmcabee/DATA/NBC2/event_set/android_20190705.csv,records=1721\n",
      ">> start extract,extract=android,outfile=/Users/wmcabee/DATA/NBC2/event_set/android_20190706.csv\n",
      ">> end extract,extract=android,outfile=/Users/wmcabee/DATA/NBC2/event_set/android_20190706.csv,records=1726\n",
      ">> start extract,extract=android,outfile=/Users/wmcabee/DATA/NBC2/event_set/android_20190707.csv\n",
      ">> end extract,extract=android,outfile=/Users/wmcabee/DATA/NBC2/event_set/android_20190707.csv,records=1724\n",
      ">> start extract,extract=android,outfile=/Users/wmcabee/DATA/NBC2/event_set/android_20190708.csv\n",
      ">> end extract,extract=android,outfile=/Users/wmcabee/DATA/NBC2/event_set/android_20190708.csv,records=1724\n",
      ">> start extract,extract=android,outfile=/Users/wmcabee/DATA/NBC2/event_set/android_20190709.csv\n",
      ">> end extract,extract=android,outfile=/Users/wmcabee/DATA/NBC2/event_set/android_20190709.csv,records=1724\n",
      ">> start extract,extract=android,outfile=/Users/wmcabee/DATA/NBC2/event_set/android_20190710.csv\n",
      ">> end extract,extract=android,outfile=/Users/wmcabee/DATA/NBC2/event_set/android_20190710.csv,records=2065\n",
      ">> start extract,extract=android,outfile=/Users/wmcabee/DATA/NBC2/event_set/android_20190711.csv\n",
      ">> end extract,extract=android,outfile=/Users/wmcabee/DATA/NBC2/event_set/android_20190711.csv,records=1716\n",
      ">> start extract,extract=android,outfile=/Users/wmcabee/DATA/NBC2/event_set/android_20190712.csv\n",
      ">> end extract,extract=android,outfile=/Users/wmcabee/DATA/NBC2/event_set/android_20190712.csv,records=1723\n",
      ">> start extract,extract=android,outfile=/Users/wmcabee/DATA/NBC2/event_set/android_20190713.csv\n",
      ">> end extract,extract=android,outfile=/Users/wmcabee/DATA/NBC2/event_set/android_20190713.csv,records=1727\n",
      ">> start extract,extract=android,outfile=/Users/wmcabee/DATA/NBC2/event_set/android_20190714.csv\n",
      ">> end extract,extract=android,outfile=/Users/wmcabee/DATA/NBC2/event_set/android_20190714.csv,records=1716\n",
      ">> start extract,extract=android,outfile=/Users/wmcabee/DATA/NBC2/event_set/android_20190715.csv\n",
      ">> end extract,extract=android,outfile=/Users/wmcabee/DATA/NBC2/event_set/android_20190715.csv,records=1725\n",
      ">> start extract,extract=android,outfile=/Users/wmcabee/DATA/NBC2/event_set/android_20190716.csv\n",
      ">> end extract,extract=android,outfile=/Users/wmcabee/DATA/NBC2/event_set/android_20190716.csv,records=1720\n",
      ">> start extract,extract=android,outfile=/Users/wmcabee/DATA/NBC2/event_set/android_20190717.csv\n",
      ">> end extract,extract=android,outfile=/Users/wmcabee/DATA/NBC2/event_set/android_20190717.csv,records=1820\n",
      ">> start extract,extract=android,outfile=/Users/wmcabee/DATA/NBC2/event_set/android_20190718.csv\n",
      ">> end extract,extract=android,outfile=/Users/wmcabee/DATA/NBC2/event_set/android_20190718.csv,records=1727\n",
      ">> start extract,extract=android,outfile=/Users/wmcabee/DATA/NBC2/event_set/android_20190719.csv\n",
      ">> end extract,extract=android,outfile=/Users/wmcabee/DATA/NBC2/event_set/android_20190719.csv,records=1698\n",
      ">> start extract,extract=android,outfile=/Users/wmcabee/DATA/NBC2/event_set/android_20190720.csv\n",
      ">> end extract,extract=android,outfile=/Users/wmcabee/DATA/NBC2/event_set/android_20190720.csv,records=1686\n",
      ">> start extract,extract=android,outfile=/Users/wmcabee/DATA/NBC2/event_set/android_20190721.csv\n",
      ">> end extract,extract=android,outfile=/Users/wmcabee/DATA/NBC2/event_set/android_20190721.csv,records=1720\n",
      ">> start extract,extract=android,outfile=/Users/wmcabee/DATA/NBC2/event_set/android_20190722.csv\n",
      ">> end extract,extract=android,outfile=/Users/wmcabee/DATA/NBC2/event_set/android_20190722.csv,records=1725\n",
      ">> start extract,extract=android,outfile=/Users/wmcabee/DATA/NBC2/event_set/android_20190723.csv\n",
      ">> end extract,extract=android,outfile=/Users/wmcabee/DATA/NBC2/event_set/android_20190723.csv,records=1722\n",
      ">> start extract,extract=android,outfile=/Users/wmcabee/DATA/NBC2/event_set/android_20190724.csv\n",
      ">> end extract,extract=android,outfile=/Users/wmcabee/DATA/NBC2/event_set/android_20190724.csv,records=1725\n",
      ">> start extract,extract=android,outfile=/Users/wmcabee/DATA/NBC2/event_set/android_20190725.csv\n",
      ">> end extract,extract=android,outfile=/Users/wmcabee/DATA/NBC2/event_set/android_20190725.csv,records=1717\n",
      ">> start extract,extract=android,outfile=/Users/wmcabee/DATA/NBC2/event_set/android_20190726.csv\n",
      ">> end extract,extract=android,outfile=/Users/wmcabee/DATA/NBC2/event_set/android_20190726.csv,records=1727\n",
      ">> start extract,extract=android,outfile=/Users/wmcabee/DATA/NBC2/event_set/android_20190727.csv\n",
      ">> end extract,extract=android,outfile=/Users/wmcabee/DATA/NBC2/event_set/android_20190727.csv,records=1722\n",
      ">> start extract,extract=android,outfile=/Users/wmcabee/DATA/NBC2/event_set/android_20190728.csv\n",
      ">> end extract,extract=android,outfile=/Users/wmcabee/DATA/NBC2/event_set/android_20190728.csv,records=1726\n",
      ">> start extract,extract=android,outfile=/Users/wmcabee/DATA/NBC2/event_set/android_20190729.csv\n",
      ">> end extract,extract=android,outfile=/Users/wmcabee/DATA/NBC2/event_set/android_20190729.csv,records=1723\n",
      ">> start extract,extract=android,outfile=/Users/wmcabee/DATA/NBC2/event_set/android_20190730.csv\n",
      ">> end extract,extract=android,outfile=/Users/wmcabee/DATA/NBC2/event_set/android_20190730.csv,records=1728\n",
      ">> start extract,extract=android,outfile=/Users/wmcabee/DATA/NBC2/event_set/android_20190731.csv\n",
      ">> end extract,extract=android,outfile=/Users/wmcabee/DATA/NBC2/event_set/android_20190731.csv,records=1722\n",
      ">> end extract run\n"
     ]
    }
   ],
   "source": [
    "ret = runit(run_extracts)\n",
    "ret"
   ]
  },
  {
   "cell_type": "code",
   "execution_count": null,
   "metadata": {},
   "outputs": [],
   "source": []
  }
 ],
 "metadata": {
  "kernelspec": {
   "display_name": "Python 3",
   "language": "python",
   "name": "python3"
  },
  "language_info": {
   "codemirror_mode": {
    "name": "ipython",
    "version": 3
   },
   "file_extension": ".py",
   "mimetype": "text/x-python",
   "name": "python",
   "nbconvert_exporter": "python",
   "pygments_lexer": "ipython3",
   "version": "3.7.4"
  }
 },
 "nbformat": 4,
 "nbformat_minor": 4
}
