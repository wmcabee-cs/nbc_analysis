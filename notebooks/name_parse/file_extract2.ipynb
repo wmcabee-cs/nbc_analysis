{
 "cells": [
  {
   "cell_type": "code",
   "execution_count": 63,
   "metadata": {},
   "outputs": [],
   "source": [
    "%reload_ext autoreload\n",
    "%autoreload 2"
   ]
  },
  {
   "cell_type": "code",
   "execution_count": 64,
   "metadata": {},
   "outputs": [],
   "source": [
    "from nbc_analysis.utils.config_utils import get_config\n",
    "from nbc_analysis.extracts.main import main as run_extracts\n",
    "from nbc_analysis.utils.debug_utils import runit\n",
    "import arrow"
   ]
  },
  {
   "cell_type": "code",
   "execution_count": 97,
   "metadata": {},
   "outputs": [
    {
     "name": "stdout",
     "output_type": "stream",
     "text": [
      ">> created default config file,config_f=/Users/wmcabee/.config/nbc_analysis/extracts.yaml\n"
     ]
    },
    {
     "data": {
      "text/plain": [
       "{'DAYS': ['20190701', '20190702'],\n",
       " 'EXTRACTS_D': '/Users/wmcabee/DATA/NBC2/extracts',\n",
       " 'LIMIT_BATCH_CNT': 2,\n",
       " 'LIMIT_EVENTS_PER_BATCH': 10,\n",
       " 'VIDEO_END_BUCKET': 'nbc-event'}"
      ]
     },
     "execution_count": 97,
     "metadata": {},
     "output_type": "execute_result"
    }
   ],
   "source": [
    "config = runit(get_config, overrides={})\n",
    "config"
   ]
  },
  {
   "cell_type": "code",
   "execution_count": 98,
   "metadata": {},
   "outputs": [
    {
     "name": "stdout",
     "output_type": "stream",
     "text": [
      ">> created default config file,config_f=/Users/wmcabee/.config/nbc_analysis/extracts.yaml\n",
      ">> start extract run, config={'BATCH_LIMIT': None, 'LIMIT_EVENTS_PER_BATCH': 10, 'LIMIT_BATCH_CNT': 2, 'EXTRACTS_D': '/Users/wmcabee/DATA/NBC2/extracts', 'VIDEO_END_BUCKET': 'nbc-event'}\n",
      ">> start list_objects_for_day,day=20190701,prefix=year=2019/month=07/event=video_end/NBCUniversal_20190701,asof_dt=2019-09-27T14:41:36.560947Z\n",
      "end list_objects_for_day,day=20190701,asof=2019-09-27T14:41:36.560947Z,cnt=10,duration=0.77502\n",
      "!! stopping run early...\n"
     ]
    },
    {
     "data": {
      "text/plain": [
       "(('20190701', '2019-09-27T14:41:36.560947Z'),\n",
       "                                                 name     size  batch_id  \\\n",
       " 0  year=2019/month=07/event=video_end/NBCUniversa...  1368716  20190701   \n",
       " 1  year=2019/month=07/event=video_end/NBCUniversa...    15800  20190701   \n",
       " 2  year=2019/month=07/event=video_end/NBCUniversa...  1447417  20190701   \n",
       " 3  year=2019/month=07/event=video_end/NBCUniversa...    16599  20190701   \n",
       " 4  year=2019/month=07/event=video_end/NBCUniversa...  1320016  20190701   \n",
       " 5  year=2019/month=07/event=video_end/NBCUniversa...    15656  20190701   \n",
       " 6  year=2019/month=07/event=video_end/NBCUniversa...  1434916  20190701   \n",
       " 7  year=2019/month=07/event=video_end/NBCUniversa...    16348  20190701   \n",
       " 8  year=2019/month=07/event=video_end/NBCUniversa...  1348615  20190701   \n",
       " 9  year=2019/month=07/event=video_end/NBCUniversa...    15609  20190701   \n",
       " \n",
       "                        asof_dt  \n",
       " 0  2019-09-27T14:41:36.560947Z  \n",
       " 1  2019-09-27T14:41:36.560947Z  \n",
       " 2  2019-09-27T14:41:36.560947Z  \n",
       " 3  2019-09-27T14:41:36.560947Z  \n",
       " 4  2019-09-27T14:41:36.560947Z  \n",
       " 5  2019-09-27T14:41:36.560947Z  \n",
       " 6  2019-09-27T14:41:36.560947Z  \n",
       " 7  2019-09-27T14:41:36.560947Z  \n",
       " 8  2019-09-27T14:41:36.560947Z  \n",
       " 9  2019-09-27T14:41:36.560947Z  )"
      ]
     },
     "execution_count": 98,
     "metadata": {},
     "output_type": "execute_result"
    }
   ],
   "source": [
    "ret = runit(run_extracts)\n",
    "ret"
   ]
  },
  {
   "cell_type": "code",
   "execution_count": 87,
   "metadata": {},
   "outputs": [
    {
     "data": {
      "text/plain": [
       "'year=2019/month=07/event=video_end/NBCUniversal_01'"
      ]
     },
     "execution_count": 87,
     "metadata": {},
     "output_type": "execute_result"
    }
   ],
   "source": [
    "# https://nbc-event.s3.amazonaws.com/year%3D2019/month%3D07/event%3Dvideo_end/NBCUniversal_20190701000737029958_74353.txt\n",
    "prefix='year={year}/month={month}/event=video_end/NBCUniversal_{day}'\n",
    "\n",
    "prefix.format(**ret)"
   ]
  },
  {
   "cell_type": "code",
   "execution_count": 60,
   "metadata": {},
   "outputs": [
    {
     "data": {
      "text/plain": [
       "'2019-09-26T20:57:12.734985+00:00'"
      ]
     },
     "execution_count": 60,
     "metadata": {},
     "output_type": "execute_result"
    }
   ],
   "source": [
    "arrow.utcnow().isoformat()"
   ]
  },
  {
   "cell_type": "code",
   "execution_count": 78,
   "metadata": {},
   "outputs": [
    {
     "data": {
      "text/plain": [
       "{'year': '2019', 'month': '07', 'day': '03'}"
      ]
     },
     "execution_count": 78,
     "metadata": {},
     "output_type": "execute_result"
    }
   ],
   "source": [
    "day = \"20190703\"\n",
    "\n",
    "import re\n",
    "\n",
    "m = re.match(\"(?P<year>\\d{4})(?P<month>\\d{2})(?P<day>\\d{2})\", day)\n",
    "m.groupdict()"
   ]
  },
  {
   "cell_type": "code",
   "execution_count": null,
   "metadata": {},
   "outputs": [],
   "source": []
  }
 ],
 "metadata": {
  "kernelspec": {
   "display_name": "Python 3",
   "language": "python",
   "name": "python3"
  },
  "language_info": {
   "codemirror_mode": {
    "name": "ipython",
    "version": 3
   },
   "file_extension": ".py",
   "mimetype": "text/x-python",
   "name": "python",
   "nbconvert_exporter": "python",
   "pygments_lexer": "ipython3",
   "version": "3.7.4"
  }
 },
 "nbformat": 4,
 "nbformat_minor": 4
}
