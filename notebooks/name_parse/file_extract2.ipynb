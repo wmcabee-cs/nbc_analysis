{
 "cells": [
  {
   "cell_type": "code",
   "execution_count": 1,
   "metadata": {},
   "outputs": [],
   "source": [
    "%reload_ext autoreload\n",
    "%autoreload 2"
   ]
  },
  {
   "cell_type": "code",
   "execution_count": 2,
   "metadata": {},
   "outputs": [],
   "source": [
    "from nbc_analysis.utils.config_utils import get_config\n",
    "from nbc_analysis.extracts.main import main as run_extracts\n",
    "from nbc_analysis.utils.debug_utils import runit"
   ]
  },
  {
   "cell_type": "code",
   "execution_count": 4,
   "metadata": {},
   "outputs": [
    {
     "data": {
      "text/plain": [
       "{'DAYS': ['20190719'],\n",
       " 'EXTRACT_SPECS': {'ios': {'prefix': 'NBCProd/iOS/NBCUniversal_{day}'},\n",
       "  'tvOS': {'prefix': 'NBCProd/tvOS/NBC_{day}'}},\n",
       " 'LIMIT': 3000,\n",
       " 'RAW_EVENTS_BUCKET': 'nbc-digital-cloned',\n",
       " 'EVENT_SET_D': '/Users/wmcabee/DATA/NBC2/samples'}"
      ]
     },
     "execution_count": 4,
     "metadata": {},
     "output_type": "execute_result"
    }
   ],
   "source": [
    "runit(get_config)"
   ]
  },
  {
   "cell_type": "code",
   "execution_count": 9,
   "metadata": {},
   "outputs": [
    {
     "name": "stdout",
     "output_type": "stream",
     "text": [
      ">> init extract run\n",
      ">> start extract run, config={'DAYS': ['20190719'], 'EXTRACT_SPECS': {'ios': {'prefix': 'NBCProd/iOS/NBCUniversal_{day}'}, 'tvOS': {'prefix': 'NBCProd/tvOS/NBC_{day}'}}, 'LIMIT': 3000, 'RAW_EVENTS_BUCKET': 'nbc-digital-cloned', 'EVENT_SET_D': '/Users/wmcabee/DATA/NBC2/samples'}\n",
      ">> start extract,extract=ios,outfile=/Users/wmcabee/DATA/NBC2/samples/ios_20190719.csv\n",
      ">> end extract,extract=ios,outfile=/Users/wmcabee/DATA/NBC2/samples/ios_20190719.csv,records=234\n",
      ">> start extract,extract=tvOS,outfile=/Users/wmcabee/DATA/NBC2/samples/tvOS_20190719.csv\n",
      ">> end extract,extract=tvOS,outfile=/Users/wmcabee/DATA/NBC2/samples/tvOS_20190719.csv,records=609\n",
      ">> end extract run\n"
     ]
    }
   ],
   "source": [
    "ret = runit(run_extracts)\n",
    "ret"
   ]
  },
  {
   "cell_type": "code",
   "execution_count": 29,
   "metadata": {},
   "outputs": [],
   "source": [
    "import boto3\n",
    "from toolz import take, first\n",
    "import re\n",
    "import pandas as pd\n",
    "from pathlib import Path\n",
    "import shutil\n",
    "import itertools"
   ]
  },
  {
   "cell_type": "code",
   "execution_count": 18,
   "metadata": {},
   "outputs": [],
   "source": [
    "## Setup work directory\n",
    "\n",
    "def init_workdir():\n",
    "    workdir = Path.home() / 'DATA'/ 'NBC'/'samples'\n",
    "    if workdir.is_dir():\n",
    "        shutil.rmtree(str(DATA_TOP))\n",
    "    workdir.mkdir(parents=True)\n",
    "    return  workdir"
   ]
  },
  {
   "cell_type": "code",
   "execution_count": 156,
   "metadata": {},
   "outputs": [],
   "source": [
    "s3 = boto3.resource('s3')\n",
    "bucket = s3.Bucket('nbc-digital-cloned')"
   ]
  },
  {
   "cell_type": "code",
   "execution_count": 157,
   "metadata": {},
   "outputs": [
    {
     "name": "stdout",
     "output_type": "stream",
     "text": [
      "s3.Bucket(name='nbc-digital-cloned')\n"
     ]
    }
   ],
   "source": [
    "print(bucket)"
   ]
  },
  {
   "cell_type": "code",
   "execution_count": 158,
   "metadata": {},
   "outputs": [
    {
     "data": {
      "text/plain": [
       "'nbc-digital-cloned'"
      ]
     },
     "execution_count": 158,
     "metadata": {},
     "output_type": "execute_result"
    }
   ],
   "source": [
    "bucket.name"
   ]
  },
  {
   "cell_type": "code",
   "execution_count": 159,
   "metadata": {},
   "outputs": [
    {
     "data": {
      "text/plain": [
       "datetime.datetime(2019, 9, 7, 14, 39, 51, tzinfo=tzutc())"
      ]
     },
     "execution_count": 159,
     "metadata": {},
     "output_type": "execute_result"
    }
   ],
   "source": [
    "bucket.creation_date"
   ]
  },
  {
   "cell_type": "code",
   "execution_count": 160,
   "metadata": {},
   "outputs": [
    {
     "data": {
      "text/plain": [
       "['Acl',\n",
       " 'Cors',\n",
       " 'Lifecycle',\n",
       " 'LifecycleConfiguration',\n",
       " 'Logging',\n",
       " 'Notification',\n",
       " 'Object',\n",
       " 'Policy',\n",
       " 'RequestPayment',\n",
       " 'Tagging',\n",
       " 'Versioning',\n",
       " 'Website']"
      ]
     },
     "execution_count": 160,
     "metadata": {},
     "output_type": "execute_result"
    }
   ],
   "source": [
    "bucket.get_available_subresources()"
   ]
  },
  {
   "cell_type": "code",
   "execution_count": 162,
   "metadata": {},
   "outputs": [],
   "source": [
    "def write_sample(extract, spec, day, workdir):\n",
    "    \n",
    "    prefix = spec['prefix'].format(day=day)\n",
    "    print(extract, prefix)\n",
    "    \n",
    "    reader =  bucket.objects.filter(Prefix=prefix).all()\n",
    "    reader = take(spec['limit'], reader)\n",
    "    reader = ((x.key, x.size) for x in reader)\n",
    "    df = pd.DataFrame.from_records(reader, columns=['name','size'])\n",
    "    extract_f = f\"{extract}_{day}.csv\"\n",
    "    df['day'] = day\n",
    "    df['extract'] = extract\n",
    "    df['extract_f'] = extract_f\n",
    "    outfile = workdir /  extract_f\n",
    "    df.to_csv(outfile, index=False)\n",
    "    df = df.sort_values(['size'])\n",
    "    print(f\"wrote outfile,records={len(df)}\")\n",
    "    return df"
   ]
  },
  {
   "cell_type": "code",
   "execution_count": 163,
   "metadata": {},
   "outputs": [
    {
     "name": "stdout",
     "output_type": "stream",
     "text": [
      "/Users/wmcabee/DATA/NBC/samples\n",
      "android NBCProd/Android/NBC_20190719\n",
      "wrote outfile,records=1698\n",
      "android NBCProd/Android/NBC_20190720\n",
      "wrote outfile,records=1686\n",
      "android NBCProd/Android/NBC_20190721\n",
      "wrote outfile,records=1720\n",
      "android NBCProd/Android/NBC_20190722\n",
      "wrote outfile,records=1725\n",
      "roku NBCProd/Roku/NBC_20190719\n",
      "wrote outfile,records=1697\n",
      "roku NBCProd/Roku/NBC_20190720\n",
      "wrote outfile,records=1687\n",
      "roku NBCProd/Roku/NBC_20190721\n",
      "wrote outfile,records=1720\n",
      "roku NBCProd/Roku/NBC_20190722\n",
      "wrote outfile,records=1725\n",
      "web NBCProd/Web/NBC_App_20190719\n",
      "wrote outfile,records=1705\n",
      "web NBCProd/Web/NBC_App_20190720\n",
      "wrote outfile,records=1689\n",
      "web NBCProd/Web/NBC_App_20190721\n",
      "wrote outfile,records=1721\n",
      "web NBCProd/Web/NBC_App_20190722\n",
      "wrote outfile,records=1727\n",
      "ios NBCProd/iOS/NBCUniversal_20190719\n",
      "wrote outfile,records=234\n",
      "ios NBCProd/iOS/NBCUniversal_20190720\n",
      "wrote outfile,records=209\n",
      "ios NBCProd/iOS/NBCUniversal_20190721\n",
      "wrote outfile,records=243\n",
      "ios NBCProd/iOS/NBCUniversal_20190722\n",
      "wrote outfile,records=200\n",
      "tvOS NBCProd/tvOS/NBC_20190719\n",
      "wrote outfile,records=609\n",
      "tvOS NBCProd/tvOS/NBC_20190720\n",
      "wrote outfile,records=1397\n",
      "tvOS NBCProd/tvOS/NBC_20190721\n",
      "wrote outfile,records=1593\n",
      "tvOS NBCProd/tvOS/NBC_20190722\n",
      "wrote outfile,records=1612\n"
     ]
    }
   ],
   "source": [
    "workdir = init_workdir()\n",
    "print(workdir)\n",
    "reader = iter(EXTRACT_SPECS.items())\n",
    "reader =( ( extract, spec, day, workdir) for extract, spec in reader for day in DAYS) \n",
    "reader = itertools.starmap(write_sample, reader)\n",
    "#df = first(reader)\n",
    "for x in reader: pass"
   ]
  },
  {
   "cell_type": "code",
   "execution_count": 164,
   "metadata": {},
   "outputs": [
    {
     "data": {
      "text/html": [
       "<div>\n",
       "<style scoped>\n",
       "    .dataframe tbody tr th:only-of-type {\n",
       "        vertical-align: middle;\n",
       "    }\n",
       "\n",
       "    .dataframe tbody tr th {\n",
       "        vertical-align: top;\n",
       "    }\n",
       "\n",
       "    .dataframe thead th {\n",
       "        text-align: right;\n",
       "    }\n",
       "</style>\n",
       "<table border=\"1\" class=\"dataframe\">\n",
       "  <thead>\n",
       "    <tr style=\"text-align: right;\">\n",
       "      <th></th>\n",
       "      <th>size</th>\n",
       "    </tr>\n",
       "  </thead>\n",
       "  <tbody>\n",
       "    <tr>\n",
       "      <td>count</td>\n",
       "      <td>1.698000e+03</td>\n",
       "    </tr>\n",
       "    <tr>\n",
       "      <td>mean</td>\n",
       "      <td>1.858141e+06</td>\n",
       "    </tr>\n",
       "    <tr>\n",
       "      <td>std</td>\n",
       "      <td>8.923466e+05</td>\n",
       "    </tr>\n",
       "    <tr>\n",
       "      <td>min</td>\n",
       "      <td>4.880510e+05</td>\n",
       "    </tr>\n",
       "    <tr>\n",
       "      <td>25%</td>\n",
       "      <td>1.224130e+06</td>\n",
       "    </tr>\n",
       "    <tr>\n",
       "      <td>50%</td>\n",
       "      <td>1.586924e+06</td>\n",
       "    </tr>\n",
       "    <tr>\n",
       "      <td>75%</td>\n",
       "      <td>2.173240e+06</td>\n",
       "    </tr>\n",
       "    <tr>\n",
       "      <td>max</td>\n",
       "      <td>4.144244e+06</td>\n",
       "    </tr>\n",
       "  </tbody>\n",
       "</table>\n",
       "</div>"
      ],
      "text/plain": [
       "               size\n",
       "count  1.698000e+03\n",
       "mean   1.858141e+06\n",
       "std    8.923466e+05\n",
       "min    4.880510e+05\n",
       "25%    1.224130e+06\n",
       "50%    1.586924e+06\n",
       "75%    2.173240e+06\n",
       "max    4.144244e+06"
      ]
     },
     "execution_count": 164,
     "metadata": {},
     "output_type": "execute_result"
    }
   ],
   "source": []
  },
  {
   "cell_type": "code",
   "execution_count": 146,
   "metadata": {},
   "outputs": [
    {
     "ename": "ModuleNotFoundError",
     "evalue": "No module named 'seaborn'",
     "output_type": "error",
     "traceback": [
      "\u001b[0;31m---------------------------------------------------------------------------\u001b[0m",
      "\u001b[0;31mModuleNotFoundError\u001b[0m                       Traceback (most recent call last)",
      "\u001b[0;32m<ipython-input-146-6f477838ac7f>\u001b[0m in \u001b[0;36m<module>\u001b[0;34m\u001b[0m\n\u001b[0;32m----> 1\u001b[0;31m \u001b[0;32mimport\u001b[0m \u001b[0mseaborn\u001b[0m\u001b[0;34m\u001b[0m\u001b[0;34m\u001b[0m\u001b[0m\n\u001b[0m",
      "\u001b[0;31mModuleNotFoundError\u001b[0m: No module named 'seaborn'"
     ]
    }
   ],
   "source": []
  },
  {
   "cell_type": "code",
   "execution_count": null,
   "metadata": {},
   "outputs": [],
   "source": []
  }
 ],
 "metadata": {
  "kernelspec": {
   "display_name": "Python 3",
   "language": "python",
   "name": "python3"
  },
  "language_info": {
   "codemirror_mode": {
    "name": "ipython",
    "version": 3
   },
   "file_extension": ".py",
   "mimetype": "text/x-python",
   "name": "python",
   "nbconvert_exporter": "python",
   "pygments_lexer": "ipython3",
   "version": "3.7.4"
  }
 },
 "nbformat": 4,
 "nbformat_minor": 4
}
