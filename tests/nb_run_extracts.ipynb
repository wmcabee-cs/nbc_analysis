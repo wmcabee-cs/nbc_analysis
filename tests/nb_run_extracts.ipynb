{
 "cells": [
  {
   "cell_type": "code",
   "execution_count": 1,
   "metadata": {},
   "outputs": [],
   "source": [
    "%reload_ext autoreload\n",
    "%autoreload 2"
   ]
  },
  {
   "cell_type": "code",
   "execution_count": 2,
   "metadata": {},
   "outputs": [],
   "source": [
    "from nbc_analysis.utils.config_utils import get_config\n",
    "from nbc_analysis import list_by_day, extract_events\n",
    "from nbc_analysis.utils.debug_utils import runit\n",
    "import arrow\n",
    "from nbc_analysis import get_test_data, list_test_data"
   ]
  },
  {
   "cell_type": "code",
   "execution_count": 3,
   "metadata": {},
   "outputs": [],
   "source": [
    "DAYS = get_test_data('days.csv')\n"
   ]
  },
  {
   "cell_type": "code",
   "execution_count": 4,
   "metadata": {},
   "outputs": [
    {
     "name": "stdout",
     "output_type": "stream",
     "text": [
      ">> created example config file '/Users/wmcabee/.config/nbc_analysis/config_example.yaml'\n",
      ">> Using default config\n"
     ]
    },
    {
     "data": {
      "text/plain": [
       "{'VIDEO_END_BUCKET': 'nbc-event',\n",
       " 'EVENT_BATCHES_D': '/Users/wmcabee/DATA/NBC2/batches',\n",
       " 'LIMIT_EVENTS_PER_BATCH': None}"
      ]
     },
     "execution_count": 4,
     "metadata": {},
     "output_type": "execute_result"
    }
   ],
   "source": [
    "config_f = 'default'\n",
    "config= runit(get_config, overrides={}, config_f=config_f)\n",
    "config"
   ]
  },
  {
   "cell_type": "code",
   "execution_count": 6,
   "metadata": {},
   "outputs": [
    {
     "name": "stdout",
     "output_type": "stream",
     "text": [
      ">> created example config file '/Users/wmcabee/.config/nbc_analysis/config_example.yaml'\n",
      ">> Using default config\n",
      ">> extract run, config={'LIMIT_EVENTS_PER_BATCH': None, 'VIDEO_END_BUCKET': 'nbc-event', 'EVENT_BATCHES_D': '/Users/wmcabee/DATA/NBC2/batches'}, day_cnt=5\n",
      ">> wrote /Users/wmcabee/DATA/NBC2/batches/ve_20190701_2019-09-28T02:09:55.408469Z.csv.gz,cnt=972\n",
      ">> wrote /Users/wmcabee/DATA/NBC2/batches/ve_20190702_2019-09-28T02:09:56.196491Z.csv.gz,cnt=868\n",
      ">> wrote /Users/wmcabee/DATA/NBC2/batches/ve_20190703_2019-09-28T02:09:56.579928Z.csv.gz,cnt=798\n",
      ">> wrote /Users/wmcabee/DATA/NBC2/batches/ve_20190704_2019-09-28T02:09:56.883674Z.csv.gz,cnt=748\n",
      ">> wrote /Users/wmcabee/DATA/NBC2/batches/ve_20190705_2019-09-28T02:09:57.166934Z.csv.gz,cnt=700\n",
      ">> end extract run\n"
     ]
    }
   ],
   "source": [
    "days = DAYS[:5]\n",
    "ret = runit(list_by_day, days=days, config_f=config_f)"
   ]
  },
  {
   "cell_type": "code",
   "execution_count": 47,
   "metadata": {},
   "outputs": [
    {
     "name": "stdout",
     "output_type": "stream",
     "text": [
      ">> created example config file '/Users/wmcabee/.config/nbc_analysis/config_example.yaml'\n",
      ">> Using default config\n",
      ">> start extract events, config={'VIDEO_END_BUCKET': 'nbc-event', 'EVENT_BATCHES_D': '/Users/wmcabee/DATA/NBC2/batches', 'LIMIT_EVENTS_PER_BATCH': None}\n",
      ">> start event download,batch=/Users/wmcabee/DATA/NBC2/batches/ve_20190701_2019-09-28T02:09:55.408469Z.csv.gz\n",
      "!! stopping run early...\n"
     ]
    }
   ],
   "source": [
    "\n",
    "df = runit(extract_events, config_f=config_f)\n"
   ]
  },
  {
   "cell_type": "code",
   "execution_count": 48,
   "metadata": {},
   "outputs": [
    {
     "name": "stdout",
     "output_type": "stream",
     "text": [
      ">>downloading year=2019/month=07/event=video_end/NBCUniversal_20190701000737029958_74353.txt\n"
     ]
    }
   ],
   "source": [
    "x = list(df[1])"
   ]
  },
  {
   "cell_type": "code",
   "execution_count": 49,
   "metadata": {},
   "outputs": [
    {
     "data": {
      "text/plain": [
       "{'events': [{'data': {'custom_event_type': 'user_content',\n",
       "    'event_name': 'Video End',\n",
       "    'custom_flags': {},\n",
       "    'timestamp_unixtime_ms': '1561939345155',\n",
       "    'event_id': '8249300800465491629',\n",
       "    'source_message_id': '11C8F0AC-207C-4CE9-82EC-BBCFA80056F9',\n",
       "    'session_id': '-574211361771186243',\n",
       "    'session_uuid': '11B7D0CF-8B1B-4449-8F26-919CC96B85EF',\n",
       "    'session_start_unixtime_ms': '1561938685297',\n",
       "    'event_start_unixtime_ms': '1561939345155',\n",
       "    'custom_attributes': {'Ad Tracking Opt-Out': 'False',\n",
       "     'Ad Blocker': 'None',\n",
       "     'Resume': 'False',\n",
       "     'Profile': 'Unauthenticated',\n",
       "     'Variant': 'None',\n",
       "     'Branch Channel': 'None',\n",
       "     'Ad Variant': '0',\n",
       "     'Branch mParticle ID': 'None',\n",
       "     'Branch Tags': 'None',\n",
       "     'Brand': 'NBC',\n",
       "     'Show': 'Dateline',\n",
       "     'UTM Content': 'None',\n",
       "     'Product': 'NBC App',\n",
       "     'UTM Source': 'None',\n",
       "     'Page Type': 'Video Player',\n",
       "     'Video Type': 'Full Episode',\n",
       "     'Push Opt-Out': 'True',\n",
       "     'Referring Page': 'Show Home Page',\n",
       "     'Platform': 'iOS',\n",
       "     'Casting': 'None',\n",
       "     'Experiment': 'None',\n",
       "     'Ad Experiment': 'default',\n",
       "     'Ad Audience': '0',\n",
       "     'Page Name': 'Video Player',\n",
       "     'Season': '2019',\n",
       "     'Video ID': '3974599',\n",
       "     'Branch Feature': 'None',\n",
       "     'Branch Campaign': 'None',\n",
       "     'MVPD': 'DTV',\n",
       "     'Video Duration': '41',\n",
       "     'Previous Video': '3974599',\n",
       "     'Episode Number': '62119',\n",
       "     'Previous Video Type': 'Full Episode',\n",
       "     'Orientation': 'Landscape',\n",
       "     'Episode Title': 'She Never Left',\n",
       "     'Video End Type': 'Background',\n",
       "     'First Visit': 'False',\n",
       "     'Open Type': 'Open',\n",
       "     'UTM Campaign': 'None',\n",
       "     'UTM Term': 'None',\n",
       "     'Entitlement': 'Free',\n",
       "     'Duration Watched': '37',\n",
       "     'Device Model': 'iPhone',\n",
       "     'UTM Medium': 'None',\n",
       "     'Token Type': 'None',\n",
       "     '% Complete': '90',\n",
       "     'Genre': 'News and Information',\n",
       "     'Resume Time': 'None'},\n",
       "    'device_current_state': {'time_since_start_ms': 5053797,\n",
       "     'battery_level': 0.4300000071525574,\n",
       "     'data_connection_type': 'wifi',\n",
       "     'gps_state': True,\n",
       "     'total_system_memory_usage_bytes': 1516486656,\n",
       "     'disk_space_free_bytes': 50641526784,\n",
       "     'cpu': '3',\n",
       "     'system_memory_available_bytes': 70533120.0,\n",
       "     'application_memory_total_bytes': 169951232.0},\n",
       "    'event_num': 29,\n",
       "    'view_controller': 'off_thread',\n",
       "    'is_main_thread': False},\n",
       "   'event_type': 'custom_event'}],\n",
       " 'mpid': -820705441250376942,\n",
       " 'timestamp_unixtime_ms': 1561939345563,\n",
       " 'batch_id': -2528706334168408886,\n",
       " 'message_id': '3f45ed8a-09e1-4177-acc8-a9a8b137455f',\n",
       " 'source_request_id': 'A9E4E6E3-5A62-4B51-8895-AE0697AFDDC6',\n",
       " 'message_type': 'events',\n",
       " 'schema_version': 1,\n",
       " 'device_info': {'brand': 'iPhone8,2',\n",
       "  'product': 'iPhone8,2',\n",
       "  'device': 'Pamela Petersen’s iPhone',\n",
       "  'device_manufacturer': 'Apple',\n",
       "  'platform': 'iOS',\n",
       "  'os_version': '12.3.1',\n",
       "  'device_model': 'iPhone8,2',\n",
       "  'screen_height': 1242,\n",
       "  'screen_width': 2208,\n",
       "  'locale_language': 'en-US',\n",
       "  'locale_country': 'US',\n",
       "  'network_country': 'us',\n",
       "  'network_carrier': 'Sprint',\n",
       "  'network_code': '120',\n",
       "  'network_mobile_country_code': '310',\n",
       "  'timezone_offset': -6,\n",
       "  'build_identifier': '16F203',\n",
       "  'http_header_user_agent': 'Mozilla/5.0 (iPhone; CPU iPhone OS 12_3_1 like Mac OS X) AppleWebKit/605.1.15 (KHTML, like Gecko) Mobile/15E148',\n",
       "  'ios_advertising_id': '1d3af740-676f-4cef-a339-1ee958308de1',\n",
       "  'cpu_architecture': 'arm64',\n",
       "  'is_tablet': False,\n",
       "  'radio_access_technology': 'LTE',\n",
       "  'ios_idfv': '78c0a2b0-6f44-4cfd-923a-9e5bde51baeb',\n",
       "  'limit_ad_tracking': False,\n",
       "  'is_dst': True},\n",
       " 'application_info': {'application_name': 'NBCUniversal',\n",
       "  'application_version': '7.0.0',\n",
       "  'application_build_number': '14296',\n",
       "  'package': 'com.nbcuni.nbc.portal',\n",
       "  'os': 'IOS',\n",
       "  'apple_search_ads_attributes': {'Version3.1': {'iad-attribution': 'false'}}},\n",
       " 'user_attributes': {'User Platform': 'iOS',\n",
       "  'User MVPD Referrer': 'Launch',\n",
       "  'User Converted': 'False',\n",
       "  'First Visit Date': '2017-07-31T02:07:47.047+0000',\n",
       "  'User Apple SSO': 'None',\n",
       "  'User Product': 'NBC App',\n",
       "  'Total Authentication Success': '1',\n",
       "  'Product': 'NBC App',\n",
       "  'User Sign In Type': 'None',\n",
       "  'Platform': 'iOS',\n",
       "  'User VPPA Opt In Product': 'None',\n",
       "  'Total Video Completes': '2',\n",
       "  'Total Video Starts': '3',\n",
       "  'User Profile': 'Unauthenticated',\n",
       "  'User Show Favorited': 'None',\n",
       "  'Total Video Ends': '5',\n",
       "  'User Email Status': 'None',\n",
       "  'email': 'None',\n",
       "  'User Registration Referrer': 'None',\n",
       "  'MVPD': 'Unauthenticated',\n",
       "  'NBC Profile': 'Unauthenticated',\n",
       "  'User Registration Date': 'None',\n",
       "  'User Cross App': 'None',\n",
       "  'User MVPD': 'DTV',\n",
       "  'User Registration Source': 'None',\n",
       "  'User Social Network': 'None',\n",
       "  'User VPPA Opt In': 'None',\n",
       "  'User Episode Credits Left': 'None',\n",
       "  'User VPPA Opt In Date': 'None',\n",
       "  'User First Visit Date': '2017-07-31T02:07:47.047+0000',\n",
       "  'User VPPA Opt In Platform': 'None',\n",
       "  'DataLakeSegment': 'mParticle_App_iOS and Android_NBC App_All users',\n",
       "  'User Not Allowed Brands': ['oxygen', 'telemundo', 'blah', 'sprout', 'mun2'],\n",
       "  'User Allowed Brands': ['bravo',\n",
       "   'cnbc',\n",
       "   'syfy',\n",
       "   'nbcentertainment',\n",
       "   'usa',\n",
       "   'e',\n",
       "   'msnbc',\n",
       "   'nbcnews'],\n",
       "  'Genre': ['Drama']},\n",
       " 'source_info': {'channel': 'native'},\n",
       " 'ip': '12.187.170.35',\n",
       " 'consent_state': {},\n",
       " 'environment': 'production'}"
      ]
     },
     "execution_count": 49,
     "metadata": {},
     "output_type": "execute_result"
    }
   ],
   "source": [
    "x[3]\n"
   ]
  },
  {
   "cell_type": "code",
   "execution_count": 53,
   "metadata": {},
   "outputs": [
    {
     "data": {
      "text/plain": [
       "b''"
      ]
     },
     "execution_count": 53,
     "metadata": {},
     "output_type": "execute_result"
    }
   ],
   "source": [
    "x.read()"
   ]
  },
  {
   "cell_type": "code",
   "execution_count": null,
   "metadata": {},
   "outputs": [],
   "source": []
  }
 ],
 "metadata": {
  "kernelspec": {
   "display_name": "Python 3",
   "language": "python",
   "name": "python3"
  },
  "language_info": {
   "codemirror_mode": {
    "name": "ipython",
    "version": 3
   },
   "file_extension": ".py",
   "mimetype": "text/x-python",
   "name": "python",
   "nbconvert_exporter": "python",
   "pygments_lexer": "ipython3",
   "version": "3.7.4"
  }
 },
 "nbformat": 4,
 "nbformat_minor": 4
}
