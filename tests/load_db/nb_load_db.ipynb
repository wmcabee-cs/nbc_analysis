{
 "cells": [
  {
   "cell_type": "code",
   "execution_count": 32,
   "metadata": {},
   "outputs": [],
   "source": [
    "%reload_ext autoreload\n",
    "%autoreload 2"
   ]
  },
  {
   "cell_type": "code",
   "execution_count": 33,
   "metadata": {},
   "outputs": [],
   "source": [
    "from nbc_analysis.utils.debug_utils import runit\n",
    "from nbc_analysis.utils.file_utils import read_parquet\n",
    "\n",
    "\n",
    "from test_load_db import test_load_db, test_initialize_db, _get_config\n",
    "from pathlib import Path\n",
    "\n",
    "import pandas as pd\n",
    "import numpy as np"
   ]
  },
  {
   "cell_type": "code",
   "execution_count": 34,
   "metadata": {},
   "outputs": [
    {
     "data": {
      "text/plain": [
       "{'calendar': {'start_day_key': 20170101,\n",
       "  'end_day_key': 20210101,\n",
       "  'calendar_d': PosixPath('/Users/wmcabee/DATA/NBC/calendar')},\n",
       " 'database': {'db_f': PosixPath('/Users/wmcabee/DATA/NBC/test_db.sqlite'),\n",
       "  'connect_str': 'sqlite:////%s'},\n",
       " 'demographics': {'demographics_d': PosixPath('/Users/wmcabee/DATA/NBC/demographics'),\n",
       "  'zip2income_input_f': PosixPath('/Users/wmcabee/_NBC/datasets/ACS_17_5YR_S2503_with_ann.csv'),\n",
       "  'subnet2zip_input_f': PosixPath('/Users/wmcabee/_NBC/datasets/GeoLite2-City-CSV_20191001.zip')},\n",
       " 'normalize': {'test_input_d': PosixPath('/Users/wmcabee/DATA/NBC/work/query'),\n",
       "  'normalize_d': PosixPath('/Users/wmcabee/DATA/NBC/normalize')}}"
      ]
     },
     "execution_count": 34,
     "metadata": {},
     "output_type": "execute_result"
    }
   ],
   "source": [
    "config = _get_config()\n",
    "config"
   ]
  },
  {
   "cell_type": "code",
   "execution_count": 35,
   "metadata": {},
   "outputs": [],
   "source": [
    "#engine = runit(test_initialize_db)"
   ]
  },
  {
   "cell_type": "code",
   "execution_count": 36,
   "metadata": {},
   "outputs": [
    {
     "name": "stderr",
     "output_type": "stream",
     "text": [
      "2019-10-25 06:53:11,171|INFO|nbc_analysis.load_db.main|start database load\n",
      "2019-10-25 06:53:11,179|INFO|nbc_analysis.utils.db_utils|start initialize_database, cfg={'db_f': PosixPath('/Users/wmcabee/DATA/NBC/test_db.sqlite'), 'connect_str': 'sqlite:////%s'},replace=True\n",
      "2019-10-25 06:53:11,199|INFO|nbc_analysis.utils.db_utils|end initialize_database,connect_str=sqlite://///Users/wmcabee/DATA/NBC/test_db.sqlite\n",
      "2019-10-25 06:53:11,201|INFO|nbc_analysis.utils.file_utils|start read file,/Users/wmcabee/DATA/NBC/calendar/dim_day.parquet\n",
      "2019-10-25 06:53:11,207|INFO|nbc_analysis.utils.file_utils|end read file,/Users/wmcabee/DATA/NBC/calendar/dim_day.parquet,record_cnt=1461\n",
      "2019-10-25 06:53:11,208|INFO|nbc_analysis.utils.file_utils|start read file,/Users/wmcabee/DATA/NBC/calendar/dim_day_loc.parquet\n",
      "2019-10-25 06:53:11,213|INFO|nbc_analysis.utils.file_utils|end read file,/Users/wmcabee/DATA/NBC/calendar/dim_day_loc.parquet,record_cnt=1461\n",
      "2019-10-25 06:53:11,214|INFO|nbc_analysis.utils.file_utils|start read file,/Users/wmcabee/DATA/NBC/calendar/dim_hour_in_week.parquet\n",
      "2019-10-25 06:53:11,217|INFO|nbc_analysis.utils.file_utils|end read file,/Users/wmcabee/DATA/NBC/calendar/dim_hour_in_week.parquet,record_cnt=168\n",
      "2019-10-25 06:53:11,218|INFO|nbc_analysis.utils.file_utils|start read file,/Users/wmcabee/DATA/NBC/normalize/dim_end_type.parquet\n",
      "2019-10-25 06:53:11,222|INFO|nbc_analysis.utils.file_utils|end read file,/Users/wmcabee/DATA/NBC/normalize/dim_end_type.parquet,record_cnt=9\n",
      "2019-10-25 06:53:11,222|INFO|nbc_analysis.utils.file_utils|start read file,/Users/wmcabee/DATA/NBC/normalize/dim_event_type.parquet\n",
      "2019-10-25 06:53:11,226|INFO|nbc_analysis.utils.file_utils|end read file,/Users/wmcabee/DATA/NBC/normalize/dim_event_type.parquet,record_cnt=1\n",
      "2019-10-25 06:53:11,227|INFO|nbc_analysis.utils.file_utils|start read file,/Users/wmcabee/DATA/NBC/normalize/dim_platform.parquet\n",
      "2019-10-25 06:53:11,230|INFO|nbc_analysis.utils.file_utils|end read file,/Users/wmcabee/DATA/NBC/normalize/dim_platform.parquet,record_cnt=10\n",
      "2019-10-25 06:53:11,231|INFO|nbc_analysis.utils.file_utils|start read file,/Users/wmcabee/DATA/NBC/normalize/dim_profile.parquet\n",
      "2019-10-25 06:53:11,234|INFO|nbc_analysis.utils.file_utils|end read file,/Users/wmcabee/DATA/NBC/normalize/dim_profile.parquet,record_cnt=233\n",
      "2019-10-25 06:53:11,235|INFO|nbc_analysis.utils.file_utils|start read file,/Users/wmcabee/DATA/NBC/normalize/dim_video.parquet\n",
      "2019-10-25 06:53:11,245|INFO|nbc_analysis.utils.file_utils|end read file,/Users/wmcabee/DATA/NBC/normalize/dim_video.parquet,record_cnt=7569\n",
      "2019-10-25 06:53:11,246|INFO|nbc_analysis.utils.file_utils|start read file,/Users/wmcabee/DATA/NBC/demographics/dim_network.parquet\n",
      "2019-10-25 06:53:12,361|INFO|nbc_analysis.utils.file_utils|end read file,/Users/wmcabee/DATA/NBC/demographics/dim_network.parquet,record_cnt=1243177\n",
      "2019-10-25 06:53:12,376|INFO|nbc_analysis.load_db.main|start load dim table DIM_DAY,record_cnt=1461\n",
      "2019-10-25 06:53:12,491|INFO|nbc_analysis.load_db.main|start load dim table DIM_DAY_LOC,record_cnt=1461\n",
      "2019-10-25 06:53:12,554|INFO|nbc_analysis.load_db.main|start load dim table DIM_END_TYPE,record_cnt=9\n",
      "2019-10-25 06:53:12,559|INFO|nbc_analysis.load_db.main|start load dim table DIM_EVENT_TYPE,record_cnt=1\n",
      "2019-10-25 06:53:12,563|INFO|nbc_analysis.load_db.main|start load dim table DIM_HOUR_IN_WEEK,record_cnt=168\n",
      "2019-10-25 06:53:12,571|INFO|nbc_analysis.load_db.main|start load dim table DIM_NETWORK,record_cnt=1243177\n",
      "2019-10-25 06:53:52,969|INFO|nbc_analysis.load_db.main|start load dim table DIM_PLATFORM,record_cnt=10\n",
      "2019-10-25 06:53:52,974|INFO|nbc_analysis.load_db.main|start load dim table DIM_PROFILE,record_cnt=233\n",
      "2019-10-25 06:53:52,981|INFO|nbc_analysis.load_db.main|start load dim table DIM_VIDEO,record_cnt=7569\n",
      "2019-10-25 06:53:53,124|INFO|nbc_analysis.utils.file_utils|start read file,/Users/wmcabee/DATA/NBC/normalize/f_video_end.parquet\n",
      "2019-10-25 06:53:53,238|INFO|nbc_analysis.utils.file_utils|end read file,/Users/wmcabee/DATA/NBC/normalize/f_video_end.parquet,record_cnt=106302\n",
      "2019-10-25 06:53:53,239|INFO|nbc_analysis.load_db.main|start convert_uint64,name=f_video_end\n",
      "2019-10-25 06:53:53,254|INFO|nbc_analysis.load_db.main|start load fact table F_VIDEO_END,record_cnt=106302\n",
      "2019-10-25 06:53:56,289|INFO|nbc_analysis.load_db.main|end database load\n"
     ]
    }
   ],
   "source": [
    "engine = runit(test_load_db)\n",
    "#DIMS = runit(test_load_db)\n",
    "#fact = runit(test_load_db)"
   ]
  },
  {
   "cell_type": "code",
   "execution_count": 38,
   "metadata": {},
   "outputs": [
    {
     "data": {
      "text/plain": [
       "['DIM_DAY',\n",
       " 'DIM_DAY_LOC',\n",
       " 'DIM_END_TYPE',\n",
       " 'DIM_EVENT_TYPE',\n",
       " 'DIM_HOUR_IN_WEEK',\n",
       " 'DIM_NETWORK',\n",
       " 'DIM_PLATFORM',\n",
       " 'DIM_PROFILE',\n",
       " 'DIM_VIDEO',\n",
       " 'F_VIDEO_END']"
      ]
     },
     "execution_count": 38,
     "metadata": {},
     "output_type": "execute_result"
    }
   ],
   "source": [
    "engine.table_names()"
   ]
  },
  {
   "cell_type": "code",
   "execution_count": 56,
   "metadata": {},
   "outputs": [
    {
     "data": {
      "text/html": [
       "<div>\n",
       "<style scoped>\n",
       "    .dataframe tbody tr th:only-of-type {\n",
       "        vertical-align: middle;\n",
       "    }\n",
       "\n",
       "    .dataframe tbody tr th {\n",
       "        vertical-align: top;\n",
       "    }\n",
       "\n",
       "    .dataframe thead th {\n",
       "        text-align: right;\n",
       "    }\n",
       "</style>\n",
       "<table border=\"1\" class=\"dataframe\">\n",
       "  <thead>\n",
       "    <tr style=\"text-align: right;\">\n",
       "      <th></th>\n",
       "      <th>mpid</th>\n",
       "      <th>show</th>\n",
       "    </tr>\n",
       "  </thead>\n",
       "  <tbody>\n",
       "    <tr>\n",
       "      <td>0</td>\n",
       "      <td>594429747067128960</td>\n",
       "      <td>Access</td>\n",
       "    </tr>\n",
       "    <tr>\n",
       "      <td>1</td>\n",
       "      <td>594429747067128960</td>\n",
       "      <td>Tia &amp; Tamera</td>\n",
       "    </tr>\n",
       "    <tr>\n",
       "      <td>2</td>\n",
       "      <td>594429747067128960</td>\n",
       "      <td>Iron Man</td>\n",
       "    </tr>\n",
       "    <tr>\n",
       "      <td>3</td>\n",
       "      <td>594429747067128960</td>\n",
       "      <td>This Is Us</td>\n",
       "    </tr>\n",
       "    <tr>\n",
       "      <td>4</td>\n",
       "      <td>594429747067128960</td>\n",
       "      <td>Songland</td>\n",
       "    </tr>\n",
       "    <tr>\n",
       "      <td>5</td>\n",
       "      <td>594429747067128960</td>\n",
       "      <td>Chicago P.D.</td>\n",
       "    </tr>\n",
       "    <tr>\n",
       "      <td>6</td>\n",
       "      <td>594429747067128960</td>\n",
       "      <td>Botched By Nature</td>\n",
       "    </tr>\n",
       "  </tbody>\n",
       "</table>\n",
       "</div>"
      ],
      "text/plain": [
       "                 mpid               show\n",
       "0  594429747067128960             Access\n",
       "1  594429747067128960       Tia & Tamera\n",
       "2  594429747067128960           Iron Man\n",
       "3  594429747067128960         This Is Us\n",
       "4  594429747067128960           Songland\n",
       "5  594429747067128960       Chicago P.D.\n",
       "6  594429747067128960  Botched By Nature"
      ]
     },
     "execution_count": 56,
     "metadata": {},
     "output_type": "execute_result"
    }
   ],
   "source": [
    "df = pd.read_sql(sql=\"\"\"\n",
    "select distinct mpid, show\n",
    "from F_VIDEO_END f\n",
    "join DIM_VIDEO vid on f.video_key = vid.video_key\n",
    "where 1=1\n",
    "and f.mpid = 594429747067128960\n",
    "--group by mpid\n",
    "--having show_cnt > 4\n",
    "order by mpid\n",
    "\n",
    "limit 100\n",
    "\n",
    "\n",
    "\"\"\", con=engine)\n",
    "df"
   ]
  },
  {
   "cell_type": "code",
   "execution_count": null,
   "metadata": {},
   "outputs": [],
   "source": [
    "df = pd.read_sql(sql=\"\"\"\n",
    "select * \n",
    "from DIM_NETWORK net\n",
    "\n",
    "\"\"\", con=engine)\n",
    "df"
   ]
  },
  {
   "cell_type": "code",
   "execution_count": 151,
   "metadata": {},
   "outputs": [
    {
     "data": {
      "text/plain": [
       "['dim_day',\n",
       " 'dim_day_loc',\n",
       " 'dim_hour_in_week',\n",
       " 'dim_end_type',\n",
       " 'dim_event_type',\n",
       " 'dim_platform',\n",
       " 'dim_profile',\n",
       " 'dim_video']"
      ]
     },
     "execution_count": 151,
     "metadata": {},
     "output_type": "execute_result"
    }
   ],
   "source": [
    "list(DIMS)"
   ]
  },
  {
   "cell_type": "code",
   "execution_count": 291,
   "metadata": {},
   "outputs": [],
   "source": [
    "df = DIMS['dim_network']\n",
    "#df = fact"
   ]
  },
  {
   "cell_type": "code",
   "execution_count": 299,
   "metadata": {},
   "outputs": [
    {
     "data": {
      "text/plain": [
       "[('network_key', 19),\n",
       " ('ip_type', 7),\n",
       " ('network', 43),\n",
       " ('geoname_id', 10),\n",
       " ('postal_code', 7),\n",
       " ('latitude', 7),\n",
       " ('longitude', 9),\n",
       " ('country_iso_code', 7),\n",
       " ('country', 13),\n",
       " ('state_iso_code', 7),\n",
       " ('state', 20),\n",
       " ('city', 52),\n",
       " ('time_zone', 30),\n",
       " ('geo_id', 14),\n",
       " ('occup_housing_units', 7),\n",
       " ('median_household_income', 8),\n",
       " ('median_household_costs', 6)]"
      ]
     },
     "execution_count": 299,
     "metadata": {},
     "output_type": "execute_result"
    }
   ],
   "source": [
    "[ ( name, ds.astype(np.str).map(len).max()) for name, ds in df.iteritems()]"
   ]
  },
  {
   "cell_type": "code",
   "execution_count": 293,
   "metadata": {},
   "outputs": [
    {
     "data": {
      "text/html": [
       "<div>\n",
       "<style scoped>\n",
       "    .dataframe tbody tr th:only-of-type {\n",
       "        vertical-align: middle;\n",
       "    }\n",
       "\n",
       "    .dataframe tbody tr th {\n",
       "        vertical-align: top;\n",
       "    }\n",
       "\n",
       "    .dataframe thead th {\n",
       "        text-align: right;\n",
       "    }\n",
       "</style>\n",
       "<table border=\"1\" class=\"dataframe\">\n",
       "  <thead>\n",
       "    <tr style=\"text-align: right;\">\n",
       "      <th></th>\n",
       "      <th>0</th>\n",
       "      <th>1</th>\n",
       "      <th>2</th>\n",
       "      <th>3</th>\n",
       "      <th>4</th>\n",
       "    </tr>\n",
       "  </thead>\n",
       "  <tbody>\n",
       "    <tr>\n",
       "      <td>network_key</td>\n",
       "      <td>170149117347355830</td>\n",
       "      <td>7983848685104720924</td>\n",
       "      <td>4172137581945467765</td>\n",
       "      <td>8727835268345020339</td>\n",
       "      <td>1723861096030196059</td>\n",
       "    </tr>\n",
       "    <tr>\n",
       "      <td>ip_type</td>\n",
       "      <td>ip4</td>\n",
       "      <td>ip4</td>\n",
       "      <td>ip4</td>\n",
       "      <td>ip4</td>\n",
       "      <td>ip4</td>\n",
       "    </tr>\n",
       "    <tr>\n",
       "      <td>network</td>\n",
       "      <td>2.56.9.245/32</td>\n",
       "      <td>2.56.9.246/32</td>\n",
       "      <td>2.56.9.247/32</td>\n",
       "      <td>2.56.9.248/32</td>\n",
       "      <td>2.56.20.0/22</td>\n",
       "    </tr>\n",
       "    <tr>\n",
       "      <td>geoname_id</td>\n",
       "      <td>5.12858e+06</td>\n",
       "      <td>4.8874e+06</td>\n",
       "      <td>4.69907e+06</td>\n",
       "      <td>5.36836e+06</td>\n",
       "      <td>5.80984e+06</td>\n",
       "    </tr>\n",
       "    <tr>\n",
       "      <td>postal_code</td>\n",
       "      <td>10004</td>\n",
       "      <td>60602</td>\n",
       "      <td>77002</td>\n",
       "      <td>90009</td>\n",
       "      <td>98168</td>\n",
       "    </tr>\n",
       "    <tr>\n",
       "      <td>latitude</td>\n",
       "      <td>40.7145</td>\n",
       "      <td>41.8483</td>\n",
       "      <td>29.772</td>\n",
       "      <td>34.0544</td>\n",
       "      <td>47.4902</td>\n",
       "    </tr>\n",
       "    <tr>\n",
       "      <td>longitude</td>\n",
       "      <td>-74.0029</td>\n",
       "      <td>-87.6517</td>\n",
       "      <td>-95.3644</td>\n",
       "      <td>-118.244</td>\n",
       "      <td>-122.3</td>\n",
       "    </tr>\n",
       "    <tr>\n",
       "      <td>country_iso_code</td>\n",
       "      <td>US</td>\n",
       "      <td>US</td>\n",
       "      <td>US</td>\n",
       "      <td>US</td>\n",
       "      <td>US</td>\n",
       "    </tr>\n",
       "    <tr>\n",
       "      <td>country</td>\n",
       "      <td>United States</td>\n",
       "      <td>United States</td>\n",
       "      <td>United States</td>\n",
       "      <td>United States</td>\n",
       "      <td>United States</td>\n",
       "    </tr>\n",
       "    <tr>\n",
       "      <td>state_iso_code</td>\n",
       "      <td>NY</td>\n",
       "      <td>IL</td>\n",
       "      <td>TX</td>\n",
       "      <td>CA</td>\n",
       "      <td>WA</td>\n",
       "    </tr>\n",
       "    <tr>\n",
       "      <td>state</td>\n",
       "      <td>New York</td>\n",
       "      <td>Illinois</td>\n",
       "      <td>Texas</td>\n",
       "      <td>California</td>\n",
       "      <td>Washington</td>\n",
       "    </tr>\n",
       "    <tr>\n",
       "      <td>city</td>\n",
       "      <td>New York</td>\n",
       "      <td>Chicago</td>\n",
       "      <td>Houston</td>\n",
       "      <td>Los Angeles</td>\n",
       "      <td>Seattle</td>\n",
       "    </tr>\n",
       "    <tr>\n",
       "      <td>time_zone</td>\n",
       "      <td>America/New_York</td>\n",
       "      <td>America/Chicago</td>\n",
       "      <td>America/Chicago</td>\n",
       "      <td>America/Los_Angeles</td>\n",
       "      <td>America/Los_Angeles</td>\n",
       "    </tr>\n",
       "    <tr>\n",
       "      <td>geo_id</td>\n",
       "      <td>8600000US10004</td>\n",
       "      <td>8600000US60602</td>\n",
       "      <td>8600000US77002</td>\n",
       "      <td>None</td>\n",
       "      <td>8600000US98168</td>\n",
       "    </tr>\n",
       "    <tr>\n",
       "      <td>occup_housing_units</td>\n",
       "      <td>1587</td>\n",
       "      <td>596</td>\n",
       "      <td>3295</td>\n",
       "      <td>NaN</td>\n",
       "      <td>11236</td>\n",
       "    </tr>\n",
       "    <tr>\n",
       "      <td>median_household_income</td>\n",
       "      <td>140450</td>\n",
       "      <td>115774</td>\n",
       "      <td>72306</td>\n",
       "      <td>NaN</td>\n",
       "      <td>53992</td>\n",
       "    </tr>\n",
       "    <tr>\n",
       "      <td>median_household_costs</td>\n",
       "      <td>3097</td>\n",
       "      <td>2558</td>\n",
       "      <td>1439</td>\n",
       "      <td>NaN</td>\n",
       "      <td>1250</td>\n",
       "    </tr>\n",
       "  </tbody>\n",
       "</table>\n",
       "</div>"
      ],
      "text/plain": [
       "                                          0                    1  \\\n",
       "network_key              170149117347355830  7983848685104720924   \n",
       "ip_type                                 ip4                  ip4   \n",
       "network                       2.56.9.245/32        2.56.9.246/32   \n",
       "geoname_id                      5.12858e+06           4.8874e+06   \n",
       "postal_code                           10004                60602   \n",
       "latitude                            40.7145              41.8483   \n",
       "longitude                          -74.0029             -87.6517   \n",
       "country_iso_code                         US                   US   \n",
       "country                       United States        United States   \n",
       "state_iso_code                           NY                   IL   \n",
       "state                              New York             Illinois   \n",
       "city                               New York              Chicago   \n",
       "time_zone                  America/New_York      America/Chicago   \n",
       "geo_id                       8600000US10004       8600000US60602   \n",
       "occup_housing_units                    1587                  596   \n",
       "median_household_income              140450               115774   \n",
       "median_household_costs                 3097                 2558   \n",
       "\n",
       "                                           2                    3  \\\n",
       "network_key              4172137581945467765  8727835268345020339   \n",
       "ip_type                                  ip4                  ip4   \n",
       "network                        2.56.9.247/32        2.56.9.248/32   \n",
       "geoname_id                       4.69907e+06          5.36836e+06   \n",
       "postal_code                            77002                90009   \n",
       "latitude                              29.772              34.0544   \n",
       "longitude                           -95.3644             -118.244   \n",
       "country_iso_code                          US                   US   \n",
       "country                        United States        United States   \n",
       "state_iso_code                            TX                   CA   \n",
       "state                                  Texas           California   \n",
       "city                                 Houston          Los Angeles   \n",
       "time_zone                    America/Chicago  America/Los_Angeles   \n",
       "geo_id                        8600000US77002                 None   \n",
       "occup_housing_units                     3295                  NaN   \n",
       "median_household_income                72306                  NaN   \n",
       "median_household_costs                  1439                  NaN   \n",
       "\n",
       "                                           4  \n",
       "network_key              1723861096030196059  \n",
       "ip_type                                  ip4  \n",
       "network                         2.56.20.0/22  \n",
       "geoname_id                       5.80984e+06  \n",
       "postal_code                            98168  \n",
       "latitude                             47.4902  \n",
       "longitude                             -122.3  \n",
       "country_iso_code                          US  \n",
       "country                        United States  \n",
       "state_iso_code                            WA  \n",
       "state                             Washington  \n",
       "city                                 Seattle  \n",
       "time_zone                America/Los_Angeles  \n",
       "geo_id                        8600000US98168  \n",
       "occup_housing_units                    11236  \n",
       "median_household_income                53992  \n",
       "median_household_costs                  1250  "
      ]
     },
     "execution_count": 293,
     "metadata": {},
     "output_type": "execute_result"
    }
   ],
   "source": [
    "df.head().T\n"
   ]
  },
  {
   "cell_type": "code",
   "execution_count": 294,
   "metadata": {},
   "outputs": [
    {
     "name": "stdout",
     "output_type": "stream",
     "text": [
      "<class 'pandas.core.frame.DataFrame'>\n",
      "RangeIndex: 1243177 entries, 0 to 1243176\n",
      "Data columns (total 17 columns):\n",
      "network_key                1243177 non-null int64\n",
      "ip_type                    1243177 non-null object\n",
      "network                    1243177 non-null object\n",
      "geoname_id                 1243176 non-null float64\n",
      "postal_code                1234930 non-null object\n",
      "latitude                   1243176 non-null float64\n",
      "longitude                  1243176 non-null float64\n",
      "country_iso_code           1243177 non-null object\n",
      "country                    1243177 non-null object\n",
      "state_iso_code             1243177 non-null object\n",
      "state                      1243177 non-null object\n",
      "city                       1234728 non-null object\n",
      "time_zone                  1243177 non-null object\n",
      "geo_id                     1201678 non-null object\n",
      "occup_housing_units        1201677 non-null float64\n",
      "median_household_income    1197137 non-null float64\n",
      "median_household_costs     1197279 non-null float64\n",
      "dtypes: float64(6), int64(1), object(10)\n",
      "memory usage: 161.2+ MB\n"
     ]
    }
   ],
   "source": [
    "df.info()"
   ]
  },
  {
   "cell_type": "code",
   "execution_count": 271,
   "metadata": {},
   "outputs": [
    {
     "data": {
      "text/plain": [
       "PosixPath('/Users/wmcabee/DATA/NBC/demographics/network_dim.parquet')"
      ]
     },
     "execution_count": 271,
     "metadata": {},
     "output_type": "execute_result"
    }
   ],
   "source": [
    "indir = config['demographics']['demographics_d']\n",
    "\n",
    "list(indir.glob('*'))[0]"
   ]
  },
  {
   "cell_type": "code",
   "execution_count": null,
   "metadata": {},
   "outputs": [],
   "source": []
  }
 ],
 "metadata": {
  "kernelspec": {
   "display_name": "Python 3",
   "language": "python",
   "name": "python3"
  },
  "language_info": {
   "codemirror_mode": {
    "name": "ipython",
    "version": 3
   },
   "file_extension": ".py",
   "mimetype": "text/x-python",
   "name": "python",
   "nbconvert_exporter": "python",
   "pygments_lexer": "ipython3",
   "version": "3.7.4"
  }
 },
 "nbformat": 4,
 "nbformat_minor": 4
}
