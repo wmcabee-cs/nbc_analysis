{
 "cells": [
  {
   "cell_type": "code",
   "execution_count": 1,
   "metadata": {},
   "outputs": [],
   "source": [
    "%reload_ext autoreload\n",
    "%autoreload 2"
   ]
  },
  {
   "cell_type": "code",
   "execution_count": 119,
   "metadata": {},
   "outputs": [],
   "source": [
    "from nbc_analysis.utils.debug_utils import runit\n",
    "from nbc_analysis.utils.file_utils import read_parquet\n",
    "\n",
    "\n",
    "from test_load_db import test_load_db, test_initialize_db, _get_config\n",
    "from pathlib import Path\n",
    "\n",
    "import pandas as pd\n",
    "import numpy as np"
   ]
  },
  {
   "cell_type": "code",
   "execution_count": 3,
   "metadata": {},
   "outputs": [
    {
     "data": {
      "text/plain": [
       "{'calendar': {'start_day_key': 20170101,\n",
       "  'end_day_key': 20210101,\n",
       "  'calendar_d': PosixPath('/Users/wmcabee/DATA/NBC/calendar')},\n",
       " 'database': {'db_f': PosixPath('/Users/wmcabee/DATA/NBC/test_db.sqlite'),\n",
       "  'connect_str': 'sqlite:////%s'},\n",
       " 'demographics': {'demographics_d': PosixPath('/Users/wmcabee/DATA/NBC/demographics'),\n",
       "  'zip2income_input_f': PosixPath('/Users/wmcabee/_NBC/datasets/ACS_17_5YR_S2503_with_ann.csv'),\n",
       "  'subnet2zip_input_f': PosixPath('/Users/wmcabee/_NBC/datasets/GeoLite2-City-CSV_20191001.zip')},\n",
       " 'normalize': {'test_input_d': PosixPath('/Users/wmcabee/DATA/NBC/work/query'),\n",
       "  'normalize_d': PosixPath('/Users/wmcabee/DATA/NBC/normalize')}}"
      ]
     },
     "execution_count": 3,
     "metadata": {},
     "output_type": "execute_result"
    }
   ],
   "source": [
    "config = _get_config()\n",
    "config"
   ]
  },
  {
   "cell_type": "code",
   "execution_count": 80,
   "metadata": {},
   "outputs": [
    {
     "name": "stderr",
     "output_type": "stream",
     "text": [
      "2019-10-24 06:06:57,341|INFO|nbc_analysis.utils.db_utils|start initialize_database, cfg={'db_f': PosixPath('/Users/wmcabee/DATA/NBC/test_db.sqlite'), 'connect_str': 'sqlite:////%s'},replace=True\n",
      "2019-10-24 06:06:57,359|INFO|nbc_analysis.utils.db_utils|end initialize_database,connect_str=sqlite://///Users/wmcabee/DATA/NBC/test_db.sqlite\n"
     ]
    }
   ],
   "source": [
    "#engine = runit(test_initialize_db)"
   ]
  },
  {
   "cell_type": "code",
   "execution_count": 209,
   "metadata": {},
   "outputs": [
    {
     "name": "stderr",
     "output_type": "stream",
     "text": [
      "2019-10-24 08:11:00,980|INFO|nbc_analysis.load_db.main|start database load\n",
      "2019-10-24 08:11:00,990|INFO|nbc_analysis.utils.db_utils|start initialize_database, cfg={'db_f': PosixPath('/Users/wmcabee/DATA/NBC/test_db.sqlite'), 'connect_str': 'sqlite:////%s'},replace=True\n",
      "2019-10-24 08:11:01,008|INFO|nbc_analysis.utils.db_utils|end initialize_database,connect_str=sqlite://///Users/wmcabee/DATA/NBC/test_db.sqlite\n",
      "2019-10-24 08:11:01,010|INFO|nbc_analysis.utils.file_utils|start read file,/Users/wmcabee/DATA/NBC/calendar/dim_day.parquet\n",
      "2019-10-24 08:11:01,017|INFO|nbc_analysis.utils.file_utils|end read file,/Users/wmcabee/DATA/NBC/calendar/dim_day.parquet,record_cnt=1461\n",
      "2019-10-24 08:11:01,018|INFO|nbc_analysis.utils.file_utils|start read file,/Users/wmcabee/DATA/NBC/calendar/dim_day_loc.parquet\n",
      "2019-10-24 08:11:01,027|INFO|nbc_analysis.utils.file_utils|end read file,/Users/wmcabee/DATA/NBC/calendar/dim_day_loc.parquet,record_cnt=1461\n",
      "2019-10-24 08:11:01,027|INFO|nbc_analysis.utils.file_utils|start read file,/Users/wmcabee/DATA/NBC/calendar/dim_hour_in_week.parquet\n",
      "2019-10-24 08:11:01,032|INFO|nbc_analysis.utils.file_utils|end read file,/Users/wmcabee/DATA/NBC/calendar/dim_hour_in_week.parquet,record_cnt=168\n",
      "2019-10-24 08:11:01,033|INFO|nbc_analysis.utils.file_utils|start read file,/Users/wmcabee/DATA/NBC/normalize/dim_end_type.parquet\n",
      "2019-10-24 08:11:01,038|INFO|nbc_analysis.utils.file_utils|end read file,/Users/wmcabee/DATA/NBC/normalize/dim_end_type.parquet,record_cnt=12\n",
      "2019-10-24 08:11:01,039|INFO|nbc_analysis.utils.file_utils|start read file,/Users/wmcabee/DATA/NBC/normalize/dim_event_type.parquet\n",
      "2019-10-24 08:11:01,044|INFO|nbc_analysis.utils.file_utils|end read file,/Users/wmcabee/DATA/NBC/normalize/dim_event_type.parquet,record_cnt=1\n",
      "2019-10-24 08:11:01,045|INFO|nbc_analysis.utils.file_utils|start read file,/Users/wmcabee/DATA/NBC/normalize/dim_platform.parquet\n",
      "2019-10-24 08:11:01,049|INFO|nbc_analysis.utils.file_utils|end read file,/Users/wmcabee/DATA/NBC/normalize/dim_platform.parquet,record_cnt=11\n",
      "2019-10-24 08:11:01,050|INFO|nbc_analysis.utils.file_utils|start read file,/Users/wmcabee/DATA/NBC/normalize/dim_profile.parquet\n",
      "2019-10-24 08:11:01,056|INFO|nbc_analysis.utils.file_utils|end read file,/Users/wmcabee/DATA/NBC/normalize/dim_profile.parquet,record_cnt=279\n",
      "2019-10-24 08:11:01,057|INFO|nbc_analysis.utils.file_utils|start read file,/Users/wmcabee/DATA/NBC/normalize/dim_video.parquet\n",
      "2019-10-24 08:11:01,070|INFO|nbc_analysis.utils.file_utils|end read file,/Users/wmcabee/DATA/NBC/normalize/dim_video.parquet,record_cnt=10221\n",
      "2019-10-24 08:11:01,079|INFO|nbc_analysis.load_db.main|loading table DIM_PROFILE,record_cnt=279\n",
      "2019-10-24 08:11:01,089|INFO|nbc_analysis.load_db.main|end database load\n"
     ]
    }
   ],
   "source": [
    "engine = runit(test_load_db)\n",
    "#DIMS = runit(test_load_db)"
   ]
  },
  {
   "cell_type": "code",
   "execution_count": 210,
   "metadata": {},
   "outputs": [
    {
     "data": {
      "text/plain": [
       "['DIM_DAY',\n",
       " 'DIM_DAY_LOC',\n",
       " 'DIM_END_TYPE',\n",
       " 'DIM_EVENT_TYPE',\n",
       " 'DIM_HOUR_IN_WEEK',\n",
       " 'DIM_PLATFORM',\n",
       " 'DIM_PROFILE']"
      ]
     },
     "execution_count": 210,
     "metadata": {},
     "output_type": "execute_result"
    }
   ],
   "source": [
    "engine.table_names()"
   ]
  },
  {
   "cell_type": "code",
   "execution_count": 211,
   "metadata": {},
   "outputs": [
    {
     "data": {
      "text/html": [
       "<div>\n",
       "<style scoped>\n",
       "    .dataframe tbody tr th:only-of-type {\n",
       "        vertical-align: middle;\n",
       "    }\n",
       "\n",
       "    .dataframe tbody tr th {\n",
       "        vertical-align: top;\n",
       "    }\n",
       "\n",
       "    .dataframe thead th {\n",
       "        text-align: right;\n",
       "    }\n",
       "</style>\n",
       "<table border=\"1\" class=\"dataframe\">\n",
       "  <thead>\n",
       "    <tr style=\"text-align: right;\">\n",
       "      <th></th>\n",
       "      <th>profile_key</th>\n",
       "      <th>mvpd</th>\n",
       "      <th>nbc_profile</th>\n",
       "      <th>_last_upd_dt</th>\n",
       "    </tr>\n",
       "  </thead>\n",
       "  <tbody>\n",
       "    <tr>\n",
       "      <td>0</td>\n",
       "      <td>18299202214292683</td>\n",
       "      <td>bte010</td>\n",
       "      <td>Unauthenticated</td>\n",
       "      <td>1565541209193</td>\n",
       "    </tr>\n",
       "    <tr>\n",
       "      <td>1</td>\n",
       "      <td>32898714457641501</td>\n",
       "      <td>she010</td>\n",
       "      <td>Free</td>\n",
       "      <td>1565817889921</td>\n",
       "    </tr>\n",
       "    <tr>\n",
       "      <td>2</td>\n",
       "      <td>45014540655414464</td>\n",
       "      <td>Cablevision</td>\n",
       "      <td>Free</td>\n",
       "      <td>1566172325491</td>\n",
       "    </tr>\n",
       "    <tr>\n",
       "      <td>3</td>\n",
       "      <td>64786188082905005</td>\n",
       "      <td>consolidated_auth-gateway_net</td>\n",
       "      <td>Unauthenticated</td>\n",
       "      <td>1566167634520</td>\n",
       "    </tr>\n",
       "    <tr>\n",
       "      <td>4</td>\n",
       "      <td>172396501745720555</td>\n",
       "      <td>slingtv</td>\n",
       "      <td>Not Set</td>\n",
       "      <td>1565113107729</td>\n",
       "    </tr>\n",
       "    <tr>\n",
       "      <td>...</td>\n",
       "      <td>...</td>\n",
       "      <td>...</td>\n",
       "      <td>...</td>\n",
       "      <td>...</td>\n",
       "    </tr>\n",
       "    <tr>\n",
       "      <td>274</td>\n",
       "      <td>9039003730690823772</td>\n",
       "      <td>Antietam Cable Television</td>\n",
       "      <td>Unauthenticated</td>\n",
       "      <td>1565963758265</td>\n",
       "    </tr>\n",
       "    <tr>\n",
       "      <td>275</td>\n",
       "      <td>9091986044976359236</td>\n",
       "      <td>Charter_Direct</td>\n",
       "      <td>Unauthenticated</td>\n",
       "      <td>1548462675110</td>\n",
       "    </tr>\n",
       "    <tr>\n",
       "      <td>276</td>\n",
       "      <td>9153660023675650707</td>\n",
       "      <td>PlayStation Vue</td>\n",
       "      <td>Free</td>\n",
       "      <td>1566099989111</td>\n",
       "    </tr>\n",
       "    <tr>\n",
       "      <td>277</td>\n",
       "      <td>9155368178191031207</td>\n",
       "      <td>Mediacom</td>\n",
       "      <td>Free</td>\n",
       "      <td>1566168551235</td>\n",
       "    </tr>\n",
       "    <tr>\n",
       "      <td>278</td>\n",
       "      <td>9198626423177314957</td>\n",
       "      <td>selco</td>\n",
       "      <td>Free</td>\n",
       "      <td>1565580404270</td>\n",
       "    </tr>\n",
       "  </tbody>\n",
       "</table>\n",
       "<p>279 rows × 4 columns</p>\n",
       "</div>"
      ],
      "text/plain": [
       "             profile_key                           mvpd      nbc_profile  \\\n",
       "0      18299202214292683                         bte010  Unauthenticated   \n",
       "1      32898714457641501                         she010             Free   \n",
       "2      45014540655414464                    Cablevision             Free   \n",
       "3      64786188082905005  consolidated_auth-gateway_net  Unauthenticated   \n",
       "4     172396501745720555                        slingtv          Not Set   \n",
       "..                   ...                            ...              ...   \n",
       "274  9039003730690823772      Antietam Cable Television  Unauthenticated   \n",
       "275  9091986044976359236                 Charter_Direct  Unauthenticated   \n",
       "276  9153660023675650707                PlayStation Vue             Free   \n",
       "277  9155368178191031207                       Mediacom             Free   \n",
       "278  9198626423177314957                          selco             Free   \n",
       "\n",
       "      _last_upd_dt  \n",
       "0    1565541209193  \n",
       "1    1565817889921  \n",
       "2    1566172325491  \n",
       "3    1566167634520  \n",
       "4    1565113107729  \n",
       "..             ...  \n",
       "274  1565963758265  \n",
       "275  1548462675110  \n",
       "276  1566099989111  \n",
       "277  1566168551235  \n",
       "278  1565580404270  \n",
       "\n",
       "[279 rows x 4 columns]"
      ]
     },
     "execution_count": 211,
     "metadata": {},
     "output_type": "execute_result"
    }
   ],
   "source": [
    "df = pd.read_sql(sql=\"select * from DIM_PROFILE\", con=engine)\n",
    "df"
   ]
  },
  {
   "cell_type": "code",
   "execution_count": 69,
   "metadata": {},
   "outputs": [],
   "source": [
    "indir = config['normalize']['normalize_d']"
   ]
  },
  {
   "cell_type": "code",
   "execution_count": 99,
   "metadata": {},
   "outputs": [],
   "source": [
    "reader = sorted(indir.glob('dim_*.parquet'))"
   ]
  },
  {
   "cell_type": "code",
   "execution_count": 151,
   "metadata": {},
   "outputs": [
    {
     "data": {
      "text/plain": [
       "['dim_day',\n",
       " 'dim_day_loc',\n",
       " 'dim_hour_in_week',\n",
       " 'dim_end_type',\n",
       " 'dim_event_type',\n",
       " 'dim_platform',\n",
       " 'dim_profile',\n",
       " 'dim_video']"
      ]
     },
     "execution_count": 151,
     "metadata": {},
     "output_type": "execute_result"
    }
   ],
   "source": [
    "list(DIMS)"
   ]
  },
  {
   "cell_type": "code",
   "execution_count": 208,
   "metadata": {},
   "outputs": [
    {
     "data": {
      "text/plain": [
       "[('profile_key', 19), ('mvpd', 47), ('nbc_profile', 15), ('_last_upd_dt', 13)]"
      ]
     },
     "execution_count": 208,
     "metadata": {},
     "output_type": "execute_result"
    }
   ],
   "source": [
    "df = DIMS['dim_profile']\n",
    "[ ( name, ds.map(lambda x: len(str(x))).max()) for name, ds in df.iteritems()]"
   ]
  },
  {
   "cell_type": "code",
   "execution_count": 179,
   "metadata": {},
   "outputs": [
    {
     "data": {
      "text/plain": [
       "array([5527044683096463186, 1432173623121430231, 9074739437427861142,\n",
       "       6878807357000442988, 6756479378550824976, 7164661433694266099,\n",
       "       9114155449109247858, 1178126885457260864, 7169730216373282789,\n",
       "       4458483872613009280, 8444501209394788562], dtype=uint64)"
      ]
     },
     "execution_count": 179,
     "metadata": {},
     "output_type": "execute_result"
    }
   ],
   "source": [
    "df.platform_key.values >> 1\n"
   ]
  },
  {
   "cell_type": "code",
   "execution_count": null,
   "metadata": {},
   "outputs": [],
   "source": []
  }
 ],
 "metadata": {
  "kernelspec": {
   "display_name": "Python 3",
   "language": "python",
   "name": "python3"
  },
  "language_info": {
   "codemirror_mode": {
    "name": "ipython",
    "version": 3
   },
   "file_extension": ".py",
   "mimetype": "text/x-python",
   "name": "python",
   "nbconvert_exporter": "python",
   "pygments_lexer": "ipython3",
   "version": "3.7.4"
  }
 },
 "nbformat": 4,
 "nbformat_minor": 4
}
