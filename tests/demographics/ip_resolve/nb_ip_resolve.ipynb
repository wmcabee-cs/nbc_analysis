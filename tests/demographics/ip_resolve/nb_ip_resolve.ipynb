{
 "cells": [
  {
   "cell_type": "code",
   "execution_count": 1,
   "metadata": {},
   "outputs": [],
   "source": [
    "%reload_ext autoreload\n",
    "%autoreload 2"
   ]
  },
  {
   "cell_type": "code",
   "execution_count": 2,
   "metadata": {},
   "outputs": [],
   "source": [
    "from nbc_analysis.utils.debug_utils import runit\n",
    "from pathlib import Path\n",
    "from nbc_analysis.utils.file_utils import read_parquet"
   ]
  },
  {
   "cell_type": "code",
   "execution_count": 4,
   "metadata": {},
   "outputs": [],
   "source": [
    "from test_resolve_ip import test_resolve_ip, _get_config"
   ]
  },
  {
   "cell_type": "code",
   "execution_count": 9,
   "metadata": {},
   "outputs": [
    {
     "data": {
      "text/plain": [
       "{'demographics': {'demographics_d': '/Users/wmcabee/DATA/NBC/demographics',\n",
       "  'zip2income_input_f': PosixPath('/Users/wmcabee/_NBC/datasets/ACS_17_5YR_S2503_with_ann.csv'),\n",
       "  'subnet2zip_input_f': PosixPath('/Users/wmcabee/_NBC/datasets/GeoLite2-City-CSV_20191001.zip')},\n",
       " 'normalize': {'test_input_d': '/Users/wmcabee/DATA/NBC/work/query',\n",
       "  'normalize_d': '/Users/wmcabee/DATA/NBC/normalize'}}"
      ]
     },
     "execution_count": 9,
     "metadata": {},
     "output_type": "execute_result"
    }
   ],
   "source": [
    "config = _get_config()\n",
    "config"
   ]
  },
  {
   "cell_type": "code",
   "execution_count": 11,
   "metadata": {},
   "outputs": [
    {
     "name": "stderr",
     "output_type": "stream",
     "text": [
      "2019-10-22 12:18:00,724|INFO|nbc_analysis.utils.file_utils|start read file,/Users/wmcabee/DATA/NBC/normalize/ips.parquet\n",
      "2019-10-22 12:18:00,814|INFO|nbc_analysis.utils.file_utils|end read file,/Users/wmcabee/DATA/NBC/normalize/ips.parquet,record_cnt=226596\n",
      "2019-10-22 12:18:00,814|INFO|nbc_analysis.utils.file_utils|start read file,/Users/wmcabee/DATA/NBC/demographics/subnet2inc.parquet\n",
      "2019-10-22 12:18:01,458|INFO|nbc_analysis.utils.file_utils|end read file,/Users/wmcabee/DATA/NBC/demographics/subnet2inc.parquet,record_cnt=1243176\n",
      "2019-10-22 12:18:01,458|INFO|nbc_analysis.demographics.resolve_ip.main|start build ip ptree,record_cnt=1243176,limit=None\n",
      "2019-10-22 12:18:03,605|INFO|nbc_analysis.demographics.resolve_ip.main|end build ip ptree\n",
      "2019-10-22 12:18:03,606|INFO|nbc_analysis.demographics.resolve_ip.main|start get network keys,record_cnt=226596,limit=None\n",
      "2019-10-22 12:18:03,875|INFO|nbc_analysis.demographics.resolve_ip.main|end get network keys,N=226596,hits=209735,hit_rate=0.93,limit=None\n"
     ]
    },
    {
     "name": "stdout",
     "output_type": "stream",
     "text": [
      "CPU times: user 3.25 s, sys: 330 ms, total: 3.58 s\n",
      "Wall time: 3.55 s\n"
     ]
    }
   ],
   "source": [
    "%%time \n",
    "df = runit(test_resolve_ip)"
   ]
  },
  {
   "cell_type": "code",
   "execution_count": null,
   "metadata": {},
   "outputs": [],
   "source": []
  }
 ],
 "metadata": {
  "kernelspec": {
   "display_name": "Python 3",
   "language": "python",
   "name": "python3"
  },
  "language_info": {
   "codemirror_mode": {
    "name": "ipython",
    "version": 3
   },
   "file_extension": ".py",
   "mimetype": "text/x-python",
   "name": "python",
   "nbconvert_exporter": "python",
   "pygments_lexer": "ipython3",
   "version": "3.7.4"
  }
 },
 "nbformat": 4,
 "nbformat_minor": 4
}
