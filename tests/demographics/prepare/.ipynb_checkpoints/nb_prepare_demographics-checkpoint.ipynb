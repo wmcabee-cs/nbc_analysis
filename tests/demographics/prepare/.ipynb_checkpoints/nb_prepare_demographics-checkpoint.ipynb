{
 "cells": [
  {
   "cell_type": "code",
   "execution_count": 1,
   "metadata": {},
   "outputs": [],
   "source": [
    "%reload_ext autoreload\n",
    "%autoreload 2"
   ]
  },
  {
   "cell_type": "code",
   "execution_count": 2,
   "metadata": {},
   "outputs": [],
   "source": [
    "from test_prepare_demographics import test_prepare_demographics, _get_config\n",
    "from nbc_analysis.utils.debug_utils import runit\n",
    "from toolz import first\n",
    "import pandas as pd\n",
    "import numpy as np\n",
    "from pandas_summary import DataFrameSummary\n",
    "\n",
    "from pathlib import Path\n",
    "from pandas.util import hash_pandas_object\n"
   ]
  },
  {
   "cell_type": "code",
   "execution_count": 3,
   "metadata": {},
   "outputs": [
    {
     "data": {
      "text/plain": [
       "{'demographics': {'demographics_d': PosixPath('/Users/wmcabee/DATA/NBC/demographics'),\n",
       "  'zip2income_input_f': PosixPath('/Users/wmcabee/_NBC/datasets/ACS_17_5YR_S2503_with_ann.csv'),\n",
       "  'subnet2zip_input_f': PosixPath('/Users/wmcabee/_NBC/datasets/GeoLite2-City-CSV_20191001.zip'),\n",
       "  'subnet2inc_filename': 'subnet2inc.parquet'}}"
      ]
     },
     "execution_count": 3,
     "metadata": {},
     "output_type": "execute_result"
    }
   ],
   "source": [
    "CONFIG = _get_config()\n",
    "CONFIG"
   ]
  },
  {
   "cell_type": "markdown",
   "metadata": {},
   "source": [
    "## Test Prepare Zip to Income"
   ]
  },
  {
   "cell_type": "code",
   "execution_count": 4,
   "metadata": {},
   "outputs": [
    {
     "name": "stderr",
     "output_type": "stream",
     "text": [
      "2019-10-22 14:48:27,260|INFO|nbc_analysis.demographics.main|start prepare zip demographics,config={'demographics_d': PosixPath('/Users/wmcabee/DATA/NBC/demographics'), 'zip2income_input_f': PosixPath('/Users/wmcabee/_NBC/datasets/ACS_17_5YR_S2503_with_ann.csv'), 'subnet2zip_input_f': PosixPath('/Users/wmcabee/_NBC/datasets/GeoLite2-City-CSV_20191001.zip'), 'subnet2inc_filename': 'subnet2inc.parquet'}\n",
      "2019-10-22 14:48:27,263|INFO|nbc_analysis.demographics.prep_zip2income.main|start prep_zip2income\n",
      "2019-10-22 14:48:27,264|INFO|nbc_analysis.demographics.prep_zip2income.main|start load asc file,limit=None,file=/Users/wmcabee/_NBC/datasets/ACS_17_5YR_S2503_with_ann.csv\n",
      "2019-10-22 14:48:31,105|INFO|nbc_analysis.demographics.prep_zip2income.main|end load asc file,file=/Users/wmcabee/_NBC/datasets/ACS_17_5YR_S2503_with_ann.csv,record_cnt=33122\n",
      "2019-10-22 14:48:31,504|INFO|nbc_analysis.demographics.prep_zip2income.main|end prep_zip2income,record_cnt=33120\n",
      "2019-10-22 14:48:31,505|INFO|nbc_analysis.demographics.prep_subnet2zip.main|start prepare subnet2zip files\n",
      "2019-10-22 14:48:31,505|INFO|nbc_analysis.demographics.prep_subnet2zip.main|start load geolite2 city datasets,infile=/Users/wmcabee/_NBC/datasets/GeoLite2-City-CSV_20191001.zip\n",
      "2019-10-22 14:48:36,635|INFO|nbc_analysis.demographics.prep_subnet2zip.main|end load geolite2 city datasets\n",
      "2019-10-22 14:48:36,673|INFO|nbc_analysis.demographics.prep_subnet2zip.main|end ip6 merge\n",
      "2019-10-22 14:48:37,240|INFO|nbc_analysis.demographics.prep_subnet2zip.main|end ip4 merge\n",
      "2019-10-22 14:48:37,241|INFO|nbc_analysis.demographics.prep_subnet2zip.main|end prepare subnet2zip files,ip6=33423,ip4=1209753\n",
      "2019-10-22 14:48:37,273|INFO|nbc_analysis.demographics.main|start merge ip4\n",
      "2019-10-22 14:48:38,504|INFO|nbc_analysis.demographics.main|end merge ip4,record_cnt=1209753\n",
      "2019-10-22 14:48:38,837|INFO|nbc_analysis.demographics.main|start merge ip6\n",
      "2019-10-22 14:48:38,892|INFO|nbc_analysis.demographics.main|end merge ip6,record_cnt=33423\n",
      "2019-10-22 14:48:40,354|INFO|nbc_analysis.utils.file_utils|start write file,/Users/wmcabee/DATA/NBC/demographics/network_dim.parquet,record_cnt=1243177\n",
      "2019-10-22 14:48:41,879|INFO|nbc_analysis.utils.file_utils|end write file,/Users/wmcabee/DATA/NBC/demographics/network_dim.parquet,record_cnt=1243177\n",
      "2019-10-22 14:48:41,880|INFO|nbc_analysis.demographics.main|end prepare zip demographics\n"
     ]
    },
    {
     "name": "stdout",
     "output_type": "stream",
     "text": [
      "CPU times: user 12.7 s, sys: 2.02 s, total: 14.7 s\n",
      "Wall time: 14.7 s\n"
     ]
    }
   ],
   "source": [
    "%%time\n",
    "df = runit(test_prepare_demographics)"
   ]
  },
  {
   "cell_type": "code",
   "execution_count": 6,
   "metadata": {},
   "outputs": [
    {
     "data": {
      "text/html": [
       "<div>\n",
       "<style scoped>\n",
       "    .dataframe tbody tr th:only-of-type {\n",
       "        vertical-align: middle;\n",
       "    }\n",
       "\n",
       "    .dataframe tbody tr th {\n",
       "        vertical-align: top;\n",
       "    }\n",
       "\n",
       "    .dataframe thead th {\n",
       "        text-align: right;\n",
       "    }\n",
       "</style>\n",
       "<table border=\"1\" class=\"dataframe\">\n",
       "  <thead>\n",
       "    <tr style=\"text-align: right;\">\n",
       "      <th></th>\n",
       "      <th>33419</th>\n",
       "      <th>33420</th>\n",
       "      <th>33421</th>\n",
       "      <th>33422</th>\n",
       "      <th>0</th>\n",
       "    </tr>\n",
       "  </thead>\n",
       "  <tbody>\n",
       "    <tr>\n",
       "      <td>network_key</td>\n",
       "      <td>13142421790274021468</td>\n",
       "      <td>3216004690118554139</td>\n",
       "      <td>14680318989784521288</td>\n",
       "      <td>3348377772791472248</td>\n",
       "      <td>0</td>\n",
       "    </tr>\n",
       "    <tr>\n",
       "      <td>ip_type</td>\n",
       "      <td>ip6</td>\n",
       "      <td>ip6</td>\n",
       "      <td>ip6</td>\n",
       "      <td>ip6</td>\n",
       "      <td>Not Set</td>\n",
       "    </tr>\n",
       "    <tr>\n",
       "      <td>network</td>\n",
       "      <td>2a0e:b107:70::/44</td>\n",
       "      <td>2a0f:300::/30</td>\n",
       "      <td>2a0f:304::/31</td>\n",
       "      <td>2a0f:306::/31</td>\n",
       "      <td>Not Set</td>\n",
       "    </tr>\n",
       "    <tr>\n",
       "      <td>geoname_id</td>\n",
       "      <td>5.12858e+06</td>\n",
       "      <td>5.55175e+06</td>\n",
       "      <td>5.55175e+06</td>\n",
       "      <td>5.55175e+06</td>\n",
       "      <td>NaN</td>\n",
       "    </tr>\n",
       "    <tr>\n",
       "      <td>postal_code</td>\n",
       "      <td>10118</td>\n",
       "      <td>NaN</td>\n",
       "      <td>NaN</td>\n",
       "      <td>NaN</td>\n",
       "      <td>Not Set</td>\n",
       "    </tr>\n",
       "    <tr>\n",
       "      <td>latitude</td>\n",
       "      <td>40.7145</td>\n",
       "      <td>33.4532</td>\n",
       "      <td>33.4532</td>\n",
       "      <td>33.4532</td>\n",
       "      <td>NaN</td>\n",
       "    </tr>\n",
       "    <tr>\n",
       "      <td>longitude</td>\n",
       "      <td>-74.0029</td>\n",
       "      <td>-112.075</td>\n",
       "      <td>-112.075</td>\n",
       "      <td>-112.075</td>\n",
       "      <td>NaN</td>\n",
       "    </tr>\n",
       "    <tr>\n",
       "      <td>country_iso_code</td>\n",
       "      <td>US</td>\n",
       "      <td>US</td>\n",
       "      <td>US</td>\n",
       "      <td>US</td>\n",
       "      <td>Not Set</td>\n",
       "    </tr>\n",
       "    <tr>\n",
       "      <td>country</td>\n",
       "      <td>United States</td>\n",
       "      <td>United States</td>\n",
       "      <td>United States</td>\n",
       "      <td>United States</td>\n",
       "      <td>Not Set</td>\n",
       "    </tr>\n",
       "    <tr>\n",
       "      <td>state_iso_code</td>\n",
       "      <td>NY</td>\n",
       "      <td>AZ</td>\n",
       "      <td>AZ</td>\n",
       "      <td>AZ</td>\n",
       "      <td>Not Set</td>\n",
       "    </tr>\n",
       "    <tr>\n",
       "      <td>state</td>\n",
       "      <td>New York</td>\n",
       "      <td>Arizona</td>\n",
       "      <td>Arizona</td>\n",
       "      <td>Arizona</td>\n",
       "      <td>Not Set</td>\n",
       "    </tr>\n",
       "    <tr>\n",
       "      <td>city</td>\n",
       "      <td>New York</td>\n",
       "      <td>NaN</td>\n",
       "      <td>NaN</td>\n",
       "      <td>NaN</td>\n",
       "      <td>Not Set</td>\n",
       "    </tr>\n",
       "    <tr>\n",
       "      <td>time_zone</td>\n",
       "      <td>America/New_York</td>\n",
       "      <td>America/Phoenix</td>\n",
       "      <td>America/Phoenix</td>\n",
       "      <td>America/Phoenix</td>\n",
       "      <td>Not Set</td>\n",
       "    </tr>\n",
       "    <tr>\n",
       "      <td>geo_id</td>\n",
       "      <td>NaN</td>\n",
       "      <td>NaN</td>\n",
       "      <td>NaN</td>\n",
       "      <td>NaN</td>\n",
       "      <td>Not Set</td>\n",
       "    </tr>\n",
       "    <tr>\n",
       "      <td>occup_housing_units</td>\n",
       "      <td>NaN</td>\n",
       "      <td>NaN</td>\n",
       "      <td>NaN</td>\n",
       "      <td>NaN</td>\n",
       "      <td>NaN</td>\n",
       "    </tr>\n",
       "    <tr>\n",
       "      <td>median_household_income</td>\n",
       "      <td>NaN</td>\n",
       "      <td>NaN</td>\n",
       "      <td>NaN</td>\n",
       "      <td>NaN</td>\n",
       "      <td>NaN</td>\n",
       "    </tr>\n",
       "    <tr>\n",
       "      <td>median_household_costs</td>\n",
       "      <td>NaN</td>\n",
       "      <td>NaN</td>\n",
       "      <td>NaN</td>\n",
       "      <td>NaN</td>\n",
       "      <td>NaN</td>\n",
       "    </tr>\n",
       "  </tbody>\n",
       "</table>\n",
       "</div>"
      ],
      "text/plain": [
       "                                        33419                33420  \\\n",
       "network_key              13142421790274021468  3216004690118554139   \n",
       "ip_type                                   ip6                  ip6   \n",
       "network                     2a0e:b107:70::/44        2a0f:300::/30   \n",
       "geoname_id                        5.12858e+06          5.55175e+06   \n",
       "postal_code                             10118                  NaN   \n",
       "latitude                              40.7145              33.4532   \n",
       "longitude                            -74.0029             -112.075   \n",
       "country_iso_code                           US                   US   \n",
       "country                         United States        United States   \n",
       "state_iso_code                             NY                   AZ   \n",
       "state                                New York              Arizona   \n",
       "city                                 New York                  NaN   \n",
       "time_zone                    America/New_York      America/Phoenix   \n",
       "geo_id                                    NaN                  NaN   \n",
       "occup_housing_units                       NaN                  NaN   \n",
       "median_household_income                   NaN                  NaN   \n",
       "median_household_costs                    NaN                  NaN   \n",
       "\n",
       "                                        33421                33422    0      \n",
       "network_key              14680318989784521288  3348377772791472248        0  \n",
       "ip_type                                   ip6                  ip6  Not Set  \n",
       "network                         2a0f:304::/31        2a0f:306::/31  Not Set  \n",
       "geoname_id                        5.55175e+06          5.55175e+06      NaN  \n",
       "postal_code                               NaN                  NaN  Not Set  \n",
       "latitude                              33.4532              33.4532      NaN  \n",
       "longitude                            -112.075             -112.075      NaN  \n",
       "country_iso_code                           US                   US  Not Set  \n",
       "country                         United States        United States  Not Set  \n",
       "state_iso_code                             AZ                   AZ  Not Set  \n",
       "state                                 Arizona              Arizona  Not Set  \n",
       "city                                      NaN                  NaN  Not Set  \n",
       "time_zone                     America/Phoenix      America/Phoenix  Not Set  \n",
       "geo_id                                    NaN                  NaN  Not Set  \n",
       "occup_housing_units                       NaN                  NaN      NaN  \n",
       "median_household_income                   NaN                  NaN      NaN  \n",
       "median_household_costs                    NaN                  NaN      NaN  "
      ]
     },
     "execution_count": 6,
     "metadata": {},
     "output_type": "execute_result"
    }
   ],
   "source": [
    "df.tail().T"
   ]
  },
  {
   "cell_type": "markdown",
   "metadata": {},
   "source": [
    "## Examine output files"
   ]
  },
  {
   "cell_type": "code",
   "execution_count": 12,
   "metadata": {},
   "outputs": [],
   "source": [
    "indir = Path(CONFIG['demographics']['demographics_d'])\n",
    "DATA = pd.read_parquet(indir / \"network_dim.parquet\")"
   ]
  },
  {
   "cell_type": "code",
   "execution_count": 13,
   "metadata": {},
   "outputs": [
    {
     "data": {
      "text/plain": [
       "['network_key',\n",
       " 'ip_type',\n",
       " 'network',\n",
       " 'geoname_id',\n",
       " 'postal_code',\n",
       " 'latitude',\n",
       " 'longitude',\n",
       " 'country_iso_code',\n",
       " 'country',\n",
       " 'state_iso_code',\n",
       " 'state',\n",
       " 'city',\n",
       " 'time_zone',\n",
       " 'geo_id',\n",
       " 'occup_housing_units',\n",
       " 'median_household_income',\n",
       " 'median_household_costs']"
      ]
     },
     "execution_count": 13,
     "metadata": {},
     "output_type": "execute_result"
    }
   ],
   "source": [
    "list(DATA.columns)"
   ]
  },
  {
   "cell_type": "code",
   "execution_count": null,
   "metadata": {},
   "outputs": [],
   "source": []
  }
 ],
 "metadata": {
  "kernelspec": {
   "display_name": "Python 3",
   "language": "python",
   "name": "python3"
  },
  "language_info": {
   "codemirror_mode": {
    "name": "ipython",
    "version": 3
   },
   "file_extension": ".py",
   "mimetype": "text/x-python",
   "name": "python",
   "nbconvert_exporter": "python",
   "pygments_lexer": "ipython3",
   "version": "3.7.4"
  }
 },
 "nbformat": 4,
 "nbformat_minor": 4
}
