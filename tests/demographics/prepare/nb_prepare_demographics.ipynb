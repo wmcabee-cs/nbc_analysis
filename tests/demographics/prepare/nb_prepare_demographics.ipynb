{
 "cells": [
  {
   "cell_type": "code",
   "execution_count": 2,
   "metadata": {},
   "outputs": [],
   "source": [
    "%reload_ext autoreload\n",
    "%autoreload 2"
   ]
  },
  {
   "cell_type": "code",
   "execution_count": 3,
   "metadata": {},
   "outputs": [],
   "source": [
    "from test_prepare_demographics import test_prepare_demographics, _get_config\n",
    "from nbc_analysis.utils.debug_utils import runit\n",
    "from toolz import first\n",
    "import pandas as pd\n",
    "import numpy as np\n",
    "from pandas_summary import DataFrameSummary\n",
    "\n",
    "from pathlib import Path\n",
    "from pandas.util import hash_pandas_object\n"
   ]
  },
  {
   "cell_type": "code",
   "execution_count": 4,
   "metadata": {},
   "outputs": [
    {
     "data": {
      "text/plain": [
       "{'demographics': {'demographics_d': '/Users/wmcabee/DATA/NBC/demographics',\n",
       "  'zip2income_input_f': PosixPath('/Users/wmcabee/_NBC/datasets/ACS_17_5YR_S2503_with_ann.csv'),\n",
       "  'subnet2zip_input_f': PosixPath('/Users/wmcabee/_NBC/datasets/GeoLite2-City-CSV_20191001.zip'),\n",
       "  'subnet2inc_filename': 'subnet2inc.parquet'}}"
      ]
     },
     "execution_count": 4,
     "metadata": {},
     "output_type": "execute_result"
    }
   ],
   "source": [
    "CONFIG = _get_config()\n",
    "CONFIG"
   ]
  },
  {
   "cell_type": "markdown",
   "metadata": {},
   "source": [
    "## Test Prepare Zip to Income"
   ]
  },
  {
   "cell_type": "code",
   "execution_count": 5,
   "metadata": {},
   "outputs": [
    {
     "name": "stderr",
     "output_type": "stream",
     "text": [
      "2019-10-21 15:13:43,651|INFO|nbc_analysis.demographics.main|start prepare zip demographics,config={'demographics_d': '/Users/wmcabee/DATA/NBC/demographics', 'zip2income_input_f': PosixPath('/Users/wmcabee/_NBC/datasets/ACS_17_5YR_S2503_with_ann.csv'), 'subnet2zip_input_f': PosixPath('/Users/wmcabee/_NBC/datasets/GeoLite2-City-CSV_20191001.zip'), 'subnet2inc_filename': 'subnet2inc.parquet'}\n",
      "2019-10-21 15:13:43,653|INFO|nbc_analysis.demographics.prep_zip2income.main|start prep_zip2income\n",
      "2019-10-21 15:13:43,653|INFO|nbc_analysis.demographics.prep_zip2income.main|start load asc file,limit=None,file=/Users/wmcabee/_NBC/datasets/ACS_17_5YR_S2503_with_ann.csv\n",
      "2019-10-21 15:13:47,475|INFO|nbc_analysis.demographics.prep_zip2income.main|end load asc file,file=/Users/wmcabee/_NBC/datasets/ACS_17_5YR_S2503_with_ann.csv,record_cnt=33122\n",
      "2019-10-21 15:13:47,863|INFO|nbc_analysis.demographics.prep_zip2income.main|end prep_zip2income,record_cnt=33120\n",
      "2019-10-21 15:13:47,864|INFO|nbc_analysis.demographics.prep_subnet2zip.main|start prepare subnet2zip files\n",
      "2019-10-21 15:13:47,865|INFO|nbc_analysis.demographics.prep_subnet2zip.main|start load geolite2 city datasets,infile=/Users/wmcabee/_NBC/datasets/GeoLite2-City-CSV_20191001.zip\n",
      "2019-10-21 15:13:53,169|INFO|nbc_analysis.demographics.prep_subnet2zip.main|end load geolite2 city datasets\n",
      "2019-10-21 15:13:53,199|INFO|nbc_analysis.demographics.prep_subnet2zip.main|end ip6 merge\n",
      "2019-10-21 15:13:53,769|INFO|nbc_analysis.demographics.prep_subnet2zip.main|end ip4 merge\n",
      "2019-10-21 15:13:53,769|INFO|nbc_analysis.demographics.prep_subnet2zip.main|end prepare subnet2zip files,ip6=33423,ip4=1209753\n",
      "2019-10-21 15:13:53,798|INFO|nbc_analysis.demographics.main|start merge ip4\n",
      "2019-10-21 15:13:55,015|INFO|nbc_analysis.demographics.main|end merge ip4,record_cnt=1209753\n",
      "2019-10-21 15:13:55,298|INFO|nbc_analysis.demographics.main|start merge ip6\n",
      "2019-10-21 15:13:55,340|INFO|nbc_analysis.demographics.main|end merge ip6,record_cnt=33423\n",
      "2019-10-21 15:13:56,409|INFO|nbc_analysis.utils.file_utils|start write file,/Users/wmcabee/DATA/NBC/demographics/subnet2inc.parquet.parquet,record_cnt=1243176\n",
      "2019-10-21 15:13:57,909|INFO|nbc_analysis.utils.file_utils|end write file,/Users/wmcabee/DATA/NBC/demographics/subnet2inc.parquet.parquet,record_cnt=1243176\n",
      "2019-10-21 15:13:57,910|INFO|nbc_analysis.demographics.main|end prepare zip demographics\n"
     ]
    },
    {
     "name": "stdout",
     "output_type": "stream",
     "text": [
      "CPU times: user 12.5 s, sys: 1.63 s, total: 14.2 s\n",
      "Wall time: 14.4 s\n"
     ]
    }
   ],
   "source": [
    "%%time\n",
    "df = runit(test_prepare_demographics)"
   ]
  },
  {
   "cell_type": "code",
   "execution_count": 5,
   "metadata": {},
   "outputs": [
    {
     "data": {
      "text/html": [
       "<div>\n",
       "<style scoped>\n",
       "    .dataframe tbody tr th:only-of-type {\n",
       "        vertical-align: middle;\n",
       "    }\n",
       "\n",
       "    .dataframe tbody tr th {\n",
       "        vertical-align: top;\n",
       "    }\n",
       "\n",
       "    .dataframe thead th {\n",
       "        text-align: right;\n",
       "    }\n",
       "</style>\n",
       "<table border=\"1\" class=\"dataframe\">\n",
       "  <thead>\n",
       "    <tr style=\"text-align: right;\">\n",
       "      <th></th>\n",
       "      <th>0</th>\n",
       "      <th>1</th>\n",
       "      <th>2</th>\n",
       "      <th>3</th>\n",
       "      <th>4</th>\n",
       "    </tr>\n",
       "  </thead>\n",
       "  <tbody>\n",
       "    <tr>\n",
       "      <td>network_key</td>\n",
       "      <td>340298234694711661</td>\n",
       "      <td>15967697370209441848</td>\n",
       "      <td>8344275163890935531</td>\n",
       "      <td>17455670536690040679</td>\n",
       "      <td>3447722192060392118</td>\n",
       "    </tr>\n",
       "    <tr>\n",
       "      <td>ip_type</td>\n",
       "      <td>ip4</td>\n",
       "      <td>ip4</td>\n",
       "      <td>ip4</td>\n",
       "      <td>ip4</td>\n",
       "      <td>ip4</td>\n",
       "    </tr>\n",
       "    <tr>\n",
       "      <td>network</td>\n",
       "      <td>2.56.9.245/32</td>\n",
       "      <td>2.56.9.246/32</td>\n",
       "      <td>2.56.9.247/32</td>\n",
       "      <td>2.56.9.248/32</td>\n",
       "      <td>2.56.20.0/22</td>\n",
       "    </tr>\n",
       "    <tr>\n",
       "      <td>geoname_id</td>\n",
       "      <td>5.12858e+06</td>\n",
       "      <td>4.8874e+06</td>\n",
       "      <td>4.69907e+06</td>\n",
       "      <td>5.36836e+06</td>\n",
       "      <td>5.80984e+06</td>\n",
       "    </tr>\n",
       "    <tr>\n",
       "      <td>postal_code</td>\n",
       "      <td>10004</td>\n",
       "      <td>60602</td>\n",
       "      <td>77002</td>\n",
       "      <td>90009</td>\n",
       "      <td>98168</td>\n",
       "    </tr>\n",
       "    <tr>\n",
       "      <td>latitude</td>\n",
       "      <td>40.7145</td>\n",
       "      <td>41.8483</td>\n",
       "      <td>29.772</td>\n",
       "      <td>34.0544</td>\n",
       "      <td>47.4902</td>\n",
       "    </tr>\n",
       "    <tr>\n",
       "      <td>longitude</td>\n",
       "      <td>-74.0029</td>\n",
       "      <td>-87.6517</td>\n",
       "      <td>-95.3644</td>\n",
       "      <td>-118.244</td>\n",
       "      <td>-122.3</td>\n",
       "    </tr>\n",
       "    <tr>\n",
       "      <td>country_iso_code</td>\n",
       "      <td>US</td>\n",
       "      <td>US</td>\n",
       "      <td>US</td>\n",
       "      <td>US</td>\n",
       "      <td>US</td>\n",
       "    </tr>\n",
       "    <tr>\n",
       "      <td>country</td>\n",
       "      <td>United States</td>\n",
       "      <td>United States</td>\n",
       "      <td>United States</td>\n",
       "      <td>United States</td>\n",
       "      <td>United States</td>\n",
       "    </tr>\n",
       "    <tr>\n",
       "      <td>state_iso_code</td>\n",
       "      <td>NY</td>\n",
       "      <td>IL</td>\n",
       "      <td>TX</td>\n",
       "      <td>CA</td>\n",
       "      <td>WA</td>\n",
       "    </tr>\n",
       "    <tr>\n",
       "      <td>state</td>\n",
       "      <td>New York</td>\n",
       "      <td>Illinois</td>\n",
       "      <td>Texas</td>\n",
       "      <td>California</td>\n",
       "      <td>Washington</td>\n",
       "    </tr>\n",
       "    <tr>\n",
       "      <td>city</td>\n",
       "      <td>New York</td>\n",
       "      <td>Chicago</td>\n",
       "      <td>Houston</td>\n",
       "      <td>Los Angeles</td>\n",
       "      <td>Seattle</td>\n",
       "    </tr>\n",
       "    <tr>\n",
       "      <td>time_zone</td>\n",
       "      <td>America/New_York</td>\n",
       "      <td>America/Chicago</td>\n",
       "      <td>America/Chicago</td>\n",
       "      <td>America/Los_Angeles</td>\n",
       "      <td>America/Los_Angeles</td>\n",
       "    </tr>\n",
       "    <tr>\n",
       "      <td>geo_id</td>\n",
       "      <td>8600000US10004</td>\n",
       "      <td>8600000US60602</td>\n",
       "      <td>8600000US77002</td>\n",
       "      <td>NaN</td>\n",
       "      <td>8600000US98168</td>\n",
       "    </tr>\n",
       "    <tr>\n",
       "      <td>occup_housing_units</td>\n",
       "      <td>1587</td>\n",
       "      <td>596</td>\n",
       "      <td>3295</td>\n",
       "      <td>NaN</td>\n",
       "      <td>11236</td>\n",
       "    </tr>\n",
       "    <tr>\n",
       "      <td>median_household_income</td>\n",
       "      <td>140450</td>\n",
       "      <td>115774</td>\n",
       "      <td>72306</td>\n",
       "      <td>NaN</td>\n",
       "      <td>53992</td>\n",
       "    </tr>\n",
       "    <tr>\n",
       "      <td>median_household_costs</td>\n",
       "      <td>3097</td>\n",
       "      <td>2558</td>\n",
       "      <td>1439</td>\n",
       "      <td>NaN</td>\n",
       "      <td>1250</td>\n",
       "    </tr>\n",
       "  </tbody>\n",
       "</table>\n",
       "</div>"
      ],
      "text/plain": [
       "                                          0                     1  \\\n",
       "network_key              340298234694711661  15967697370209441848   \n",
       "ip_type                                 ip4                   ip4   \n",
       "network                       2.56.9.245/32         2.56.9.246/32   \n",
       "geoname_id                      5.12858e+06            4.8874e+06   \n",
       "postal_code                           10004                 60602   \n",
       "latitude                            40.7145               41.8483   \n",
       "longitude                          -74.0029              -87.6517   \n",
       "country_iso_code                         US                    US   \n",
       "country                       United States         United States   \n",
       "state_iso_code                           NY                    IL   \n",
       "state                              New York              Illinois   \n",
       "city                               New York               Chicago   \n",
       "time_zone                  America/New_York       America/Chicago   \n",
       "geo_id                       8600000US10004        8600000US60602   \n",
       "occup_housing_units                    1587                   596   \n",
       "median_household_income              140450                115774   \n",
       "median_household_costs                 3097                  2558   \n",
       "\n",
       "                                           2                     3  \\\n",
       "network_key              8344275163890935531  17455670536690040679   \n",
       "ip_type                                  ip4                   ip4   \n",
       "network                        2.56.9.247/32         2.56.9.248/32   \n",
       "geoname_id                       4.69907e+06           5.36836e+06   \n",
       "postal_code                            77002                 90009   \n",
       "latitude                              29.772               34.0544   \n",
       "longitude                           -95.3644              -118.244   \n",
       "country_iso_code                          US                    US   \n",
       "country                        United States         United States   \n",
       "state_iso_code                            TX                    CA   \n",
       "state                                  Texas            California   \n",
       "city                                 Houston           Los Angeles   \n",
       "time_zone                    America/Chicago   America/Los_Angeles   \n",
       "geo_id                        8600000US77002                   NaN   \n",
       "occup_housing_units                     3295                   NaN   \n",
       "median_household_income                72306                   NaN   \n",
       "median_household_costs                  1439                   NaN   \n",
       "\n",
       "                                           4  \n",
       "network_key              3447722192060392118  \n",
       "ip_type                                  ip4  \n",
       "network                         2.56.20.0/22  \n",
       "geoname_id                       5.80984e+06  \n",
       "postal_code                            98168  \n",
       "latitude                             47.4902  \n",
       "longitude                             -122.3  \n",
       "country_iso_code                          US  \n",
       "country                        United States  \n",
       "state_iso_code                            WA  \n",
       "state                             Washington  \n",
       "city                                 Seattle  \n",
       "time_zone                America/Los_Angeles  \n",
       "geo_id                        8600000US98168  \n",
       "occup_housing_units                    11236  \n",
       "median_household_income                53992  \n",
       "median_household_costs                  1250  "
      ]
     },
     "execution_count": 5,
     "metadata": {},
     "output_type": "execute_result"
    }
   ],
   "source": [
    "df.head().T"
   ]
  },
  {
   "cell_type": "markdown",
   "metadata": {},
   "source": [
    "## Examine output files"
   ]
  },
  {
   "cell_type": "code",
   "execution_count": 27,
   "metadata": {},
   "outputs": [],
   "source": [
    "cfg = CONFIG['demographics']\n",
    "indir = Path(cfg['demographics_d'])\n",
    "DATA = pd.read_parquet(indir / \"{}.parquet\".format(cfg['subnet2inc_filename']))"
   ]
  },
  {
   "cell_type": "code",
   "execution_count": 26,
   "metadata": {},
   "outputs": [
    {
     "data": {
      "text/plain": [
       "['network',\n",
       " 'geoname_id',\n",
       " 'postal_code',\n",
       " 'latitude',\n",
       " 'longitude',\n",
       " 'country_iso_code',\n",
       " 'country',\n",
       " 'state_iso_code',\n",
       " 'state',\n",
       " 'city',\n",
       " 'time_zone',\n",
       " 'geo_id',\n",
       " 'occup_housing_units',\n",
       " 'median_household_income',\n",
       " 'median_household_costs',\n",
       " 'network_key',\n",
       " 'network_type']"
      ]
     },
     "execution_count": 26,
     "metadata": {},
     "output_type": "execute_result"
    }
   ],
   "source": [
    "list(DATA.columns)"
   ]
  },
  {
   "cell_type": "code",
   "execution_count": null,
   "metadata": {},
   "outputs": [],
   "source": []
  }
 ],
 "metadata": {
  "kernelspec": {
   "display_name": "Python 3",
   "language": "python",
   "name": "python3"
  },
  "language_info": {
   "codemirror_mode": {
    "name": "ipython",
    "version": 3
   },
   "file_extension": ".py",
   "mimetype": "text/x-python",
   "name": "python",
   "nbconvert_exporter": "python",
   "pygments_lexer": "ipython3",
   "version": "3.7.4"
  }
 },
 "nbformat": 4,
 "nbformat_minor": 4
}
