{
 "cells": [
  {
   "cell_type": "code",
   "execution_count": 16,
   "metadata": {},
   "outputs": [],
   "source": [
    "%reload_ext autoreload\n",
    "%autoreload 2"
   ]
  },
  {
   "cell_type": "code",
   "execution_count": 17,
   "metadata": {},
   "outputs": [],
   "source": [
    "from test_extract_file_lists import test_get_config\n",
    "import numpy as np\n",
    "import pandas as pd\n",
    "from pandas_summary import DataFrameSummary\n",
    "from toolz import concatv\n",
    "from pathlib import Path\n",
    "from nbc_analysis.utils.debug_utils import runit\n",
    "\n",
    "from nbc_analysis import size_batches\n",
    "\n",
    "%matplotlib inline"
   ]
  },
  {
   "cell_type": "code",
   "execution_count": 18,
   "metadata": {},
   "outputs": [
    {
     "name": "stdout",
     "output_type": "stream",
     "text": [
      ">> created example config file '/Users/wmcabee/.config/nbc_analysis/config_example.yaml'\n",
      ">> Using default config\n"
     ]
    },
    {
     "data": {
      "text/plain": [
       "{'VIDEO_END_BUCKET': 'nbc-event',\n",
       " 'BATCHES_D': '/Users/wmcabee/DATA/NBC2/batches',\n",
       " 'FILE_LISTS_D': '/Users/wmcabee/DATA/NBC2/file_lists',\n",
       " 'BATCH_SPEC_D': '/Users/wmcabee/DATA/NBC2/batch_spec',\n",
       " 'PARTITIONS_D': '/Users/wmcabee/DATA/NBC2/partitions',\n",
       " 'BATCH_SIZE': 200000000,\n",
       " 'DAYS_LIMIT': 7,\n",
       " 'BATCH_LIMIT': 2,\n",
       " 'BATCH_FILES_LIMIT': 2}"
      ]
     },
     "execution_count": 18,
     "metadata": {},
     "output_type": "execute_result"
    }
   ],
   "source": [
    "CONFIG_F = 'default'\n",
    "config= runit(test_get_config)\n",
    "config"
   ]
  },
  {
   "cell_type": "code",
   "execution_count": 19,
   "metadata": {},
   "outputs": [
    {
     "name": "stdout",
     "output_type": "stream",
     "text": [
      ">> created example config file '/Users/wmcabee/.config/nbc_analysis/config_example.yaml'\n",
      ">> Using default config\n",
      ">> wrote outfile=/Users/wmcabee/DATA/NBC2/batch_spec/batch_to_file.csv,cnt=59803\n",
      ">> wrote outfile=/Users/wmcabee/DATA/NBC2/batch_spec/batches.csv,cnt=129\n"
     ]
    }
   ],
   "source": [
    "df = runit(size_batches,config_f=CONFIG_F)"
   ]
  },
  {
   "cell_type": "code",
   "execution_count": 5,
   "metadata": {},
   "outputs": [
    {
     "data": {
      "text/html": [
       "<div>\n",
       "<style scoped>\n",
       "    .dataframe tbody tr th:only-of-type {\n",
       "        vertical-align: middle;\n",
       "    }\n",
       "\n",
       "    .dataframe tbody tr th {\n",
       "        vertical-align: top;\n",
       "    }\n",
       "\n",
       "    .dataframe thead th {\n",
       "        text-align: right;\n",
       "    }\n",
       "</style>\n",
       "<table border=\"1\" class=\"dataframe\">\n",
       "  <thead>\n",
       "    <tr style=\"text-align: right;\">\n",
       "      <th></th>\n",
       "      <th>batch_id</th>\n",
       "      <th>day</th>\n",
       "      <th>batch_num</th>\n",
       "      <th>total_size</th>\n",
       "      <th>file_cnt</th>\n",
       "      <th>file_dt_min</th>\n",
       "    </tr>\n",
       "  </thead>\n",
       "  <tbody>\n",
       "    <tr>\n",
       "      <td>0</td>\n",
       "      <td>ve_20190701_0000</td>\n",
       "      <td>20190701</td>\n",
       "      <td>0</td>\n",
       "      <td>199138234</td>\n",
       "      <td>312</td>\n",
       "      <td>20190701000551509539</td>\n",
       "    </tr>\n",
       "    <tr>\n",
       "      <td>1</td>\n",
       "      <td>ve_20190701_0001</td>\n",
       "      <td>20190701</td>\n",
       "      <td>1</td>\n",
       "      <td>199611181</td>\n",
       "      <td>275</td>\n",
       "      <td>20190701005923727056</td>\n",
       "    </tr>\n",
       "    <tr>\n",
       "      <td>2</td>\n",
       "      <td>ve_20190701_0002</td>\n",
       "      <td>20190701</td>\n",
       "      <td>2</td>\n",
       "      <td>200872141</td>\n",
       "      <td>262</td>\n",
       "      <td>20190701014555640922</td>\n",
       "    </tr>\n",
       "    <tr>\n",
       "      <td>3</td>\n",
       "      <td>ve_20190701_0003</td>\n",
       "      <td>20190701</td>\n",
       "      <td>3</td>\n",
       "      <td>198791066</td>\n",
       "      <td>265</td>\n",
       "      <td>20190701023102558073</td>\n",
       "    </tr>\n",
       "    <tr>\n",
       "      <td>4</td>\n",
       "      <td>ve_20190701_0004</td>\n",
       "      <td>20190701</td>\n",
       "      <td>4</td>\n",
       "      <td>200790545</td>\n",
       "      <td>295</td>\n",
       "      <td>20190701031601226082</td>\n",
       "    </tr>\n",
       "  </tbody>\n",
       "</table>\n",
       "</div>"
      ],
      "text/plain": [
       "           batch_id       day  batch_num  total_size  file_cnt  \\\n",
       "0  ve_20190701_0000  20190701          0   199138234       312   \n",
       "1  ve_20190701_0001  20190701          1   199611181       275   \n",
       "2  ve_20190701_0002  20190701          2   200872141       262   \n",
       "3  ve_20190701_0003  20190701          3   198791066       265   \n",
       "4  ve_20190701_0004  20190701          4   200790545       295   \n",
       "\n",
       "            file_dt_min  \n",
       "0  20190701000551509539  \n",
       "1  20190701005923727056  \n",
       "2  20190701014555640922  \n",
       "3  20190701023102558073  \n",
       "4  20190701031601226082  "
      ]
     },
     "execution_count": 5,
     "metadata": {},
     "output_type": "execute_result"
    }
   ],
   "source": [
    "df.head()"
   ]
  },
  {
   "cell_type": "code",
   "execution_count": 6,
   "metadata": {},
   "outputs": [
    {
     "data": {
      "text/html": [
       "<div>\n",
       "<style scoped>\n",
       "    .dataframe tbody tr th:only-of-type {\n",
       "        vertical-align: middle;\n",
       "    }\n",
       "\n",
       "    .dataframe tbody tr th {\n",
       "        vertical-align: top;\n",
       "    }\n",
       "\n",
       "    .dataframe thead th {\n",
       "        text-align: right;\n",
       "    }\n",
       "</style>\n",
       "<table border=\"1\" class=\"dataframe\">\n",
       "  <thead>\n",
       "    <tr style=\"text-align: right;\">\n",
       "      <th></th>\n",
       "      <th>counts</th>\n",
       "      <th>uniques</th>\n",
       "      <th>missing</th>\n",
       "      <th>missing_perc</th>\n",
       "      <th>types</th>\n",
       "    </tr>\n",
       "  </thead>\n",
       "  <tbody>\n",
       "    <tr>\n",
       "      <td>batch_id</td>\n",
       "      <td>129</td>\n",
       "      <td>129</td>\n",
       "      <td>0</td>\n",
       "      <td>0%</td>\n",
       "      <td>unique</td>\n",
       "    </tr>\n",
       "    <tr>\n",
       "      <td>day</td>\n",
       "      <td>129</td>\n",
       "      <td>7</td>\n",
       "      <td>0</td>\n",
       "      <td>0%</td>\n",
       "      <td>numeric</td>\n",
       "    </tr>\n",
       "    <tr>\n",
       "      <td>batch_num</td>\n",
       "      <td>129</td>\n",
       "      <td>21</td>\n",
       "      <td>0</td>\n",
       "      <td>0%</td>\n",
       "      <td>numeric</td>\n",
       "    </tr>\n",
       "    <tr>\n",
       "      <td>total_size</td>\n",
       "      <td>129</td>\n",
       "      <td>129</td>\n",
       "      <td>0</td>\n",
       "      <td>0%</td>\n",
       "      <td>numeric</td>\n",
       "    </tr>\n",
       "    <tr>\n",
       "      <td>file_cnt</td>\n",
       "      <td>129</td>\n",
       "      <td>113</td>\n",
       "      <td>0</td>\n",
       "      <td>0%</td>\n",
       "      <td>numeric</td>\n",
       "    </tr>\n",
       "    <tr>\n",
       "      <td>file_dt_min</td>\n",
       "      <td>129</td>\n",
       "      <td>129</td>\n",
       "      <td>0</td>\n",
       "      <td>0%</td>\n",
       "      <td>unique</td>\n",
       "    </tr>\n",
       "  </tbody>\n",
       "</table>\n",
       "</div>"
      ],
      "text/plain": [
       "            counts uniques missing missing_perc    types\n",
       "batch_id       129     129       0           0%   unique\n",
       "day            129       7       0           0%  numeric\n",
       "batch_num      129      21       0           0%  numeric\n",
       "total_size     129     129       0           0%  numeric\n",
       "file_cnt       129     113       0           0%  numeric\n",
       "file_dt_min    129     129       0           0%   unique"
      ]
     },
     "execution_count": 6,
     "metadata": {},
     "output_type": "execute_result"
    }
   ],
   "source": [
    "dfs = DataFrameSummary(df)\n",
    "dfs.columns_stats.T"
   ]
  },
  {
   "cell_type": "code",
   "execution_count": 15,
   "metadata": {},
   "outputs": [
    {
     "data": {
      "text/plain": [
       "mean                         463.589\n",
       "std                          241.764\n",
       "variance                     58449.7\n",
       "min                               41\n",
       "max                             1379\n",
       "mode                             393\n",
       "5%                             236.8\n",
       "25%                              317\n",
       "50%                              399\n",
       "75%                              504\n",
       "95%                           1054.6\n",
       "iqr                              187\n",
       "kurtosis                     3.07222\n",
       "skewness                      1.7395\n",
       "sum                            59803\n",
       "mad                          167.461\n",
       "cv                          0.521504\n",
       "zeros_num                          0\n",
       "zeros_perc                        0%\n",
       "deviating_of_mean                  3\n",
       "deviating_of_mean_perc         2.33%\n",
       "deviating_of_median               10\n",
       "deviating_of_median_perc       7.75%\n",
       "top_correlations                    \n",
       "counts                           129\n",
       "uniques                          113\n",
       "missing                            0\n",
       "missing_perc                      0%\n",
       "types                        numeric\n",
       "Name: file_cnt, dtype: object"
      ]
     },
     "execution_count": 15,
     "metadata": {},
     "output_type": "execute_result"
    },
    {
     "data": {
      "image/png": "[encoded data removed]",
      "text/plain": [
       "<Figure size 432x288 with 1 Axes>"
      ]
     },
     "metadata": {
      "needs_background": "light"
     },
     "output_type": "display_data"
    }
   ],
   "source": [
    "dfs['file_cnt']"
   ]
  },
  {
   "cell_type": "code",
   "execution_count": null,
   "metadata": {},
   "outputs": [],
   "source": []
  }
 ],
 "metadata": {
  "kernelspec": {
   "display_name": "Python 3",
   "language": "python",
   "name": "python3"
  },
  "language_info": {
   "codemirror_mode": {
    "name": "ipython",
    "version": 3
   },
   "file_extension": ".py",
   "mimetype": "text/x-python",
   "name": "python",
   "nbconvert_exporter": "python",
   "pygments_lexer": "ipython3",
   "version": "3.7.4"
  }
 },
 "nbformat": 4,
 "nbformat_minor": 4
}
