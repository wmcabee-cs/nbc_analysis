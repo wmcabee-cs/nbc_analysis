{
 "cells": [
  {
   "cell_type": "code",
   "execution_count": 45,
   "metadata": {},
   "outputs": [],
   "source": [
    "%reload_ext autoreload\n",
    "%autoreload 2"
   ]
  },
  {
   "cell_type": "code",
   "execution_count": 75,
   "metadata": {},
   "outputs": [],
   "source": [
    "from test_extract_file_lists import test_get_config\n",
    "import numpy as np\n",
    "import pandas as pd\n",
    "from pandas_summary import DataFrameSummary\n",
    "from toolz import concatv\n",
    "from pathlib import Path\n",
    "from nbc_analysis.utils.debug_utils import runit\n",
    "\n",
    "from nbc_analysis import size_batches"
   ]
  },
  {
   "cell_type": "code",
   "execution_count": 76,
   "metadata": {},
   "outputs": [
    {
     "name": "stdout",
     "output_type": "stream",
     "text": [
      ">> created example config file '/Users/wmcabee/.config/nbc_analysis/config_example.yaml'\n",
      ">> Using default config\n"
     ]
    },
    {
     "data": {
      "text/plain": [
       "{'VIDEO_END_BUCKET': 'nbc-event',\n",
       " 'EVENT_BATCHES_D': '/Users/wmcabee/DATA/NBC2/batches',\n",
       " 'FILE_LISTS_D': '/Users/wmcabee/DATA/NBC2/file_lists',\n",
       " 'BATCH_SPEC_D': '/Users/wmcabee/DATA/NBC2/batch_spec',\n",
       " 'PARTITIONS_D': '/Users/wmcabee/DATA/NBC2/partitions',\n",
       " 'BATCH_SIZE': 200000000,\n",
       " 'DAYS_LIMIT': 7}"
      ]
     },
     "execution_count": 76,
     "metadata": {},
     "output_type": "execute_result"
    }
   ],
   "source": [
    "CONFIG_F = 'default'\n",
    "config= runit(test_get_config)\n",
    "config"
   ]
  },
  {
   "cell_type": "code",
   "execution_count": 98,
   "metadata": {},
   "outputs": [
    {
     "name": "stdout",
     "output_type": "stream",
     "text": [
      ">> created example config file '/Users/wmcabee/.config/nbc_analysis/config_example.yaml'\n",
      ">> Using default config\n",
      ">> wrote outfile=/Users/wmcabee/DATA/NBC2/batch_spec/batch_to_file.csv,cnt=59803\n",
      ">> wrote outfile=/Users/wmcabee/DATA/NBC2/batch_spec/batches.csv,cnt=129\n"
     ]
    }
   ],
   "source": [
    "df = runit(proc_file_list,config_f=CONFIG_F)\n",
    "\n"
   ]
  },
  {
   "cell_type": "code",
   "execution_count": 99,
   "metadata": {},
   "outputs": [
    {
     "data": {
      "text/html": [
       "<div>\n",
       "<style scoped>\n",
       "    .dataframe tbody tr th:only-of-type {\n",
       "        vertical-align: middle;\n",
       "    }\n",
       "\n",
       "    .dataframe tbody tr th {\n",
       "        vertical-align: top;\n",
       "    }\n",
       "\n",
       "    .dataframe thead th {\n",
       "        text-align: right;\n",
       "    }\n",
       "</style>\n",
       "<table border=\"1\" class=\"dataframe\">\n",
       "  <thead>\n",
       "    <tr style=\"text-align: right;\">\n",
       "      <th></th>\n",
       "      <th>batch_id</th>\n",
       "      <th>day</th>\n",
       "      <th>batch_num</th>\n",
       "      <th>total_size</th>\n",
       "      <th>file_cnt</th>\n",
       "      <th>file_dt_min</th>\n",
       "    </tr>\n",
       "  </thead>\n",
       "  <tbody>\n",
       "    <tr>\n",
       "      <td>0</td>\n",
       "      <td>ve_20190701_0000</td>\n",
       "      <td>20190701</td>\n",
       "      <td>0</td>\n",
       "      <td>199138234</td>\n",
       "      <td>312</td>\n",
       "      <td>20190701000551509539</td>\n",
       "    </tr>\n",
       "    <tr>\n",
       "      <td>1</td>\n",
       "      <td>ve_20190701_0001</td>\n",
       "      <td>20190701</td>\n",
       "      <td>1</td>\n",
       "      <td>199611181</td>\n",
       "      <td>275</td>\n",
       "      <td>20190701005923727056</td>\n",
       "    </tr>\n",
       "    <tr>\n",
       "      <td>2</td>\n",
       "      <td>ve_20190701_0002</td>\n",
       "      <td>20190701</td>\n",
       "      <td>2</td>\n",
       "      <td>200872141</td>\n",
       "      <td>262</td>\n",
       "      <td>20190701014555640922</td>\n",
       "    </tr>\n",
       "    <tr>\n",
       "      <td>3</td>\n",
       "      <td>ve_20190701_0003</td>\n",
       "      <td>20190701</td>\n",
       "      <td>3</td>\n",
       "      <td>198791066</td>\n",
       "      <td>265</td>\n",
       "      <td>20190701023102558073</td>\n",
       "    </tr>\n",
       "    <tr>\n",
       "      <td>4</td>\n",
       "      <td>ve_20190701_0004</td>\n",
       "      <td>20190701</td>\n",
       "      <td>4</td>\n",
       "      <td>200790545</td>\n",
       "      <td>295</td>\n",
       "      <td>20190701031601226082</td>\n",
       "    </tr>\n",
       "    <tr>\n",
       "      <td>...</td>\n",
       "      <td>...</td>\n",
       "      <td>...</td>\n",
       "      <td>...</td>\n",
       "      <td>...</td>\n",
       "      <td>...</td>\n",
       "      <td>...</td>\n",
       "    </tr>\n",
       "    <tr>\n",
       "      <td>124</td>\n",
       "      <td>ve_20190707_0012</td>\n",
       "      <td>20190707</td>\n",
       "      <td>12</td>\n",
       "      <td>199521393</td>\n",
       "      <td>446</td>\n",
       "      <td>20190707190909183499</td>\n",
       "    </tr>\n",
       "    <tr>\n",
       "      <td>125</td>\n",
       "      <td>ve_20190707_0013</td>\n",
       "      <td>20190707</td>\n",
       "      <td>13</td>\n",
       "      <td>200277705</td>\n",
       "      <td>427</td>\n",
       "      <td>20190707202403839787</td>\n",
       "    </tr>\n",
       "    <tr>\n",
       "      <td>126</td>\n",
       "      <td>ve_20190707_0014</td>\n",
       "      <td>20190707</td>\n",
       "      <td>14</td>\n",
       "      <td>200036418</td>\n",
       "      <td>412</td>\n",
       "      <td>20190707213552239320</td>\n",
       "    </tr>\n",
       "    <tr>\n",
       "      <td>127</td>\n",
       "      <td>ve_20190707_0015</td>\n",
       "      <td>20190707</td>\n",
       "      <td>15</td>\n",
       "      <td>200079775</td>\n",
       "      <td>380</td>\n",
       "      <td>20190707224438870452</td>\n",
       "    </tr>\n",
       "    <tr>\n",
       "      <td>128</td>\n",
       "      <td>ve_20190707_0016</td>\n",
       "      <td>20190707</td>\n",
       "      <td>16</td>\n",
       "      <td>40563371</td>\n",
       "      <td>69</td>\n",
       "      <td>20190707234831890502</td>\n",
       "    </tr>\n",
       "  </tbody>\n",
       "</table>\n",
       "<p>129 rows × 6 columns</p>\n",
       "</div>"
      ],
      "text/plain": [
       "             batch_id       day  batch_num  total_size  file_cnt  \\\n",
       "0    ve_20190701_0000  20190701          0   199138234       312   \n",
       "1    ve_20190701_0001  20190701          1   199611181       275   \n",
       "2    ve_20190701_0002  20190701          2   200872141       262   \n",
       "3    ve_20190701_0003  20190701          3   198791066       265   \n",
       "4    ve_20190701_0004  20190701          4   200790545       295   \n",
       "..                ...       ...        ...         ...       ...   \n",
       "124  ve_20190707_0012  20190707         12   199521393       446   \n",
       "125  ve_20190707_0013  20190707         13   200277705       427   \n",
       "126  ve_20190707_0014  20190707         14   200036418       412   \n",
       "127  ve_20190707_0015  20190707         15   200079775       380   \n",
       "128  ve_20190707_0016  20190707         16    40563371        69   \n",
       "\n",
       "              file_dt_min  \n",
       "0    20190701000551509539  \n",
       "1    20190701005923727056  \n",
       "2    20190701014555640922  \n",
       "3    20190701023102558073  \n",
       "4    20190701031601226082  \n",
       "..                    ...  \n",
       "124  20190707190909183499  \n",
       "125  20190707202403839787  \n",
       "126  20190707213552239320  \n",
       "127  20190707224438870452  \n",
       "128  20190707234831890502  \n",
       "\n",
       "[129 rows x 6 columns]"
      ]
     },
     "execution_count": 99,
     "metadata": {},
     "output_type": "execute_result"
    }
   ],
   "source": [
    "\n",
    "df"
   ]
  },
  {
   "cell_type": "code",
   "execution_count": 52,
   "metadata": {},
   "outputs": [
    {
     "ename": "NameError",
     "evalue": "name 'test_extract_events' is not defined",
     "output_type": "error",
     "traceback": [
      "\u001b[0;31m---------------------------------------------------------------------------\u001b[0m",
      "\u001b[0;31mNameError\u001b[0m                                 Traceback (most recent call last)",
      "\u001b[0;32m<ipython-input-52-5620f217ff16>\u001b[0m in \u001b[0;36m<module>\u001b[0;34m\u001b[0m\n\u001b[0;32m----> 1\u001b[0;31m \u001b[0mret\u001b[0m \u001b[0;34m=\u001b[0m \u001b[0mrunit\u001b[0m\u001b[0;34m(\u001b[0m\u001b[0mtest_extract_events\u001b[0m\u001b[0;34m,\u001b[0m \u001b[0mday\u001b[0m\u001b[0;34m=\u001b[0m\u001b[0mday\u001b[0m\u001b[0;34m)\u001b[0m\u001b[0;34m\u001b[0m\u001b[0;34m\u001b[0m\u001b[0m\n\u001b[0m\u001b[1;32m      2\u001b[0m \u001b[0mret\u001b[0m\u001b[0;34m\u001b[0m\u001b[0;34m\u001b[0m\u001b[0m\n",
      "\u001b[0;31mNameError\u001b[0m: name 'test_extract_events' is not defined"
     ]
    }
   ],
   "source": [
    "#ret = runit(test_extract_events, day=day)\n",
    "#ret"
   ]
  },
  {
   "cell_type": "code",
   "execution_count": 59,
   "metadata": {},
   "outputs": [
    {
     "data": {
      "text/html": [
       "<div>\n",
       "<style scoped>\n",
       "    .dataframe tbody tr th:only-of-type {\n",
       "        vertical-align: middle;\n",
       "    }\n",
       "\n",
       "    .dataframe tbody tr th {\n",
       "        vertical-align: top;\n",
       "    }\n",
       "\n",
       "    .dataframe thead th {\n",
       "        text-align: right;\n",
       "    }\n",
       "</style>\n",
       "<table border=\"1\" class=\"dataframe\">\n",
       "  <thead>\n",
       "    <tr style=\"text-align: right;\">\n",
       "      <th></th>\n",
       "      <th>counts</th>\n",
       "      <th>uniques</th>\n",
       "      <th>missing</th>\n",
       "      <th>missing_perc</th>\n",
       "      <th>types</th>\n",
       "    </tr>\n",
       "  </thead>\n",
       "  <tbody>\n",
       "    <tr>\n",
       "      <td>order_idx</td>\n",
       "      <td>59803</td>\n",
       "      <td>8590</td>\n",
       "      <td>0</td>\n",
       "      <td>0%</td>\n",
       "      <td>numeric</td>\n",
       "    </tr>\n",
       "    <tr>\n",
       "      <td>file</td>\n",
       "      <td>59803</td>\n",
       "      <td>59803</td>\n",
       "      <td>0</td>\n",
       "      <td>0%</td>\n",
       "      <td>unique</td>\n",
       "    </tr>\n",
       "    <tr>\n",
       "      <td>size</td>\n",
       "      <td>59803</td>\n",
       "      <td>57467</td>\n",
       "      <td>0</td>\n",
       "      <td>0%</td>\n",
       "      <td>numeric</td>\n",
       "    </tr>\n",
       "    <tr>\n",
       "      <td>pattern_type</td>\n",
       "      <td>59803</td>\n",
       "      <td>3</td>\n",
       "      <td>0</td>\n",
       "      <td>0%</td>\n",
       "      <td>categorical</td>\n",
       "    </tr>\n",
       "    <tr>\n",
       "      <td>file_dt</td>\n",
       "      <td>59803</td>\n",
       "      <td>59803</td>\n",
       "      <td>0</td>\n",
       "      <td>0%</td>\n",
       "      <td>unique</td>\n",
       "    </tr>\n",
       "    <tr>\n",
       "      <td>day</td>\n",
       "      <td>59803</td>\n",
       "      <td>7</td>\n",
       "      <td>0</td>\n",
       "      <td>0%</td>\n",
       "      <td>numeric</td>\n",
       "    </tr>\n",
       "    <tr>\n",
       "      <td>asof_dt</td>\n",
       "      <td>59803</td>\n",
       "      <td>7</td>\n",
       "      <td>0</td>\n",
       "      <td>0%</td>\n",
       "      <td>categorical</td>\n",
       "    </tr>\n",
       "    <tr>\n",
       "      <td>batch_num</td>\n",
       "      <td>59803</td>\n",
       "      <td>21</td>\n",
       "      <td>0</td>\n",
       "      <td>0%</td>\n",
       "      <td>numeric</td>\n",
       "    </tr>\n",
       "    <tr>\n",
       "      <td>batch_id</td>\n",
       "      <td>59803</td>\n",
       "      <td>129</td>\n",
       "      <td>0</td>\n",
       "      <td>0%</td>\n",
       "      <td>categorical</td>\n",
       "    </tr>\n",
       "  </tbody>\n",
       "</table>\n",
       "</div>"
      ],
      "text/plain": [
       "             counts uniques missing missing_perc        types\n",
       "order_idx     59803    8590       0           0%      numeric\n",
       "file          59803   59803       0           0%       unique\n",
       "size          59803   57467       0           0%      numeric\n",
       "pattern_type  59803       3       0           0%  categorical\n",
       "file_dt       59803   59803       0           0%       unique\n",
       "day           59803       7       0           0%      numeric\n",
       "asof_dt       59803       7       0           0%  categorical\n",
       "batch_num     59803      21       0           0%      numeric\n",
       "batch_id      59803     129       0           0%  categorical"
      ]
     },
     "execution_count": 59,
     "metadata": {},
     "output_type": "execute_result"
    }
   ],
   "source": [
    "dfs = DataFrameSummary(df)\n",
    "dfs.columns_stats.T"
   ]
  },
  {
   "cell_type": "code",
   "execution_count": 62,
   "metadata": {},
   "outputs": [
    {
     "data": {
      "text/plain": [
       "20190707    8590\n",
       "20190706    8586\n",
       "20190704    8571\n",
       "20190705    8557\n",
       "20190703    8548\n",
       "20190702    8548\n",
       "20190701    8403\n",
       "Name: day, dtype: int64"
      ]
     },
     "execution_count": 62,
     "metadata": {},
     "output_type": "execute_result"
    }
   ],
   "source": [
    "df.day.value_counts()"
   ]
  },
  {
   "cell_type": "code",
   "execution_count": null,
   "metadata": {},
   "outputs": [],
   "source": []
  }
 ],
 "metadata": {
  "kernelspec": {
   "display_name": "Python 3",
   "language": "python",
   "name": "python3"
  },
  "language_info": {
   "codemirror_mode": {
    "name": "ipython",
    "version": 3
   },
   "file_extension": ".py",
   "mimetype": "text/x-python",
   "name": "python",
   "nbconvert_exporter": "python",
   "pygments_lexer": "ipython3",
   "version": "3.7.4"
  }
 },
 "nbformat": 4,
 "nbformat_minor": 4
}
