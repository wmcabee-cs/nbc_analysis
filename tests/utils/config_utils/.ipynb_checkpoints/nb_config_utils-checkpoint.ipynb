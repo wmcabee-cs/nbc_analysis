{
 "cells": [
  {
   "cell_type": "code",
   "execution_count": 38,
   "metadata": {},
   "outputs": [],
   "source": [
    "%reload_ext autoreload\n",
    "%autoreload 2"
   ]
  },
  {
   "cell_type": "code",
   "execution_count": 39,
   "metadata": {},
   "outputs": [],
   "source": [
    "from nbc_analysis.utils.config_utils import get_config, get_run_config\n",
    "from nbc_analysis.utils.debug_utils import runit"
   ]
  },
  {
   "cell_type": "code",
   "execution_count": 40,
   "metadata": {},
   "outputs": [
    {
     "name": "stdout",
     "output_type": "stream",
     "text": [
      ">> loaded config '/Users/wmcabee/.config/nbc_analysis/config.yaml'\n"
     ]
    },
    {
     "data": {
      "text/plain": [
       "{'CALENDAR_D': '/Users/wmcabee/DATA/NBC2/calendar',\n",
       " 'ANALYSIS_D': '/Users/wmcabee/DATA/NBC2/ana',\n",
       " 'RUNS_D': '/Users/wmcabee/DATA/NBC2/runs',\n",
       " 'WORK_D': '/Users/wmcabee/DATA/NBC2/work',\n",
       " 'VIDEO_END_BUCKET': 'nbc-event',\n",
       " 'VIDEO_END_PARTITIONS_BUCKET': 'nbc-partitions-video-end',\n",
       " 'BATCH_SIZE': 200000000,\n",
       " 'GEOLITE2_DB': '/Users/wmcabee/_NBC/datasets/GeoLite2-City_20191001/GeoLite2-City.mmdb',\n",
       " 'VIEWER_PARTITION_NUM': 60,\n",
       " 'RUN_ID': 'r_testrun'}"
      ]
     },
     "execution_count": 40,
     "metadata": {},
     "output_type": "execute_result"
    }
   ],
   "source": [
    "config = runit(get_config)\n",
    "dx"
   ]
  },
  {
   "cell_type": "code",
   "execution_count": 41,
   "metadata": {},
   "outputs": [
    {
     "name": "stdout",
     "output_type": "stream",
     "text": [
      ">> Using default config\n",
      ">> loaded config '/Users/wmcabee/DATA/NBC2/runs/r_testrun/run_config.yaml'\n"
     ]
    }
   ],
   "source": [
    "dx = runit(get_run_config, config='default', run='r_testrun')"
   ]
  },
  {
   "cell_type": "code",
   "execution_count": 42,
   "metadata": {},
   "outputs": [
    {
     "data": {
      "text/plain": [
       "{'CALENDAR_D': '/Users/wmcabee/DATA/NBC2/calendar',\n",
       " 'ANALYSIS_D': '/Users/wmcabee/DATA/NBC2/ana',\n",
       " 'RUNS_D': '/Users/wmcabee/DATA/NBC2/runs',\n",
       " 'WORK_D': '/Users/wmcabee/DATA/NBC2/work',\n",
       " 'VIDEO_END_BUCKET': 'nbc-event',\n",
       " 'VIDEO_END_PARTITIONS_BUCKET': 'nbc-partitions-video-end',\n",
       " 'BATCH_SIZE': 200000000,\n",
       " 'GEOLITE2_DB': '/Users/wmcabee/_NBC/datasets/GeoLite2-City_20191001/GeoLite2-City.mmdb',\n",
       " 'VIEWER_PARTITION_NUM': 60,\n",
       " 'RUN_ID': 'r_testrun',\n",
       " 'BATCHES_D': '/Users/wmcabee/DATA/NBC2/runs/r_testrun/batches',\n",
       " 'FILE_LISTS_D': '/Users/wmcabee/DATA/NBC2/runs/r_testrun/file_lists',\n",
       " 'BATCH_SPEC_D': '/Users/wmcabee/DATA/NBC2/runs/r_testrun/batch_spec'}"
      ]
     },
     "execution_count": 42,
     "metadata": {},
     "output_type": "execute_result"
    }
   ],
   "source": [
    "dx\n"
   ]
  },
  {
   "cell_type": "code",
   "execution_count": null,
   "metadata": {},
   "outputs": [],
   "source": []
  }
 ],
 "metadata": {
  "kernelspec": {
   "display_name": "Python 3",
   "language": "python",
   "name": "python3"
  },
  "language_info": {
   "codemirror_mode": {
    "name": "ipython",
    "version": 3
   },
   "file_extension": ".py",
   "mimetype": "text/x-python",
   "name": "python",
   "nbconvert_exporter": "python",
   "pygments_lexer": "ipython3",
   "version": "3.7.4"
  }
 },
 "nbformat": 4,
 "nbformat_minor": 4
}
