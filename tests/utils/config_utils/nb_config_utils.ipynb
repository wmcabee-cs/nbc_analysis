{
 "cells": [
  {
   "cell_type": "code",
   "execution_count": 1,
   "metadata": {},
   "outputs": [],
   "source": [
    "%reload_ext autoreload\n",
    "%autoreload 2"
   ]
  },
  {
   "cell_type": "code",
   "execution_count": 2,
   "metadata": {},
   "outputs": [],
   "source": [
    "from nbc_analysis.utils.config_utils import get_config, get_run_config\n",
    "from nbc_analysis.utils.debug_utils import runit"
   ]
  },
  {
   "cell_type": "code",
   "execution_count": 4,
   "metadata": {},
   "outputs": [
    {
     "data": {
      "text/plain": [
       "{'ANALYSIS_D': '/Users/wmcabee/DATA/NBC/ana',\n",
       " 'BATCH_FILES_LIMIT': 2,\n",
       " 'BATCH_LIMIT': 2,\n",
       " 'BATCH_SIZE': 200000000,\n",
       " 'CALENDAR_D': '/Users/wmcabee/DATA/NBC/calendar',\n",
       " 'CALENDAR_END_DAY_KEY': '20210101',\n",
       " 'CALENDAR_START_DAY_KEY': '20170101',\n",
       " 'GEOLITE2_DB': '/Users/wmcabee/DATA/NBC/datasets/GeoLite2-City_20191001/GeoLite2-City.mmdb',\n",
       " 'LIMIT_FILES_PER_DAY': 2000,\n",
       " 'RUNS_D': '/Users/wmcabee/DATA/NBC/runs',\n",
       " 'VIDEO_END_BUCKET': 'nbc-event',\n",
       " 'VIDEO_END_PARTITIONS_BUCKET': 'nbc-partitions-video-end-protect',\n",
       " 'VIEWER_PARTITION_D': '/Users/wmcabee/DATA/NBC/viewer_partitions',\n",
       " 'WORK_D': '/Users/wmcabee/DATA/NBC/work',\n",
       " 'GEN_PROFILE_SOURCE': 'nbc-partitions-video-end',\n",
       " 'MERGE_LIMIT': 2,\n",
       " 'PROFILE_PER_WEEK_LIMIT': 1000,\n",
       " 'VIEWER_SOURCE_BUCKET': 'nbc-events-partitioned',\n",
       " 'VIEWER_PARTITION_COUNT': 60}"
      ]
     },
     "execution_count": 4,
     "metadata": {},
     "output_type": "execute_result"
    }
   ],
   "source": [
    "config = runit(get_config)\n",
    "config"
   ]
  },
  {
   "cell_type": "code",
   "execution_count": 41,
   "metadata": {},
   "outputs": [
    {
     "name": "stdout",
     "output_type": "stream",
     "text": [
      ">> Using default config\n",
      ">> loaded config '/Users/wmcabee/DATA/NBC2/runs/r_testrun/run_config.yaml'\n"
     ]
    }
   ],
   "source": [
    "dx = runit(get_run_config, config='default', run='r_testrun')"
   ]
  },
  {
   "cell_type": "code",
   "execution_count": 42,
   "metadata": {},
   "outputs": [
    {
     "data": {
      "text/plain": [
       "{'CALENDAR_D': '/Users/wmcabee/DATA/NBC2/calendar',\n",
       " 'ANALYSIS_D': '/Users/wmcabee/DATA/NBC2/ana',\n",
       " 'RUNS_D': '/Users/wmcabee/DATA/NBC2/runs',\n",
       " 'WORK_D': '/Users/wmcabee/DATA/NBC2/work',\n",
       " 'VIDEO_END_BUCKET': 'nbc-event',\n",
       " 'VIDEO_END_PARTITIONS_BUCKET': 'nbc-partitions-video-end',\n",
       " 'BATCH_SIZE': 200000000,\n",
       " 'GEOLITE2_DB': '/Users/wmcabee/_NBC/datasets/GeoLite2-City_20191001/GeoLite2-City.mmdb',\n",
       " 'VIEWER_PARTITION_NUM': 60,\n",
       " 'RUN_ID': 'r_testrun',\n",
       " 'BATCHES_D': '/Users/wmcabee/DATA/NBC2/runs/r_testrun/batches',\n",
       " 'FILE_LISTS_D': '/Users/wmcabee/DATA/NBC2/runs/r_testrun/file_lists',\n",
       " 'BATCH_SPEC_D': '/Users/wmcabee/DATA/NBC2/runs/r_testrun/batch_spec'}"
      ]
     },
     "execution_count": 42,
     "metadata": {},
     "output_type": "execute_result"
    }
   ],
   "source": [
    "dx\n"
   ]
  },
  {
   "cell_type": "code",
   "execution_count": null,
   "metadata": {},
   "outputs": [],
   "source": []
  }
 ],
 "metadata": {
  "kernelspec": {
   "display_name": "Python 3",
   "language": "python",
   "name": "python3"
  },
  "language_info": {
   "codemirror_mode": {
    "name": "ipython",
    "version": 3
   },
   "file_extension": ".py",
   "mimetype": "text/x-python",
   "name": "python",
   "nbconvert_exporter": "python",
   "pygments_lexer": "ipython3",
   "version": "3.7.4"
  }
 },
 "nbformat": 4,
 "nbformat_minor": 4
}
