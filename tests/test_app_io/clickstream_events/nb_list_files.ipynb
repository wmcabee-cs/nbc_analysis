{
 "cells": [
  {
   "cell_type": "code",
   "execution_count": 1,
   "metadata": {},
   "outputs": [],
   "source": [
    "%reload_ext autoreload\n",
    "%autoreload 2"
   ]
  },
  {
   "cell_type": "code",
   "execution_count": 2,
   "metadata": {},
   "outputs": [],
   "source": [
    "\n",
    "from pathlib import Path\n",
    "#from test_list_files import test_list_files, _get_config\n",
    "from nbc_analysis.utils.debug_utils import runit\n",
    "from toolz import take, concat, update_in\n",
    "from test_list_files import _get_config, test_list_files\n",
    "\n",
    "from cortex_io.aws.s3 import get_matching_s3_keys, get_matching_s3_keys"
   ]
  },
  {
   "cell_type": "code",
   "execution_count": 3,
   "metadata": {},
   "outputs": [],
   "source": [
    "config = _get_config()"
   ]
  },
  {
   "cell_type": "code",
   "execution_count": 4,
   "metadata": {},
   "outputs": [
    {
     "name": "stderr",
     "output_type": "stream",
     "text": [
      "2019-10-31 09:18:20,987|WARNING|nbc_analysis.utils.func_utils|extract_file_limit set,limit=10\n"
     ]
    },
    {
     "name": "stdout",
     "output_type": "stream",
     "text": [
      "!! stopping run early... None\n"
     ]
    }
   ],
   "source": [
    "ret = runit(test_list_files)"
   ]
  },
  {
   "cell_type": "code",
   "execution_count": 6,
   "metadata": {},
   "outputs": [
    {
     "data": {
      "text/html": [
       "<div>\n",
       "<style scoped>\n",
       "    .dataframe tbody tr th:only-of-type {\n",
       "        vertical-align: middle;\n",
       "    }\n",
       "\n",
       "    .dataframe tbody tr th {\n",
       "        vertical-align: top;\n",
       "    }\n",
       "\n",
       "    .dataframe thead th {\n",
       "        text-align: right;\n",
       "    }\n",
       "</style>\n",
       "<table border=\"1\" class=\"dataframe\">\n",
       "  <thead>\n",
       "    <tr style=\"text-align: right;\">\n",
       "      <th></th>\n",
       "      <th>path</th>\n",
       "      <th>size</th>\n",
       "    </tr>\n",
       "  </thead>\n",
       "  <tbody>\n",
       "    <tr>\n",
       "      <th>0</th>\n",
       "      <td>NBCProd/Web/NBC_App_20190730000102639490_36185...</td>\n",
       "      <td>1962249</td>\n",
       "    </tr>\n",
       "    <tr>\n",
       "      <th>1</th>\n",
       "      <td>NBCProd/Web/NBC_App_20190730000135849550_68430...</td>\n",
       "      <td>1960548</td>\n",
       "    </tr>\n",
       "    <tr>\n",
       "      <th>2</th>\n",
       "      <td>NBCProd/Web/NBC_App_20190730000404619221_30510...</td>\n",
       "      <td>2028149</td>\n",
       "    </tr>\n",
       "    <tr>\n",
       "      <th>3</th>\n",
       "      <td>NBCProd/Web/NBC_App_20190730000421303761_87594...</td>\n",
       "      <td>1894536</td>\n",
       "    </tr>\n",
       "    <tr>\n",
       "      <th>4</th>\n",
       "      <td>NBCProd/Web/NBC_App_20190730000427977250_45389...</td>\n",
       "      <td>2015968</td>\n",
       "    </tr>\n",
       "    <tr>\n",
       "      <th>5</th>\n",
       "      <td>NBCProd/Web/NBC_App_20190730000433046469_00211...</td>\n",
       "      <td>2200666</td>\n",
       "    </tr>\n",
       "    <tr>\n",
       "      <th>6</th>\n",
       "      <td>NBCProd/Web/NBC_App_20190730000556872853_88058...</td>\n",
       "      <td>2408367</td>\n",
       "    </tr>\n",
       "    <tr>\n",
       "      <th>7</th>\n",
       "      <td>NBCProd/Web/NBC_App_20190730000635551940_40065...</td>\n",
       "      <td>2268916</td>\n",
       "    </tr>\n",
       "    <tr>\n",
       "      <th>8</th>\n",
       "      <td>NBCProd/Web/NBC_App_20190730000907541708_90276...</td>\n",
       "      <td>2054257</td>\n",
       "    </tr>\n",
       "    <tr>\n",
       "      <th>9</th>\n",
       "      <td>NBCProd/Web/NBC_App_20190730000912897670_28383...</td>\n",
       "      <td>2097423</td>\n",
       "    </tr>\n",
       "  </tbody>\n",
       "</table>\n",
       "</div>"
      ],
      "text/plain": [
       "                                                path     size\n",
       "0  NBCProd/Web/NBC_App_20190730000102639490_36185...  1962249\n",
       "1  NBCProd/Web/NBC_App_20190730000135849550_68430...  1960548\n",
       "2  NBCProd/Web/NBC_App_20190730000404619221_30510...  2028149\n",
       "3  NBCProd/Web/NBC_App_20190730000421303761_87594...  1894536\n",
       "4  NBCProd/Web/NBC_App_20190730000427977250_45389...  2015968\n",
       "5  NBCProd/Web/NBC_App_20190730000433046469_00211...  2200666\n",
       "6  NBCProd/Web/NBC_App_20190730000556872853_88058...  2408367\n",
       "7  NBCProd/Web/NBC_App_20190730000635551940_40065...  2268916\n",
       "8  NBCProd/Web/NBC_App_20190730000907541708_90276...  2054257\n",
       "9  NBCProd/Web/NBC_App_20190730000912897670_28383...  2097423"
      ]
     },
     "execution_count": 6,
     "metadata": {},
     "output_type": "execute_result"
    }
   ],
   "source": [
    "ret"
   ]
  },
  {
   "cell_type": "code",
   "execution_count": 4,
   "metadata": {},
   "outputs": [
    {
     "data": {
      "text/plain": [
       "['nbc-digital-cloned/NBCProd/Android',\n",
       " 'nbc-digital-cloned/NBCProd/Roku',\n",
       " 'nbc-digital-cloned/NBCProd/Web',\n",
       " 'nbc-digital-cloned/NBCProd/iOS',\n",
       " 'nbc-digital-cloned/NBCProd/tvOS']"
      ]
     },
     "execution_count": 4,
     "metadata": {},
     "output_type": "execute_result"
    }
   ],
   "source": [
    "fs = test_list_files()\n",
    "fs.glob('nbc-digital-cloned/NBCProd/*')"
   ]
  },
  {
   "cell_type": "code",
   "execution_count": 5,
   "metadata": {},
   "outputs": [
    {
     "data": {
      "text/plain": [
       "['NBCProd/Web/NBC_App_20190730',\n",
       " 'NBCProd/iOS/NBC_20190730',\n",
       " 'NBCProd/Web/NBC_App_20190731',\n",
       " 'NBCProd/iOS/NBC_20190731']"
      ]
     },
     "execution_count": 5,
     "metadata": {},
     "output_type": "execute_result"
    }
   ],
   "source": [
    "patterns = [\n",
    "        #'NBCProd/Android/NBC_{day}',\n",
    "        #'NBCProd/Roku/NBC_{day}',\n",
    "        'NBCProd/Web/NBC_App_{day}',\n",
    "        'NBCProd/iOS/NBC_{day}',\n",
    "]\n",
    "\n",
    "days_to_process = [ 20190730, 20190731 ] \n",
    "bucket = 'nbc-digital-cloned'\n",
    "\n",
    "reader = (pattern.format(day=day) \n",
    "          for day in days_to_process\n",
    "          for pattern in patterns)\n",
    "list(reader)"
   ]
  },
  {
   "cell_type": "code",
   "execution_count": 103,
   "metadata": {},
   "outputs": [
    {
     "data": {
      "text/plain": [
       "['NBCProd/Web/NBC_App_20190730000102639490_36185.txt.gz',\n",
       " 'NBCProd/Web/NBC_App_20190730000135849550_68430.txt.gz',\n",
       " 'NBCProd/Web/NBC_App_20190730000404619221_30510.txt.gz',\n",
       " 'NBCProd/Web/NBC_App_20190730000421303761_87594.txt.gz',\n",
       " 'NBCProd/Web/NBC_App_20190730000427977250_45389.txt.gz',\n",
       " 'NBCProd/Web/NBC_App_20190730000433046469_00211.txt.gz',\n",
       " 'NBCProd/Web/NBC_App_20190730000556872853_88058.txt.gz',\n",
       " 'NBCProd/Web/NBC_App_20190730000635551940_40065.txt.gz',\n",
       " 'NBCProd/Web/NBC_App_20190730000907541708_90276.txt.gz',\n",
       " 'NBCProd/Web/NBC_App_20190730000912897670_28383.txt.gz']"
      ]
     },
     "execution_count": 103,
     "metadata": {},
     "output_type": "execute_result"
    }
   ],
   "source": [
    "reader = (get_matching_s3_keys(bucket=bucket, prefix=prefix) for prefix in reader)\n",
    "reader = concat(reader)\n",
    "reader = take(10, reader)\n",
    "#reader = (Path(x).name for x in reader)\n",
    "#reader = (x.split('_')[0] for x in reader)\n",
    "list(reader)"
   ]
  },
  {
   "cell_type": "code",
   "execution_count": 101,
   "metadata": {},
   "outputs": [
    {
     "data": {
      "text/plain": [
       "{'NBC'}"
      ]
     },
     "execution_count": 101,
     "metadata": {},
     "output_type": "execute_result"
    }
   ],
   "source": [
    "reader = get_matching_s3_keys(bucket=bucket, prefix='NBCProd/tvOS')\n",
    "reader = take(5000, reader)\n",
    "reader = (Path(x).name for x in reader)\n",
    "reader = (x.split('_')[0] for x in reader)\n",
    "set(reader)\n",
    "#list(reader)"
   ]
  },
  {
   "cell_type": "code",
   "execution_count": 21,
   "metadata": {},
   "outputs": [
    {
     "data": {
      "text/plain": [
       "['nbc-digital-cloned']"
      ]
     },
     "execution_count": 21,
     "metadata": {},
     "output_type": "execute_result"
    }
   ],
   "source": [
    "fs.glob(str(bucket))"
   ]
  },
  {
   "cell_type": "code",
   "execution_count": 18,
   "metadata": {},
   "outputs": [
    {
     "data": {
      "text/plain": [
       "b''"
      ]
     },
     "execution_count": 18,
     "metadata": {},
     "output_type": "execute_result"
    }
   ],
   "source": [
    "fs.glob(str(bucket / 'NBCProd'))"
   ]
  },
  {
   "cell_type": "code",
   "execution_count": 23,
   "metadata": {},
   "outputs": [
    {
     "ename": "TypeError",
     "evalue": "'PageIterator' object is not an iterator",
     "output_type": "error",
     "traceback": [
      "\u001b[0;31m---------------------------------------------------------------------------\u001b[0m",
      "\u001b[0;31mTypeError\u001b[0m                                 Traceback (most recent call last)",
      "\u001b[0;32m<ipython-input-23-709396a5599b>\u001b[0m in \u001b[0;36m<module>\u001b[0;34m\u001b[0m\n\u001b[0;32m----> 1\u001b[0;31m \u001b[0mnext\u001b[0m\u001b[0;34m(\u001b[0m\u001b[0mresult\u001b[0m\u001b[0;34m)\u001b[0m\u001b[0;34m\u001b[0m\u001b[0;34m\u001b[0m\u001b[0m\n\u001b[0m",
      "\u001b[0;31mTypeError\u001b[0m: 'PageIterator' object is not an iterator"
     ]
    }
   ],
   "source": [
    "next(result)"
   ]
  },
  {
   "cell_type": "code",
   "execution_count": null,
   "metadata": {},
   "outputs": [],
   "source": []
  }
 ],
 "metadata": {
  "kernelspec": {
   "display_name": "Python 3",
   "language": "python",
   "name": "python3"
  },
  "language_info": {
   "codemirror_mode": {
    "name": "ipython",
    "version": 3
   },
   "file_extension": ".py",
   "mimetype": "text/x-python",
   "name": "python",
   "nbconvert_exporter": "python",
   "pygments_lexer": "ipython3",
   "version": "3.7.4"
  }
 },
 "nbformat": 4,
 "nbformat_minor": 4
}
