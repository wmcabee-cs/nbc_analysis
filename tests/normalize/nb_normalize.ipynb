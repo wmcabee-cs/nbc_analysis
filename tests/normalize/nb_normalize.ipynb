{
 "cells": [
  {
   "cell_type": "code",
   "execution_count": 74,
   "metadata": {},
   "outputs": [],
   "source": [
    "%reload_ext autoreload\n",
    "%autoreload 2"
   ]
  },
  {
   "cell_type": "code",
   "execution_count": 75,
   "metadata": {},
   "outputs": [],
   "source": [
    "from nbc_analysis.utils.debug_utils import runit\n",
    "from pathlib import Path\n",
    "from nbc_analysis.utils.file_utils import read_parquet\n",
    "\n",
    "from test_normalize import test_normalize, _get_config\n",
    "\n",
    "from toolz import *\n",
    "import pandas as pd\n",
    "import numpy as np\n",
    "from  nbc_analysis.utils.date_utils import END_OF_TIME"
   ]
  },
  {
   "cell_type": "code",
   "execution_count": 76,
   "metadata": {},
   "outputs": [
    {
     "data": {
      "text/plain": [
       "{'demographics': {'demographics_d': PosixPath('/Users/wmcabee/DATA/NBC/demographics'),\n",
       "  'zip2income_input_f': PosixPath('/Users/wmcabee/_NBC/datasets/ACS_17_5YR_S2503_with_ann.csv'),\n",
       "  'subnet2zip_input_f': PosixPath('/Users/wmcabee/_NBC/datasets/GeoLite2-City-CSV_20191001.zip')},\n",
       " 'normalize': {'test_input_d': PosixPath('/Users/wmcabee/DATA/NBC/work/query'),\n",
       "  'normalize_d': PosixPath('/Users/wmcabee/DATA/NBC/normalize'),\n",
       "  'input_file_limit': 2}}"
      ]
     },
     "execution_count": 76,
     "metadata": {},
     "output_type": "execute_result"
    }
   ],
   "source": [
    "config = _get_config()\n",
    "config"
   ]
  },
  {
   "cell_type": "code",
   "execution_count": 78,
   "metadata": {},
   "outputs": [
    {
     "name": "stderr",
     "output_type": "stream",
     "text": [
      "2019-10-22 14:52:37,998|INFO|nbc_analysis.normalize.main|start normalize video end, {'test_input_d': PosixPath('/Users/wmcabee/DATA/NBC/work/query'), 'normalize_d': PosixPath('/Users/wmcabee/DATA/NBC/normalize'), 'input_file_limit': 2}\n",
      "2019-10-22 14:52:38,001|INFO|nbc_analysis.utils.file_utils|start read parquet dir,file_cnt=12,limit=2\n",
      "2019-10-22 14:52:38,001|WARNING|nbc_analysis.utils.func_utils|file limit set on normalize read,limit=2\n",
      "2019-10-22 14:52:38,587|INFO|nbc_analysis.utils.file_utils|end read parquet dir,record_cnt=208641\n",
      "2019-10-22 14:52:38,588|INFO|nbc_analysis.normalize.main|start sort by event timestamp\n",
      "2019-10-22 14:52:39,108|INFO|nbc_analysis.normalize.main|end sort by event timestamp\n",
      "2019-10-22 14:52:39,109|INFO|nbc_analysis.normalize.main|start clean input\n",
      "2019-10-22 14:52:39,297|INFO|nbc_analysis.normalize.main|event standardize null representations\n",
      "2019-10-22 14:52:39,907|INFO|nbc_analysis.normalize.main|event filter video id\n",
      "2019-10-22 14:52:40,017|INFO|nbc_analysis.normalize.main|event convert measures to float\n",
      "2019-10-22 14:52:40,138|INFO|nbc_analysis.normalize.main|event fill string nulls\n",
      "2019-10-22 14:52:40,401|INFO|nbc_analysis.normalize.main|end clean input\n",
      "2019-10-22 14:52:40,416|INFO|nbc_analysis.normalize.main|start derive timestamp information\n",
      "2019-10-22 14:52:40,416|INFO|nbc_analysis.normalize.main|event convert _last_upd_dt to date time\n",
      "2019-10-22 14:52:41,600|INFO|nbc_analysis.normalize.main|event format event_start_dt\n",
      "2019-10-22 14:52:43,023|INFO|nbc_analysis.normalize.main|event format date_utc_key\n",
      "2019-10-22 14:52:44,338|INFO|nbc_analysis.normalize.main|event dedup date keys\n",
      "2019-10-22 14:52:44,413|INFO|nbc_analysis.normalize.main|end derive timestamp information\n",
      "2019-10-22 14:52:44,417|INFO|nbc_analysis.utils.file_utils|start write file,/Users/wmcabee/DATA/NBC/normalize/day_utc_keys.parquet,record_cnt=201\n",
      "2019-10-22 14:52:44,420|INFO|nbc_analysis.utils.file_utils|end write file,/Users/wmcabee/DATA/NBC/normalize/day_utc_keys.parquet,record_cnt=201\n",
      "2019-10-22 14:52:44,420|INFO|nbc_analysis.normalize.main|start add network info\n",
      "2019-10-22 14:52:44,563|INFO|nbc_analysis.utils.file_utils|start write file,/Users/wmcabee/DATA/NBC/normalize/ips.parquet,record_cnt=41539\n",
      "2019-10-22 14:52:44,587|INFO|nbc_analysis.utils.file_utils|end write file,/Users/wmcabee/DATA/NBC/normalize/ips.parquet,record_cnt=41539\n",
      "2019-10-22 14:52:44,588|INFO|nbc_analysis.normalize.main|event resolve_ip\n",
      "2019-10-22 14:52:44,589|INFO|nbc_analysis.utils.file_utils|start read file,/Users/wmcabee/DATA/NBC/demographics/network_dim.parquet\n",
      "2019-10-22 14:52:45,371|INFO|nbc_analysis.utils.file_utils|end read file,/Users/wmcabee/DATA/NBC/demographics/network_dim.parquet,record_cnt=1243177\n",
      "2019-10-22 14:52:45,371|INFO|nbc_analysis.demographics.resolve_ip.main|start build ip ptree,record_cnt=1243177,limit=None\n",
      "2019-10-22 14:52:47,737|INFO|nbc_analysis.demographics.resolve_ip.main|end build ip ptree\n",
      "2019-10-22 14:52:47,738|INFO|nbc_analysis.demographics.resolve_ip.main|start get network keys,record_cnt=41539,limit=None\n",
      "2019-10-22 14:52:47,808|INFO|nbc_analysis.demographics.resolve_ip.main|end get network keys,N=41539,hits=38192,hit_rate=0.92,limit=None\n",
      "2019-10-22 14:52:48,184|INFO|nbc_analysis.normalize.main|event broadcast network_key to fact\n",
      "2019-10-22 14:52:48,230|INFO|nbc_analysis.normalize.main|end add network info\n",
      "2019-10-22 14:52:48,344|INFO|nbc_analysis.normalize.main|start build dimensions\n",
      "2019-10-22 14:52:48,456|INFO|nbc_analysis.utils.file_utils|start write file,/Users/wmcabee/DATA/NBC/normalize/video_dim.parquet,record_cnt=10221\n",
      "2019-10-22 14:52:48,483|INFO|nbc_analysis.utils.file_utils|end write file,/Users/wmcabee/DATA/NBC/normalize/video_dim.parquet,record_cnt=10221\n",
      "2019-10-22 14:52:48,562|INFO|nbc_analysis.utils.file_utils|start write file,/Users/wmcabee/DATA/NBC/normalize/event_type_dim.parquet,record_cnt=1\n",
      "2019-10-22 14:52:48,565|INFO|nbc_analysis.utils.file_utils|end write file,/Users/wmcabee/DATA/NBC/normalize/event_type_dim.parquet,record_cnt=1\n",
      "2019-10-22 14:52:48,651|INFO|nbc_analysis.utils.file_utils|start write file,/Users/wmcabee/DATA/NBC/normalize/platform_dim.parquet,record_cnt=11\n",
      "2019-10-22 14:52:48,653|INFO|nbc_analysis.utils.file_utils|end write file,/Users/wmcabee/DATA/NBC/normalize/platform_dim.parquet,record_cnt=11\n",
      "2019-10-22 14:52:48,742|INFO|nbc_analysis.utils.file_utils|start write file,/Users/wmcabee/DATA/NBC/normalize/profile_dim.parquet,record_cnt=279\n",
      "2019-10-22 14:52:48,746|INFO|nbc_analysis.utils.file_utils|end write file,/Users/wmcabee/DATA/NBC/normalize/profile_dim.parquet,record_cnt=279\n",
      "2019-10-22 14:52:48,816|INFO|nbc_analysis.utils.file_utils|start write file,/Users/wmcabee/DATA/NBC/normalize/end_type_dim.parquet,record_cnt=12\n",
      "2019-10-22 14:52:48,819|INFO|nbc_analysis.utils.file_utils|end write file,/Users/wmcabee/DATA/NBC/normalize/end_type_dim.parquet,record_cnt=12\n",
      "2019-10-22 14:52:48,820|INFO|nbc_analysis.normalize.main|end build dimensions\n",
      "2019-10-22 14:52:48,851|INFO|nbc_analysis.utils.file_utils|start write file,/Users/wmcabee/DATA/NBC/normalize/f_video_end.parquet,record_cnt=208613\n",
      "2019-10-22 14:52:49,067|INFO|nbc_analysis.utils.file_utils|end write file,/Users/wmcabee/DATA/NBC/normalize/f_video_end.parquet,record_cnt=208613\n",
      "2019-10-22 14:52:49,068|INFO|nbc_analysis.normalize.main|end normalize video end\n"
     ]
    }
   ],
   "source": [
    "df = runit(test_normalize)"
   ]
  },
  {
   "cell_type": "code",
   "execution_count": 79,
   "metadata": {},
   "outputs": [
    {
     "data": {
      "text/html": [
       "<div>\n",
       "<style scoped>\n",
       "    .dataframe tbody tr th:only-of-type {\n",
       "        vertical-align: middle;\n",
       "    }\n",
       "\n",
       "    .dataframe tbody tr th {\n",
       "        vertical-align: top;\n",
       "    }\n",
       "\n",
       "    .dataframe thead th {\n",
       "        text-align: right;\n",
       "    }\n",
       "</style>\n",
       "<table border=\"1\" class=\"dataframe\">\n",
       "  <thead>\n",
       "    <tr style=\"text-align: right;\">\n",
       "      <th></th>\n",
       "      <th>day_utc_key</th>\n",
       "      <th>video_key</th>\n",
       "      <th>platform_key</th>\n",
       "      <th>profile_key</th>\n",
       "      <th>end_type_key</th>\n",
       "      <th>event_type_key</th>\n",
       "      <th>network_key</th>\n",
       "      <th>mpid</th>\n",
       "      <th>event_start_dt</th>\n",
       "      <th>video_duration_watched</th>\n",
       "      <th>resume_time</th>\n",
       "      <th>_file</th>\n",
       "      <th>_file_idx</th>\n",
       "      <th>_batch_id</th>\n",
       "      <th>_viewer_partition</th>\n",
       "      <th>_last_upd_dt</th>\n",
       "    </tr>\n",
       "  </thead>\n",
       "  <tbody>\n",
       "    <tr>\n",
       "      <td>0</td>\n",
       "      <td>20190822</td>\n",
       "      <td>15249924849943320638</td>\n",
       "      <td>13512958757101649953</td>\n",
       "      <td>5612241246451325071</td>\n",
       "      <td>1543738608339601720</td>\n",
       "      <td>10286261140990397066</td>\n",
       "      <td>14111283841451506785</td>\n",
       "      <td>6971930039803442160</td>\n",
       "      <td>20190822T021900.447999Z</td>\n",
       "      <td>0.000000</td>\n",
       "      <td>NaN</td>\n",
       "      <td>NBC_App_20190808022157356847_93336.txt</td>\n",
       "      <td>951</td>\n",
       "      <td>ve_20190808_0001</td>\n",
       "      <td>0</td>\n",
       "      <td>1566440340448</td>\n",
       "    </tr>\n",
       "    <tr>\n",
       "      <td>1</td>\n",
       "      <td>20190818</td>\n",
       "      <td>9379374450212694540</td>\n",
       "      <td>13512958757101649953</td>\n",
       "      <td>5612241246451325071</td>\n",
       "      <td>1543738608339601720</td>\n",
       "      <td>10286261140990397066</td>\n",
       "      <td>8941847876039483264</td>\n",
       "      <td>-1699799465028187080</td>\n",
       "      <td>20190818T235920.055000Z</td>\n",
       "      <td>0.200000</td>\n",
       "      <td>NaN</td>\n",
       "      <td>NBC_App_20190818235940675975_41044.txt</td>\n",
       "      <td>8603</td>\n",
       "      <td>ve_20190818_0008</td>\n",
       "      <td>0</td>\n",
       "      <td>1566172760055</td>\n",
       "    </tr>\n",
       "    <tr>\n",
       "      <td>2</td>\n",
       "      <td>20190818</td>\n",
       "      <td>5335255399160415779</td>\n",
       "      <td>13512958757101649953</td>\n",
       "      <td>5612241246451325071</td>\n",
       "      <td>14134703689083528527</td>\n",
       "      <td>10286261140990397066</td>\n",
       "      <td>10091593832033848793</td>\n",
       "      <td>4772427038475211860</td>\n",
       "      <td>20190818T235846.785000Z</td>\n",
       "      <td>41.050000</td>\n",
       "      <td>2347.0</td>\n",
       "      <td>NBC_App_20190818235947282705_86587.txt</td>\n",
       "      <td>8604</td>\n",
       "      <td>ve_20190818_0008</td>\n",
       "      <td>0</td>\n",
       "      <td>1566172726785</td>\n",
       "    </tr>\n",
       "    <tr>\n",
       "      <td>3</td>\n",
       "      <td>20190818</td>\n",
       "      <td>6723486805398926064</td>\n",
       "      <td>13512958757101649953</td>\n",
       "      <td>5612241246451325071</td>\n",
       "      <td>1543738608339601720</td>\n",
       "      <td>10286261140990397066</td>\n",
       "      <td>8941847876039483264</td>\n",
       "      <td>-1699799465028187080</td>\n",
       "      <td>20190818T235840.855999Z</td>\n",
       "      <td>5.983333</td>\n",
       "      <td>NaN</td>\n",
       "      <td>NBC_App_20190818235947282705_86587.txt</td>\n",
       "      <td>8604</td>\n",
       "      <td>ve_20190818_0008</td>\n",
       "      <td>0</td>\n",
       "      <td>1566172720856</td>\n",
       "    </tr>\n",
       "    <tr>\n",
       "      <td>4</td>\n",
       "      <td>20190818</td>\n",
       "      <td>3433543031427619821</td>\n",
       "      <td>13512958757101649953</td>\n",
       "      <td>5612241246451325071</td>\n",
       "      <td>14134703689083528527</td>\n",
       "      <td>10286261140990397066</td>\n",
       "      <td>13658938058864572755</td>\n",
       "      <td>-4762455741229315080</td>\n",
       "      <td>20190818T235741.346999Z</td>\n",
       "      <td>80.016667</td>\n",
       "      <td>4536.0</td>\n",
       "      <td>NBC_App_20190818235811154757_37909.txt</td>\n",
       "      <td>8590</td>\n",
       "      <td>ve_20190818_0008</td>\n",
       "      <td>0</td>\n",
       "      <td>1566172661347</td>\n",
       "    </tr>\n",
       "    <tr>\n",
       "      <td>...</td>\n",
       "      <td>...</td>\n",
       "      <td>...</td>\n",
       "      <td>...</td>\n",
       "      <td>...</td>\n",
       "      <td>...</td>\n",
       "      <td>...</td>\n",
       "      <td>...</td>\n",
       "      <td>...</td>\n",
       "      <td>...</td>\n",
       "      <td>...</td>\n",
       "      <td>...</td>\n",
       "      <td>...</td>\n",
       "      <td>...</td>\n",
       "      <td>...</td>\n",
       "      <td>...</td>\n",
       "      <td>...</td>\n",
       "    </tr>\n",
       "    <tr>\n",
       "      <td>208608</td>\n",
       "      <td>20180813</td>\n",
       "      <td>3687281119820901955</td>\n",
       "      <td>2356253770914521728</td>\n",
       "      <td>5612241246451325071</td>\n",
       "      <td>1543738608339601720</td>\n",
       "      <td>10286261140990397066</td>\n",
       "      <td>11010168467929446606</td>\n",
       "      <td>4027393590668048640</td>\n",
       "      <td>20180813T051700.099999Z</td>\n",
       "      <td>6.000000</td>\n",
       "      <td>NaN</td>\n",
       "      <td>NBCUniversal_20190818141556388242_01410.txt</td>\n",
       "      <td>5114</td>\n",
       "      <td>ve_20190818_0004</td>\n",
       "      <td>0</td>\n",
       "      <td>1534137420100</td>\n",
       "    </tr>\n",
       "    <tr>\n",
       "      <td>208609</td>\n",
       "      <td>20180801</td>\n",
       "      <td>14008209082211965090</td>\n",
       "      <td>2356253770914521728</td>\n",
       "      <td>5894746954545069528</td>\n",
       "      <td>7968799331887820946</td>\n",
       "      <td>10286261140990397066</td>\n",
       "      <td>18439815157026059949</td>\n",
       "      <td>-4592284287176992620</td>\n",
       "      <td>20180801T235931.740999Z</td>\n",
       "      <td>84.000000</td>\n",
       "      <td>NaN</td>\n",
       "      <td>NBC_20190806174214418462_85731.txt</td>\n",
       "      <td>7444</td>\n",
       "      <td>ve_20190806_0006</td>\n",
       "      <td>0</td>\n",
       "      <td>1533167971741</td>\n",
       "    </tr>\n",
       "    <tr>\n",
       "      <td>208610</td>\n",
       "      <td>20180723</td>\n",
       "      <td>10257777878610075209</td>\n",
       "      <td>13757614714000885976</td>\n",
       "      <td>5612241246451325071</td>\n",
       "      <td>15583778122025838304</td>\n",
       "      <td>10286261140990397066</td>\n",
       "      <td>355616872037361773</td>\n",
       "      <td>-4813396560726335460</td>\n",
       "      <td>20180723T004438.059999Z</td>\n",
       "      <td>0.000000</td>\n",
       "      <td>NaN</td>\n",
       "      <td>NBC_20190807032124656740_55497.txt</td>\n",
       "      <td>1395</td>\n",
       "      <td>ve_20190807_0002</td>\n",
       "      <td>0</td>\n",
       "      <td>1532306678060</td>\n",
       "    </tr>\n",
       "    <tr>\n",
       "      <td>208611</td>\n",
       "      <td>20180715</td>\n",
       "      <td>11819162619886862771</td>\n",
       "      <td>2356253770914521728</td>\n",
       "      <td>5612241246451325071</td>\n",
       "      <td>7968799331887820946</td>\n",
       "      <td>10286261140990397066</td>\n",
       "      <td>12346442020451234714</td>\n",
       "      <td>628802053897368660</td>\n",
       "      <td>20180715T005829.346999Z</td>\n",
       "      <td>37.000000</td>\n",
       "      <td>NaN</td>\n",
       "      <td>NBC_20190806113209660673_02811.txt</td>\n",
       "      <td>4817</td>\n",
       "      <td>ve_20190806_0004</td>\n",
       "      <td>0</td>\n",
       "      <td>1531616309347</td>\n",
       "    </tr>\n",
       "    <tr>\n",
       "      <td>208612</td>\n",
       "      <td>20180629</td>\n",
       "      <td>14624448841754342530</td>\n",
       "      <td>13757614714000885976</td>\n",
       "      <td>5894746954545069528</td>\n",
       "      <td>15583778122025838304</td>\n",
       "      <td>10286261140990397066</td>\n",
       "      <td>0</td>\n",
       "      <td>-7779433202308773000</td>\n",
       "      <td>20180629T225600.394000Z</td>\n",
       "      <td>36.000000</td>\n",
       "      <td>NaN</td>\n",
       "      <td>NBC_20190815022215906444_08751.txt</td>\n",
       "      <td>999</td>\n",
       "      <td>ve_20190815_0001</td>\n",
       "      <td>0</td>\n",
       "      <td>1530312960394</td>\n",
       "    </tr>\n",
       "  </tbody>\n",
       "</table>\n",
       "<p>208613 rows × 16 columns</p>\n",
       "</div>"
      ],
      "text/plain": [
       "        day_utc_key             video_key          platform_key  \\\n",
       "0          20190822  15249924849943320638  13512958757101649953   \n",
       "1          20190818   9379374450212694540  13512958757101649953   \n",
       "2          20190818   5335255399160415779  13512958757101649953   \n",
       "3          20190818   6723486805398926064  13512958757101649953   \n",
       "4          20190818   3433543031427619821  13512958757101649953   \n",
       "...             ...                   ...                   ...   \n",
       "208608     20180813   3687281119820901955   2356253770914521728   \n",
       "208609     20180801  14008209082211965090   2356253770914521728   \n",
       "208610     20180723  10257777878610075209  13757614714000885976   \n",
       "208611     20180715  11819162619886862771   2356253770914521728   \n",
       "208612     20180629  14624448841754342530  13757614714000885976   \n",
       "\n",
       "                profile_key          end_type_key        event_type_key  \\\n",
       "0       5612241246451325071   1543738608339601720  10286261140990397066   \n",
       "1       5612241246451325071   1543738608339601720  10286261140990397066   \n",
       "2       5612241246451325071  14134703689083528527  10286261140990397066   \n",
       "3       5612241246451325071   1543738608339601720  10286261140990397066   \n",
       "4       5612241246451325071  14134703689083528527  10286261140990397066   \n",
       "...                     ...                   ...                   ...   \n",
       "208608  5612241246451325071   1543738608339601720  10286261140990397066   \n",
       "208609  5894746954545069528   7968799331887820946  10286261140990397066   \n",
       "208610  5612241246451325071  15583778122025838304  10286261140990397066   \n",
       "208611  5612241246451325071   7968799331887820946  10286261140990397066   \n",
       "208612  5894746954545069528  15583778122025838304  10286261140990397066   \n",
       "\n",
       "                 network_key                 mpid           event_start_dt  \\\n",
       "0       14111283841451506785  6971930039803442160  20190822T021900.447999Z   \n",
       "1        8941847876039483264 -1699799465028187080  20190818T235920.055000Z   \n",
       "2       10091593832033848793  4772427038475211860  20190818T235846.785000Z   \n",
       "3        8941847876039483264 -1699799465028187080  20190818T235840.855999Z   \n",
       "4       13658938058864572755 -4762455741229315080  20190818T235741.346999Z   \n",
       "...                      ...                  ...                      ...   \n",
       "208608  11010168467929446606  4027393590668048640  20180813T051700.099999Z   \n",
       "208609  18439815157026059949 -4592284287176992620  20180801T235931.740999Z   \n",
       "208610    355616872037361773 -4813396560726335460  20180723T004438.059999Z   \n",
       "208611  12346442020451234714   628802053897368660  20180715T005829.346999Z   \n",
       "208612                     0 -7779433202308773000  20180629T225600.394000Z   \n",
       "\n",
       "        video_duration_watched  resume_time  \\\n",
       "0                     0.000000          NaN   \n",
       "1                     0.200000          NaN   \n",
       "2                    41.050000       2347.0   \n",
       "3                     5.983333          NaN   \n",
       "4                    80.016667       4536.0   \n",
       "...                        ...          ...   \n",
       "208608                6.000000          NaN   \n",
       "208609               84.000000          NaN   \n",
       "208610                0.000000          NaN   \n",
       "208611               37.000000          NaN   \n",
       "208612               36.000000          NaN   \n",
       "\n",
       "                                              _file  _file_idx  \\\n",
       "0            NBC_App_20190808022157356847_93336.txt        951   \n",
       "1            NBC_App_20190818235940675975_41044.txt       8603   \n",
       "2            NBC_App_20190818235947282705_86587.txt       8604   \n",
       "3            NBC_App_20190818235947282705_86587.txt       8604   \n",
       "4            NBC_App_20190818235811154757_37909.txt       8590   \n",
       "...                                             ...        ...   \n",
       "208608  NBCUniversal_20190818141556388242_01410.txt       5114   \n",
       "208609           NBC_20190806174214418462_85731.txt       7444   \n",
       "208610           NBC_20190807032124656740_55497.txt       1395   \n",
       "208611           NBC_20190806113209660673_02811.txt       4817   \n",
       "208612           NBC_20190815022215906444_08751.txt        999   \n",
       "\n",
       "               _batch_id  _viewer_partition   _last_upd_dt  \n",
       "0       ve_20190808_0001                  0  1566440340448  \n",
       "1       ve_20190818_0008                  0  1566172760055  \n",
       "2       ve_20190818_0008                  0  1566172726785  \n",
       "3       ve_20190818_0008                  0  1566172720856  \n",
       "4       ve_20190818_0008                  0  1566172661347  \n",
       "...                  ...                ...            ...  \n",
       "208608  ve_20190818_0004                  0  1534137420100  \n",
       "208609  ve_20190806_0006                  0  1533167971741  \n",
       "208610  ve_20190807_0002                  0  1532306678060  \n",
       "208611  ve_20190806_0004                  0  1531616309347  \n",
       "208612  ve_20190815_0001                  0  1530312960394  \n",
       "\n",
       "[208613 rows x 16 columns]"
      ]
     },
     "execution_count": 79,
     "metadata": {},
     "output_type": "execute_result"
    }
   ],
   "source": [
    "df"
   ]
  },
  {
   "cell_type": "code",
   "execution_count": 80,
   "metadata": {},
   "outputs": [],
   "source": [
    "indir = config['normalize']['normalize_d']\n",
    "demographics_d = config['demographics']['demographics_d']"
   ]
  },
  {
   "cell_type": "code",
   "execution_count": 81,
   "metadata": {},
   "outputs": [
    {
     "name": "stderr",
     "output_type": "stream",
     "text": [
      "2019-10-22 14:53:06,341|INFO|nbc_analysis.utils.file_utils|start read file,/Users/wmcabee/DATA/NBC/normalize/video_dim.parquet\n",
      "2019-10-22 14:53:06,353|INFO|nbc_analysis.utils.file_utils|end read file,/Users/wmcabee/DATA/NBC/normalize/video_dim.parquet,record_cnt=10221\n",
      "2019-10-22 14:53:06,354|INFO|nbc_analysis.utils.file_utils|start read file,/Users/wmcabee/DATA/NBC/normalize/end_type_dim.parquet\n",
      "2019-10-22 14:53:06,358|INFO|nbc_analysis.utils.file_utils|end read file,/Users/wmcabee/DATA/NBC/normalize/end_type_dim.parquet,record_cnt=12\n",
      "2019-10-22 14:53:06,359|INFO|nbc_analysis.utils.file_utils|start read file,/Users/wmcabee/DATA/NBC/normalize/profile_dim.parquet\n",
      "2019-10-22 14:53:06,363|INFO|nbc_analysis.utils.file_utils|end read file,/Users/wmcabee/DATA/NBC/normalize/profile_dim.parquet,record_cnt=279\n",
      "2019-10-22 14:53:06,364|INFO|nbc_analysis.utils.file_utils|start read file,/Users/wmcabee/DATA/NBC/normalize/event_type_dim.parquet\n",
      "2019-10-22 14:53:06,368|INFO|nbc_analysis.utils.file_utils|end read file,/Users/wmcabee/DATA/NBC/normalize/event_type_dim.parquet,record_cnt=1\n",
      "2019-10-22 14:53:06,369|INFO|nbc_analysis.utils.file_utils|start read file,/Users/wmcabee/DATA/NBC/normalize/platform_dim.parquet\n",
      "2019-10-22 14:53:06,373|INFO|nbc_analysis.utils.file_utils|end read file,/Users/wmcabee/DATA/NBC/normalize/platform_dim.parquet,record_cnt=11\n",
      "2019-10-22 14:53:06,374|INFO|nbc_analysis.utils.file_utils|start read file,/Users/wmcabee/DATA/NBC/demographics/network_dim.parquet\n",
      "2019-10-22 14:53:07,319|INFO|nbc_analysis.utils.file_utils|end read file,/Users/wmcabee/DATA/NBC/demographics/network_dim.parquet,record_cnt=1243177\n"
     ]
    }
   ],
   "source": [
    "## load dimensions to check foreign keys\n",
    "reader = concatv(\n",
    "    ((x.stem,  read_parquet(name=x.stem, indir=indir)) for x in indir.glob('*_dim.parquet')),\n",
    "    ((x.stem,  read_parquet(name=x.stem, indir=demographics_d)) for x in demographics_d.glob('*_dim.parquet')),\n",
    ")\n",
    "dims = dict(reader)                "
   ]
  },
  {
   "cell_type": "code",
   "execution_count": 82,
   "metadata": {},
   "outputs": [
    {
     "data": {
      "text/plain": [
       "dict_keys(['video_dim', 'end_type_dim', 'profile_dim', 'event_type_dim', 'platform_dim', 'network_dim'])"
      ]
     },
     "execution_count": 82,
     "metadata": {},
     "output_type": "execute_result"
    }
   ],
   "source": [
    "dims.keys()"
   ]
  },
  {
   "cell_type": "code",
   "execution_count": 83,
   "metadata": {},
   "outputs": [
    {
     "data": {
      "text/html": [
       "<div>\n",
       "<style scoped>\n",
       "    .dataframe tbody tr th:only-of-type {\n",
       "        vertical-align: middle;\n",
       "    }\n",
       "\n",
       "    .dataframe tbody tr th {\n",
       "        vertical-align: top;\n",
       "    }\n",
       "\n",
       "    .dataframe thead th {\n",
       "        text-align: right;\n",
       "    }\n",
       "</style>\n",
       "<table border=\"1\" class=\"dataframe\">\n",
       "  <thead>\n",
       "    <tr style=\"text-align: right;\">\n",
       "      <th></th>\n",
       "      <th>day_utc_key</th>\n",
       "      <th>video_key</th>\n",
       "      <th>platform_key</th>\n",
       "      <th>profile_key</th>\n",
       "      <th>end_type_key</th>\n",
       "      <th>event_type_key</th>\n",
       "      <th>network_key</th>\n",
       "      <th>mpid</th>\n",
       "      <th>event_start_dt</th>\n",
       "      <th>video_duration_watched</th>\n",
       "      <th>resume_time</th>\n",
       "      <th>_file</th>\n",
       "      <th>_file_idx</th>\n",
       "      <th>_batch_id</th>\n",
       "      <th>_viewer_partition</th>\n",
       "      <th>_last_upd_dt</th>\n",
       "    </tr>\n",
       "  </thead>\n",
       "  <tbody>\n",
       "    <tr>\n",
       "      <td>0</td>\n",
       "      <td>20190822</td>\n",
       "      <td>15249924849943320638</td>\n",
       "      <td>13512958757101649953</td>\n",
       "      <td>5612241246451325071</td>\n",
       "      <td>1543738608339601720</td>\n",
       "      <td>10286261140990397066</td>\n",
       "      <td>14111283841451506785</td>\n",
       "      <td>6971930039803442160</td>\n",
       "      <td>20190822T021900.447999Z</td>\n",
       "      <td>0.000000</td>\n",
       "      <td>NaN</td>\n",
       "      <td>NBC_App_20190808022157356847_93336.txt</td>\n",
       "      <td>951</td>\n",
       "      <td>ve_20190808_0001</td>\n",
       "      <td>0</td>\n",
       "      <td>1566440340448</td>\n",
       "    </tr>\n",
       "    <tr>\n",
       "      <td>1</td>\n",
       "      <td>20190818</td>\n",
       "      <td>9379374450212694540</td>\n",
       "      <td>13512958757101649953</td>\n",
       "      <td>5612241246451325071</td>\n",
       "      <td>1543738608339601720</td>\n",
       "      <td>10286261140990397066</td>\n",
       "      <td>8941847876039483264</td>\n",
       "      <td>-1699799465028187080</td>\n",
       "      <td>20190818T235920.055000Z</td>\n",
       "      <td>0.200000</td>\n",
       "      <td>NaN</td>\n",
       "      <td>NBC_App_20190818235940675975_41044.txt</td>\n",
       "      <td>8603</td>\n",
       "      <td>ve_20190818_0008</td>\n",
       "      <td>0</td>\n",
       "      <td>1566172760055</td>\n",
       "    </tr>\n",
       "    <tr>\n",
       "      <td>2</td>\n",
       "      <td>20190818</td>\n",
       "      <td>5335255399160415779</td>\n",
       "      <td>13512958757101649953</td>\n",
       "      <td>5612241246451325071</td>\n",
       "      <td>14134703689083528527</td>\n",
       "      <td>10286261140990397066</td>\n",
       "      <td>10091593832033848793</td>\n",
       "      <td>4772427038475211860</td>\n",
       "      <td>20190818T235846.785000Z</td>\n",
       "      <td>41.050000</td>\n",
       "      <td>2347.0</td>\n",
       "      <td>NBC_App_20190818235947282705_86587.txt</td>\n",
       "      <td>8604</td>\n",
       "      <td>ve_20190818_0008</td>\n",
       "      <td>0</td>\n",
       "      <td>1566172726785</td>\n",
       "    </tr>\n",
       "    <tr>\n",
       "      <td>3</td>\n",
       "      <td>20190818</td>\n",
       "      <td>6723486805398926064</td>\n",
       "      <td>13512958757101649953</td>\n",
       "      <td>5612241246451325071</td>\n",
       "      <td>1543738608339601720</td>\n",
       "      <td>10286261140990397066</td>\n",
       "      <td>8941847876039483264</td>\n",
       "      <td>-1699799465028187080</td>\n",
       "      <td>20190818T235840.855999Z</td>\n",
       "      <td>5.983333</td>\n",
       "      <td>NaN</td>\n",
       "      <td>NBC_App_20190818235947282705_86587.txt</td>\n",
       "      <td>8604</td>\n",
       "      <td>ve_20190818_0008</td>\n",
       "      <td>0</td>\n",
       "      <td>1566172720856</td>\n",
       "    </tr>\n",
       "    <tr>\n",
       "      <td>4</td>\n",
       "      <td>20190818</td>\n",
       "      <td>3433543031427619821</td>\n",
       "      <td>13512958757101649953</td>\n",
       "      <td>5612241246451325071</td>\n",
       "      <td>14134703689083528527</td>\n",
       "      <td>10286261140990397066</td>\n",
       "      <td>13658938058864572755</td>\n",
       "      <td>-4762455741229315080</td>\n",
       "      <td>20190818T235741.346999Z</td>\n",
       "      <td>80.016667</td>\n",
       "      <td>4536.0</td>\n",
       "      <td>NBC_App_20190818235811154757_37909.txt</td>\n",
       "      <td>8590</td>\n",
       "      <td>ve_20190818_0008</td>\n",
       "      <td>0</td>\n",
       "      <td>1566172661347</td>\n",
       "    </tr>\n",
       "  </tbody>\n",
       "</table>\n",
       "</div>"
      ],
      "text/plain": [
       "   day_utc_key             video_key          platform_key  \\\n",
       "0     20190822  15249924849943320638  13512958757101649953   \n",
       "1     20190818   9379374450212694540  13512958757101649953   \n",
       "2     20190818   5335255399160415779  13512958757101649953   \n",
       "3     20190818   6723486805398926064  13512958757101649953   \n",
       "4     20190818   3433543031427619821  13512958757101649953   \n",
       "\n",
       "           profile_key          end_type_key        event_type_key  \\\n",
       "0  5612241246451325071   1543738608339601720  10286261140990397066   \n",
       "1  5612241246451325071   1543738608339601720  10286261140990397066   \n",
       "2  5612241246451325071  14134703689083528527  10286261140990397066   \n",
       "3  5612241246451325071   1543738608339601720  10286261140990397066   \n",
       "4  5612241246451325071  14134703689083528527  10286261140990397066   \n",
       "\n",
       "            network_key                 mpid           event_start_dt  \\\n",
       "0  14111283841451506785  6971930039803442160  20190822T021900.447999Z   \n",
       "1   8941847876039483264 -1699799465028187080  20190818T235920.055000Z   \n",
       "2  10091593832033848793  4772427038475211860  20190818T235846.785000Z   \n",
       "3   8941847876039483264 -1699799465028187080  20190818T235840.855999Z   \n",
       "4  13658938058864572755 -4762455741229315080  20190818T235741.346999Z   \n",
       "\n",
       "   video_duration_watched  resume_time  \\\n",
       "0                0.000000          NaN   \n",
       "1                0.200000          NaN   \n",
       "2               41.050000       2347.0   \n",
       "3                5.983333          NaN   \n",
       "4               80.016667       4536.0   \n",
       "\n",
       "                                    _file  _file_idx         _batch_id  \\\n",
       "0  NBC_App_20190808022157356847_93336.txt        951  ve_20190808_0001   \n",
       "1  NBC_App_20190818235940675975_41044.txt       8603  ve_20190818_0008   \n",
       "2  NBC_App_20190818235947282705_86587.txt       8604  ve_20190818_0008   \n",
       "3  NBC_App_20190818235947282705_86587.txt       8604  ve_20190818_0008   \n",
       "4  NBC_App_20190818235811154757_37909.txt       8590  ve_20190818_0008   \n",
       "\n",
       "   _viewer_partition   _last_upd_dt  \n",
       "0                  0  1566440340448  \n",
       "1                  0  1566172760055  \n",
       "2                  0  1566172726785  \n",
       "3                  0  1566172720856  \n",
       "4                  0  1566172661347  "
      ]
     },
     "execution_count": 83,
     "metadata": {},
     "output_type": "execute_result"
    }
   ],
   "source": [
    "df.head()"
   ]
  },
  {
   "cell_type": "code",
   "execution_count": 84,
   "metadata": {},
   "outputs": [
    {
     "data": {
      "text/plain": [
       "True"
      ]
     },
     "execution_count": 84,
     "metadata": {},
     "output_type": "execute_result"
    }
   ],
   "source": [
    "# video_key\n",
    "\n",
    "dim = dims['video_dim']\n",
    "(~df.video_key.isin(dim.video_key)).sum() == 0"
   ]
  },
  {
   "cell_type": "code",
   "execution_count": 85,
   "metadata": {},
   "outputs": [
    {
     "data": {
      "text/plain": [
       "True"
      ]
     },
     "execution_count": 85,
     "metadata": {},
     "output_type": "execute_result"
    }
   ],
   "source": [
    "dim = dims['platform_dim']\n",
    "(~df.platform_key.isin(dim.platform_key)).sum() == 0"
   ]
  },
  {
   "cell_type": "code",
   "execution_count": 86,
   "metadata": {},
   "outputs": [
    {
     "data": {
      "text/plain": [
       "True"
      ]
     },
     "execution_count": 86,
     "metadata": {},
     "output_type": "execute_result"
    }
   ],
   "source": [
    "dim = dims['profile_dim']\n",
    "(~df.profile_key.isin(dim.profile_key)).sum() == 0"
   ]
  },
  {
   "cell_type": "code",
   "execution_count": 87,
   "metadata": {},
   "outputs": [
    {
     "data": {
      "text/plain": [
       "True"
      ]
     },
     "execution_count": 87,
     "metadata": {},
     "output_type": "execute_result"
    }
   ],
   "source": [
    "dim = dims['end_type_dim']\n",
    "(~df.end_type_key.isin(dim.end_type_key)).sum() == 0"
   ]
  },
  {
   "cell_type": "code",
   "execution_count": 88,
   "metadata": {},
   "outputs": [
    {
     "data": {
      "text/plain": [
       "True"
      ]
     },
     "execution_count": 88,
     "metadata": {},
     "output_type": "execute_result"
    }
   ],
   "source": [
    "dim = dims['event_type_dim']\n",
    "(~df.event_type_key.isin(dim.event_type_key)).sum() == 0"
   ]
  },
  {
   "cell_type": "code",
   "execution_count": 89,
   "metadata": {},
   "outputs": [
    {
     "data": {
      "text/plain": [
       "0.0"
      ]
     },
     "execution_count": 89,
     "metadata": {},
     "output_type": "execute_result"
    }
   ],
   "source": [
    "dim = dims['network_dim']\n",
    "(~df.network_key.isin(dim.network_key)).sum() / len(df)"
   ]
  },
  {
   "cell_type": "code",
   "execution_count": 41,
   "metadata": {},
   "outputs": [
    {
     "name": "stdout",
     "output_type": "stream",
     "text": [
      "<class 'pandas.core.frame.DataFrame'>\n",
      "RangeIndex: 1243176 entries, 0 to 1243175\n",
      "Data columns (total 17 columns):\n",
      "network_key                1243176 non-null uint64\n",
      "ip_type                    1243176 non-null object\n",
      "network                    1243176 non-null object\n",
      "geoname_id                 1243176 non-null float64\n",
      "postal_code                1234929 non-null object\n",
      "latitude                   1243176 non-null float64\n",
      "longitude                  1243176 non-null float64\n",
      "country_iso_code           1243176 non-null object\n",
      "country                    1243176 non-null object\n",
      "state_iso_code             1243176 non-null object\n",
      "state                      1243176 non-null object\n",
      "city                       1234727 non-null object\n",
      "time_zone                  1243176 non-null object\n",
      "geo_id                     1201677 non-null object\n",
      "occup_housing_units        1201677 non-null float64\n",
      "median_household_income    1197137 non-null float64\n",
      "median_household_costs     1197279 non-null float64\n",
      "dtypes: float64(6), object(10), uint64(1)\n",
      "memory usage: 161.2+ MB\n"
     ]
    }
   ],
   "source": [
    "dim.info()"
   ]
  },
  {
   "cell_type": "code",
   "execution_count": 22,
   "metadata": {},
   "outputs": [
    {
     "data": {
      "text/plain": [
       "['network_key',\n",
       " 'ip_type',\n",
       " 'network',\n",
       " 'geoname_id',\n",
       " 'postal_code',\n",
       " 'latitude',\n",
       " 'longitude',\n",
       " 'country_iso_code',\n",
       " 'country',\n",
       " 'state_iso_code',\n",
       " 'state',\n",
       " 'city',\n",
       " 'time_zone',\n",
       " 'geo_id',\n",
       " 'occup_housing_units',\n",
       " 'median_household_income',\n",
       " 'median_household_costs']"
      ]
     },
     "execution_count": 22,
     "metadata": {},
     "output_type": "execute_result"
    }
   ],
   "source": [
    "list(dim)"
   ]
  },
  {
   "cell_type": "code",
   "execution_count": 69,
   "metadata": {},
   "outputs": [],
   "source": [
    "\n"
   ]
  },
  {
   "cell_type": "code",
   "execution_count": 71,
   "metadata": {},
   "outputs": [
    {
     "name": "stdout",
     "output_type": "stream",
     "text": [
      "<class 'pandas.core.frame.DataFrame'>\n",
      "RangeIndex: 1 entries, 0 to 0\n",
      "Data columns (total 17 columns):\n",
      "network_key                1 non-null uint64\n",
      "ip_type                    1 non-null object\n",
      "network                    1 non-null object\n",
      "geoname_id                 0 non-null float64\n",
      "postal_code                1 non-null object\n",
      "latitude                   0 non-null float64\n",
      "longitude                  0 non-null float64\n",
      "country_iso_code           1 non-null object\n",
      "country                    1 non-null object\n",
      "state_iso_code             1 non-null object\n",
      "state                      1 non-null object\n",
      "city                       1 non-null object\n",
      "time_zone                  1 non-null object\n",
      "geo_id                     1 non-null object\n",
      "occup_housing_units        0 non-null float64\n",
      "median_household_income    0 non-null float64\n",
      "median_household_costs     0 non-null float64\n",
      "dtypes: float64(6), object(10), uint64(1)\n",
      "memory usage: 264.0+ bytes\n"
     ]
    }
   ],
   "source": [
    "empty_record.info()"
   ]
  },
  {
   "cell_type": "code",
   "execution_count": 73,
   "metadata": {},
   "outputs": [
    {
     "name": "stdout",
     "output_type": "stream",
     "text": [
      "<class 'pandas.core.frame.DataFrame'>\n",
      "Int64Index: 6 entries, 0 to 0\n",
      "Data columns (total 17 columns):\n",
      "network_key                6 non-null uint64\n",
      "ip_type                    6 non-null object\n",
      "network                    6 non-null object\n",
      "geoname_id                 5 non-null float64\n",
      "postal_code                6 non-null object\n",
      "latitude                   5 non-null float64\n",
      "longitude                  5 non-null float64\n",
      "country_iso_code           6 non-null object\n",
      "country                    6 non-null object\n",
      "state_iso_code             6 non-null object\n",
      "state                      6 non-null object\n",
      "city                       6 non-null object\n",
      "time_zone                  6 non-null object\n",
      "geo_id                     5 non-null object\n",
      "occup_housing_units        4 non-null float64\n",
      "median_household_income    4 non-null float64\n",
      "median_household_costs     4 non-null float64\n",
      "dtypes: float64(6), object(10), uint64(1)\n",
      "memory usage: 864.0+ bytes\n"
     ]
    }
   ],
   "source": [
    "dx = dim[:5].copy()\n",
    "\n",
    "#empty_record\n",
    "dx.info()"
   ]
  },
  {
   "cell_type": "code",
   "execution_count": 56,
   "metadata": {},
   "outputs": [
    {
     "name": "stdout",
     "output_type": "stream",
     "text": [
      "<class 'pandas.core.frame.DataFrame'>\n",
      "Int64Index: 6 entries, 0 to -1\n",
      "Data columns (total 17 columns):\n",
      "network_key                6 non-null float64\n",
      "ip_type                    6 non-null object\n",
      "network                    6 non-null object\n",
      "geoname_id                 6 non-null object\n",
      "postal_code                6 non-null object\n",
      "latitude                   6 non-null object\n",
      "longitude                  6 non-null object\n",
      "country_iso_code           6 non-null object\n",
      "country                    6 non-null object\n",
      "state_iso_code             6 non-null object\n",
      "state                      6 non-null object\n",
      "city                       6 non-null object\n",
      "time_zone                  6 non-null object\n",
      "geo_id                     5 non-null object\n",
      "occup_housing_units        4 non-null float64\n",
      "median_household_income    4 non-null float64\n",
      "median_household_costs     4 non-null float64\n",
      "dtypes: float64(4), object(13)\n",
      "memory usage: 864.0+ bytes\n"
     ]
    }
   ],
   "source": [
    "dx.info()"
   ]
  },
  {
   "cell_type": "code",
   "execution_count": null,
   "metadata": {},
   "outputs": [],
   "source": []
  }
 ],
 "metadata": {
  "kernelspec": {
   "display_name": "Python 3",
   "language": "python",
   "name": "python3"
  },
  "language_info": {
   "codemirror_mode": {
    "name": "ipython",
    "version": 3
   },
   "file_extension": ".py",
   "mimetype": "text/x-python",
   "name": "python",
   "nbconvert_exporter": "python",
   "pygments_lexer": "ipython3",
   "version": "3.7.4"
  }
 },
 "nbformat": 4,
 "nbformat_minor": 4
}
