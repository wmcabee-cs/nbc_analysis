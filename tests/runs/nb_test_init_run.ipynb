{
 "cells": [
  {
   "cell_type": "code",
   "execution_count": 1,
   "metadata": {},
   "outputs": [],
   "source": [
    "%reload_ext autoreload\n",
    "%autoreload 2"
   ]
  },
  {
   "cell_type": "code",
   "execution_count": 7,
   "metadata": {},
   "outputs": [],
   "source": [
    "from test_run import test_init_run, _get_config\n",
    "from nbc_analysis.utils.debug_utils import runit\n",
    "from nbc_analysis.utils.config_utils import read_config_yaml\n",
    "\n",
    "import arrow\n",
    "\n",
    "import pandas as pd\n"
   ]
  },
  {
   "cell_type": "code",
   "execution_count": 8,
   "metadata": {},
   "outputs": [
    {
     "data": {
      "text/plain": [
       "'/Users/wmcabee/DATA/NBC'"
      ]
     },
     "execution_count": 8,
     "metadata": {},
     "output_type": "execute_result"
    }
   ],
   "source": [
    "import os\n",
    "os.environ['NBC_DATA_TOP']"
   ]
  },
  {
   "cell_type": "code",
   "execution_count": 9,
   "metadata": {},
   "outputs": [
    {
     "name": "stdout",
     "output_type": "stream",
     "text": [
      ">> Using default config\n"
     ]
    },
    {
     "data": {
      "text/plain": [
       "{'CALENDAR_START_DAY_KEY': '20170101',\n",
       " 'CALENDAR_END_DAY_KEY': '20210101',\n",
       " 'CALENDAR_D': '/Users/wmcabee/DATA/NBC/calendar',\n",
       " 'ANALYSIS_D': '/Users/wmcabee/DATA/NBC/ana',\n",
       " 'RUNS_D': '/Users/wmcabee/DATA/NBC/runs',\n",
       " 'WORK_D': '/Users/wmcabee/DATA/NBC/work',\n",
       " 'VIDEO_END_BUCKET': 'nbc-event',\n",
       " 'VIDEO_END_PARTITIONS_BUCKET': 'nbc-partitions-video-end',\n",
       " 'BATCH_SIZE': 200000000,\n",
       " 'GEOLITE2_DB': '/Users/wmcabee/DATA/NBC/datasets/GeoLite2-City_20191001/GeoLite2-City.mmdb',\n",
       " 'VIEWER_PARTITION_NUM': 60,\n",
       " 'VIEWER_PARTITION_D': '/Users/wmcabee/DATA/NBC/viewer_partitions',\n",
       " 'LIMIT_FILES_PER_DAY': 2000,\n",
       " 'BATCH_LIMIT': 2,\n",
       " 'BATCH_FILES_LIMIT': 2}"
      ]
     },
     "execution_count": 9,
     "metadata": {},
     "output_type": "execute_result"
    }
   ],
   "source": [
    "CONFIG = _get_config()\n",
    "CONFIG"
   ]
  },
  {
   "cell_type": "code",
   "execution_count": 12,
   "metadata": {},
   "outputs": [
    {
     "name": "stdout",
     "output_type": "stream",
     "text": [
      ">> Using default config\n",
      ">> start run init,run_id=r_testrun,start_day=None,weeks=10,runs_d=None\n",
      ">> initializing run directory,run_d='/Users/wmcabee/DATA/NBC/runs/r_testrun,exist_ok=True,rmtree=True\n",
      ">> wrote /Users/wmcabee/DATA/NBC/runs/r_testrun/days.csv,records=67\n",
      ">> wrote /Users/wmcabee/DATA/NBC/runs/r_testrun/weeks.csv,records=10\n",
      ">> created config file '/Users/wmcabee/DATA/NBC/runs/r_testrun/run_config.yaml'\n",
      ">> wrote /Users/wmcabee/DATA/NBC/runs/r_testrun/run_config.yaml\n",
      ">> end run init\n"
     ]
    }
   ],
   "source": [
    "run_d =runit(test_init_run)"
   ]
  },
  {
   "cell_type": "code",
   "execution_count": 24,
   "metadata": {},
   "outputs": [
    {
     "data": {
      "text/plain": [
       "[PosixPath('/Users/wmcabee/DATA/NBC/runs/r_testrun/weeks.csv'),\n",
       " PosixPath('/Users/wmcabee/DATA/NBC/runs/r_testrun/run_config.yaml'),\n",
       " PosixPath('/Users/wmcabee/DATA/NBC/runs/r_testrun/days.csv')]"
      ]
     },
     "execution_count": 24,
     "metadata": {},
     "output_type": "execute_result"
    }
   ],
   "source": [
    "list(run_d.glob('*'))"
   ]
  },
  {
   "cell_type": "code",
   "execution_count": 17,
   "metadata": {},
   "outputs": [
    {
     "name": "stdout",
     "output_type": "stream",
     "text": [
      ">> loaded config '/Users/wmcabee/DATA/NBC/runs/r_testrun/run_config.yaml'\n"
     ]
    }
   ],
   "source": [
    "config_f = run_d / 'run_config.yaml'\n",
    "config = read_config_yaml(config_f)"
   ]
  },
  {
   "cell_type": "code",
   "execution_count": 25,
   "metadata": {},
   "outputs": [
    {
     "data": {
      "text/html": [
       "<div>\n",
       "<style scoped>\n",
       "    .dataframe tbody tr th:only-of-type {\n",
       "        vertical-align: middle;\n",
       "    }\n",
       "\n",
       "    .dataframe tbody tr th {\n",
       "        vertical-align: top;\n",
       "    }\n",
       "\n",
       "    .dataframe thead th {\n",
       "        text-align: right;\n",
       "    }\n",
       "</style>\n",
       "<table border=\"1\" class=\"dataframe\">\n",
       "  <thead>\n",
       "    <tr style=\"text-align: right;\">\n",
       "      <th></th>\n",
       "      <th>week_id</th>\n",
       "      <th>size</th>\n",
       "      <th>min</th>\n",
       "      <th>max</th>\n",
       "    </tr>\n",
       "  </thead>\n",
       "  <tbody>\n",
       "    <tr>\n",
       "      <td>0</td>\n",
       "      <td>2019W39</td>\n",
       "      <td>7</td>\n",
       "      <td>20190923</td>\n",
       "      <td>20190929</td>\n",
       "    </tr>\n",
       "    <tr>\n",
       "      <td>1</td>\n",
       "      <td>2019W40</td>\n",
       "      <td>7</td>\n",
       "      <td>20190930</td>\n",
       "      <td>20191006</td>\n",
       "    </tr>\n",
       "    <tr>\n",
       "      <td>2</td>\n",
       "      <td>2019W41</td>\n",
       "      <td>4</td>\n",
       "      <td>20191007</td>\n",
       "      <td>20191010</td>\n",
       "    </tr>\n",
       "  </tbody>\n",
       "</table>\n",
       "</div>"
      ],
      "text/plain": [
       "   week_id  size       min       max\n",
       "0  2019W39     7  20190923  20190929\n",
       "1  2019W40     7  20190930  20191006\n",
       "2  2019W41     4  20191007  20191010"
      ]
     },
     "execution_count": 25,
     "metadata": {},
     "output_type": "execute_result"
    }
   ],
   "source": [
    "pd.read_csv( run_d / 'weeks.csv')"
   ]
  },
  {
   "cell_type": "code",
   "execution_count": null,
   "metadata": {},
   "outputs": [],
   "source": []
  }
 ],
 "metadata": {
  "kernelspec": {
   "display_name": "Python 3",
   "language": "python",
   "name": "python3"
  },
  "language_info": {
   "codemirror_mode": {
    "name": "ipython",
    "version": 3
   },
   "file_extension": ".py",
   "mimetype": "text/x-python",
   "name": "python",
   "nbconvert_exporter": "python",
   "pygments_lexer": "ipython3",
   "version": "3.7.4"
  }
 },
 "nbformat": 4,
 "nbformat_minor": 4
}
