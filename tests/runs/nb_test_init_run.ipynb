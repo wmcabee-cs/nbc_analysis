{
 "cells": [
  {
   "cell_type": "code",
   "execution_count": 6,
   "metadata": {},
   "outputs": [],
   "source": [
    "%reload_ext autoreload\n",
    "%autoreload 2"
   ]
  },
  {
   "cell_type": "code",
   "execution_count": 12,
   "metadata": {},
   "outputs": [],
   "source": [
    "from test_run import test_init_run, _get_config\n",
    "from nbc_analysis.utils.debug_utils import runit\n",
    "from nbc_analysis.utils.config_utils import read_config_yaml\n",
    "from nbc_analysis import create_day_calendar\n",
    "\n",
    "import arrow\n",
    "\n",
    "import pandas as pd\n"
   ]
  },
  {
   "cell_type": "code",
   "execution_count": 13,
   "metadata": {},
   "outputs": [
    {
     "name": "stderr",
     "output_type": "stream",
     "text": [
      "2019-10-11 13:54:01,681|WARNING|nbc_analysis.utils.config_utils|The 'default' config is intended for testing only. For production, use /Users/wmcabee/.config/nbc_analysis/config.yaml\n",
      "2019-10-11 13:54:01,681|WARNING|nbc_analysis.utils.config_utils|The 'default' config is intended for testing only. For production, use /Users/wmcabee/.config/nbc_analysis/config.yaml\n",
      "2019-10-11 13:54:01,681|WARNING|nbc_analysis.utils.config_utils|The 'default' config is intended for testing only. For production, use /Users/wmcabee/.config/nbc_analysis/config.yaml\n"
     ]
    },
    {
     "data": {
      "text/plain": [
       "{'CALENDAR_START_DAY_KEY': '20170101',\n",
       " 'CALENDAR_END_DAY_KEY': '20210101',\n",
       " 'CALENDAR_D': '/Users/wmcabee/DATA/NBC/calendar',\n",
       " 'ANALYSIS_D': '/Users/wmcabee/DATA/NBC/ana',\n",
       " 'RUNS_D': '/Users/wmcabee/DATA/NBC/runs',\n",
       " 'WORK_D': '/Users/wmcabee/DATA/NBC/work',\n",
       " 'VIDEO_END_BUCKET': 'nbc-event',\n",
       " 'VIDEO_END_PARTITIONS_BUCKET': 'nbc-partitions-video-end',\n",
       " 'BATCH_SIZE': 200000000,\n",
       " 'GEOLITE2_DB': '/Users/wmcabee/DATA/NBC/datasets/GeoLite2-City_20191001/GeoLite2-City.mmdb',\n",
       " 'VIEWER_PARTITION_NUM': 60,\n",
       " 'VIEWER_PARTITION_D': '/Users/wmcabee/DATA/NBC/viewer_partitions',\n",
       " 'LIMIT_FILES_PER_DAY': 20,\n",
       " 'BATCH_LIMIT': 2,\n",
       " 'BATCH_FILES_LIMIT': 2}"
      ]
     },
     "execution_count": 13,
     "metadata": {},
     "output_type": "execute_result"
    }
   ],
   "source": [
    "CONFIG = _get_config()\n",
    "CONFIG"
   ]
  },
  {
   "cell_type": "code",
   "execution_count": 14,
   "metadata": {},
   "outputs": [
    {
     "name": "stderr",
     "output_type": "stream",
     "text": [
      "2019-10-11 13:54:05,831|INFO|nbc_analysis.calendar.create_days.main|start create_days_calendar,start_day_key=20170101,end_day_key=20210101\n",
      "2019-10-11 13:54:05,831|INFO|nbc_analysis.calendar.create_days.main|start create_days_calendar,start_day_key=20170101,end_day_key=20210101\n",
      "2019-10-11 13:54:05,831|INFO|nbc_analysis.calendar.create_days.main|start create_days_calendar,start_day_key=20170101,end_day_key=20210101\n",
      "2019-10-11 13:54:07,462|INFO|nbc_analysis.calendar.create_days.main|wrote /Users/wmcabee/DATA/NBC/calendar/cal_days.parquet,records=1461\n",
      "2019-10-11 13:54:07,462|INFO|nbc_analysis.calendar.create_days.main|wrote /Users/wmcabee/DATA/NBC/calendar/cal_days.parquet,records=1461\n",
      "2019-10-11 13:54:07,462|INFO|nbc_analysis.calendar.create_days.main|wrote /Users/wmcabee/DATA/NBC/calendar/cal_days.parquet,records=1461\n",
      "2019-10-11 13:54:07,464|INFO|nbc_analysis.calendar.create_days.main|end create_days_calendar,start_day_key=20170101,end_day_key=20210101\n",
      "2019-10-11 13:54:07,464|INFO|nbc_analysis.calendar.create_days.main|end create_days_calendar,start_day_key=20170101,end_day_key=20210101\n",
      "2019-10-11 13:54:07,464|INFO|nbc_analysis.calendar.create_days.main|end create_days_calendar,start_day_key=20170101,end_day_key=20210101\n"
     ]
    }
   ],
   "source": [
    "create_day_calendar(config=CONFIG)"
   ]
  },
  {
   "cell_type": "code",
   "execution_count": 15,
   "metadata": {},
   "outputs": [
    {
     "name": "stderr",
     "output_type": "stream",
     "text": [
      "2019-10-11 13:54:07,501|WARNING|nbc_analysis.utils.config_utils|The 'default' config is intended for testing only. For production, use /Users/wmcabee/.config/nbc_analysis/config.yaml\n",
      "2019-10-11 13:54:07,501|WARNING|nbc_analysis.utils.config_utils|The 'default' config is intended for testing only. For production, use /Users/wmcabee/.config/nbc_analysis/config.yaml\n",
      "2019-10-11 13:54:07,501|WARNING|nbc_analysis.utils.config_utils|The 'default' config is intended for testing only. For production, use /Users/wmcabee/.config/nbc_analysis/config.yaml\n",
      "2019-10-11 13:54:07,503|INFO|nbc_analysis.runs.init_run.main|start run init,run_id=r_testrun,start_day=None,weeks=13,runs_d=None\n",
      "2019-10-11 13:54:07,503|INFO|nbc_analysis.runs.init_run.main|start run init,run_id=r_testrun,start_day=None,weeks=13,runs_d=None\n",
      "2019-10-11 13:54:07,503|INFO|nbc_analysis.runs.init_run.main|start run init,run_id=r_testrun,start_day=None,weeks=13,runs_d=None\n",
      "2019-10-11 13:54:07,512|INFO|nbc_analysis.runs.init_run.main|initializing run directory,run_d='/Users/wmcabee/DATA/NBC/runs/r_testrun,exist_ok=True,rmtree=True\n",
      "2019-10-11 13:54:07,512|INFO|nbc_analysis.runs.init_run.main|initializing run directory,run_d='/Users/wmcabee/DATA/NBC/runs/r_testrun,exist_ok=True,rmtree=True\n",
      "2019-10-11 13:54:07,512|INFO|nbc_analysis.runs.init_run.main|initializing run directory,run_d='/Users/wmcabee/DATA/NBC/runs/r_testrun,exist_ok=True,rmtree=True\n",
      "2019-10-11 13:54:07,522|INFO|nbc_analysis.runs.init_run.main|wrote /Users/wmcabee/DATA/NBC/runs/r_testrun/days.csv,records=89\n",
      "2019-10-11 13:54:07,522|INFO|nbc_analysis.runs.init_run.main|wrote /Users/wmcabee/DATA/NBC/runs/r_testrun/days.csv,records=89\n",
      "2019-10-11 13:54:07,522|INFO|nbc_analysis.runs.init_run.main|wrote /Users/wmcabee/DATA/NBC/runs/r_testrun/days.csv,records=89\n",
      "2019-10-11 13:54:07,528|INFO|nbc_analysis.runs.init_run.main|wrote /Users/wmcabee/DATA/NBC/runs/r_testrun/weeks.csv,records=13\n",
      "2019-10-11 13:54:07,528|INFO|nbc_analysis.runs.init_run.main|wrote /Users/wmcabee/DATA/NBC/runs/r_testrun/weeks.csv,records=13\n",
      "2019-10-11 13:54:07,528|INFO|nbc_analysis.runs.init_run.main|wrote /Users/wmcabee/DATA/NBC/runs/r_testrun/weeks.csv,records=13\n",
      "2019-10-11 13:54:07,531|INFO|nbc_analysis.utils.config_utils|wrote config file to '/Users/wmcabee/DATA/NBC/runs/r_testrun/run_config.yaml'\n",
      "2019-10-11 13:54:07,531|INFO|nbc_analysis.utils.config_utils|wrote config file to '/Users/wmcabee/DATA/NBC/runs/r_testrun/run_config.yaml'\n",
      "2019-10-11 13:54:07,531|INFO|nbc_analysis.utils.config_utils|wrote config file to '/Users/wmcabee/DATA/NBC/runs/r_testrun/run_config.yaml'\n",
      "2019-10-11 13:54:07,534|INFO|nbc_analysis.runs.init_run.main|wrote /Users/wmcabee/DATA/NBC/runs/r_testrun/run_config.yaml\n",
      "2019-10-11 13:54:07,534|INFO|nbc_analysis.runs.init_run.main|wrote /Users/wmcabee/DATA/NBC/runs/r_testrun/run_config.yaml\n",
      "2019-10-11 13:54:07,534|INFO|nbc_analysis.runs.init_run.main|wrote /Users/wmcabee/DATA/NBC/runs/r_testrun/run_config.yaml\n",
      "2019-10-11 13:54:07,536|INFO|nbc_analysis.runs.init_run.main|end run init\n",
      "2019-10-11 13:54:07,536|INFO|nbc_analysis.runs.init_run.main|end run init\n",
      "2019-10-11 13:54:07,536|INFO|nbc_analysis.runs.init_run.main|end run init\n"
     ]
    }
   ],
   "source": [
    "run_d =runit(test_init_run)"
   ]
  },
  {
   "cell_type": "code",
   "execution_count": 13,
   "metadata": {},
   "outputs": [
    {
     "data": {
      "text/plain": [
       "[PosixPath('/Users/wmcabee/DATA/NBC/runs/r_testrun/weeks.csv'),\n",
       " PosixPath('/Users/wmcabee/DATA/NBC/runs/r_testrun/run_config.yaml'),\n",
       " PosixPath('/Users/wmcabee/DATA/NBC/runs/r_testrun/days.csv')]"
      ]
     },
     "execution_count": 13,
     "metadata": {},
     "output_type": "execute_result"
    }
   ],
   "source": [
    "list(run_d.glob('*'))"
   ]
  },
  {
   "cell_type": "code",
   "execution_count": 14,
   "metadata": {},
   "outputs": [],
   "source": [
    "config_f = run_d / 'run_config.yaml'\n",
    "config = read_config_yaml(config_f)"
   ]
  },
  {
   "cell_type": "code",
   "execution_count": 15,
   "metadata": {},
   "outputs": [
    {
     "data": {
      "text/html": [
       "<div>\n",
       "<style scoped>\n",
       "    .dataframe tbody tr th:only-of-type {\n",
       "        vertical-align: middle;\n",
       "    }\n",
       "\n",
       "    .dataframe tbody tr th {\n",
       "        vertical-align: top;\n",
       "    }\n",
       "\n",
       "    .dataframe thead th {\n",
       "        text-align: right;\n",
       "    }\n",
       "</style>\n",
       "<table border=\"1\" class=\"dataframe\">\n",
       "  <thead>\n",
       "    <tr style=\"text-align: right;\">\n",
       "      <th></th>\n",
       "      <th>week_id</th>\n",
       "      <th>size</th>\n",
       "      <th>min</th>\n",
       "      <th>max</th>\n",
       "    </tr>\n",
       "  </thead>\n",
       "  <tbody>\n",
       "    <tr>\n",
       "      <td>0</td>\n",
       "      <td>2019W39</td>\n",
       "      <td>7</td>\n",
       "      <td>20190923</td>\n",
       "      <td>20190929</td>\n",
       "    </tr>\n",
       "    <tr>\n",
       "      <td>1</td>\n",
       "      <td>2019W40</td>\n",
       "      <td>7</td>\n",
       "      <td>20190930</td>\n",
       "      <td>20191006</td>\n",
       "    </tr>\n",
       "    <tr>\n",
       "      <td>2</td>\n",
       "      <td>2019W41</td>\n",
       "      <td>5</td>\n",
       "      <td>20191007</td>\n",
       "      <td>20191011</td>\n",
       "    </tr>\n",
       "  </tbody>\n",
       "</table>\n",
       "</div>"
      ],
      "text/plain": [
       "   week_id  size       min       max\n",
       "0  2019W39     7  20190923  20190929\n",
       "1  2019W40     7  20190930  20191006\n",
       "2  2019W41     5  20191007  20191011"
      ]
     },
     "execution_count": 15,
     "metadata": {},
     "output_type": "execute_result"
    }
   ],
   "source": [
    "pd.read_csv( run_d / 'weeks.csv')"
   ]
  },
  {
   "cell_type": "code",
   "execution_count": null,
   "metadata": {},
   "outputs": [],
   "source": []
  }
 ],
 "metadata": {
  "kernelspec": {
   "display_name": "Python 3",
   "language": "python",
   "name": "python3"
  },
  "language_info": {
   "codemirror_mode": {
    "name": "ipython",
    "version": 3
   },
   "file_extension": ".py",
   "mimetype": "text/x-python",
   "name": "python",
   "nbconvert_exporter": "python",
   "pygments_lexer": "ipython3",
   "version": "3.7.4"
  }
 },
 "nbformat": 4,
 "nbformat_minor": 4
}
