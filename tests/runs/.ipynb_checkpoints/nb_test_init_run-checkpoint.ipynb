{
 "cells": [
  {
   "cell_type": "code",
   "execution_count": 1,
   "metadata": {},
   "outputs": [],
   "source": [
    "%reload_ext autoreload\n",
    "%autoreload 2"
   ]
  },
  {
   "cell_type": "code",
   "execution_count": 2,
   "metadata": {},
   "outputs": [],
   "source": [
    "from test_init_run import test_init_run, _get_config\n",
    "from nbc_analysis.utils.debug_utils import runit\n",
    "from nbc_analysis.utils.config_utils import read_config_yaml\n",
    "\n",
    "import arrow\n",
    "\n",
    "import pandas as pd\n"
   ]
  },
  {
   "cell_type": "code",
   "execution_count": 5,
   "metadata": {},
   "outputs": [
    {
     "data": {
      "text/plain": [
       "'/Users/wmcabee/DATA/NBC'"
      ]
     },
     "execution_count": 5,
     "metadata": {},
     "output_type": "execute_result"
    }
   ],
   "source": [
    "import os\n",
    "os.environ['NBC_DATA_TOP']"
   ]
  },
  {
   "cell_type": "code",
   "execution_count": 11,
   "metadata": {},
   "outputs": [
    {
     "name": "stdout",
     "output_type": "stream",
     "text": [
      ">> Using default config\n"
     ]
    },
    {
     "data": {
      "text/plain": [
       "{'CALENDAR_D': '/Users/wmcabee/DATA/NBC/calendar',\n",
       " 'ANALYSIS_D': '/Users/wmcabee/DATA/NBC/ana',\n",
       " 'RUNS_D': '/Users/wmcabee/DATA/NBC/runs',\n",
       " 'WORK_D': '/Users/wmcabee/DATA/NBC/work',\n",
       " 'VIDEO_END_BUCKET': 'nbc-event',\n",
       " 'VIDEO_END_PARTITIONS_BUCKET': 'nbc-partitions-video-end',\n",
       " 'BATCH_SIZE': 200000000,\n",
       " 'GEOLITE2_DB': '/Users/wmcabee/DATA/NBC/datasets/GeoLite2-City_20191001/GeoLite2-City.mmdb',\n",
       " 'VIEWER_PARTITION_NUM': 60}"
      ]
     },
     "execution_count": 11,
     "metadata": {},
     "output_type": "execute_result"
    }
   ],
   "source": [
    "CONFIG = _get_config()\n",
    "CONFIG"
   ]
  },
  {
   "cell_type": "code",
   "execution_count": 15,
   "metadata": {},
   "outputs": [
    {
     "name": "stdout",
     "output_type": "stream",
     "text": [
      ">> Using default config\n",
      ">> start run init,run_id=r_testrun,start_day=None,weeks_back=3,runs_d=None\n",
      ">> initializing run directory,run_d='/Users/wmcabee/DATA/NBC/runs/r_testrun,exist_ok=True,rmtree=True\n",
      ">> wrote /Users/wmcabee/DATA/NBC/runs/r_testrun/days.csv,records=18\n",
      ">> wrote /Users/wmcabee/DATA/NBC/runs/r_testrun/weeks.csv,records=3\n",
      ">> created config file '/Users/wmcabee/DATA/NBC/runs/r_testrun/run_config.yaml'\n",
      ">> wrote /Users/wmcabee/DATA/NBC/runs/r_testrun/run_config.yaml\n",
      ">> end run init\n"
     ]
    }
   ],
   "source": [
    "run_d =runit(test_init_run)"
   ]
  },
  {
   "cell_type": "code",
   "execution_count": 16,
   "metadata": {},
   "outputs": [
    {
     "data": {
      "text/plain": [
       "[PosixPath('/Users/wmcabee/DATA/NBC/runs/r_testrun/weeks.csv'),\n",
       " PosixPath('/Users/wmcabee/DATA/NBC/runs/r_testrun/run_config.yaml'),\n",
       " PosixPath('/Users/wmcabee/DATA/NBC/runs/r_testrun/days.csv')]"
      ]
     },
     "execution_count": 16,
     "metadata": {},
     "output_type": "execute_result"
    }
   ],
   "source": [
    "list(run_d.glob('*'))"
   ]
  },
  {
   "cell_type": "code",
   "execution_count": 17,
   "metadata": {},
   "outputs": [
    {
     "name": "stdout",
     "output_type": "stream",
     "text": [
      ">> loaded config '/Users/wmcabee/DATA/NBC/runs/r_testrun/run_config.yaml'\n"
     ]
    }
   ],
   "source": [
    "config_f = run_d / 'run_config.yaml'\n",
    "config = read_config_yaml(config_f)"
   ]
  },
  {
   "cell_type": "code",
   "execution_count": 18,
   "metadata": {},
   "outputs": [
    {
     "data": {
      "text/plain": [
       "{'RUN_ID': 'r_testrun'}"
      ]
     },
     "execution_count": 18,
     "metadata": {},
     "output_type": "execute_result"
    }
   ],
   "source": [
    "config"
   ]
  },
  {
   "cell_type": "code",
   "execution_count": null,
   "metadata": {},
   "outputs": [],
   "source": []
  }
 ],
 "metadata": {
  "kernelspec": {
   "display_name": "Python 3",
   "language": "python",
   "name": "python3"
  },
  "language_info": {
   "codemirror_mode": {
    "name": "ipython",
    "version": 3
   },
   "file_extension": ".py",
   "mimetype": "text/x-python",
   "name": "python",
   "nbconvert_exporter": "python",
   "pygments_lexer": "ipython3",
   "version": "3.7.4"
  }
 },
 "nbformat": 4,
 "nbformat_minor": 4
}
