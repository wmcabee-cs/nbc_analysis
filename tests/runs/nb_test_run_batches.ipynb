{
 "cells": [
  {
   "cell_type": "code",
   "execution_count": 12,
   "metadata": {},
   "outputs": [],
   "source": [
    "%reload_ext autoreload\n",
    "%autoreload 2"
   ]
  },
  {
   "cell_type": "code",
   "execution_count": 16,
   "metadata": {},
   "outputs": [],
   "source": [
    "from nbc_analysis.utils.log_utils import get_logger\n",
    "from test_run import test_run_batches, _get_run_config\n",
    "from nbc_analysis.utils.debug_utils import runit\n",
    "from nbc_analysis.utils.config_utils import read_config_yaml\n",
    "\n",
    "import logging\n",
    "\n",
    "import arrow\n",
    "\n",
    "import pandas as pd\n"
   ]
  },
  {
   "cell_type": "code",
   "execution_count": 17,
   "metadata": {},
   "outputs": [
    {
     "name": "stderr",
     "output_type": "stream",
     "text": [
      "2019-10-11 10:55:17,158|WARNING|nbc_analysis.utils.config_utils|The 'default' config is intended for testing only. For production, use /Users/wmcabee/.config/nbc_analysis/config.yaml\n"
     ]
    },
    {
     "data": {
      "text/plain": [
       "{'CALENDAR_START_DAY_KEY': '20170101',\n",
       " 'CALENDAR_END_DAY_KEY': '20210101',\n",
       " 'CALENDAR_D': '/Users/wmcabee/DATA/NBC/calendar',\n",
       " 'ANALYSIS_D': '/Users/wmcabee/DATA/NBC/ana',\n",
       " 'RUNS_D': '/Users/wmcabee/DATA/NBC/runs',\n",
       " 'WORK_D': '/Users/wmcabee/DATA/NBC/work',\n",
       " 'VIDEO_END_BUCKET': 'nbc-event',\n",
       " 'VIDEO_END_PARTITIONS_BUCKET': 'nbc-partitions-video-end',\n",
       " 'BATCH_SIZE': 200000000,\n",
       " 'GEOLITE2_DB': '/Users/wmcabee/DATA/NBC/datasets/GeoLite2-City_20191001/GeoLite2-City.mmdb',\n",
       " 'VIEWER_PARTITION_NUM': 60,\n",
       " 'VIEWER_PARTITION_D': '/Users/wmcabee/DATA/NBC/viewer_partitions',\n",
       " 'LIMIT_FILES_PER_DAY': 2000,\n",
       " 'BATCH_LIMIT': 2,\n",
       " 'BATCH_FILES_LIMIT': 2,\n",
       " 'RUN_ID': 'r_testrun',\n",
       " 'RUN_D': '/Users/wmcabee/DATA/NBC/runs/r_testrun'}"
      ]
     },
     "execution_count": 17,
     "metadata": {},
     "output_type": "execute_result"
    }
   ],
   "source": [
    "CONFIG = runit(_get_run_config)\n",
    "CONFIG"
   ]
  },
  {
   "cell_type": "code",
   "execution_count": 18,
   "metadata": {},
   "outputs": [
    {
     "name": "stderr",
     "output_type": "stream",
     "text": [
      "2019-10-11 10:55:18,098|WARNING|nbc_analysis.utils.config_utils|The 'default' config is intended for testing only. For production, use /Users/wmcabee/.config/nbc_analysis/config.yaml\n",
      "2019-10-11 10:55:18,100|INFO|nbc_analysis.runs.run_batches|start run,run_id=r_testrun,run_config=CALENDAR_START_DAY_KEY=20170101,CALENDAR_END_DAY_KEY=20210101,CALENDAR_D=/Users/wmcabee/DATA/NBC/calendar,ANALYSIS_D=/Users/wmcabee/DATA/NBC/ana,RUNS_D=/Users/wmcabee/DATA/NBC/runs,WORK_D=/Users/wmcabee/DATA/NBC/work,VIDEO_END_BUCKET=nbc-event,VIDEO_END_PARTITIONS_BUCKET=nbc-partitions-video-end,BATCH_SIZE=200000000,GEOLITE2_DB=/Users/wmcabee/DATA/NBC/datasets/GeoLite2-City_20191001/GeoLite2-City.mmdb,VIEWER_PARTITION_NUM=60,VIEWER_PARTITION_D=/Users/wmcabee/DATA/NBC/viewer_partitions,LIMIT_FILES_PER_DAY=2000,BATCH_LIMIT=2,BATCH_FILES_LIMIT=2,RUN_ID=r_testrun,RUN_D=/Users/wmcabee/DATA/NBC/runs/r_testrun\n",
      "2019-10-11 10:55:18,108|INFO|nbc_analysis.runs.run_batches|start week,week_id=2019W41\n",
      "2019-10-11 10:55:18,109|INFO|nbc_analysis.batch.extract_file_lists.main|start extract_file_lists,run_id=r_testrun,week_id=2019W41,day_cnt=5\n",
      "2019-10-11 10:55:18,532|WARNING|nbc_analysis.utils.io_utils.csv_io|No events extracted for day=20191011.\n",
      "2019-10-11 10:55:18,721|WARNING|nbc_analysis.utils.io_utils.csv_io|No events extracted for day=20191010.\n",
      "2019-10-11 10:55:18,914|WARNING|nbc_analysis.utils.io_utils.csv_io|No events extracted for day=20191009.\n",
      "2019-10-11 10:55:19,157|WARNING|nbc_analysis.utils.io_utils.csv_io|No events extracted for day=20191008.\n",
      "2019-10-11 10:55:19,345|WARNING|nbc_analysis.utils.io_utils.csv_io|No events extracted for day=20191007.\n",
      "2019-10-11 10:55:19,346|INFO|nbc_analysis.batch.extract_file_lists.main|end extract_file_lists\n",
      "2019-10-11 10:55:19,349|INFO|nbc_analysis.batch.size_batches.main|start size_batches,run_id=r_testrun,week_id=2019W41\n",
      "2019-10-11 10:55:19,350|WARNING|nbc_analysis.batch.size_batches.main|no events found,week_id=2019W41, skipping\n",
      "2019-10-11 10:55:19,351|INFO|nbc_analysis.runs.run_batches|end week_id=2019W41\n",
      "2019-10-11 10:55:19,354|INFO|nbc_analysis.runs.run_batches|start week,week_id=2019W40\n",
      "2019-10-11 10:55:19,355|INFO|nbc_analysis.batch.extract_file_lists.main|start extract_file_lists,run_id=r_testrun,week_id=2019W40,day_cnt=7\n",
      "2019-10-11 10:55:19,713|WARNING|nbc_analysis.utils.io_utils.csv_io|No events extracted for day=20191006.\n",
      "2019-10-11 10:55:19,900|WARNING|nbc_analysis.utils.io_utils.csv_io|No events extracted for day=20191005.\n",
      "2019-10-11 10:55:20,150|WARNING|nbc_analysis.utils.io_utils.csv_io|No events extracted for day=20191004.\n",
      "2019-10-11 10:55:20,347|WARNING|nbc_analysis.utils.io_utils.csv_io|No events extracted for day=20191003.\n",
      "2019-10-11 10:55:20,542|WARNING|nbc_analysis.utils.io_utils.csv_io|No events extracted for day=20191002.\n",
      "2019-10-11 10:55:21,631|INFO|nbc_analysis.utils.io_utils.csv_io|wrote /Users/wmcabee/DATA/NBC/runs/r_testrun/2019W40/file_lists/ve_20191001.csv.gz,cnt=2018\n",
      "2019-10-11 10:55:23,537|INFO|nbc_analysis.utils.io_utils.csv_io|wrote /Users/wmcabee/DATA/NBC/runs/r_testrun/2019W40/file_lists/ve_20190930.csv.gz,cnt=4029\n",
      "2019-10-11 10:55:23,538|INFO|nbc_analysis.batch.extract_file_lists.main|end extract_file_lists\n",
      "2019-10-11 10:55:23,541|INFO|nbc_analysis.batch.size_batches.main|start size_batches,run_id=r_testrun,week_id=2019W40\n",
      "2019-10-11 10:55:23,642|INFO|nbc_analysis.batch.size_batches.main|wrote outfile=/Users/wmcabee/DATA/NBC/runs/r_testrun/2019W40/batch_spec/batch_to_file.csv,records=6047\n",
      "2019-10-11 10:55:23,658|INFO|nbc_analysis.batch.size_batches.main|wrote outfile=/Users/wmcabee/DATA/NBC/runs/r_testrun/2019W40/batch_spec/batches.csv,log=24\n",
      "2019-10-11 10:55:23,659|INFO|nbc_analysis.batch.extract_events.main|start extract_events,run_id=r_testrun,week_id=2019W40\n",
      "2019-10-11 10:55:23,677|WARNING|nbc_analysis.utils.io_utils.csv_io|Limit batch count,batch_limit=2\n",
      "2019-10-11 10:55:23,677|WARNING|nbc_analysis.utils.io_utils.csv_io|Limit files in batch to first n,batch_files_limit=2\n",
      "2019-10-11 10:55:23,683|INFO|nbc_analysis.utils.io_utils.aws_io|start event_download,batch_id=ve_20190930_0000\n",
      "2019-10-11 10:55:24,315|INFO|nbc_analysis.batch.extract_events.main|wrote partition /Users/wmcabee/DATA/NBC/runs/r_testrun/2019W40/batches/ve_20190930_0000.parquet.gz,records=562\n",
      "2019-10-11 10:55:24,317|INFO|nbc_analysis.utils.io_utils.aws_io|start event_download,batch_id=ve_20190930_0001\n",
      "2019-10-11 10:55:25,062|INFO|nbc_analysis.batch.extract_events.main|wrote partition /Users/wmcabee/DATA/NBC/runs/r_testrun/2019W40/batches/ve_20190930_0001.parquet.gz,records=820\n",
      "2019-10-11 10:55:25,064|INFO|nbc_analysis.batch.extract_events.main|end events_extract,run_id=r_testrun,week_id=2019W40\n",
      "2019-10-11 10:55:25,065|INFO|nbc_analysis.batch.upload_batches.main|start upload_batches,run_id=r_testrun,week_id=2019W40\n",
      "2019-10-11 10:55:25,073|INFO|nbc_analysis.batch.upload_batches.main|upload batch s3,dest=clean/year=2019/week=2019W40/ve_20190930_0001.parquet \n",
      "2019-10-11 10:55:26,238|INFO|nbc_analysis.batch.upload_batches.main|upload batch s3,dest=clean/year=2019/week=2019W40/ve_20190930_0000.parquet \n",
      "2019-10-11 10:55:26,937|INFO|nbc_analysis.batch.upload_batches.main|end upload_batches,run_id=r_testrun,week_id=2019W40\n",
      "2019-10-11 10:55:26,941|INFO|nbc_analysis.runs.run_batches|start clean_batches,run_id=r_testrunweek_id=2019W40\n",
      "2019-10-11 10:55:26,943|INFO|nbc_analysis.runs.run_batches|end clean_batches,run_id=r_testrunweek_id=2019W40\n",
      "2019-10-11 10:55:26,943|INFO|nbc_analysis.runs.run_batches|end week_id=2019W40\n",
      "2019-10-11 10:55:26,945|INFO|nbc_analysis.runs.run_batches|start week,week_id=2019W39\n",
      "2019-10-11 10:55:26,947|INFO|nbc_analysis.batch.extract_file_lists.main|start extract_file_lists,run_id=r_testrun,week_id=2019W39,day_cnt=7\n",
      "2019-10-11 10:55:28,935|INFO|nbc_analysis.utils.io_utils.csv_io|wrote /Users/wmcabee/DATA/NBC/runs/r_testrun/2019W39/file_lists/ve_20190929.csv.gz,cnt=4034\n",
      "2019-10-11 10:55:30,794|INFO|nbc_analysis.utils.io_utils.csv_io|wrote /Users/wmcabee/DATA/NBC/runs/r_testrun/2019W39/file_lists/ve_20190928.csv.gz,cnt=4029\n",
      "2019-10-11 10:55:32,881|INFO|nbc_analysis.utils.io_utils.csv_io|wrote /Users/wmcabee/DATA/NBC/runs/r_testrun/2019W39/file_lists/ve_20190927.csv.gz,cnt=4023\n",
      "2019-10-11 10:55:34,775|INFO|nbc_analysis.utils.io_utils.csv_io|wrote /Users/wmcabee/DATA/NBC/runs/r_testrun/2019W39/file_lists/ve_20190926.csv.gz,cnt=4029\n",
      "2019-10-11 10:55:36,813|INFO|nbc_analysis.utils.io_utils.csv_io|wrote /Users/wmcabee/DATA/NBC/runs/r_testrun/2019W39/file_lists/ve_20190925.csv.gz,cnt=4041\n",
      "2019-10-11 10:55:38,420|INFO|nbc_analysis.utils.io_utils.csv_io|wrote /Users/wmcabee/DATA/NBC/runs/r_testrun/2019W39/file_lists/ve_20190924.csv.gz,cnt=4026\n",
      "2019-10-11 10:55:39,902|INFO|nbc_analysis.utils.io_utils.csv_io|wrote /Users/wmcabee/DATA/NBC/runs/r_testrun/2019W39/file_lists/ve_20190923.csv.gz,cnt=4030\n",
      "2019-10-11 10:55:39,903|INFO|nbc_analysis.batch.extract_file_lists.main|end extract_file_lists\n",
      "2019-10-11 10:55:39,905|INFO|nbc_analysis.batch.size_batches.main|start size_batches,run_id=r_testrun,week_id=2019W39\n",
      "2019-10-11 10:55:40,313|INFO|nbc_analysis.batch.size_batches.main|wrote outfile=/Users/wmcabee/DATA/NBC/runs/r_testrun/2019W39/batch_spec/batch_to_file.csv,records=28212\n",
      "2019-10-11 10:55:40,345|INFO|nbc_analysis.batch.size_batches.main|wrote outfile=/Users/wmcabee/DATA/NBC/runs/r_testrun/2019W39/batch_spec/batches.csv,log=103\n",
      "2019-10-11 10:55:40,345|INFO|nbc_analysis.batch.extract_events.main|start extract_events,run_id=r_testrun,week_id=2019W39\n",
      "2019-10-11 10:55:40,409|WARNING|nbc_analysis.utils.io_utils.csv_io|Limit batch count,batch_limit=2\n",
      "2019-10-11 10:55:40,410|WARNING|nbc_analysis.utils.io_utils.csv_io|Limit files in batch to first n,batch_files_limit=2\n",
      "2019-10-11 10:55:40,417|INFO|nbc_analysis.utils.io_utils.aws_io|start event_download,batch_id=ve_20190923_0000\n",
      "2019-10-11 10:55:41,002|INFO|nbc_analysis.batch.extract_events.main|wrote partition /Users/wmcabee/DATA/NBC/runs/r_testrun/2019W39/batches/ve_20190923_0000.parquet.gz,records=298\n",
      "2019-10-11 10:55:41,006|INFO|nbc_analysis.utils.io_utils.aws_io|start event_download,batch_id=ve_20190923_0001\n",
      "2019-10-11 10:55:41,586|INFO|nbc_analysis.batch.extract_events.main|wrote partition /Users/wmcabee/DATA/NBC/runs/r_testrun/2019W39/batches/ve_20190923_0001.parquet.gz,records=218\n",
      "2019-10-11 10:55:41,588|INFO|nbc_analysis.batch.extract_events.main|end events_extract,run_id=r_testrun,week_id=2019W39\n",
      "2019-10-11 10:55:41,589|INFO|nbc_analysis.batch.upload_batches.main|start upload_batches,run_id=r_testrun,week_id=2019W39\n",
      "2019-10-11 10:55:41,598|INFO|nbc_analysis.batch.upload_batches.main|upload batch s3,dest=clean/year=2019/week=2019W39/ve_20190923_0000.parquet \n",
      "2019-10-11 10:55:42,415|INFO|nbc_analysis.batch.upload_batches.main|upload batch s3,dest=clean/year=2019/week=2019W39/ve_20190923_0001.parquet \n",
      "2019-10-11 10:55:42,846|INFO|nbc_analysis.batch.upload_batches.main|end upload_batches,run_id=r_testrun,week_id=2019W39\n",
      "2019-10-11 10:55:42,849|INFO|nbc_analysis.runs.run_batches|start clean_batches,run_id=r_testrunweek_id=2019W39\n",
      "2019-10-11 10:55:42,850|INFO|nbc_analysis.runs.run_batches|end clean_batches,run_id=r_testrunweek_id=2019W39\n",
      "2019-10-11 10:55:42,851|INFO|nbc_analysis.runs.run_batches|end week_id=2019W39\n",
      "2019-10-11 10:55:42,852|INFO|nbc_analysis.runs.run_batches|end run,run_id=r_testrun\n"
     ]
    }
   ],
   "source": [
    "ret =runit(test_run_batches)"
   ]
  },
  {
   "cell_type": "code",
   "execution_count": null,
   "metadata": {},
   "outputs": [],
   "source": []
  },
  {
   "cell_type": "code",
   "execution_count": null,
   "metadata": {},
   "outputs": [],
   "source": []
  },
  {
   "cell_type": "code",
   "execution_count": null,
   "metadata": {},
   "outputs": [],
   "source": []
  }
 ],
 "metadata": {
  "kernelspec": {
   "display_name": "Python 3",
   "language": "python",
   "name": "python3"
  },
  "language_info": {
   "codemirror_mode": {
    "name": "ipython",
    "version": 3
   },
   "file_extension": ".py",
   "mimetype": "text/x-python",
   "name": "python",
   "nbconvert_exporter": "python",
   "pygments_lexer": "ipython3",
   "version": "3.7.4"
  }
 },
 "nbformat": 4,
 "nbformat_minor": 4
}
