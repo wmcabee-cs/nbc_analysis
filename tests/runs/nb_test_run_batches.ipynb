{
 "cells": [
  {
   "cell_type": "code",
   "execution_count": 1,
   "metadata": {},
   "outputs": [],
   "source": [
    "%reload_ext autoreload\n",
    "%autoreload 2"
   ]
  },
  {
   "cell_type": "code",
   "execution_count": 2,
   "metadata": {},
   "outputs": [],
   "source": [
    "from nbc_analysis.utils.log_utils import get_logger\n",
    "from test_run import test_run_batches, _get_run_config\n",
    "from nbc_analysis.utils.debug_utils import runit\n",
    "from nbc_analysis.utils.config_utils import read_config_yaml\n",
    "\n",
    "import logging\n",
    "\n",
    "import arrow\n",
    "\n",
    "import pandas as pd\n"
   ]
  },
  {
   "cell_type": "code",
   "execution_count": 3,
   "metadata": {},
   "outputs": [
    {
     "name": "stderr",
     "output_type": "stream",
     "text": [
      "2019-10-11 10:39:06,342|WARNING|nbc_analysis.utils.config_utils|The 'default' config is intended for testing only. For production, use /Users/wmcabee/.config/nbc_analysis/config.yaml\n"
     ]
    },
    {
     "data": {
      "text/plain": [
       "{'CALENDAR_START_DAY_KEY': '20170101',\n",
       " 'CALENDAR_END_DAY_KEY': '20210101',\n",
       " 'CALENDAR_D': '/Users/wmcabee/DATA/NBC/calendar',\n",
       " 'ANALYSIS_D': '/Users/wmcabee/DATA/NBC/ana',\n",
       " 'RUNS_D': '/Users/wmcabee/DATA/NBC/runs',\n",
       " 'WORK_D': '/Users/wmcabee/DATA/NBC/work',\n",
       " 'VIDEO_END_BUCKET': 'nbc-event',\n",
       " 'VIDEO_END_PARTITIONS_BUCKET': 'nbc-partitions-video-end',\n",
       " 'BATCH_SIZE': 200000000,\n",
       " 'GEOLITE2_DB': '/Users/wmcabee/DATA/NBC/datasets/GeoLite2-City_20191001/GeoLite2-City.mmdb',\n",
       " 'VIEWER_PARTITION_NUM': 60,\n",
       " 'VIEWER_PARTITION_D': '/Users/wmcabee/DATA/NBC/viewer_partitions',\n",
       " 'LIMIT_FILES_PER_DAY': 2000,\n",
       " 'BATCH_LIMIT': 2,\n",
       " 'BATCH_FILES_LIMIT': 2,\n",
       " 'RUN_ID': 'r_testrun',\n",
       " 'RUN_D': '/Users/wmcabee/DATA/NBC/runs/r_testrun'}"
      ]
     },
     "execution_count": 3,
     "metadata": {},
     "output_type": "execute_result"
    }
   ],
   "source": [
    "CONFIG = runit(_get_run_config)\n",
    "CONFIG"
   ]
  },
  {
   "cell_type": "code",
   "execution_count": 4,
   "metadata": {},
   "outputs": [
    {
     "name": "stderr",
     "output_type": "stream",
     "text": [
      "2019-10-11 10:39:06,629|WARNING|nbc_analysis.utils.config_utils|The 'default' config is intended for testing only. For production, use /Users/wmcabee/.config/nbc_analysis/config.yaml\n",
      "2019-10-11 10:39:06,631|INFO|nbc_analysis.runs.run_batches|start run,run_id=r_testrun,run_config=CALENDAR_START_DAY_KEY=20170101,CALENDAR_END_DAY_KEY=20210101,CALENDAR_D=/Users/wmcabee/DATA/NBC/calendar,ANALYSIS_D=/Users/wmcabee/DATA/NBC/ana,RUNS_D=/Users/wmcabee/DATA/NBC/runs,WORK_D=/Users/wmcabee/DATA/NBC/work,VIDEO_END_BUCKET=nbc-event,VIDEO_END_PARTITIONS_BUCKET=nbc-partitions-video-end,BATCH_SIZE=200000000,GEOLITE2_DB=/Users/wmcabee/DATA/NBC/datasets/GeoLite2-City_20191001/GeoLite2-City.mmdb,VIEWER_PARTITION_NUM=60,VIEWER_PARTITION_D=/Users/wmcabee/DATA/NBC/viewer_partitions,LIMIT_FILES_PER_DAY=2000,BATCH_LIMIT=2,BATCH_FILES_LIMIT=2,RUN_ID=r_testrun,RUN_D=/Users/wmcabee/DATA/NBC/runs/r_testrun\n",
      "2019-10-11 10:39:06,640|INFO|nbc_analysis.runs.run_batches|start week,week_id=2019W41\n",
      "2019-10-11 10:39:06,641|INFO|nbc_analysis.batch.extract_file_lists.main|start extract_file_lists,run_id=r_testrun,week_id=2019W41,day_cnt=5\n",
      "2019-10-11 10:39:07,211|WARNING|nbc_analysis.utils.io_utils.csv_io|No events extracted for day=20191011.\n",
      "2019-10-11 10:39:07,409|WARNING|nbc_analysis.utils.io_utils.csv_io|No events extracted for day=20191010.\n",
      "2019-10-11 10:39:07,612|WARNING|nbc_analysis.utils.io_utils.csv_io|No events extracted for day=20191009.\n",
      "2019-10-11 10:39:07,824|WARNING|nbc_analysis.utils.io_utils.csv_io|No events extracted for day=20191008.\n",
      "2019-10-11 10:39:08,035|WARNING|nbc_analysis.utils.io_utils.csv_io|No events extracted for day=20191007.\n",
      "2019-10-11 10:39:08,036|INFO|nbc_analysis.batch.extract_file_lists.main|end extract_file_lists\n",
      "2019-10-11 10:39:08,039|INFO|nbc_analysis.batch.size_batches.main|start size_batches,run_id=r_testrun,week_id=2019W41\n",
      "2019-10-11 10:39:08,041|WARNING|nbc_analysis.batch.size_batches.main|no events found,week_id=2019W41, skipping\n",
      "2019-10-11 10:39:08,042|INFO|nbc_analysis.runs.run_batches|end week_id=2019W41\n",
      "2019-10-11 10:39:08,045|INFO|nbc_analysis.runs.run_batches|start week,week_id=2019W40\n",
      "2019-10-11 10:39:08,046|INFO|nbc_analysis.batch.extract_file_lists.main|start extract_file_lists,run_id=r_testrun,week_id=2019W40,day_cnt=7\n",
      "2019-10-11 10:39:08,434|WARNING|nbc_analysis.utils.io_utils.csv_io|No events extracted for day=20191006.\n",
      "2019-10-11 10:39:08,626|WARNING|nbc_analysis.utils.io_utils.csv_io|No events extracted for day=20191005.\n",
      "2019-10-11 10:39:08,864|WARNING|nbc_analysis.utils.io_utils.csv_io|No events extracted for day=20191004.\n",
      "2019-10-11 10:39:09,058|WARNING|nbc_analysis.utils.io_utils.csv_io|No events extracted for day=20191003.\n",
      "2019-10-11 10:39:09,255|WARNING|nbc_analysis.utils.io_utils.csv_io|No events extracted for day=20191002.\n",
      "2019-10-11 10:39:10,371|INFO|nbc_analysis.utils.io_utils.csv_io|wrote /Users/wmcabee/DATA/NBC/runs/r_testrun/2019W40/file_lists/ve_20191001.csv.gz,cnt=2018\n",
      "2019-10-11 10:39:12,119|INFO|nbc_analysis.utils.io_utils.csv_io|wrote /Users/wmcabee/DATA/NBC/runs/r_testrun/2019W40/file_lists/ve_20190930.csv.gz,cnt=4029\n",
      "2019-10-11 10:39:12,120|INFO|nbc_analysis.batch.extract_file_lists.main|end extract_file_lists\n",
      "2019-10-11 10:39:12,122|INFO|nbc_analysis.batch.size_batches.main|start size_batches,run_id=r_testrun,week_id=2019W40\n",
      "2019-10-11 10:39:12,233|INFO|nbc_analysis.batch.size_batches.main|wrote outfile=/Users/wmcabee/DATA/NBC/runs/r_testrun/2019W40/batch_spec/batch_to_file.csv,records=6047\n",
      "2019-10-11 10:39:12,249|INFO|nbc_analysis.batch.size_batches.main|wrote outfile=/Users/wmcabee/DATA/NBC/runs/r_testrun/2019W40/batch_spec/batches.csv,log=24\n",
      "2019-10-11 10:39:12,250|INFO|nbc_analysis.batch.extract_events.main|start extract_events,run_id=r_testrun,week_id=2019W40\n",
      "2019-10-11 10:39:12,270|WARNING|nbc_analysis.utils.io_utils.csv_io|Limit batch count,batch_limit=2\n",
      "2019-10-11 10:39:12,271|WARNING|nbc_analysis.utils.io_utils.csv_io|Limit files in batch to first n,batch_files_limit=2\n",
      "2019-10-11 10:39:12,279|INFO|nbc_analysis.utils.io_utils.aws_io|start event_download,batch_id=ve_20190930_0000\n",
      "2019-10-11 10:39:13,039|INFO|nbc_analysis.batch.extract_events.main|wrote partition /Users/wmcabee/DATA/NBC/runs/r_testrun/2019W40/batches/ve_20190930_0000.parquet.gz,records=562\n",
      "2019-10-11 10:39:13,043|INFO|nbc_analysis.utils.io_utils.aws_io|start event_download,batch_id=ve_20190930_0001\n",
      "2019-10-11 10:39:13,980|INFO|nbc_analysis.batch.extract_events.main|wrote partition /Users/wmcabee/DATA/NBC/runs/r_testrun/2019W40/batches/ve_20190930_0001.parquet.gz,records=820\n",
      "2019-10-11 10:39:13,982|INFO|nbc_analysis.batch.extract_events.main|end events_extract,run_id=r_testrun,week_id=2019W40\n",
      "2019-10-11 10:39:13,984|INFO|nbc_analysis.batch.upload_batches.main|start upload_batches,run_id=r_testrun,week_id=2019W40\n",
      "2019-10-11 10:39:13,997|INFO|nbc_analysis.batch.upload_batches.main|upload batch s3,dest=video_end/clean/year=2019/week=2019W40/ve_20190930_0001.parquet \n",
      "2019-10-11 10:39:15,085|INFO|nbc_analysis.batch.upload_batches.main|upload batch s3,dest=video_end/clean/year=2019/week=2019W40/ve_20190930_0000.parquet \n",
      "2019-10-11 10:39:15,788|INFO|nbc_analysis.batch.upload_batches.main|end upload_batches,run_id=r_testrun,week_id=2019W40\n",
      "2019-10-11 10:39:15,792|INFO|nbc_analysis.runs.run_batches|end week_id=2019W40\n",
      "2019-10-11 10:39:15,795|INFO|nbc_analysis.runs.run_batches|start week,week_id=2019W39\n",
      "2019-10-11 10:39:15,796|INFO|nbc_analysis.batch.extract_file_lists.main|start extract_file_lists,run_id=r_testrun,week_id=2019W39,day_cnt=7\n",
      "2019-10-11 10:39:17,861|INFO|nbc_analysis.utils.io_utils.csv_io|wrote /Users/wmcabee/DATA/NBC/runs/r_testrun/2019W39/file_lists/ve_20190929.csv.gz,cnt=4034\n",
      "2019-10-11 10:39:19,885|INFO|nbc_analysis.utils.io_utils.csv_io|wrote /Users/wmcabee/DATA/NBC/runs/r_testrun/2019W39/file_lists/ve_20190928.csv.gz,cnt=4029\n",
      "2019-10-11 10:39:21,506|INFO|nbc_analysis.utils.io_utils.csv_io|wrote /Users/wmcabee/DATA/NBC/runs/r_testrun/2019W39/file_lists/ve_20190927.csv.gz,cnt=4023\n",
      "2019-10-11 10:39:23,217|INFO|nbc_analysis.utils.io_utils.csv_io|wrote /Users/wmcabee/DATA/NBC/runs/r_testrun/2019W39/file_lists/ve_20190926.csv.gz,cnt=4029\n",
      "2019-10-11 10:39:24,844|INFO|nbc_analysis.utils.io_utils.csv_io|wrote /Users/wmcabee/DATA/NBC/runs/r_testrun/2019W39/file_lists/ve_20190925.csv.gz,cnt=4041\n",
      "2019-10-11 10:39:26,681|INFO|nbc_analysis.utils.io_utils.csv_io|wrote /Users/wmcabee/DATA/NBC/runs/r_testrun/2019W39/file_lists/ve_20190924.csv.gz,cnt=4026\n",
      "2019-10-11 10:39:28,224|INFO|nbc_analysis.utils.io_utils.csv_io|wrote /Users/wmcabee/DATA/NBC/runs/r_testrun/2019W39/file_lists/ve_20190923.csv.gz,cnt=4030\n",
      "2019-10-11 10:39:28,225|INFO|nbc_analysis.batch.extract_file_lists.main|end extract_file_lists\n",
      "2019-10-11 10:39:28,228|INFO|nbc_analysis.batch.size_batches.main|start size_batches,run_id=r_testrun,week_id=2019W39\n",
      "2019-10-11 10:39:28,630|INFO|nbc_analysis.batch.size_batches.main|wrote outfile=/Users/wmcabee/DATA/NBC/runs/r_testrun/2019W39/batch_spec/batch_to_file.csv,records=28212\n",
      "2019-10-11 10:39:28,662|INFO|nbc_analysis.batch.size_batches.main|wrote outfile=/Users/wmcabee/DATA/NBC/runs/r_testrun/2019W39/batch_spec/batches.csv,log=103\n",
      "2019-10-11 10:39:28,663|INFO|nbc_analysis.batch.extract_events.main|start extract_events,run_id=r_testrun,week_id=2019W39\n",
      "2019-10-11 10:39:28,727|WARNING|nbc_analysis.utils.io_utils.csv_io|Limit batch count,batch_limit=2\n",
      "2019-10-11 10:39:28,728|WARNING|nbc_analysis.utils.io_utils.csv_io|Limit files in batch to first n,batch_files_limit=2\n",
      "2019-10-11 10:39:28,734|INFO|nbc_analysis.utils.io_utils.aws_io|start event_download,batch_id=ve_20190923_0000\n",
      "2019-10-11 10:39:29,277|INFO|nbc_analysis.batch.extract_events.main|wrote partition /Users/wmcabee/DATA/NBC/runs/r_testrun/2019W39/batches/ve_20190923_0000.parquet.gz,records=298\n",
      "2019-10-11 10:39:29,281|INFO|nbc_analysis.utils.io_utils.aws_io|start event_download,batch_id=ve_20190923_0001\n",
      "2019-10-11 10:39:29,810|INFO|nbc_analysis.batch.extract_events.main|wrote partition /Users/wmcabee/DATA/NBC/runs/r_testrun/2019W39/batches/ve_20190923_0001.parquet.gz,records=218\n",
      "2019-10-11 10:39:29,812|INFO|nbc_analysis.batch.extract_events.main|end events_extract,run_id=r_testrun,week_id=2019W39\n",
      "2019-10-11 10:39:29,812|INFO|nbc_analysis.batch.upload_batches.main|start upload_batches,run_id=r_testrun,week_id=2019W39\n",
      "2019-10-11 10:39:29,821|INFO|nbc_analysis.batch.upload_batches.main|upload batch s3,dest=video_end/clean/year=2019/week=2019W39/ve_20190923_0000.parquet \n",
      "2019-10-11 10:39:30,197|INFO|nbc_analysis.batch.upload_batches.main|upload batch s3,dest=video_end/clean/year=2019/week=2019W39/ve_20190923_0001.parquet \n",
      "2019-10-11 10:39:30,325|INFO|nbc_analysis.batch.upload_batches.main|end upload_batches,run_id=r_testrun,week_id=2019W39\n",
      "2019-10-11 10:39:30,328|INFO|nbc_analysis.runs.run_batches|end week_id=2019W39\n",
      "2019-10-11 10:39:30,329|INFO|nbc_analysis.runs.run_batches|end run,run_id=r_testrun\n"
     ]
    }
   ],
   "source": [
    "ret =runit(test_run_batches)"
   ]
  },
  {
   "cell_type": "code",
   "execution_count": null,
   "metadata": {},
   "outputs": [],
   "source": []
  },
  {
   "cell_type": "code",
   "execution_count": null,
   "metadata": {},
   "outputs": [],
   "source": []
  },
  {
   "cell_type": "code",
   "execution_count": null,
   "metadata": {},
   "outputs": [],
   "source": []
  }
 ],
 "metadata": {
  "kernelspec": {
   "display_name": "Python 3",
   "language": "python",
   "name": "python3"
  },
  "language_info": {
   "codemirror_mode": {
    "name": "ipython",
    "version": 3
   },
   "file_extension": ".py",
   "mimetype": "text/x-python",
   "name": "python",
   "nbconvert_exporter": "python",
   "pygments_lexer": "ipython3",
   "version": "3.7.4"
  }
 },
 "nbformat": 4,
 "nbformat_minor": 4
}
