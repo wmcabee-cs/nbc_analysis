{
 "cells": [
  {
   "cell_type": "code",
   "execution_count": null,
   "metadata": {},
   "outputs": [],
   "source": [
    "%reload_ext autoreload\n",
    "%autoreload 2"
   ]
  },
  {
   "cell_type": "code",
   "execution_count": 2,
   "metadata": {},
   "outputs": [],
   "source": [
    "from nbc_analysis.utils.debug_utils import runit\n",
    "from test_partition_by_viewer import test_partition_by_viewer, _get_config\n",
    "from pathlib import Path\n",
    "from toolz import concat, first\n",
    "import pandas as pd\n",
    "%matplotlib inline"
   ]
  },
  {
   "cell_type": "code",
   "execution_count": 18,
   "metadata": {},
   "outputs": [
    {
     "name": "stderr",
     "output_type": "stream",
     "text": [
      "2019-10-16 09:51:50,846|WARNING|nbc_analysis.utils.config_utils|The 'default' config is intended for testing only. For production, use /Users/wmcabee/.config/nbc_analysis/config.yaml\n",
      "2019-10-16 09:51:50,847|WARNING|nbc_analysis.utils.config_utils|Overriding config file values with : BATCHES_D=/Users/wmcabee/Dropbox (Cognitive Scale)/NBC Analysis/data/NBC2/batches\n"
     ]
    },
    {
     "data": {
      "text/plain": [
       "{'CALENDAR_START_DAY_KEY': '20170101',\n",
       " 'CALENDAR_END_DAY_KEY': '20210101',\n",
       " 'CALENDAR_D': '/Users/wmcabee/DATA/NBC/calendar',\n",
       " 'ANALYSIS_D': '/Users/wmcabee/DATA/NBC/ana',\n",
       " 'RUNS_D': '/Users/wmcabee/DATA/NBC/runs',\n",
       " 'WORK_D': '/Users/wmcabee/DATA/NBC/work',\n",
       " 'VIDEO_END_BUCKET': 'nbc-event',\n",
       " 'VIDEO_END_PARTITIONS_BUCKET': 'nbc-partitions-video-end-protect',\n",
       " 'GEN_PROFILE_SOURCE': 'nbc-partitions-video-end',\n",
       " 'BATCH_SIZE': 200000000,\n",
       " 'GEOLITE2_DB': '/Users/wmcabee/DATA/NBC/datasets/GeoLite2-City_20191001/GeoLite2-City.mmdb',\n",
       " 'VIEWER_SOURCE_BUCKET': 'nbc-events-partitioned',\n",
       " 'VIEWER_PARTITION_NUM': 60,\n",
       " 'VIEWER_PARTITION_D': '/Users/wmcabee/DATA/NBC/viewer_partitions',\n",
       " 'LIMIT_FILES_PER_DAY': 20,\n",
       " 'BATCH_LIMIT': 2,\n",
       " 'BATCH_FILES_LIMIT': 2,\n",
       " 'MERGE_LIMIT': 2,\n",
       " 'PROFILE_PER_WEEK_LIMIT': 1000,\n",
       " 'BATCHES_D': '/Users/wmcabee/Dropbox (Cognitive Scale)/NBC Analysis/data/NBC2/batches'}"
      ]
     },
     "execution_count": 18,
     "metadata": {},
     "output_type": "execute_result"
    }
   ],
   "source": [
    "CONFIG = _get_config()\n",
    "CONFIG"
   ]
  },
  {
   "cell_type": "code",
   "execution_count": 22,
   "metadata": {},
   "outputs": [
    {
     "name": "stderr",
     "output_type": "stream",
     "text": [
      "2019-10-16 09:53:32,652|WARNING|nbc_analysis.utils.config_utils|The 'default' config is intended for testing only. For production, use /Users/wmcabee/.config/nbc_analysis/config.yaml\n",
      "2019-10-16 09:53:32,654|WARNING|nbc_analysis.utils.config_utils|Overriding config file values with : BATCHES_D=/Users/wmcabee/Dropbox (Cognitive Scale)/NBC Analysis/data/NBC2/batches\n",
      "2019-10-16 09:53:36,488|INFO|nbc_analysis.utils.aws_utils|end s3 download,key=clean/year=2019/week=2019W40/ve_20190930_0000.parquet\n",
      "2019-10-16 09:53:37,192|INFO|nbc_analysis.utils.aws_utils|end s3 download,key=clean/year=2019/week=2019W40/ve_20190930_0001.parquet\n",
      "2019-10-16 09:53:37,716|INFO|nbc_analysis.utils.aws_utils|end s3 download,key=clean/year=2019/week=2019W40/ve_20190930_0002.parquet\n",
      "2019-10-16 09:53:38,278|INFO|nbc_analysis.utils.aws_utils|end s3 download,key=clean/year=2019/week=2019W40/ve_20190930_0003.parquet\n",
      "2019-10-16 09:53:38,805|INFO|nbc_analysis.utils.aws_utils|end s3 download,key=clean/year=2019/week=2019W40/ve_20190930_0004.parquet\n",
      "2019-10-16 09:53:39,470|INFO|nbc_analysis.utils.aws_utils|end s3 download,key=clean/year=2019/week=2019W40/ve_20190930_0005.parquet\n",
      "2019-10-16 09:53:40,022|INFO|nbc_analysis.utils.aws_utils|end s3 download,key=clean/year=2019/week=2019W40/ve_20190930_0006.parquet\n",
      "2019-10-16 09:53:40,580|INFO|nbc_analysis.utils.aws_utils|end s3 download,key=clean/year=2019/week=2019W40/ve_20190930_0007.parquet\n",
      "2019-10-16 09:53:41,101|INFO|nbc_analysis.utils.aws_utils|end s3 download,key=clean/year=2019/week=2019W40/ve_20190930_0008.parquet\n",
      "2019-10-16 09:53:41,664|INFO|nbc_analysis.utils.aws_utils|end s3 download,key=clean/year=2019/week=2019W40/ve_20190930_0009.parquet\n",
      "2019-10-16 09:53:42,226|INFO|nbc_analysis.utils.aws_utils|end s3 download,key=clean/year=2019/week=2019W40/ve_20190930_0010.parquet\n",
      "2019-10-16 09:53:42,851|INFO|nbc_analysis.utils.aws_utils|end s3 download,key=clean/year=2019/week=2019W40/ve_20190930_0011.parquet\n",
      "2019-10-16 09:53:43,413|INFO|nbc_analysis.utils.aws_utils|end s3 download,key=clean/year=2019/week=2019W40/ve_20190930_0012.parquet\n",
      "2019-10-16 09:53:43,675|INFO|nbc_analysis.utils.aws_utils|end s3 download,key=clean/year=2019/week=2019W40/ve_20190930_0013.parquet\n",
      "2019-10-16 09:53:44,268|INFO|nbc_analysis.utils.aws_utils|end s3 download,key=clean/year=2019/week=2019W40/ve_20191001_0000.parquet\n",
      "2019-10-16 09:53:44,833|INFO|nbc_analysis.utils.aws_utils|end s3 download,key=clean/year=2019/week=2019W40/ve_20191001_0001.parquet\n",
      "2019-10-16 09:53:45,470|INFO|nbc_analysis.utils.aws_utils|end s3 download,key=clean/year=2019/week=2019W40/ve_20191001_0002.parquet\n",
      "2019-10-16 09:53:46,037|INFO|nbc_analysis.utils.aws_utils|end s3 download,key=clean/year=2019/week=2019W40/ve_20191001_0003.parquet\n",
      "2019-10-16 09:53:46,375|INFO|nbc_analysis.utils.aws_utils|end s3 download,key=clean/year=2019/week=2019W40/ve_20191001_0004.parquet\n"
     ]
    },
    {
     "name": "stdout",
     "output_type": "stream",
     "text": [
      "!! stopping run early... None\n",
      "CPU times: user 739 ms, sys: 364 ms, total: 1.1 s\n",
      "Wall time: 13.7 s\n"
     ]
    }
   ],
   "source": [
    "%%time \n",
    "df = runit(test_partition_by_viewer)\n"
   ]
  },
  {
   "cell_type": "markdown",
   "metadata": {},
   "source": [
    "### Deserialize from disk"
   ]
  },
  {
   "cell_type": "code",
   "execution_count": 25,
   "metadata": {},
   "outputs": [
    {
     "name": "stdout",
     "output_type": "stream",
     "text": [
      "records: 1787301\n",
      "CPU times: user 6.09 s, sys: 784 ms, total: 6.88 s\n",
      "Wall time: 4.45 s\n"
     ]
    }
   ],
   "source": [
    "%%time\n",
    "viewer_partition_d = Path(CONFIG['WORK_D'])\n",
    "viewer_partition_d\n",
    "reader = viewer_partition_d.glob('*')\n",
    "reader = map(pd.read_parquet, reader)\n",
    "df= pd.concat(reader)\n",
    "DATA = df\n",
    "print('records:', len(DATA))"
   ]
  },
  {
   "cell_type": "markdown",
   "metadata": {},
   "source": [
    "## Define partitions"
   ]
  },
  {
   "cell_type": "code",
   "execution_count": 27,
   "metadata": {},
   "outputs": [
    {
     "name": "stdout",
     "output_type": "stream",
     "text": [
      "CPU times: user 3.2 s, sys: 133 ms, total: 3.33 s\n",
      "Wall time: 3.33 s\n"
     ]
    }
   ],
   "source": [
    "%%time\n",
    "df = DATA\n",
    "df['viewer_partition'] = df.mpid % 60\n",
    "reader = df.groupby('viewer_partition')\n",
    "for x in reader: pass"
   ]
  },
  {
   "cell_type": "code",
   "execution_count": 40,
   "metadata": {},
   "outputs": [
    {
     "data": {
      "text/html": [
       "<div>\n",
       "<style scoped>\n",
       "    .dataframe tbody tr th:only-of-type {\n",
       "        vertical-align: middle;\n",
       "    }\n",
       "\n",
       "    .dataframe tbody tr th {\n",
       "        vertical-align: top;\n",
       "    }\n",
       "\n",
       "    .dataframe thead th {\n",
       "        text-align: right;\n",
       "    }\n",
       "</style>\n",
       "<table border=\"1\" class=\"dataframe\">\n",
       "  <thead>\n",
       "    <tr style=\"text-align: right;\">\n",
       "      <th></th>\n",
       "      <th>duration_secs</th>\n",
       "      <th>records</th>\n",
       "      <th>krecs_per_sec</th>\n",
       "    </tr>\n",
       "    <tr>\n",
       "      <th>Step</th>\n",
       "      <th></th>\n",
       "      <th></th>\n",
       "      <th></th>\n",
       "    </tr>\n",
       "  </thead>\n",
       "  <tbody>\n",
       "    <tr>\n",
       "      <td>download_from_s3</td>\n",
       "      <td>13.70</td>\n",
       "      <td>1787301</td>\n",
       "      <td>130.5</td>\n",
       "    </tr>\n",
       "    <tr>\n",
       "      <td>deserialize_from_disk</td>\n",
       "      <td>4.45</td>\n",
       "      <td>1787301</td>\n",
       "      <td>401.6</td>\n",
       "    </tr>\n",
       "    <tr>\n",
       "      <td>define_partitions</td>\n",
       "      <td>3.33</td>\n",
       "      <td>1787301</td>\n",
       "      <td>536.7</td>\n",
       "    </tr>\n",
       "  </tbody>\n",
       "</table>\n",
       "</div>"
      ],
      "text/plain": [
       "                       duration_secs  records  krecs_per_sec\n",
       "Step                                                        \n",
       "download_from_s3               13.70  1787301          130.5\n",
       "deserialize_from_disk           4.45  1787301          401.6\n",
       "define_partitions               3.33  1787301          536.7"
      ]
     },
     "execution_count": 40,
     "metadata": {},
     "output_type": "execute_result"
    }
   ],
   "source": [
    "stats = pd.DataFrame.from_records( [('download_from_s3', 13.7),\n",
    "                 ('deserialize_from_disk', 4.45),\n",
    "                 ('define_partitions',  3.33)], columns=['Step', 'duration_secs'] )\n",
    "\n",
    "stats['records'] = len(df)\n",
    "stats['krecs_per_sec'] = stats.records.div(stats.duration_secs).div(1000).round(1)\n",
    "stats.sort_values('krecs_per_sec', inplace=True)\n",
    "\n",
    "stats.set_index('Step', inplace=True)\n",
    "stats"
   ]
  },
  {
   "cell_type": "code",
   "execution_count": 39,
   "metadata": {},
   "outputs": [
    {
     "data": {
      "text/plain": [
       "Text(0, 0.5, 'Processing Rate (K Rows/Second)')"
      ]
     },
     "execution_count": 39,
     "metadata": {},
     "output_type": "execute_result"
    },
    {
     "data": {
      "image/png": "[encoded data removed]",
      "text/plain": [
       "<Figure size 432x288 with 1 Axes>"
      ]
     },
     "metadata": {
      "needs_background": "light"
     },
     "output_type": "display_data"
    }
   ],
   "source": [
    "ax = stats.krecs_per_sec.plot(kind='bar', alpha=0.75, rot=0)\n",
    "ax.set_ylabel('Processing Rate (K Rows/Second)')"
   ]
  },
  {
   "cell_type": "code",
   "execution_count": null,
   "metadata": {},
   "outputs": [],
   "source": []
  }
 ],
 "metadata": {
  "kernelspec": {
   "display_name": "Python 3",
   "language": "python",
   "name": "python3"
  },
  "language_info": {
   "codemirror_mode": {
    "name": "ipython",
    "version": 3
   },
   "file_extension": ".py",
   "mimetype": "text/x-python",
   "name": "python",
   "nbconvert_exporter": "python",
   "pygments_lexer": "ipython3",
   "version": "3.7.4"
  }
 },
 "nbformat": 4,
 "nbformat_minor": 4
}
