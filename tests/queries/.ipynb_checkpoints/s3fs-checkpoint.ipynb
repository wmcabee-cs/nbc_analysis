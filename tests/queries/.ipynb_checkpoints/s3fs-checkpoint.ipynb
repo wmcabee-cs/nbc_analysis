{
 "cells": [
  {
   "cell_type": "code",
   "execution_count": 50,
   "metadata": {},
   "outputs": [],
   "source": [
    "%reload_ext autoreload\n",
    "%autoreload 2"
   ]
  },
  {
   "cell_type": "code",
   "execution_count": 114,
   "metadata": {},
   "outputs": [],
   "source": [
    "import pyarrow.parquet as pq\n",
    "import s3fs\n",
    "import matplotlib.pyplot as plt\n",
    "import pandas as pd\n",
    "\n",
    "from decimal import Decimal"
   ]
  },
  {
   "cell_type": "code",
   "execution_count": 118,
   "metadata": {},
   "outputs": [],
   "source": [
    "BUCKET='nbc-events-partitioned'\n",
    "KEY='viewer_partitions/partition=p0000' \n",
    "COLUMNS = ['file', 'mpid','platform', 'nbc_profile', 'mvpd', 'video_end_type','resume','video_duration_watched',\n",
    "           'video_duration', 'resume_time','genre','show', 'episode_title','season','video_type', 'ip','event_start_unixtime_ms' ]"
   ]
  },
  {
   "cell_type": "code",
   "execution_count": 175,
   "metadata": {},
   "outputs": [
    {
     "name": "stdout",
     "output_type": "stream",
     "text": [
      "CPU times: user 3.18 s, sys: 847 ms, total: 4.03 s\n",
      "Wall time: 17.2 s\n"
     ]
    }
   ],
   "source": [
    "%%time\n",
    "s3 = s3fs.S3FileSystem( default_fill_cache=False)\n",
    "dataset = pq.ParquetDataset(f\"{BUCKET}/{KEY}\", filesystem=s3, validate_schema=False)\n",
    "df = dataset.read(columns=COLUMNS).to_pandas()\n",
    "DATA = df"
   ]
  },
  {
   "cell_type": "code",
   "execution_count": 176,
   "metadata": {},
   "outputs": [
    {
     "name": "stdout",
     "output_type": "stream",
     "text": [
      "CPU times: user 2 µs, sys: 1 µs, total: 3 µs\n",
      "Wall time: 6.91 µs\n",
      "\n",
      "events: 1278996\n",
      "distinct users: 128269\n",
      "avg events per user: 10.0\n",
      "avg ips per user 1.8\n",
      "\n",
      "download rate (events/sec): 63949.8\n",
      "processing rate (events/sec): 127,899,600,000.0\n",
      "\n",
      "memory usage: 173,943,584\n"
     ]
    }
   ],
   "source": [
    "%time\n",
    "df = DATA\n",
    "print()\n",
    "print(\"events:\", len(df))\n",
    "MPIDS = df.mpid.value_counts()\n",
    "print(\"distinct users:\", len(MPIDS))\n",
    "print(\"avg events per user:\", MPIDS.mean().round(1))\n",
    "print(\"avg ips per user\", round(df.ip.nunique()/len(MPIDS), 1))\n",
    "print()\n",
    "print(f\"download rate (events/sec): {round(len(df)/20, 1)}\")\n",
    "print(f\"processing rate (events/sec): {round(len(df) / (10/10**6),1):,}\")\n",
    "print()\n",
    "print(f\"memory usage: {df.memory_usage().sum():,}\")\n"
   ]
  },
  {
   "cell_type": "code",
   "execution_count": 140,
   "metadata": {},
   "outputs": [
    {
     "name": "stdout",
     "output_type": "stream",
     "text": [
      "CPU times: user 2 µs, sys: 0 ns, total: 2 µs\n",
      "Wall time: 5.25 µs\n"
     ]
    },
    {
     "data": {
      "image/png": "[encoded data removed]",
      "text/plain": [
       "<Figure size 1728x576 with 1 Axes>"
      ]
     },
     "metadata": {
      "needs_background": "light"
     },
     "output_type": "display_data"
    }
   ],
   "source": [
    "%time\n",
    "fig = plt.figure(figsize=(24,8))\n",
    "ax = MPIDS.hist(bins=50,   )\n",
    "ax.set_yscale('log')\n",
    "ax.set_title(\"Histogram of Viewer Counts by Event Count\")\n",
    "ax.set_xlabel(\"# Events per Viewer\")\n",
    "ax.set_ylabel(\"# Viewers w/ event count\");\n",
    "ax.set_yticklabels(['{:,}'.format(int(x)) for x in ax.get_yticks()]);"
   ]
  },
  {
   "cell_type": "code",
   "execution_count": 143,
   "metadata": {},
   "outputs": [
    {
     "name": "stdout",
     "output_type": "stream",
     "text": [
      "CPU times: user 3 µs, sys: 1 µs, total: 4 µs\n",
      "Wall time: 7.15 µs\n"
     ]
    },
    {
     "data": {
      "text/html": [
       "<div>\n",
       "<style scoped>\n",
       "    .dataframe tbody tr th:only-of-type {\n",
       "        vertical-align: middle;\n",
       "    }\n",
       "\n",
       "    .dataframe tbody tr th {\n",
       "        vertical-align: top;\n",
       "    }\n",
       "\n",
       "    .dataframe thead th {\n",
       "        text-align: right;\n",
       "    }\n",
       "</style>\n",
       "<table border=\"1\" class=\"dataframe\">\n",
       "  <thead>\n",
       "    <tr style=\"text-align: right;\">\n",
       "      <th></th>\n",
       "      <th>file</th>\n",
       "      <th>platform</th>\n",
       "      <th>nbc_profile</th>\n",
       "      <th>mvpd</th>\n",
       "      <th>video_end_type</th>\n",
       "      <th>resume</th>\n",
       "      <th>video_duration_watched</th>\n",
       "      <th>video_duration</th>\n",
       "      <th>resume_time</th>\n",
       "      <th>genre</th>\n",
       "      <th>show</th>\n",
       "      <th>episode_title</th>\n",
       "      <th>season</th>\n",
       "      <th>video_type</th>\n",
       "      <th>ip</th>\n",
       "    </tr>\n",
       "    <tr>\n",
       "      <th>mpid</th>\n",
       "      <th></th>\n",
       "      <th></th>\n",
       "      <th></th>\n",
       "      <th></th>\n",
       "      <th></th>\n",
       "      <th></th>\n",
       "      <th></th>\n",
       "      <th></th>\n",
       "      <th></th>\n",
       "      <th></th>\n",
       "      <th></th>\n",
       "      <th></th>\n",
       "      <th></th>\n",
       "      <th></th>\n",
       "      <th></th>\n",
       "    </tr>\n",
       "  </thead>\n",
       "  <tbody>\n",
       "    <tr>\n",
       "      <td>6470602331570062740</td>\n",
       "      <td>NBC_20190823190050356273_37115.txt</td>\n",
       "      <td>iOS</td>\n",
       "      <td>Free</td>\n",
       "      <td>DTV</td>\n",
       "      <td>Close</td>\n",
       "      <td>False</td>\n",
       "      <td>0</td>\n",
       "      <td>44</td>\n",
       "      <td>None</td>\n",
       "      <td>Reality and Game Show</td>\n",
       "      <td>Injustice with Nancy Grace</td>\n",
       "      <td>Danger Lurks Below</td>\n",
       "      <td>1</td>\n",
       "      <td>Full Episode</td>\n",
       "      <td>72.190.180.228</td>\n",
       "    </tr>\n",
       "    <tr>\n",
       "      <td>6470602331570062740</td>\n",
       "      <td>NBC_20190823190050356273_37115.txt</td>\n",
       "      <td>iOS</td>\n",
       "      <td>Free</td>\n",
       "      <td>Unauthenticated</td>\n",
       "      <td>Background</td>\n",
       "      <td>False</td>\n",
       "      <td>0</td>\n",
       "      <td>44</td>\n",
       "      <td>None</td>\n",
       "      <td>Reality and Game Show</td>\n",
       "      <td>Injustice with Nancy Grace</td>\n",
       "      <td>Danger Lurks Below</td>\n",
       "      <td>1</td>\n",
       "      <td>Full Episode</td>\n",
       "      <td>72.190.180.228</td>\n",
       "    </tr>\n",
       "    <tr>\n",
       "      <td>6470602331570062740</td>\n",
       "      <td>NBC_20190823190050356273_37115.txt</td>\n",
       "      <td>iOS</td>\n",
       "      <td>Free</td>\n",
       "      <td>Unauthenticated</td>\n",
       "      <td>Complete</td>\n",
       "      <td>True</td>\n",
       "      <td>44</td>\n",
       "      <td>44</td>\n",
       "      <td>1679.36</td>\n",
       "      <td>Reality and Game Show</td>\n",
       "      <td>Injustice with Nancy Grace</td>\n",
       "      <td>Murder Becomes Personal</td>\n",
       "      <td>1</td>\n",
       "      <td>Full Episode</td>\n",
       "      <td>72.190.180.228</td>\n",
       "    </tr>\n",
       "    <tr>\n",
       "      <td>6470602331570062740</td>\n",
       "      <td>NBC_20190823182031737980_39693.txt</td>\n",
       "      <td>iOS</td>\n",
       "      <td>Free</td>\n",
       "      <td>Unauthenticated</td>\n",
       "      <td>Close</td>\n",
       "      <td>False</td>\n",
       "      <td>28</td>\n",
       "      <td>44</td>\n",
       "      <td>None</td>\n",
       "      <td>Reality and Game Show</td>\n",
       "      <td>Injustice with Nancy Grace</td>\n",
       "      <td>Murder Becomes Personal</td>\n",
       "      <td>1</td>\n",
       "      <td>Full Episode</td>\n",
       "      <td>72.190.180.228</td>\n",
       "    </tr>\n",
       "  </tbody>\n",
       "</table>\n",
       "</div>"
      ],
      "text/plain": [
       "                                                   file platform nbc_profile  \\\n",
       "mpid                                                                           \n",
       "6470602331570062740  NBC_20190823190050356273_37115.txt      iOS        Free   \n",
       "6470602331570062740  NBC_20190823190050356273_37115.txt      iOS        Free   \n",
       "6470602331570062740  NBC_20190823190050356273_37115.txt      iOS        Free   \n",
       "6470602331570062740  NBC_20190823182031737980_39693.txt      iOS        Free   \n",
       "\n",
       "                                mvpd video_end_type resume  \\\n",
       "mpid                                                         \n",
       "6470602331570062740              DTV          Close  False   \n",
       "6470602331570062740  Unauthenticated     Background  False   \n",
       "6470602331570062740  Unauthenticated       Complete   True   \n",
       "6470602331570062740  Unauthenticated          Close  False   \n",
       "\n",
       "                    video_duration_watched video_duration resume_time  \\\n",
       "mpid                                                                    \n",
       "6470602331570062740                      0             44        None   \n",
       "6470602331570062740                      0             44        None   \n",
       "6470602331570062740                     44             44     1679.36   \n",
       "6470602331570062740                     28             44        None   \n",
       "\n",
       "                                     genre                        show  \\\n",
       "mpid                                                                     \n",
       "6470602331570062740  Reality and Game Show  Injustice with Nancy Grace   \n",
       "6470602331570062740  Reality and Game Show  Injustice with Nancy Grace   \n",
       "6470602331570062740  Reality and Game Show  Injustice with Nancy Grace   \n",
       "6470602331570062740  Reality and Game Show  Injustice with Nancy Grace   \n",
       "\n",
       "                               episode_title season    video_type  \\\n",
       "mpid                                                                \n",
       "6470602331570062740       Danger Lurks Below      1  Full Episode   \n",
       "6470602331570062740       Danger Lurks Below      1  Full Episode   \n",
       "6470602331570062740  Murder Becomes Personal      1  Full Episode   \n",
       "6470602331570062740  Murder Becomes Personal      1  Full Episode   \n",
       "\n",
       "                                 ip  \n",
       "mpid                                 \n",
       "6470602331570062740  72.190.180.228  \n",
       "6470602331570062740  72.190.180.228  \n",
       "6470602331570062740  72.190.180.228  \n",
       "6470602331570062740  72.190.180.228  "
      ]
     },
     "metadata": {},
     "output_type": "display_data"
    }
   ],
   "source": [
    "%time\n",
    "\n",
    "mpid = 6470602331570062740 # small, \n",
    "#mpid = mpid = 6053785677818666040  #, likes sharks\n",
    "#mpid = -2732128289763626040  # tonight show highlights, \n",
    "#mpid =  3166073724721267440 # the voice,\n",
    "#mpid = -2270693790639375300 # days of our lives, \n",
    "#mpid = 5890019222452638720 # enjoys nbc service, \n",
    "#mpid = 1032781045710253380 # single record\n",
    "df = DATA.set_index('mpid')\n",
    "with pd.option_context('max_rows', None, 'max_columns', None):\n",
    "    display(df.loc[mpid].sort_values('event_start_unixtime_ms', ascending=False).drop(columns='event_start_unixtime_ms'))"
   ]
  },
  {
   "cell_type": "code",
   "execution_count": null,
   "metadata": {},
   "outputs": [],
   "source": [
    "%time\n",
    "cols = ['mpid','show']\n",
    "df = DATA[cols].drop_duplicates().copy()\n",
    "df['watched'] =1\n",
    "df = df.set_index(cols).unstack()\n",
    "ASSOC_MATRIX = df\n",
    "ASSOC_MATRIX"
   ]
  },
  {
   "cell_type": "code",
   "execution_count": null,
   "metadata": {},
   "outputs": [],
   "source": [
    "ASSOC_MAT"
   ]
  },
  {
   "cell_type": "code",
   "execution_count": null,
   "metadata": {},
   "outputs": [],
   "source": []
  }
 ],
 "metadata": {
  "kernelspec": {
   "display_name": "Python 3",
   "language": "python",
   "name": "python3"
  },
  "language_info": {
   "codemirror_mode": {
    "name": "ipython",
    "version": 3
   },
   "file_extension": ".py",
   "mimetype": "text/x-python",
   "name": "python",
   "nbconvert_exporter": "python",
   "pygments_lexer": "ipython3",
   "version": "3.7.4"
  }
 },
 "nbformat": 4,
 "nbformat_minor": 4
}
